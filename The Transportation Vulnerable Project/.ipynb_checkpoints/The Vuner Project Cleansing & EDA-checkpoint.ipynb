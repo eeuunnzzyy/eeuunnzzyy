{
 "cells": [
  {
   "cell_type": "markdown",
   "id": "87b2f7f5",
   "metadata": {},
   "source": [
    "# 라이브러리 및 데이터프레임 세팅"
   ]
  },
  {
   "cell_type": "code",
   "execution_count": 1,
   "id": "0e13c510",
   "metadata": {},
   "outputs": [],
   "source": [
    "import pandas as pd\n",
    "import glob\n",
    "import warnings\n",
    "warnings.filterwarnings('ignore')"
   ]
  },
  {
   "cell_type": "code",
   "execution_count": 2,
   "id": "3bee8dd7",
   "metadata": {},
   "outputs": [
    {
     "data": {
      "text/plain": [
       "'master.csv'"
      ]
     },
     "execution_count": 2,
     "metadata": {},
     "output_type": "execute_result"
    }
   ],
   "source": [
    "paths = glob.glob('*.csv')\n",
    "paths[1]"
   ]
  },
  {
   "cell_type": "code",
   "execution_count": 36,
   "id": "d75fb50d",
   "metadata": {},
   "outputs": [
    {
     "data": {
      "text/html": [
       "<div>\n",
       "<style scoped>\n",
       "    .dataframe tbody tr th:only-of-type {\n",
       "        vertical-align: middle;\n",
       "    }\n",
       "\n",
       "    .dataframe tbody tr th {\n",
       "        vertical-align: top;\n",
       "    }\n",
       "\n",
       "    .dataframe thead th {\n",
       "        text-align: right;\n",
       "    }\n",
       "</style>\n",
       "<table border=\"1\" class=\"dataframe\">\n",
       "  <thead>\n",
       "    <tr style=\"text-align: right;\">\n",
       "      <th></th>\n",
       "      <th>Unnamed: 0</th>\n",
       "      <th>no</th>\n",
       "      <th>cartype</th>\n",
       "      <th>receipttime</th>\n",
       "      <th>settime</th>\n",
       "      <th>ridetime</th>\n",
       "      <th>startpos1</th>\n",
       "      <th>startpos2</th>\n",
       "      <th>endpos1</th>\n",
       "      <th>endpos2</th>\n",
       "    </tr>\n",
       "  </thead>\n",
       "  <tbody>\n",
       "    <tr>\n",
       "      <th>0</th>\n",
       "      <td>0</td>\n",
       "      <td>7658</td>\n",
       "      <td>중형승합</td>\n",
       "      <td>2018-01-23 오전 12:04:00</td>\n",
       "      <td>2018-01-23 오전 12:18:42</td>\n",
       "      <td>2018-01-23 오전 12:34:08</td>\n",
       "      <td>성북구</td>\n",
       "      <td>장위제1동</td>\n",
       "      <td>동대문구</td>\n",
       "      <td>회기동</td>\n",
       "    </tr>\n",
       "    <tr>\n",
       "      <th>1</th>\n",
       "      <td>1</td>\n",
       "      <td>1551</td>\n",
       "      <td>중형 승합</td>\n",
       "      <td>2018-01-23 오전 12:17:00</td>\n",
       "      <td>2018-01-23 오전 12:50:37</td>\n",
       "      <td>2018-01-23 오전 1:19:22</td>\n",
       "      <td>중랑구</td>\n",
       "      <td>면목제7동</td>\n",
       "      <td>노원구</td>\n",
       "      <td>상계1동</td>\n",
       "    </tr>\n",
       "    <tr>\n",
       "      <th>2</th>\n",
       "      <td>2</td>\n",
       "      <td>5804</td>\n",
       "      <td>중형승합</td>\n",
       "      <td>2018-01-23 오전 12:30:00</td>\n",
       "      <td>2018-01-23 오전 12:17:06</td>\n",
       "      <td>2018-01-23 오전 12:17:39</td>\n",
       "      <td>성북구</td>\n",
       "      <td>정릉제3동</td>\n",
       "      <td>강북구</td>\n",
       "      <td>수유제3동</td>\n",
       "    </tr>\n",
       "    <tr>\n",
       "      <th>3</th>\n",
       "      <td>3</td>\n",
       "      <td>7650</td>\n",
       "      <td>중형승합</td>\n",
       "      <td>2018-01-23 오전 12:47:00</td>\n",
       "      <td>2018-01-23 오전 12:51:19</td>\n",
       "      <td>2018-01-23 오전 1:09:33</td>\n",
       "      <td>구로구</td>\n",
       "      <td>고척제2동</td>\n",
       "      <td>관악구</td>\n",
       "      <td>은천동</td>\n",
       "    </tr>\n",
       "    <tr>\n",
       "      <th>4</th>\n",
       "      <td>4</td>\n",
       "      <td>1061</td>\n",
       "      <td>중형승합</td>\n",
       "      <td>2018-01-23 오전 1:08:00</td>\n",
       "      <td>2018-01-23 오전 1:44:17</td>\n",
       "      <td>2018-01-23 오전 2:06:53</td>\n",
       "      <td>동대문구</td>\n",
       "      <td>회기동</td>\n",
       "      <td>성북구</td>\n",
       "      <td>장위제2동</td>\n",
       "    </tr>\n",
       "  </tbody>\n",
       "</table>\n",
       "</div>"
      ],
      "text/plain": [
       "   Unnamed: 0    no cartype             receipttime                 settime  \\\n",
       "0           0  7658    중형승합  2018-01-23 오전 12:04:00  2018-01-23 오전 12:18:42   \n",
       "1           1  1551   중형 승합  2018-01-23 오전 12:17:00  2018-01-23 오전 12:50:37   \n",
       "2           2  5804    중형승합  2018-01-23 오전 12:30:00  2018-01-23 오전 12:17:06   \n",
       "3           3  7650    중형승합  2018-01-23 오전 12:47:00  2018-01-23 오전 12:51:19   \n",
       "4           4  1061    중형승합   2018-01-23 오전 1:08:00   2018-01-23 오전 1:44:17   \n",
       "\n",
       "                 ridetime startpos1 startpos2 endpos1 endpos2  \n",
       "0  2018-01-23 오전 12:34:08       성북구     장위제1동    동대문구     회기동  \n",
       "1   2018-01-23 오전 1:19:22       중랑구     면목제7동     노원구    상계1동  \n",
       "2  2018-01-23 오전 12:17:39       성북구     정릉제3동     강북구   수유제3동  \n",
       "3   2018-01-23 오전 1:09:33       구로구     고척제2동     관악구     은천동  \n",
       "4   2018-01-23 오전 2:06:53      동대문구       회기동     성북구   장위제2동  "
      ]
     },
     "execution_count": 36,
     "metadata": {},
     "output_type": "execute_result"
    }
   ],
   "source": [
    "df = pd.read_csv(paths[1])\n",
    "df.head()"
   ]
  },
  {
   "cell_type": "code",
   "execution_count": 4,
   "id": "fd003616",
   "metadata": {},
   "outputs": [
    {
     "data": {
      "text/plain": [
       "(407613, 10)"
      ]
     },
     "execution_count": 4,
     "metadata": {},
     "output_type": "execute_result"
    }
   ],
   "source": [
    "df.shape"
   ]
  },
  {
   "cell_type": "markdown",
   "id": "c0d2cafb",
   "metadata": {},
   "source": [
    "# EDA전 rough하게 나마 클린징 진행"
   ]
  },
  {
   "cell_type": "code",
   "execution_count": 5,
   "id": "072f4d23",
   "metadata": {},
   "outputs": [],
   "source": [
    "df = df.drop('Unnamed: 0', axis = 1)"
   ]
  },
  {
   "cell_type": "code",
   "execution_count": 35,
   "id": "e3c55457",
   "metadata": {
    "scrolled": true
   },
   "outputs": [
    {
     "data": {
      "text/html": [
       "<div>\n",
       "<style scoped>\n",
       "    .dataframe tbody tr th:only-of-type {\n",
       "        vertical-align: middle;\n",
       "    }\n",
       "\n",
       "    .dataframe tbody tr th {\n",
       "        vertical-align: top;\n",
       "    }\n",
       "\n",
       "    .dataframe thead th {\n",
       "        text-align: right;\n",
       "    }\n",
       "</style>\n",
       "<table border=\"1\" class=\"dataframe\">\n",
       "  <thead>\n",
       "    <tr style=\"text-align: right;\">\n",
       "      <th></th>\n",
       "      <th>no</th>\n",
       "      <th>cartype</th>\n",
       "      <th>receipttime</th>\n",
       "      <th>settime</th>\n",
       "      <th>ridetime</th>\n",
       "      <th>startpos1</th>\n",
       "      <th>startpos2</th>\n",
       "      <th>endpos1</th>\n",
       "      <th>endpos2</th>\n",
       "    </tr>\n",
       "  </thead>\n",
       "  <tbody>\n",
       "    <tr>\n",
       "      <th>0</th>\n",
       "      <td>7658</td>\n",
       "      <td>nan</td>\n",
       "      <td>2018-01-23 오전 12:04:00</td>\n",
       "      <td>2018-01-23 오전 12:18:42</td>\n",
       "      <td>2018-01-23 오전 12:34:08</td>\n",
       "      <td>성북구</td>\n",
       "      <td>장위제1동</td>\n",
       "      <td>동대문구</td>\n",
       "      <td>회기동</td>\n",
       "    </tr>\n",
       "    <tr>\n",
       "      <th>1</th>\n",
       "      <td>1551</td>\n",
       "      <td>nan</td>\n",
       "      <td>2018-01-23 오전 12:17:00</td>\n",
       "      <td>2018-01-23 오전 12:50:37</td>\n",
       "      <td>2018-01-23 오전 1:19:22</td>\n",
       "      <td>중랑구</td>\n",
       "      <td>면목제7동</td>\n",
       "      <td>노원구</td>\n",
       "      <td>상계1동</td>\n",
       "    </tr>\n",
       "  </tbody>\n",
       "</table>\n",
       "</div>"
      ],
      "text/plain": [
       "     no cartype             receipttime                 settime  \\\n",
       "0  7658     nan  2018-01-23 오전 12:04:00  2018-01-23 오전 12:18:42   \n",
       "1  1551     nan  2018-01-23 오전 12:17:00  2018-01-23 오전 12:50:37   \n",
       "\n",
       "                 ridetime startpos1 startpos2 endpos1 endpos2  \n",
       "0  2018-01-23 오전 12:34:08       성북구     장위제1동    동대문구     회기동  \n",
       "1   2018-01-23 오전 1:19:22       중랑구     면목제7동     노원구    상계1동  "
      ]
     },
     "execution_count": 35,
     "metadata": {},
     "output_type": "execute_result"
    }
   ],
   "source": [
    "df.head(2)"
   ]
  },
  {
   "cell_type": "code",
   "execution_count": 7,
   "id": "2c7c25b9",
   "metadata": {},
   "outputs": [
    {
     "data": {
      "text/plain": [
       "'중형승합'"
      ]
     },
     "execution_count": 7,
     "metadata": {},
     "output_type": "execute_result"
    }
   ],
   "source": [
    "df['cartype'][1].replace(\" \",\"\")"
   ]
  },
  {
   "cell_type": "code",
   "execution_count": 8,
   "id": "db5fb673",
   "metadata": {},
   "outputs": [
    {
     "data": {
      "text/plain": [
       "407613"
      ]
     },
     "execution_count": 8,
     "metadata": {},
     "output_type": "execute_result"
    }
   ],
   "source": [
    "len(df)"
   ]
  },
  {
   "cell_type": "code",
   "execution_count": 17,
   "id": "145d6cef",
   "metadata": {},
   "outputs": [],
   "source": [
    "for i in range(len(df)):\n",
    "    df['cartype'][i] = str(df['cartype'][i]).replace(' ', '')"
   ]
  },
  {
   "cell_type": "code",
   "execution_count": 24,
   "id": "85f6ed4f",
   "metadata": {
    "scrolled": true
   },
   "outputs": [
    {
     "data": {
      "text/plain": [
       "array(['중형승합', '중형승용', '승합', '대형승용', 'nan', '증형승용'], dtype=object)"
      ]
     },
     "execution_count": 24,
     "metadata": {},
     "output_type": "execute_result"
    }
   ],
   "source": [
    "df['cartype'].unique()"
   ]
  },
  {
   "cell_type": "code",
   "execution_count": 34,
   "id": "7832732c",
   "metadata": {},
   "outputs": [],
   "source": [
    "df['cartype'] = 'nan'"
   ]
  },
  {
   "cell_type": "code",
   "execution_count": null,
   "id": "78afbe5c",
   "metadata": {},
   "outputs": [],
   "source": [
    "for i in range(len(df)):\n",
    "    df['cartype'][i] = str(df['cartype'][i]).replace(' ', '').replace('증형승용', '중형승용')"
   ]
  },
  {
   "cell_type": "code",
   "execution_count": null,
   "id": "9bb28fde",
   "metadata": {},
   "outputs": [],
   "source": [
    "df"
   ]
  },
  {
   "cell_type": "code",
   "execution_count": null,
   "id": "2127dc2a",
   "metadata": {},
   "outputs": [
    {
     "name": "stderr",
     "output_type": "stream",
     "text": [
      "/var/folders/3q/y966c1fj3lndmps8kk3plpy40000gn/T/ipykernel_20530/1152906159.py:2: SettingWithCopyWarning: \n",
      "A value is trying to be set on a copy of a slice from a DataFrame\n",
      "\n",
      "See the caveats in the documentation: https://pandas.pydata.org/pandas-docs/stable/user_guide/indexing.html#returning-a-view-versus-a-copy\n",
      "  df['cartype'][i] = df['cartype'][i].replace(\" \",\"\")\n"
     ]
    }
   ],
   "source": [
    "for i in range(len(df)):\n",
    "    df['cartype'][i] = df['cartype'][i].replace(\" \",\"\")\n",
    "df"
   ]
  },
  {
   "cell_type": "code",
   "execution_count": null,
   "id": "2504d102",
   "metadata": {},
   "outputs": [],
   "source": [
    "for i in range(10):\n",
    "    df['cartype'][i] = df['cartype'][i].replace(\" \",\"\")\n",
    "df"
   ]
  },
  {
   "cell_type": "code",
   "execution_count": null,
   "id": "43b66460",
   "metadata": {},
   "outputs": [],
   "source": []
  }
 ],
 "metadata": {
  "kernelspec": {
   "display_name": "Python 3 (ipykernel)",
   "language": "python",
   "name": "python3"
  },
  "language_info": {
   "codemirror_mode": {
    "name": "ipython",
    "version": 3
   },
   "file_extension": ".py",
   "mimetype": "text/x-python",
   "name": "python",
   "nbconvert_exporter": "python",
   "pygments_lexer": "ipython3",
   "version": "3.9.7"
  },
  "toc": {
   "base_numbering": 1,
   "nav_menu": {},
   "number_sections": true,
   "sideBar": true,
   "skip_h1_title": false,
   "title_cell": "Table of Contents",
   "title_sidebar": "Contents",
   "toc_cell": false,
   "toc_position": {},
   "toc_section_display": true,
   "toc_window_display": false
  },
  "varInspector": {
   "cols": {
    "lenName": 16,
    "lenType": 16,
    "lenVar": 40
   },
   "kernels_config": {
    "python": {
     "delete_cmd_postfix": "",
     "delete_cmd_prefix": "del ",
     "library": "var_list.py",
     "varRefreshCmd": "print(var_dic_list())"
    },
    "r": {
     "delete_cmd_postfix": ") ",
     "delete_cmd_prefix": "rm(",
     "library": "var_list.r",
     "varRefreshCmd": "cat(var_dic_list()) "
    }
   },
   "types_to_exclude": [
    "module",
    "function",
    "builtin_function_or_method",
    "instance",
    "_Feature"
   ],
   "window_display": false
  }
 },
 "nbformat": 4,
 "nbformat_minor": 5
}
