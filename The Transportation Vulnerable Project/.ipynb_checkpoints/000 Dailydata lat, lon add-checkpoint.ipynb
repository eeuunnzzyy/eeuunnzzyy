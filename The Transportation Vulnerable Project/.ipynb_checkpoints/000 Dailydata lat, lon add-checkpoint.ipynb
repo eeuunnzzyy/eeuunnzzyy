{
 "cells": [
  {
   "cell_type": "markdown",
   "id": "87b2f7f5",
   "metadata": {},
   "source": [
    "# 라이브러리 및 데이터프레임 세팅"
   ]
  },
  {
   "cell_type": "code",
   "execution_count": 1,
   "id": "0e13c510",
   "metadata": {},
   "outputs": [],
   "source": [
    "import pandas as pd\n",
    "import glob\n",
    "import warnings\n",
    "warnings.filterwarnings('ignore')"
   ]
  },
  {
   "cell_type": "code",
   "execution_count": 39,
   "id": "3bee8dd7",
   "metadata": {
    "scrolled": true
   },
   "outputs": [
    {
     "data": {
      "text/plain": [
       "'master1_cleansing_map_before.csv'"
      ]
     },
     "execution_count": 39,
     "metadata": {},
     "output_type": "execute_result"
    }
   ],
   "source": [
    "paths = glob.glob('master1_cleansing_map_before.csv')\n",
    "paths[0]"
   ]
  },
  {
   "cell_type": "code",
   "execution_count": 40,
   "id": "d75fb50d",
   "metadata": {},
   "outputs": [
    {
     "data": {
      "text/html": [
       "<div>\n",
       "<style scoped>\n",
       "    .dataframe tbody tr th:only-of-type {\n",
       "        vertical-align: middle;\n",
       "    }\n",
       "\n",
       "    .dataframe tbody tr th {\n",
       "        vertical-align: top;\n",
       "    }\n",
       "\n",
       "    .dataframe thead th {\n",
       "        text-align: right;\n",
       "    }\n",
       "</style>\n",
       "<table border=\"1\" class=\"dataframe\">\n",
       "  <thead>\n",
       "    <tr style=\"text-align: right;\">\n",
       "      <th></th>\n",
       "      <th>no</th>\n",
       "      <th>cartype</th>\n",
       "      <th>예정시간</th>\n",
       "      <th>배차시간</th>\n",
       "      <th>승차시간</th>\n",
       "      <th>startpos1</th>\n",
       "      <th>startpos2</th>\n",
       "      <th>endpos1</th>\n",
       "      <th>endpos2</th>\n",
       "    </tr>\n",
       "  </thead>\n",
       "  <tbody>\n",
       "    <tr>\n",
       "      <th>0</th>\n",
       "      <td>7658</td>\n",
       "      <td>중형승합</td>\n",
       "      <td>2018-01-23 12:04:00</td>\n",
       "      <td>2018-01-23 12:18:42</td>\n",
       "      <td>2018-01-23 12:34:08</td>\n",
       "      <td>성북구</td>\n",
       "      <td>장위제1동</td>\n",
       "      <td>동대문구</td>\n",
       "      <td>회기동</td>\n",
       "    </tr>\n",
       "    <tr>\n",
       "      <th>1</th>\n",
       "      <td>1551</td>\n",
       "      <td>중형승합</td>\n",
       "      <td>2018-01-23 12:17:00</td>\n",
       "      <td>2018-01-23 12:50:37</td>\n",
       "      <td>2018-01-23 01:19:22</td>\n",
       "      <td>중랑구</td>\n",
       "      <td>면목제7동</td>\n",
       "      <td>노원구</td>\n",
       "      <td>상계1동</td>\n",
       "    </tr>\n",
       "    <tr>\n",
       "      <th>2</th>\n",
       "      <td>5804</td>\n",
       "      <td>중형승합</td>\n",
       "      <td>2018-01-23 12:30:00</td>\n",
       "      <td>2018-01-23 12:17:06</td>\n",
       "      <td>2018-01-23 12:17:39</td>\n",
       "      <td>성북구</td>\n",
       "      <td>정릉제3동</td>\n",
       "      <td>강북구</td>\n",
       "      <td>수유제3동</td>\n",
       "    </tr>\n",
       "    <tr>\n",
       "      <th>3</th>\n",
       "      <td>7650</td>\n",
       "      <td>중형승합</td>\n",
       "      <td>2018-01-23 12:47:00</td>\n",
       "      <td>2018-01-23 12:51:19</td>\n",
       "      <td>2018-01-23 01:09:33</td>\n",
       "      <td>구로구</td>\n",
       "      <td>고척제2동</td>\n",
       "      <td>관악구</td>\n",
       "      <td>은천동</td>\n",
       "    </tr>\n",
       "    <tr>\n",
       "      <th>4</th>\n",
       "      <td>1061</td>\n",
       "      <td>중형승합</td>\n",
       "      <td>2018-01-23 01:08:00</td>\n",
       "      <td>2018-01-23 01:44:17</td>\n",
       "      <td>2018-01-23 02:06:53</td>\n",
       "      <td>동대문구</td>\n",
       "      <td>회기동</td>\n",
       "      <td>성북구</td>\n",
       "      <td>장위제2동</td>\n",
       "    </tr>\n",
       "  </tbody>\n",
       "</table>\n",
       "</div>"
      ],
      "text/plain": [
       "     no cartype                 예정시간                 배차시간  \\\n",
       "0  7658    중형승합  2018-01-23 12:04:00  2018-01-23 12:18:42   \n",
       "1  1551    중형승합  2018-01-23 12:17:00  2018-01-23 12:50:37   \n",
       "2  5804    중형승합  2018-01-23 12:30:00  2018-01-23 12:17:06   \n",
       "3  7650    중형승합  2018-01-23 12:47:00  2018-01-23 12:51:19   \n",
       "4  1061    중형승합  2018-01-23 01:08:00  2018-01-23 01:44:17   \n",
       "\n",
       "                  승차시간 startpos1 startpos2 endpos1 endpos2  \n",
       "0  2018-01-23 12:34:08       성북구     장위제1동    동대문구     회기동  \n",
       "1  2018-01-23 01:19:22       중랑구     면목제7동     노원구    상계1동  \n",
       "2  2018-01-23 12:17:39       성북구     정릉제3동     강북구   수유제3동  \n",
       "3  2018-01-23 01:09:33       구로구     고척제2동     관악구     은천동  \n",
       "4  2018-01-23 02:06:53      동대문구       회기동     성북구   장위제2동  "
      ]
     },
     "execution_count": 40,
     "metadata": {},
     "output_type": "execute_result"
    }
   ],
   "source": [
    "df = pd.read_csv(paths[0])\n",
    "df.head()"
   ]
  },
  {
   "cell_type": "markdown",
   "id": "1ac8cf53",
   "metadata": {},
   "source": [
    "# 동별로 위도,경도 추가하기\n",
    "- master_cleansing_space_time_map.csv"
   ]
  },
  {
   "cell_type": "code",
   "execution_count": 11,
   "id": "c842ae40",
   "metadata": {},
   "outputs": [],
   "source": [
    "import geopy"
   ]
  },
  {
   "cell_type": "code",
   "execution_count": 12,
   "id": "037ae18c",
   "metadata": {},
   "outputs": [],
   "source": [
    "from geopy.geocoders import Nominatim\n",
    "geo_local = Nominatim(user_agent='South Korea')"
   ]
  },
  {
   "cell_type": "code",
   "execution_count": 13,
   "id": "a3efbc92",
   "metadata": {},
   "outputs": [],
   "source": [
    "def geocoding(address):\n",
    "    geo = geo_local.geocode(address)\n",
    "    x_y = [geo.latitude, geo.longitude]\n",
    "    return x_y"
   ]
  },
  {
   "cell_type": "code",
   "execution_count": 33,
   "id": "df1d78a4",
   "metadata": {},
   "outputs": [],
   "source": [
    "geo_startpos1 = []\n",
    "geo_endpos1  = []\n",
    "for i in range(5):\n",
    "    try:\n",
    "        s_val = geocoding(df['startpos1'][i].strip())\n",
    "        e_val = geocoding(df['endpos1'][i].strip())\n",
    "        geo_startpos1.append(s_val)\n",
    "        geo_endpos1.append(e_val)\n",
    "    except:\n",
    "        geo_startpos1.append('error')\n",
    "        geo_endpos1.append('error')"
   ]
  },
  {
   "cell_type": "code",
   "execution_count": 37,
   "id": "da8aa695",
   "metadata": {},
   "outputs": [
    {
     "data": {
      "text/plain": [
       "[37.6063, 127.093]"
      ]
     },
     "execution_count": 37,
     "metadata": {},
     "output_type": "execute_result"
    }
   ],
   "source": [
    "geo_startpos1[1]"
   ]
  },
  {
   "cell_type": "code",
   "execution_count": 29,
   "id": "24f924a0",
   "metadata": {},
   "outputs": [
    {
     "data": {
      "text/plain": [
       "5"
      ]
     },
     "execution_count": 29,
     "metadata": {},
     "output_type": "execute_result"
    }
   ],
   "source": [
    "len(geo_startpos1)[]"
   ]
  },
  {
   "cell_type": "code",
   "execution_count": 30,
   "id": "1ddcf64a",
   "metadata": {},
   "outputs": [],
   "source": [
    "for i in range(5,10):\n",
    "    try:\n",
    "        s_val = geocoding(df['startpos1'][i].strip())\n",
    "        e_val = geocoding(df['endpos1'][i].strip())\n",
    "        geo_startpos1.append(s_val)\n",
    "        geo_endpos1.append(e_val)\n",
    "    except:\n",
    "        geo_startpos1.append('error')\n",
    "        geo_endpos1.append('error')"
   ]
  },
  {
   "cell_type": "code",
   "execution_count": 31,
   "id": "bcf34f6e",
   "metadata": {},
   "outputs": [
    {
     "data": {
      "text/plain": [
       "[[37.59, 127.0165],\n",
       " [37.6063, 127.093],\n",
       " [37.59, 127.0165],\n",
       " [37.4951999, 126.8877],\n",
       " [37.5741982, 127.0395092],\n",
       " [37.566571, 126.9015317],\n",
       " [37.6063, 127.093],\n",
       " [37.5262, 126.8959],\n",
       " [37.5384, 127.0828],\n",
       " [37.5806949, 126.9827989]]"
      ]
     },
     "execution_count": 31,
     "metadata": {},
     "output_type": "execute_result"
    }
   ],
   "source": [
    "geo_startpos1"
   ]
  },
  {
   "cell_type": "code",
   "execution_count": 32,
   "id": "cc30c2c3",
   "metadata": {},
   "outputs": [
    {
     "data": {
      "text/plain": [
       "10"
      ]
     },
     "execution_count": 32,
     "metadata": {},
     "output_type": "execute_result"
    }
   ],
   "source": [
    "len(geo_startpos1)"
   ]
  }
 ],
 "metadata": {
  "kernelspec": {
   "display_name": "Python 3 (ipykernel)",
   "language": "python",
   "name": "python3"
  },
  "language_info": {
   "codemirror_mode": {
    "name": "ipython",
    "version": 3
   },
   "file_extension": ".py",
   "mimetype": "text/x-python",
   "name": "python",
   "nbconvert_exporter": "python",
   "pygments_lexer": "ipython3",
   "version": "3.9.7"
  },
  "toc": {
   "base_numbering": 1,
   "nav_menu": {},
   "number_sections": true,
   "sideBar": true,
   "skip_h1_title": false,
   "title_cell": "Table of Contents",
   "title_sidebar": "Contents",
   "toc_cell": false,
   "toc_position": {},
   "toc_section_display": true,
   "toc_window_display": false
  },
  "varInspector": {
   "cols": {
    "lenName": 16,
    "lenType": 16,
    "lenVar": 40
   },
   "kernels_config": {
    "python": {
     "delete_cmd_postfix": "",
     "delete_cmd_prefix": "del ",
     "library": "var_list.py",
     "varRefreshCmd": "print(var_dic_list())"
    },
    "r": {
     "delete_cmd_postfix": ") ",
     "delete_cmd_prefix": "rm(",
     "library": "var_list.r",
     "varRefreshCmd": "cat(var_dic_list()) "
    }
   },
   "types_to_exclude": [
    "module",
    "function",
    "builtin_function_or_method",
    "instance",
    "_Feature"
   ],
   "window_display": false
  }
 },
 "nbformat": 4,
 "nbformat_minor": 5
}
