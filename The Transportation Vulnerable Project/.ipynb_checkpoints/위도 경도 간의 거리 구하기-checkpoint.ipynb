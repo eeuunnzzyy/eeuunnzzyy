{
 "cells": [
  {
   "cell_type": "markdown",
   "id": "31acd5ab",
   "metadata": {},
   "source": [
    "# 패키지 설치하기"
   ]
  },
  {
   "cell_type": "code",
   "execution_count": 2,
   "id": "41a1c173",
   "metadata": {},
   "outputs": [
    {
     "name": "stdout",
     "output_type": "stream",
     "text": [
      "Collecting haversine\n",
      "  Downloading haversine-2.5.1-py2.py3-none-any.whl (6.1 kB)\n",
      "Installing collected packages: haversine\n",
      "Successfully installed haversine-2.5.1\n"
     ]
    }
   ],
   "source": [
    "! pip install haversine"
   ]
  },
  {
   "cell_type": "code",
   "execution_count": 3,
   "id": "c59d0568",
   "metadata": {},
   "outputs": [],
   "source": [
    "# 불러오기\n",
    "from haversine import haversine"
   ]
  },
  {
   "cell_type": "code",
   "execution_count": 12,
   "id": "82a4613b",
   "metadata": {},
   "outputs": [],
   "source": [
    "# 거리 구할 데이터 준비하기"
   ]
  },
  {
   "cell_type": "code",
   "execution_count": 9,
   "id": "7620259d",
   "metadata": {},
   "outputs": [],
   "source": [
    "import glob\n",
    "import pandas as pd"
   ]
  },
  {
   "cell_type": "code",
   "execution_count": 14,
   "id": "e81d7dab",
   "metadata": {},
   "outputs": [
    {
     "data": {
      "text/plain": [
       "'master_cleansing_done.csv'"
      ]
     },
     "execution_count": 14,
     "metadata": {},
     "output_type": "execute_result"
    }
   ],
   "source": [
    "paths = glob.glob('master_cleansing_done.csv')\n",
    "paths[0]"
   ]
  },
  {
   "cell_type": "code",
   "execution_count": 15,
   "id": "4a58c7de",
   "metadata": {},
   "outputs": [],
   "source": [
    "df = pd.read_csv(paths[0])"
   ]
  },
  {
   "cell_type": "code",
   "execution_count": 16,
   "id": "4d13a5c9",
   "metadata": {
    "scrolled": false
   },
   "outputs": [
    {
     "data": {
      "text/html": [
       "<div>\n",
       "<style scoped>\n",
       "    .dataframe tbody tr th:only-of-type {\n",
       "        vertical-align: middle;\n",
       "    }\n",
       "\n",
       "    .dataframe tbody tr th {\n",
       "        vertical-align: top;\n",
       "    }\n",
       "\n",
       "    .dataframe thead th {\n",
       "        text-align: right;\n",
       "    }\n",
       "</style>\n",
       "<table border=\"1\" class=\"dataframe\">\n",
       "  <thead>\n",
       "    <tr style=\"text-align: right;\">\n",
       "      <th></th>\n",
       "      <th>no</th>\n",
       "      <th>cartype</th>\n",
       "      <th>예정시간</th>\n",
       "      <th>배차시간</th>\n",
       "      <th>승차시간</th>\n",
       "      <th>startpos1</th>\n",
       "      <th>startpos2</th>\n",
       "      <th>slat</th>\n",
       "      <th>slng</th>\n",
       "      <th>endpos1</th>\n",
       "      <th>endpos2</th>\n",
       "      <th>elat</th>\n",
       "      <th>elng</th>\n",
       "    </tr>\n",
       "  </thead>\n",
       "  <tbody>\n",
       "    <tr>\n",
       "      <th>0</th>\n",
       "      <td>7658</td>\n",
       "      <td>중형승합</td>\n",
       "      <td>2018-01-23 00:04:00</td>\n",
       "      <td>2018-01-23 00:18:42</td>\n",
       "      <td>2018-01-23 00:34:08</td>\n",
       "      <td>성북구</td>\n",
       "      <td>장위제1동</td>\n",
       "      <td>127.043713</td>\n",
       "      <td>37.614125</td>\n",
       "      <td>동대문구</td>\n",
       "      <td>회기동</td>\n",
       "      <td>127.055313</td>\n",
       "      <td>37.590808</td>\n",
       "    </tr>\n",
       "    <tr>\n",
       "      <th>1</th>\n",
       "      <td>7909</td>\n",
       "      <td>중형승합</td>\n",
       "      <td>2019-07-23 07:00:00</td>\n",
       "      <td>2019-07-23 07:56:33</td>\n",
       "      <td>2019-07-23 08:21:30</td>\n",
       "      <td>성북구</td>\n",
       "      <td>장위제1동</td>\n",
       "      <td>127.043713</td>\n",
       "      <td>37.614125</td>\n",
       "      <td>동대문구</td>\n",
       "      <td>회기동</td>\n",
       "      <td>127.055313</td>\n",
       "      <td>37.590808</td>\n",
       "    </tr>\n",
       "    <tr>\n",
       "      <th>2</th>\n",
       "      <td>4174</td>\n",
       "      <td>중형승합</td>\n",
       "      <td>2021-08-27 07:00:00</td>\n",
       "      <td>2021-08-27 07:00:27</td>\n",
       "      <td>2021-08-27 07:20:23</td>\n",
       "      <td>성북구</td>\n",
       "      <td>장위제1동</td>\n",
       "      <td>127.043713</td>\n",
       "      <td>37.614125</td>\n",
       "      <td>동대문구</td>\n",
       "      <td>회기동</td>\n",
       "      <td>127.055313</td>\n",
       "      <td>37.590808</td>\n",
       "    </tr>\n",
       "    <tr>\n",
       "      <th>3</th>\n",
       "      <td>8040</td>\n",
       "      <td>중형승합</td>\n",
       "      <td>2021-08-12 07:00:00</td>\n",
       "      <td>2021-08-12 07:09:31</td>\n",
       "      <td>2021-08-12 07:18:53</td>\n",
       "      <td>성북구</td>\n",
       "      <td>장위제1동</td>\n",
       "      <td>127.043713</td>\n",
       "      <td>37.614125</td>\n",
       "      <td>동대문구</td>\n",
       "      <td>회기동</td>\n",
       "      <td>127.055313</td>\n",
       "      <td>37.590808</td>\n",
       "    </tr>\n",
       "    <tr>\n",
       "      <th>4</th>\n",
       "      <td>8279</td>\n",
       "      <td>중형승합</td>\n",
       "      <td>2022-03-02 07:22:00</td>\n",
       "      <td>2022-03-02 07:27:35</td>\n",
       "      <td>2022-03-02 07:55:29</td>\n",
       "      <td>성북구</td>\n",
       "      <td>장위제1동</td>\n",
       "      <td>127.043713</td>\n",
       "      <td>37.614125</td>\n",
       "      <td>동대문구</td>\n",
       "      <td>회기동</td>\n",
       "      <td>127.055313</td>\n",
       "      <td>37.590808</td>\n",
       "    </tr>\n",
       "    <tr>\n",
       "      <th>...</th>\n",
       "      <td>...</td>\n",
       "      <td>...</td>\n",
       "      <td>...</td>\n",
       "      <td>...</td>\n",
       "      <td>...</td>\n",
       "      <td>...</td>\n",
       "      <td>...</td>\n",
       "      <td>...</td>\n",
       "      <td>...</td>\n",
       "      <td>...</td>\n",
       "      <td>...</td>\n",
       "      <td>...</td>\n",
       "      <td>...</td>\n",
       "    </tr>\n",
       "    <tr>\n",
       "      <th>389145</th>\n",
       "      <td>3600</td>\n",
       "      <td>중형승합</td>\n",
       "      <td>2020-12-25 08:07:00</td>\n",
       "      <td>2020-12-25 08:08:26</td>\n",
       "      <td>2020-12-25 09:29:43</td>\n",
       "      <td>성북구</td>\n",
       "      <td>길음제2동</td>\n",
       "      <td>127.027316</td>\n",
       "      <td>37.606665</td>\n",
       "      <td>수정구</td>\n",
       "      <td>신흥1동</td>\n",
       "      <td>127.141172</td>\n",
       "      <td>37.443038</td>\n",
       "    </tr>\n",
       "    <tr>\n",
       "      <th>389146</th>\n",
       "      <td>4964</td>\n",
       "      <td>중형승합</td>\n",
       "      <td>2021-05-16 09:14:03</td>\n",
       "      <td>2021-05-16 09:22:04</td>\n",
       "      <td>2021-05-16 09:54:56</td>\n",
       "      <td>성북구</td>\n",
       "      <td>길음제2동</td>\n",
       "      <td>127.027316</td>\n",
       "      <td>37.606665</td>\n",
       "      <td>수정구</td>\n",
       "      <td>신흥1동</td>\n",
       "      <td>127.141172</td>\n",
       "      <td>37.443038</td>\n",
       "    </tr>\n",
       "    <tr>\n",
       "      <th>389147</th>\n",
       "      <td>1192</td>\n",
       "      <td>중형승합</td>\n",
       "      <td>2018-09-25 08:36:00</td>\n",
       "      <td>2018-09-25 08:41:28</td>\n",
       "      <td>2018-09-25 09:12:20</td>\n",
       "      <td>관악구</td>\n",
       "      <td>행운동</td>\n",
       "      <td>126.957046</td>\n",
       "      <td>37.480654</td>\n",
       "      <td>기흥구</td>\n",
       "      <td>신갈동</td>\n",
       "      <td>127.107056</td>\n",
       "      <td>37.272653</td>\n",
       "    </tr>\n",
       "    <tr>\n",
       "      <th>389148</th>\n",
       "      <td>1556</td>\n",
       "      <td>중형승합</td>\n",
       "      <td>2018-06-16 07:00:00</td>\n",
       "      <td>2018-06-16 07:07:27</td>\n",
       "      <td>2018-06-16 07:32:12</td>\n",
       "      <td>강북구</td>\n",
       "      <td>인수동</td>\n",
       "      <td>127.010631</td>\n",
       "      <td>37.641511</td>\n",
       "      <td>분당구</td>\n",
       "      <td>서현2동</td>\n",
       "      <td>127.134599</td>\n",
       "      <td>37.376037</td>\n",
       "    </tr>\n",
       "    <tr>\n",
       "      <th>389149</th>\n",
       "      <td>8064</td>\n",
       "      <td>중형승합</td>\n",
       "      <td>2020-09-06 09:31:00</td>\n",
       "      <td>2020-09-06 09:39:44</td>\n",
       "      <td>2020-09-06 10:46:26</td>\n",
       "      <td>강남구</td>\n",
       "      <td>도곡1동</td>\n",
       "      <td>127.039025</td>\n",
       "      <td>37.488238</td>\n",
       "      <td>분당구</td>\n",
       "      <td>서현2동</td>\n",
       "      <td>127.134599</td>\n",
       "      <td>37.376037</td>\n",
       "    </tr>\n",
       "  </tbody>\n",
       "</table>\n",
       "<p>389150 rows × 13 columns</p>\n",
       "</div>"
      ],
      "text/plain": [
       "          no cartype                 예정시간                 배차시간  \\\n",
       "0       7658    중형승합  2018-01-23 00:04:00  2018-01-23 00:18:42   \n",
       "1       7909    중형승합  2019-07-23 07:00:00  2019-07-23 07:56:33   \n",
       "2       4174    중형승합  2021-08-27 07:00:00  2021-08-27 07:00:27   \n",
       "3       8040    중형승합  2021-08-12 07:00:00  2021-08-12 07:09:31   \n",
       "4       8279    중형승합  2022-03-02 07:22:00  2022-03-02 07:27:35   \n",
       "...      ...     ...                  ...                  ...   \n",
       "389145  3600    중형승합  2020-12-25 08:07:00  2020-12-25 08:08:26   \n",
       "389146  4964    중형승합  2021-05-16 09:14:03  2021-05-16 09:22:04   \n",
       "389147  1192    중형승합  2018-09-25 08:36:00  2018-09-25 08:41:28   \n",
       "389148  1556    중형승합  2018-06-16 07:00:00  2018-06-16 07:07:27   \n",
       "389149  8064    중형승합  2020-09-06 09:31:00  2020-09-06 09:39:44   \n",
       "\n",
       "                       승차시간 startpos1 startpos2        slat       slng  \\\n",
       "0       2018-01-23 00:34:08       성북구     장위제1동  127.043713  37.614125   \n",
       "1       2019-07-23 08:21:30       성북구     장위제1동  127.043713  37.614125   \n",
       "2       2021-08-27 07:20:23       성북구     장위제1동  127.043713  37.614125   \n",
       "3       2021-08-12 07:18:53       성북구     장위제1동  127.043713  37.614125   \n",
       "4       2022-03-02 07:55:29       성북구     장위제1동  127.043713  37.614125   \n",
       "...                     ...       ...       ...         ...        ...   \n",
       "389145  2020-12-25 09:29:43       성북구     길음제2동  127.027316  37.606665   \n",
       "389146  2021-05-16 09:54:56       성북구     길음제2동  127.027316  37.606665   \n",
       "389147  2018-09-25 09:12:20       관악구       행운동  126.957046  37.480654   \n",
       "389148  2018-06-16 07:32:12       강북구       인수동  127.010631  37.641511   \n",
       "389149  2020-09-06 10:46:26       강남구      도곡1동  127.039025  37.488238   \n",
       "\n",
       "       endpos1 endpos2        elat       elng  \n",
       "0         동대문구     회기동  127.055313  37.590808  \n",
       "1         동대문구     회기동  127.055313  37.590808  \n",
       "2         동대문구     회기동  127.055313  37.590808  \n",
       "3         동대문구     회기동  127.055313  37.590808  \n",
       "4         동대문구     회기동  127.055313  37.590808  \n",
       "...        ...     ...         ...        ...  \n",
       "389145     수정구    신흥1동  127.141172  37.443038  \n",
       "389146     수정구    신흥1동  127.141172  37.443038  \n",
       "389147     기흥구     신갈동  127.107056  37.272653  \n",
       "389148     분당구    서현2동  127.134599  37.376037  \n",
       "389149     분당구    서현2동  127.134599  37.376037  \n",
       "\n",
       "[389150 rows x 13 columns]"
      ]
     },
     "execution_count": 16,
     "metadata": {},
     "output_type": "execute_result"
    }
   ],
   "source": [
    "df"
   ]
  },
  {
   "cell_type": "markdown",
   "id": "949eee22",
   "metadata": {},
   "source": [
    "## test. "
   ]
  },
  {
   "cell_type": "code",
   "execution_count": 21,
   "id": "aec4f728",
   "metadata": {},
   "outputs": [],
   "source": [
    "depart = (df['slat'][0], df['slng'][0])\n",
    "arrive = (df['elat'][0], df['elng'][0])"
   ]
  },
  {
   "cell_type": "code",
   "execution_count": 22,
   "id": "e5ff9537",
   "metadata": {},
   "outputs": [
    {
     "data": {
      "text/plain": [
       "2.0258168915493764"
      ]
     },
     "execution_count": 22,
     "metadata": {},
     "output_type": "execute_result"
    }
   ],
   "source": [
    "haversine(depart, arrive, unit = 'km')\n",
    "#직선거리 출력됨"
   ]
  },
  {
   "cell_type": "code",
   "execution_count": 36,
   "id": "8476779c",
   "metadata": {},
   "outputs": [
    {
     "data": {
      "text/plain": [
       "30705"
      ]
     },
     "execution_count": 36,
     "metadata": {},
     "output_type": "execute_result"
    }
   ],
   "source": [
    "len((df['startpos2']+ df['endpos2']).value_counts())"
   ]
  },
  {
   "cell_type": "code",
   "execution_count": 37,
   "id": "f7f17f74",
   "metadata": {},
   "outputs": [
    {
     "data": {
      "text/plain": [
       "가양제1동신촌동           1488\n",
       "하계1동방학제1동          1439\n",
       "상계1동종로1.2.3.4가동    1242\n",
       "하계1동하계1동           1145\n",
       "부암동창신제1동           1138\n",
       "                   ... \n",
       "난곡동양평제2동              1\n",
       "문래동양평제2동              1\n",
       "방화제1동양평제2동            1\n",
       "갈현제2동양평제2동            1\n",
       "도곡1동서현2동              1\n",
       "Length: 30705, dtype: int64"
      ]
     },
     "execution_count": 37,
     "metadata": {},
     "output_type": "execute_result"
    }
   ],
   "source": [
    "(df['startpos2']+ df['endpos2']).value_counts()"
   ]
  },
  {
   "cell_type": "code",
   "execution_count": null,
   "id": "2b1d3077",
   "metadata": {},
   "outputs": [],
   "source": []
  }
 ],
 "metadata": {
  "kernelspec": {
   "display_name": "Python 3 (ipykernel)",
   "language": "python",
   "name": "python3"
  },
  "language_info": {
   "codemirror_mode": {
    "name": "ipython",
    "version": 3
   },
   "file_extension": ".py",
   "mimetype": "text/x-python",
   "name": "python",
   "nbconvert_exporter": "python",
   "pygments_lexer": "ipython3",
   "version": "3.9.7"
  },
  "toc": {
   "base_numbering": 1,
   "nav_menu": {},
   "number_sections": true,
   "sideBar": true,
   "skip_h1_title": false,
   "title_cell": "Table of Contents",
   "title_sidebar": "Contents",
   "toc_cell": false,
   "toc_position": {},
   "toc_section_display": true,
   "toc_window_display": false
  },
  "varInspector": {
   "cols": {
    "lenName": 16,
    "lenType": 16,
    "lenVar": 40
   },
   "kernels_config": {
    "python": {
     "delete_cmd_postfix": "",
     "delete_cmd_prefix": "del ",
     "library": "var_list.py",
     "varRefreshCmd": "print(var_dic_list())"
    },
    "r": {
     "delete_cmd_postfix": ") ",
     "delete_cmd_prefix": "rm(",
     "library": "var_list.r",
     "varRefreshCmd": "cat(var_dic_list()) "
    }
   },
   "types_to_exclude": [
    "module",
    "function",
    "builtin_function_or_method",
    "instance",
    "_Feature"
   ],
   "window_display": false
  }
 },
 "nbformat": 4,
 "nbformat_minor": 5
}
