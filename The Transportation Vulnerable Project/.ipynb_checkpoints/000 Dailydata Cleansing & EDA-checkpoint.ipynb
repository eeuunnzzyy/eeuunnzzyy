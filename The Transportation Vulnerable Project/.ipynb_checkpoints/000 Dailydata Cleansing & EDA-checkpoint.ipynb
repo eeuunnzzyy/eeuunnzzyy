{
 "cells": [
  {
   "cell_type": "markdown",
   "id": "87b2f7f5",
   "metadata": {},
   "source": [
    "# 라이브러리 및 데이터프레임 세팅"
   ]
  },
  {
   "cell_type": "code",
   "execution_count": 238,
   "id": "0e13c510",
   "metadata": {},
   "outputs": [],
   "source": [
    "import pandas as pd\n",
    "import glob\n",
    "import warnings\n",
    "warnings.filterwarnings('ignore')"
   ]
  },
  {
   "cell_type": "code",
   "execution_count": 242,
   "id": "3bee8dd7",
   "metadata": {},
   "outputs": [
    {
     "data": {
      "text/plain": [
       "'master.csv'"
      ]
     },
     "execution_count": 242,
     "metadata": {},
     "output_type": "execute_result"
    }
   ],
   "source": [
    "paths = glob.glob('*.csv')\n",
    "paths[2]"
   ]
  },
  {
   "cell_type": "code",
   "execution_count": 249,
   "id": "d75fb50d",
   "metadata": {},
   "outputs": [
    {
     "data": {
      "text/html": [
       "<div>\n",
       "<style scoped>\n",
       "    .dataframe tbody tr th:only-of-type {\n",
       "        vertical-align: middle;\n",
       "    }\n",
       "\n",
       "    .dataframe tbody tr th {\n",
       "        vertical-align: top;\n",
       "    }\n",
       "\n",
       "    .dataframe thead th {\n",
       "        text-align: right;\n",
       "    }\n",
       "</style>\n",
       "<table border=\"1\" class=\"dataframe\">\n",
       "  <thead>\n",
       "    <tr style=\"text-align: right;\">\n",
       "      <th></th>\n",
       "      <th>Unnamed: 0</th>\n",
       "      <th>no</th>\n",
       "      <th>cartype</th>\n",
       "      <th>receipttime</th>\n",
       "      <th>settime</th>\n",
       "      <th>ridetime</th>\n",
       "      <th>startpos1</th>\n",
       "      <th>startpos2</th>\n",
       "      <th>endpos1</th>\n",
       "      <th>endpos2</th>\n",
       "    </tr>\n",
       "  </thead>\n",
       "  <tbody>\n",
       "    <tr>\n",
       "      <th>0</th>\n",
       "      <td>0</td>\n",
       "      <td>7658</td>\n",
       "      <td>중형승합</td>\n",
       "      <td>2018-01-23 오전 12:04:00</td>\n",
       "      <td>2018-01-23 오전 12:18:42</td>\n",
       "      <td>2018-01-23 오전 12:34:08</td>\n",
       "      <td>성북구</td>\n",
       "      <td>장위제1동</td>\n",
       "      <td>동대문구</td>\n",
       "      <td>회기동</td>\n",
       "    </tr>\n",
       "    <tr>\n",
       "      <th>1</th>\n",
       "      <td>1</td>\n",
       "      <td>1551</td>\n",
       "      <td>중형 승합</td>\n",
       "      <td>2018-01-23 오전 12:17:00</td>\n",
       "      <td>2018-01-23 오전 12:50:37</td>\n",
       "      <td>2018-01-23 오전 1:19:22</td>\n",
       "      <td>중랑구</td>\n",
       "      <td>면목제7동</td>\n",
       "      <td>노원구</td>\n",
       "      <td>상계1동</td>\n",
       "    </tr>\n",
       "    <tr>\n",
       "      <th>2</th>\n",
       "      <td>2</td>\n",
       "      <td>5804</td>\n",
       "      <td>중형승합</td>\n",
       "      <td>2018-01-23 오전 12:30:00</td>\n",
       "      <td>2018-01-23 오전 12:17:06</td>\n",
       "      <td>2018-01-23 오전 12:17:39</td>\n",
       "      <td>성북구</td>\n",
       "      <td>정릉제3동</td>\n",
       "      <td>강북구</td>\n",
       "      <td>수유제3동</td>\n",
       "    </tr>\n",
       "    <tr>\n",
       "      <th>3</th>\n",
       "      <td>3</td>\n",
       "      <td>7650</td>\n",
       "      <td>중형승합</td>\n",
       "      <td>2018-01-23 오전 12:47:00</td>\n",
       "      <td>2018-01-23 오전 12:51:19</td>\n",
       "      <td>2018-01-23 오전 1:09:33</td>\n",
       "      <td>구로구</td>\n",
       "      <td>고척제2동</td>\n",
       "      <td>관악구</td>\n",
       "      <td>은천동</td>\n",
       "    </tr>\n",
       "    <tr>\n",
       "      <th>4</th>\n",
       "      <td>4</td>\n",
       "      <td>1061</td>\n",
       "      <td>중형승합</td>\n",
       "      <td>2018-01-23 오전 1:08:00</td>\n",
       "      <td>2018-01-23 오전 1:44:17</td>\n",
       "      <td>2018-01-23 오전 2:06:53</td>\n",
       "      <td>동대문구</td>\n",
       "      <td>회기동</td>\n",
       "      <td>성북구</td>\n",
       "      <td>장위제2동</td>\n",
       "    </tr>\n",
       "  </tbody>\n",
       "</table>\n",
       "</div>"
      ],
      "text/plain": [
       "   Unnamed: 0    no cartype             receipttime                 settime  \\\n",
       "0           0  7658    중형승합  2018-01-23 오전 12:04:00  2018-01-23 오전 12:18:42   \n",
       "1           1  1551   중형 승합  2018-01-23 오전 12:17:00  2018-01-23 오전 12:50:37   \n",
       "2           2  5804    중형승합  2018-01-23 오전 12:30:00  2018-01-23 오전 12:17:06   \n",
       "3           3  7650    중형승합  2018-01-23 오전 12:47:00  2018-01-23 오전 12:51:19   \n",
       "4           4  1061    중형승합   2018-01-23 오전 1:08:00   2018-01-23 오전 1:44:17   \n",
       "\n",
       "                 ridetime startpos1 startpos2 endpos1 endpos2  \n",
       "0  2018-01-23 오전 12:34:08       성북구     장위제1동    동대문구     회기동  \n",
       "1   2018-01-23 오전 1:19:22       중랑구     면목제7동     노원구    상계1동  \n",
       "2  2018-01-23 오전 12:17:39       성북구     정릉제3동     강북구   수유제3동  \n",
       "3   2018-01-23 오전 1:09:33       구로구     고척제2동     관악구     은천동  \n",
       "4   2018-01-23 오전 2:06:53      동대문구       회기동     성북구   장위제2동  "
      ]
     },
     "execution_count": 249,
     "metadata": {},
     "output_type": "execute_result"
    }
   ],
   "source": [
    "df = pd.read_csv(paths[2])\n",
    "df.head()"
   ]
  },
  {
   "cell_type": "code",
   "execution_count": 250,
   "id": "fd003616",
   "metadata": {},
   "outputs": [
    {
     "data": {
      "text/plain": [
       "(407613, 10)"
      ]
     },
     "execution_count": 250,
     "metadata": {},
     "output_type": "execute_result"
    }
   ],
   "source": [
    "df.shape"
   ]
  },
  {
   "cell_type": "markdown",
   "id": "c0d2cafb",
   "metadata": {},
   "source": [
    "# Cleansing\n",
    "## cartype 처리\n",
    "- master_cleansing_space.csv"
   ]
  },
  {
   "cell_type": "code",
   "execution_count": 251,
   "id": "072f4d23",
   "metadata": {},
   "outputs": [],
   "source": [
    "df = df.drop('Unnamed: 0', axis = 1)"
   ]
  },
  {
   "cell_type": "code",
   "execution_count": 252,
   "id": "e3c55457",
   "metadata": {
    "scrolled": true
   },
   "outputs": [
    {
     "data": {
      "text/html": [
       "<div>\n",
       "<style scoped>\n",
       "    .dataframe tbody tr th:only-of-type {\n",
       "        vertical-align: middle;\n",
       "    }\n",
       "\n",
       "    .dataframe tbody tr th {\n",
       "        vertical-align: top;\n",
       "    }\n",
       "\n",
       "    .dataframe thead th {\n",
       "        text-align: right;\n",
       "    }\n",
       "</style>\n",
       "<table border=\"1\" class=\"dataframe\">\n",
       "  <thead>\n",
       "    <tr style=\"text-align: right;\">\n",
       "      <th></th>\n",
       "      <th>no</th>\n",
       "      <th>cartype</th>\n",
       "      <th>receipttime</th>\n",
       "      <th>settime</th>\n",
       "      <th>ridetime</th>\n",
       "      <th>startpos1</th>\n",
       "      <th>startpos2</th>\n",
       "      <th>endpos1</th>\n",
       "      <th>endpos2</th>\n",
       "    </tr>\n",
       "  </thead>\n",
       "  <tbody>\n",
       "    <tr>\n",
       "      <th>0</th>\n",
       "      <td>7658</td>\n",
       "      <td>중형승합</td>\n",
       "      <td>2018-01-23 오전 12:04:00</td>\n",
       "      <td>2018-01-23 오전 12:18:42</td>\n",
       "      <td>2018-01-23 오전 12:34:08</td>\n",
       "      <td>성북구</td>\n",
       "      <td>장위제1동</td>\n",
       "      <td>동대문구</td>\n",
       "      <td>회기동</td>\n",
       "    </tr>\n",
       "    <tr>\n",
       "      <th>1</th>\n",
       "      <td>1551</td>\n",
       "      <td>중형 승합</td>\n",
       "      <td>2018-01-23 오전 12:17:00</td>\n",
       "      <td>2018-01-23 오전 12:50:37</td>\n",
       "      <td>2018-01-23 오전 1:19:22</td>\n",
       "      <td>중랑구</td>\n",
       "      <td>면목제7동</td>\n",
       "      <td>노원구</td>\n",
       "      <td>상계1동</td>\n",
       "    </tr>\n",
       "  </tbody>\n",
       "</table>\n",
       "</div>"
      ],
      "text/plain": [
       "     no cartype             receipttime                 settime  \\\n",
       "0  7658    중형승합  2018-01-23 오전 12:04:00  2018-01-23 오전 12:18:42   \n",
       "1  1551   중형 승합  2018-01-23 오전 12:17:00  2018-01-23 오전 12:50:37   \n",
       "\n",
       "                 ridetime startpos1 startpos2 endpos1 endpos2  \n",
       "0  2018-01-23 오전 12:34:08       성북구     장위제1동    동대문구     회기동  \n",
       "1   2018-01-23 오전 1:19:22       중랑구     면목제7동     노원구    상계1동  "
      ]
     },
     "execution_count": 252,
     "metadata": {},
     "output_type": "execute_result"
    }
   ],
   "source": [
    "df.head(2)"
   ]
  },
  {
   "cell_type": "code",
   "execution_count": 253,
   "id": "2c7c25b9",
   "metadata": {},
   "outputs": [
    {
     "data": {
      "text/plain": [
       "'중형승합'"
      ]
     },
     "execution_count": 253,
     "metadata": {},
     "output_type": "execute_result"
    }
   ],
   "source": [
    "df['cartype'][1].replace(\" \",\"\")"
   ]
  },
  {
   "cell_type": "code",
   "execution_count": 254,
   "id": "db5fb673",
   "metadata": {},
   "outputs": [
    {
     "data": {
      "text/plain": [
       "407613"
      ]
     },
     "execution_count": 254,
     "metadata": {},
     "output_type": "execute_result"
    }
   ],
   "source": [
    "len(df)"
   ]
  },
  {
   "cell_type": "code",
   "execution_count": 255,
   "id": "fc9857ef-b122-4802-a46a-84c0fd81fe25",
   "metadata": {},
   "outputs": [
    {
     "data": {
      "text/plain": [
       "array(['중형승합', '중형 승합', '중형승용', '승합', '중형 승용', '대형승용', '대형 승용', nan,\n",
       "       '증형승용'], dtype=object)"
      ]
     },
     "execution_count": 255,
     "metadata": {},
     "output_type": "execute_result"
    }
   ],
   "source": [
    "df['cartype'].unique()"
   ]
  },
  {
   "cell_type": "code",
   "execution_count": 256,
   "id": "145d6cef",
   "metadata": {},
   "outputs": [],
   "source": [
    "for i in range(len(df)):\n",
    "    df['cartype'][i] = str(df['cartype'][i]).replace(' ', '').replace('증형승용', '중형승용')"
   ]
  },
  {
   "cell_type": "code",
   "execution_count": 257,
   "id": "1a7b12e1-eef2-4afe-bdf2-6f5ebd732873",
   "metadata": {},
   "outputs": [
    {
     "data": {
      "text/plain": [
       "array(['중형승합', '중형승용', '승합', '대형승용', 'nan'], dtype=object)"
      ]
     },
     "execution_count": 257,
     "metadata": {},
     "output_type": "execute_result"
    }
   ],
   "source": [
    "df['cartype'].unique()"
   ]
  },
  {
   "cell_type": "code",
   "execution_count": 258,
   "id": "ae0bf86f",
   "metadata": {},
   "outputs": [],
   "source": [
    "df_nan = df[df['cartype'] == 'nan']\n",
    "df_nan.to_csv('master_nan.csv', index = False, encoding = 'utf-8')"
   ]
  },
  {
   "cell_type": "code",
   "execution_count": 259,
   "id": "e677a9b9",
   "metadata": {},
   "outputs": [
    {
     "data": {
      "text/plain": [
       "no              0\n",
       "cartype         0\n",
       "receipttime     0\n",
       "settime        30\n",
       "ridetime       10\n",
       "startpos1       0\n",
       "startpos2       0\n",
       "endpos1         0\n",
       "endpos2         0\n",
       "dtype: int64"
      ]
     },
     "execution_count": 259,
     "metadata": {},
     "output_type": "execute_result"
    }
   ],
   "source": [
    "df.isnull().sum()"
   ]
  },
  {
   "cell_type": "code",
   "execution_count": 260,
   "id": "f40a8e98",
   "metadata": {},
   "outputs": [
    {
     "data": {
      "text/plain": [
       "10"
      ]
     },
     "execution_count": 260,
     "metadata": {},
     "output_type": "execute_result"
    }
   ],
   "source": [
    "len(df[df['cartype'] == 'nan'])"
   ]
  },
  {
   "cell_type": "code",
   "execution_count": 261,
   "id": "6b89c55d",
   "metadata": {},
   "outputs": [],
   "source": [
    "idx = df[df['cartype'] == 'nan'].index\n",
    "df = df.drop(idx)"
   ]
  },
  {
   "cell_type": "code",
   "execution_count": 347,
   "id": "f967e93f",
   "metadata": {},
   "outputs": [
    {
     "data": {
      "text/html": [
       "<div>\n",
       "<style scoped>\n",
       "    .dataframe tbody tr th:only-of-type {\n",
       "        vertical-align: middle;\n",
       "    }\n",
       "\n",
       "    .dataframe tbody tr th {\n",
       "        vertical-align: top;\n",
       "    }\n",
       "\n",
       "    .dataframe thead th {\n",
       "        text-align: right;\n",
       "    }\n",
       "</style>\n",
       "<table border=\"1\" class=\"dataframe\">\n",
       "  <thead>\n",
       "    <tr style=\"text-align: right;\">\n",
       "      <th></th>\n",
       "      <th>no</th>\n",
       "      <th>cartype</th>\n",
       "      <th>receipttime</th>\n",
       "      <th>settime</th>\n",
       "      <th>ridetime</th>\n",
       "      <th>startpos1</th>\n",
       "      <th>startpos2</th>\n",
       "      <th>endpos1</th>\n",
       "      <th>endpos2</th>\n",
       "      <th>승차시간</th>\n",
       "    </tr>\n",
       "  </thead>\n",
       "  <tbody>\n",
       "    <tr>\n",
       "      <th>0</th>\n",
       "      <td>7658</td>\n",
       "      <td>중형승합</td>\n",
       "      <td>2018-01-23 오전 12:04:00</td>\n",
       "      <td>2018-01-23 오전 12:18:42</td>\n",
       "      <td>2018-01-23 오전 12:34:08</td>\n",
       "      <td>성북구</td>\n",
       "      <td>장위제1동</td>\n",
       "      <td>동대문구</td>\n",
       "      <td>회기동</td>\n",
       "      <td>2022-06-24 20:31:07</td>\n",
       "    </tr>\n",
       "    <tr>\n",
       "      <th>1</th>\n",
       "      <td>1551</td>\n",
       "      <td>중형승합</td>\n",
       "      <td>2018-01-23 오전 12:17:00</td>\n",
       "      <td>2018-01-23 오전 12:50:37</td>\n",
       "      <td>2018-01-23 오전 1:19:22</td>\n",
       "      <td>중랑구</td>\n",
       "      <td>면목제7동</td>\n",
       "      <td>노원구</td>\n",
       "      <td>상계1동</td>\n",
       "      <td>2022-06-24 20:31:07</td>\n",
       "    </tr>\n",
       "    <tr>\n",
       "      <th>2</th>\n",
       "      <td>5804</td>\n",
       "      <td>중형승합</td>\n",
       "      <td>2018-01-23 오전 12:30:00</td>\n",
       "      <td>2018-01-23 오전 12:17:06</td>\n",
       "      <td>2018-01-23 오전 12:17:39</td>\n",
       "      <td>성북구</td>\n",
       "      <td>정릉제3동</td>\n",
       "      <td>강북구</td>\n",
       "      <td>수유제3동</td>\n",
       "      <td>2022-06-24 20:31:07</td>\n",
       "    </tr>\n",
       "    <tr>\n",
       "      <th>3</th>\n",
       "      <td>7650</td>\n",
       "      <td>중형승합</td>\n",
       "      <td>2018-01-23 오전 12:47:00</td>\n",
       "      <td>2018-01-23 오전 12:51:19</td>\n",
       "      <td>2018-01-23 오전 1:09:33</td>\n",
       "      <td>구로구</td>\n",
       "      <td>고척제2동</td>\n",
       "      <td>관악구</td>\n",
       "      <td>은천동</td>\n",
       "      <td>2022-06-24 20:31:07</td>\n",
       "    </tr>\n",
       "    <tr>\n",
       "      <th>4</th>\n",
       "      <td>1061</td>\n",
       "      <td>중형승합</td>\n",
       "      <td>2018-01-23 오전 1:08:00</td>\n",
       "      <td>2018-01-23 오전 1:44:17</td>\n",
       "      <td>2018-01-23 오전 2:06:53</td>\n",
       "      <td>동대문구</td>\n",
       "      <td>회기동</td>\n",
       "      <td>성북구</td>\n",
       "      <td>장위제2동</td>\n",
       "      <td>2022-06-24 20:31:07</td>\n",
       "    </tr>\n",
       "    <tr>\n",
       "      <th>...</th>\n",
       "      <td>...</td>\n",
       "      <td>...</td>\n",
       "      <td>...</td>\n",
       "      <td>...</td>\n",
       "      <td>...</td>\n",
       "      <td>...</td>\n",
       "      <td>...</td>\n",
       "      <td>...</td>\n",
       "      <td>...</td>\n",
       "      <td>...</td>\n",
       "    </tr>\n",
       "    <tr>\n",
       "      <th>407608</th>\n",
       "      <td>8579</td>\n",
       "      <td>대형승용</td>\n",
       "      <td>2022-06-24 오전 7:00:00</td>\n",
       "      <td>2022-06-24 오전 6:54:20</td>\n",
       "      <td>2022-06-24 오전 7:17:08</td>\n",
       "      <td>성북구</td>\n",
       "      <td>돈암제2동</td>\n",
       "      <td>강남구</td>\n",
       "      <td>대치4동</td>\n",
       "      <td>2022-06-24 20:31:07</td>\n",
       "    </tr>\n",
       "    <tr>\n",
       "      <th>407609</th>\n",
       "      <td>8006</td>\n",
       "      <td>중형승합</td>\n",
       "      <td>2022-06-24 오전 7:00:00</td>\n",
       "      <td>2022-06-24 오전 7:07:58</td>\n",
       "      <td>2022-06-24 오전 7:42:04</td>\n",
       "      <td>은평구</td>\n",
       "      <td>구산동</td>\n",
       "      <td>은평구</td>\n",
       "      <td>구산동</td>\n",
       "      <td>2022-06-24 20:31:07</td>\n",
       "    </tr>\n",
       "    <tr>\n",
       "      <th>407610</th>\n",
       "      <td>8261</td>\n",
       "      <td>중형승합</td>\n",
       "      <td>2022-06-24 오전 7:00:00</td>\n",
       "      <td>2022-06-24 오전 7:04:58</td>\n",
       "      <td>2022-06-24 오전 7:16:19</td>\n",
       "      <td>노원구</td>\n",
       "      <td>상계8동</td>\n",
       "      <td>영등포구</td>\n",
       "      <td>영등포동</td>\n",
       "      <td>2022-06-24 20:31:07</td>\n",
       "    </tr>\n",
       "    <tr>\n",
       "      <th>407611</th>\n",
       "      <td>1558</td>\n",
       "      <td>중형승합</td>\n",
       "      <td>2022-06-24 오전 7:00:00</td>\n",
       "      <td>2022-06-24 오전 7:03:25</td>\n",
       "      <td>2022-06-24 오전 7:27:10</td>\n",
       "      <td>성북구</td>\n",
       "      <td>길음제1동</td>\n",
       "      <td>강북구</td>\n",
       "      <td>번제1동</td>\n",
       "      <td>2022-06-24 20:31:07</td>\n",
       "    </tr>\n",
       "    <tr>\n",
       "      <th>407612</th>\n",
       "      <td>5725</td>\n",
       "      <td>중형승합</td>\n",
       "      <td>2022-06-24 오전 7:00:00</td>\n",
       "      <td>2022-06-24 오전 7:10:22</td>\n",
       "      <td>2022-06-24 오전 7:20:46</td>\n",
       "      <td>강동구</td>\n",
       "      <td>천호제2동</td>\n",
       "      <td>강동구</td>\n",
       "      <td>명일제1동</td>\n",
       "      <td>2022-06-24 20:31:07</td>\n",
       "    </tr>\n",
       "  </tbody>\n",
       "</table>\n",
       "<p>407603 rows × 10 columns</p>\n",
       "</div>"
      ],
      "text/plain": [
       "          no cartype             receipttime                 settime  \\\n",
       "0       7658    중형승합  2018-01-23 오전 12:04:00  2018-01-23 오전 12:18:42   \n",
       "1       1551    중형승합  2018-01-23 오전 12:17:00  2018-01-23 오전 12:50:37   \n",
       "2       5804    중형승합  2018-01-23 오전 12:30:00  2018-01-23 오전 12:17:06   \n",
       "3       7650    중형승합  2018-01-23 오전 12:47:00  2018-01-23 오전 12:51:19   \n",
       "4       1061    중형승합   2018-01-23 오전 1:08:00   2018-01-23 오전 1:44:17   \n",
       "...      ...     ...                     ...                     ...   \n",
       "407608  8579    대형승용   2022-06-24 오전 7:00:00   2022-06-24 오전 6:54:20   \n",
       "407609  8006    중형승합   2022-06-24 오전 7:00:00   2022-06-24 오전 7:07:58   \n",
       "407610  8261    중형승합   2022-06-24 오전 7:00:00   2022-06-24 오전 7:04:58   \n",
       "407611  1558    중형승합   2022-06-24 오전 7:00:00   2022-06-24 오전 7:03:25   \n",
       "407612  5725    중형승합   2022-06-24 오전 7:00:00   2022-06-24 오전 7:10:22   \n",
       "\n",
       "                      ridetime startpos1 startpos2 endpos1 endpos2  \\\n",
       "0       2018-01-23 오전 12:34:08       성북구     장위제1동    동대문구     회기동   \n",
       "1        2018-01-23 오전 1:19:22       중랑구     면목제7동     노원구    상계1동   \n",
       "2       2018-01-23 오전 12:17:39       성북구     정릉제3동     강북구   수유제3동   \n",
       "3        2018-01-23 오전 1:09:33       구로구     고척제2동     관악구     은천동   \n",
       "4        2018-01-23 오전 2:06:53      동대문구       회기동     성북구   장위제2동   \n",
       "...                        ...       ...       ...     ...     ...   \n",
       "407608   2022-06-24 오전 7:17:08       성북구     돈암제2동     강남구    대치4동   \n",
       "407609   2022-06-24 오전 7:42:04       은평구       구산동     은평구     구산동   \n",
       "407610   2022-06-24 오전 7:16:19       노원구      상계8동    영등포구    영등포동   \n",
       "407611   2022-06-24 오전 7:27:10       성북구     길음제1동     강북구    번제1동   \n",
       "407612   2022-06-24 오전 7:20:46       강동구     천호제2동     강동구   명일제1동   \n",
       "\n",
       "                      승차시간  \n",
       "0      2022-06-24 20:31:07  \n",
       "1      2022-06-24 20:31:07  \n",
       "2      2022-06-24 20:31:07  \n",
       "3      2022-06-24 20:31:07  \n",
       "4      2022-06-24 20:31:07  \n",
       "...                    ...  \n",
       "407608 2022-06-24 20:31:07  \n",
       "407609 2022-06-24 20:31:07  \n",
       "407610 2022-06-24 20:31:07  \n",
       "407611 2022-06-24 20:31:07  \n",
       "407612 2022-06-24 20:31:07  \n",
       "\n",
       "[407603 rows x 10 columns]"
      ]
     },
     "execution_count": 347,
     "metadata": {},
     "output_type": "execute_result"
    }
   ],
   "source": [
    "df"
   ]
  },
  {
   "cell_type": "code",
   "execution_count": 264,
   "id": "43b66460",
   "metadata": {},
   "outputs": [],
   "source": [
    "df.to_csv('master_cleansing_space.csv', index = False, encoding = 'utf-8')"
   ]
  },
  {
   "cell_type": "markdown",
   "id": "6e814b3e",
   "metadata": {},
   "source": [
    "## 시간처리 (datetime으로 변경)\n",
    "- 오후는 12시간 덧셈\n",
    "- master_cleansing_space_time.csv"
   ]
  },
  {
   "cell_type": "code",
   "execution_count": 348,
   "id": "0d5836bc",
   "metadata": {},
   "outputs": [],
   "source": [
    "import datetime\n",
    "import numpy as np"
   ]
  },
  {
   "cell_type": "code",
   "execution_count": 349,
   "id": "91d860d0",
   "metadata": {},
   "outputs": [
    {
     "data": {
      "text/html": [
       "<div>\n",
       "<style scoped>\n",
       "    .dataframe tbody tr th:only-of-type {\n",
       "        vertical-align: middle;\n",
       "    }\n",
       "\n",
       "    .dataframe tbody tr th {\n",
       "        vertical-align: top;\n",
       "    }\n",
       "\n",
       "    .dataframe thead th {\n",
       "        text-align: right;\n",
       "    }\n",
       "</style>\n",
       "<table border=\"1\" class=\"dataframe\">\n",
       "  <thead>\n",
       "    <tr style=\"text-align: right;\">\n",
       "      <th></th>\n",
       "      <th>no</th>\n",
       "      <th>cartype</th>\n",
       "      <th>receipttime</th>\n",
       "      <th>settime</th>\n",
       "      <th>ridetime</th>\n",
       "      <th>startpos1</th>\n",
       "      <th>startpos2</th>\n",
       "      <th>endpos1</th>\n",
       "      <th>endpos2</th>\n",
       "      <th>승차시간</th>\n",
       "    </tr>\n",
       "  </thead>\n",
       "  <tbody>\n",
       "    <tr>\n",
       "      <th>0</th>\n",
       "      <td>7658</td>\n",
       "      <td>중형승합</td>\n",
       "      <td>2018-01-23 오전 12:04:00</td>\n",
       "      <td>2018-01-23 오전 12:18:42</td>\n",
       "      <td>2018-01-23 오전 12:34:08</td>\n",
       "      <td>성북구</td>\n",
       "      <td>장위제1동</td>\n",
       "      <td>동대문구</td>\n",
       "      <td>회기동</td>\n",
       "      <td>2022-06-24 20:31:07</td>\n",
       "    </tr>\n",
       "    <tr>\n",
       "      <th>1</th>\n",
       "      <td>1551</td>\n",
       "      <td>중형승합</td>\n",
       "      <td>2018-01-23 오전 12:17:00</td>\n",
       "      <td>2018-01-23 오전 12:50:37</td>\n",
       "      <td>2018-01-23 오전 1:19:22</td>\n",
       "      <td>중랑구</td>\n",
       "      <td>면목제7동</td>\n",
       "      <td>노원구</td>\n",
       "      <td>상계1동</td>\n",
       "      <td>2022-06-24 20:31:07</td>\n",
       "    </tr>\n",
       "  </tbody>\n",
       "</table>\n",
       "</div>"
      ],
      "text/plain": [
       "     no cartype             receipttime                 settime  \\\n",
       "0  7658    중형승합  2018-01-23 오전 12:04:00  2018-01-23 오전 12:18:42   \n",
       "1  1551    중형승합  2018-01-23 오전 12:17:00  2018-01-23 오전 12:50:37   \n",
       "\n",
       "                 ridetime startpos1 startpos2 endpos1 endpos2  \\\n",
       "0  2018-01-23 오전 12:34:08       성북구     장위제1동    동대문구     회기동   \n",
       "1   2018-01-23 오전 1:19:22       중랑구     면목제7동     노원구    상계1동   \n",
       "\n",
       "                 승차시간  \n",
       "0 2022-06-24 20:31:07  \n",
       "1 2022-06-24 20:31:07  "
      ]
     },
     "execution_count": 349,
     "metadata": {},
     "output_type": "execute_result"
    }
   ],
   "source": [
    "df[df['ridetime'].str.contains('오전')].head(2)"
   ]
  },
  {
   "cell_type": "code",
   "execution_count": 350,
   "id": "72f1f6a9",
   "metadata": {},
   "outputs": [
    {
     "data": {
      "text/plain": [
       "(406366, 10)"
      ]
     },
     "execution_count": 350,
     "metadata": {},
     "output_type": "execute_result"
    }
   ],
   "source": [
    "df[df['ridetime'].str.contains('오전')].shape"
   ]
  },
  {
   "cell_type": "code",
   "execution_count": 351,
   "id": "a184e453",
   "metadata": {},
   "outputs": [
    {
     "data": {
      "text/html": [
       "<div>\n",
       "<style scoped>\n",
       "    .dataframe tbody tr th:only-of-type {\n",
       "        vertical-align: middle;\n",
       "    }\n",
       "\n",
       "    .dataframe tbody tr th {\n",
       "        vertical-align: top;\n",
       "    }\n",
       "\n",
       "    .dataframe thead th {\n",
       "        text-align: right;\n",
       "    }\n",
       "</style>\n",
       "<table border=\"1\" class=\"dataframe\">\n",
       "  <thead>\n",
       "    <tr style=\"text-align: right;\">\n",
       "      <th></th>\n",
       "      <th>no</th>\n",
       "      <th>cartype</th>\n",
       "      <th>receipttime</th>\n",
       "      <th>settime</th>\n",
       "      <th>ridetime</th>\n",
       "      <th>startpos1</th>\n",
       "      <th>startpos2</th>\n",
       "      <th>endpos1</th>\n",
       "      <th>endpos2</th>\n",
       "      <th>승차시간</th>\n",
       "    </tr>\n",
       "  </thead>\n",
       "  <tbody>\n",
       "    <tr>\n",
       "      <th>64242</th>\n",
       "      <td>1567</td>\n",
       "      <td>중형승합</td>\n",
       "      <td>2018-09-12 오전 12:10:00</td>\n",
       "      <td>2018-09-11 오후 11:58:30</td>\n",
       "      <td>2018-09-11 오후 11:59:32</td>\n",
       "      <td>강동구</td>\n",
       "      <td>천호제3동</td>\n",
       "      <td>강북구</td>\n",
       "      <td>수유제3동</td>\n",
       "      <td>2022-06-24 20:31:07</td>\n",
       "    </tr>\n",
       "    <tr>\n",
       "      <th>66484</th>\n",
       "      <td>1194</td>\n",
       "      <td>중형승합</td>\n",
       "      <td>2018-09-19 오전 12:25:00</td>\n",
       "      <td>2018-09-18 오후 11:56:12</td>\n",
       "      <td>2018-09-18 오후 11:58:00</td>\n",
       "      <td>하남시</td>\n",
       "      <td>신장2동</td>\n",
       "      <td>강동구</td>\n",
       "      <td>천호제3동</td>\n",
       "      <td>2022-06-24 20:31:07</td>\n",
       "    </tr>\n",
       "  </tbody>\n",
       "</table>\n",
       "</div>"
      ],
      "text/plain": [
       "         no cartype             receipttime                 settime  \\\n",
       "64242  1567    중형승합  2018-09-12 오전 12:10:00  2018-09-11 오후 11:58:30   \n",
       "66484  1194    중형승합  2018-09-19 오전 12:25:00  2018-09-18 오후 11:56:12   \n",
       "\n",
       "                     ridetime startpos1 startpos2 endpos1 endpos2  \\\n",
       "64242  2018-09-11 오후 11:59:32       강동구     천호제3동     강북구   수유제3동   \n",
       "66484  2018-09-18 오후 11:58:00       하남시      신장2동     강동구   천호제3동   \n",
       "\n",
       "                     승차시간  \n",
       "64242 2022-06-24 20:31:07  \n",
       "66484 2022-06-24 20:31:07  "
      ]
     },
     "execution_count": 351,
     "metadata": {},
     "output_type": "execute_result"
    }
   ],
   "source": [
    "df[df['ridetime'].str.contains('오후')].head(2)"
   ]
  },
  {
   "cell_type": "code",
   "execution_count": 365,
   "id": "ef84cf9c",
   "metadata": {},
   "outputs": [
    {
     "data": {
      "text/plain": [
       "(1237, 12)"
      ]
     },
     "execution_count": 365,
     "metadata": {},
     "output_type": "execute_result"
    }
   ],
   "source": [
    "df[df['ridetime'].str.contains('오후')].shape"
   ]
  },
  {
   "cell_type": "code",
   "execution_count": 366,
   "id": "19b4d686",
   "metadata": {},
   "outputs": [],
   "source": [
    "df['오전'] = pd.to_datetime(df[df['ridetime'].str.contains('오전')]['ridetime'].str.replace('오전', ''))"
   ]
  },
  {
   "cell_type": "code",
   "execution_count": 367,
   "id": "49eed29b",
   "metadata": {},
   "outputs": [],
   "source": [
    "df['오후'] = pd.to_datetime(df[df['ridetime'].str.contains('오후')]['ridetime'].str.replace('오후', '')) + datetime.timedelta(hours = 12)"
   ]
  },
  {
   "cell_type": "code",
   "execution_count": 368,
   "id": "7e96cfb9",
   "metadata": {
    "scrolled": true
   },
   "outputs": [
    {
     "data": {
      "text/html": [
       "<div>\n",
       "<style scoped>\n",
       "    .dataframe tbody tr th:only-of-type {\n",
       "        vertical-align: middle;\n",
       "    }\n",
       "\n",
       "    .dataframe tbody tr th {\n",
       "        vertical-align: top;\n",
       "    }\n",
       "\n",
       "    .dataframe thead th {\n",
       "        text-align: right;\n",
       "    }\n",
       "</style>\n",
       "<table border=\"1\" class=\"dataframe\">\n",
       "  <thead>\n",
       "    <tr style=\"text-align: right;\">\n",
       "      <th></th>\n",
       "      <th>no</th>\n",
       "      <th>cartype</th>\n",
       "      <th>receipttime</th>\n",
       "      <th>settime</th>\n",
       "      <th>ridetime</th>\n",
       "      <th>startpos1</th>\n",
       "      <th>startpos2</th>\n",
       "      <th>endpos1</th>\n",
       "      <th>endpos2</th>\n",
       "      <th>승차시간</th>\n",
       "      <th>오후</th>\n",
       "      <th>오전</th>\n",
       "    </tr>\n",
       "  </thead>\n",
       "  <tbody>\n",
       "    <tr>\n",
       "      <th>64242</th>\n",
       "      <td>1567</td>\n",
       "      <td>중형승합</td>\n",
       "      <td>2018-09-12 오전 12:10:00</td>\n",
       "      <td>2018-09-11 오후 11:58:30</td>\n",
       "      <td>2018-09-11 오후 11:59:32</td>\n",
       "      <td>강동구</td>\n",
       "      <td>천호제3동</td>\n",
       "      <td>강북구</td>\n",
       "      <td>수유제3동</td>\n",
       "      <td>2022-06-24 20:31:07</td>\n",
       "      <td>2018-09-11 23:59:32</td>\n",
       "      <td>NaT</td>\n",
       "    </tr>\n",
       "    <tr>\n",
       "      <th>66484</th>\n",
       "      <td>1194</td>\n",
       "      <td>중형승합</td>\n",
       "      <td>2018-09-19 오전 12:25:00</td>\n",
       "      <td>2018-09-18 오후 11:56:12</td>\n",
       "      <td>2018-09-18 오후 11:58:00</td>\n",
       "      <td>하남시</td>\n",
       "      <td>신장2동</td>\n",
       "      <td>강동구</td>\n",
       "      <td>천호제3동</td>\n",
       "      <td>2022-06-24 20:31:07</td>\n",
       "      <td>2018-09-18 23:58:00</td>\n",
       "      <td>NaT</td>\n",
       "    </tr>\n",
       "    <tr>\n",
       "      <th>68475</th>\n",
       "      <td>7582</td>\n",
       "      <td>중형승합</td>\n",
       "      <td>2018-10-02 오전 12:30:00</td>\n",
       "      <td>2018-10-01 오후 11:57:28</td>\n",
       "      <td>2018-10-01 오후 11:57:42</td>\n",
       "      <td>하남시</td>\n",
       "      <td>풍산동</td>\n",
       "      <td>강동구</td>\n",
       "      <td>천호제3동</td>\n",
       "      <td>2022-06-24 20:31:07</td>\n",
       "      <td>2018-10-01 23:57:42</td>\n",
       "      <td>NaT</td>\n",
       "    </tr>\n",
       "    <tr>\n",
       "      <th>70716</th>\n",
       "      <td>7633</td>\n",
       "      <td>중형승합</td>\n",
       "      <td>2018-10-10 오전 12:15:00</td>\n",
       "      <td>2018-10-09 오후 11:44:13</td>\n",
       "      <td>2018-10-09 오후 11:44:49</td>\n",
       "      <td>하남시</td>\n",
       "      <td>풍산동</td>\n",
       "      <td>강동구</td>\n",
       "      <td>천호제3동</td>\n",
       "      <td>2022-06-24 20:31:07</td>\n",
       "      <td>2018-10-09 23:44:49</td>\n",
       "      <td>NaT</td>\n",
       "    </tr>\n",
       "    <tr>\n",
       "      <th>75449</th>\n",
       "      <td>9543</td>\n",
       "      <td>중형승합</td>\n",
       "      <td>2018-10-26 오전 12:30:00</td>\n",
       "      <td>2018-10-25 오후 10:52:59</td>\n",
       "      <td>2018-10-25 오후 11:49:00</td>\n",
       "      <td>강서구</td>\n",
       "      <td>가양제3동</td>\n",
       "      <td>마포구</td>\n",
       "      <td>합정동</td>\n",
       "      <td>2022-06-24 20:31:07</td>\n",
       "      <td>2018-10-25 23:49:00</td>\n",
       "      <td>NaT</td>\n",
       "    </tr>\n",
       "    <tr>\n",
       "      <th>...</th>\n",
       "      <td>...</td>\n",
       "      <td>...</td>\n",
       "      <td>...</td>\n",
       "      <td>...</td>\n",
       "      <td>...</td>\n",
       "      <td>...</td>\n",
       "      <td>...</td>\n",
       "      <td>...</td>\n",
       "      <td>...</td>\n",
       "      <td>...</td>\n",
       "      <td>...</td>\n",
       "      <td>...</td>\n",
       "    </tr>\n",
       "    <tr>\n",
       "      <th>353829</th>\n",
       "      <td>8085</td>\n",
       "      <td>중형승합</td>\n",
       "      <td>2021-11-28 오전 12:03:00</td>\n",
       "      <td>2021-11-27 오후 11:41:27</td>\n",
       "      <td>2021-11-27 오후 11:41:51</td>\n",
       "      <td>남양주시</td>\n",
       "      <td>호평동</td>\n",
       "      <td>노원구</td>\n",
       "      <td>중계4동</td>\n",
       "      <td>2022-06-24 20:31:07</td>\n",
       "      <td>2021-11-27 23:41:51</td>\n",
       "      <td>NaT</td>\n",
       "    </tr>\n",
       "    <tr>\n",
       "      <th>374247</th>\n",
       "      <td>7906</td>\n",
       "      <td>중형승합</td>\n",
       "      <td>2022-02-01 오전 12:05:00</td>\n",
       "      <td>2022-01-31 오후 11:44:29</td>\n",
       "      <td>2022-01-31 오후 11:46:41</td>\n",
       "      <td>성남시수정구</td>\n",
       "      <td>신흥3동</td>\n",
       "      <td>영등포구</td>\n",
       "      <td>대림제1동</td>\n",
       "      <td>2022-06-24 20:31:07</td>\n",
       "      <td>2022-01-31 23:46:41</td>\n",
       "      <td>NaT</td>\n",
       "    </tr>\n",
       "    <tr>\n",
       "      <th>383709</th>\n",
       "      <td>8094</td>\n",
       "      <td>중형승합</td>\n",
       "      <td>2022-03-25 오전 12:08:00</td>\n",
       "      <td>2022-03-24 오후 11:39:42</td>\n",
       "      <td>2022-03-24 오후 11:39:51</td>\n",
       "      <td>고양시덕양구</td>\n",
       "      <td>대덕동</td>\n",
       "      <td>은평구</td>\n",
       "      <td>구산동</td>\n",
       "      <td>2022-06-24 20:31:07</td>\n",
       "      <td>2022-03-24 23:39:51</td>\n",
       "      <td>NaT</td>\n",
       "    </tr>\n",
       "    <tr>\n",
       "      <th>402135</th>\n",
       "      <td>7659</td>\n",
       "      <td>중형승합</td>\n",
       "      <td>2022-06-03</td>\n",
       "      <td>2022-06-02 오후 11:58:54</td>\n",
       "      <td>2022-06-02 오후 11:59:06</td>\n",
       "      <td>중랑구</td>\n",
       "      <td>묵제2동</td>\n",
       "      <td>양천구</td>\n",
       "      <td>목3동</td>\n",
       "      <td>2022-06-24 20:31:07</td>\n",
       "      <td>2022-06-02 23:59:06</td>\n",
       "      <td>NaT</td>\n",
       "    </tr>\n",
       "    <tr>\n",
       "      <th>402136</th>\n",
       "      <td>7659</td>\n",
       "      <td>중형승합</td>\n",
       "      <td>2022-06-03</td>\n",
       "      <td>2022-06-02 오후 11:58:54</td>\n",
       "      <td>2022-06-02 오후 11:59:06</td>\n",
       "      <td>중랑구</td>\n",
       "      <td>묵제2동</td>\n",
       "      <td>양천구</td>\n",
       "      <td>목3동</td>\n",
       "      <td>2022-06-24 20:31:07</td>\n",
       "      <td>2022-06-02 23:59:06</td>\n",
       "      <td>NaT</td>\n",
       "    </tr>\n",
       "  </tbody>\n",
       "</table>\n",
       "<p>1237 rows × 12 columns</p>\n",
       "</div>"
      ],
      "text/plain": [
       "          no cartype             receipttime                 settime  \\\n",
       "64242   1567    중형승합  2018-09-12 오전 12:10:00  2018-09-11 오후 11:58:30   \n",
       "66484   1194    중형승합  2018-09-19 오전 12:25:00  2018-09-18 오후 11:56:12   \n",
       "68475   7582    중형승합  2018-10-02 오전 12:30:00  2018-10-01 오후 11:57:28   \n",
       "70716   7633    중형승합  2018-10-10 오전 12:15:00  2018-10-09 오후 11:44:13   \n",
       "75449   9543    중형승합  2018-10-26 오전 12:30:00  2018-10-25 오후 10:52:59   \n",
       "...      ...     ...                     ...                     ...   \n",
       "353829  8085    중형승합  2021-11-28 오전 12:03:00  2021-11-27 오후 11:41:27   \n",
       "374247  7906    중형승합  2022-02-01 오전 12:05:00  2022-01-31 오후 11:44:29   \n",
       "383709  8094    중형승합  2022-03-25 오전 12:08:00  2022-03-24 오후 11:39:42   \n",
       "402135  7659    중형승합              2022-06-03  2022-06-02 오후 11:58:54   \n",
       "402136  7659    중형승합              2022-06-03  2022-06-02 오후 11:58:54   \n",
       "\n",
       "                      ridetime startpos1 startpos2 endpos1 endpos2  \\\n",
       "64242   2018-09-11 오후 11:59:32       강동구     천호제3동     강북구   수유제3동   \n",
       "66484   2018-09-18 오후 11:58:00       하남시      신장2동     강동구   천호제3동   \n",
       "68475   2018-10-01 오후 11:57:42       하남시       풍산동     강동구   천호제3동   \n",
       "70716   2018-10-09 오후 11:44:49       하남시       풍산동     강동구   천호제3동   \n",
       "75449   2018-10-25 오후 11:49:00       강서구     가양제3동     마포구     합정동   \n",
       "...                        ...       ...       ...     ...     ...   \n",
       "353829  2021-11-27 오후 11:41:51      남양주시       호평동     노원구    중계4동   \n",
       "374247  2022-01-31 오후 11:46:41    성남시수정구      신흥3동    영등포구   대림제1동   \n",
       "383709  2022-03-24 오후 11:39:51    고양시덕양구       대덕동     은평구     구산동   \n",
       "402135  2022-06-02 오후 11:59:06       중랑구      묵제2동     양천구     목3동   \n",
       "402136  2022-06-02 오후 11:59:06       중랑구      묵제2동     양천구     목3동   \n",
       "\n",
       "                      승차시간                  오후  오전  \n",
       "64242  2022-06-24 20:31:07 2018-09-11 23:59:32 NaT  \n",
       "66484  2022-06-24 20:31:07 2018-09-18 23:58:00 NaT  \n",
       "68475  2022-06-24 20:31:07 2018-10-01 23:57:42 NaT  \n",
       "70716  2022-06-24 20:31:07 2018-10-09 23:44:49 NaT  \n",
       "75449  2022-06-24 20:31:07 2018-10-25 23:49:00 NaT  \n",
       "...                    ...                 ...  ..  \n",
       "353829 2022-06-24 20:31:07 2021-11-27 23:41:51 NaT  \n",
       "374247 2022-06-24 20:31:07 2022-01-31 23:46:41 NaT  \n",
       "383709 2022-06-24 20:31:07 2022-03-24 23:39:51 NaT  \n",
       "402135 2022-06-24 20:31:07 2022-06-02 23:59:06 NaT  \n",
       "402136 2022-06-24 20:31:07 2022-06-02 23:59:06 NaT  \n",
       "\n",
       "[1237 rows x 12 columns]"
      ]
     },
     "execution_count": 368,
     "metadata": {},
     "output_type": "execute_result"
    }
   ],
   "source": [
    "df[df['오후'].notna()]"
   ]
  },
  {
   "cell_type": "code",
   "execution_count": 369,
   "id": "d9b070dd",
   "metadata": {
    "scrolled": true
   },
   "outputs": [
    {
     "data": {
      "text/html": [
       "<div>\n",
       "<style scoped>\n",
       "    .dataframe tbody tr th:only-of-type {\n",
       "        vertical-align: middle;\n",
       "    }\n",
       "\n",
       "    .dataframe tbody tr th {\n",
       "        vertical-align: top;\n",
       "    }\n",
       "\n",
       "    .dataframe thead th {\n",
       "        text-align: right;\n",
       "    }\n",
       "</style>\n",
       "<table border=\"1\" class=\"dataframe\">\n",
       "  <thead>\n",
       "    <tr style=\"text-align: right;\">\n",
       "      <th></th>\n",
       "      <th>no</th>\n",
       "      <th>cartype</th>\n",
       "      <th>receipttime</th>\n",
       "      <th>settime</th>\n",
       "      <th>ridetime</th>\n",
       "      <th>startpos1</th>\n",
       "      <th>startpos2</th>\n",
       "      <th>endpos1</th>\n",
       "      <th>endpos2</th>\n",
       "      <th>승차시간</th>\n",
       "      <th>오후</th>\n",
       "      <th>오전</th>\n",
       "    </tr>\n",
       "  </thead>\n",
       "  <tbody>\n",
       "    <tr>\n",
       "      <th>0</th>\n",
       "      <td>7658</td>\n",
       "      <td>중형승합</td>\n",
       "      <td>2018-01-23 오전 12:04:00</td>\n",
       "      <td>2018-01-23 오전 12:18:42</td>\n",
       "      <td>2018-01-23 오전 12:34:08</td>\n",
       "      <td>성북구</td>\n",
       "      <td>장위제1동</td>\n",
       "      <td>동대문구</td>\n",
       "      <td>회기동</td>\n",
       "      <td>2022-06-24 20:31:07</td>\n",
       "      <td>NaT</td>\n",
       "      <td>2018-01-23 12:34:08</td>\n",
       "    </tr>\n",
       "    <tr>\n",
       "      <th>1</th>\n",
       "      <td>1551</td>\n",
       "      <td>중형승합</td>\n",
       "      <td>2018-01-23 오전 12:17:00</td>\n",
       "      <td>2018-01-23 오전 12:50:37</td>\n",
       "      <td>2018-01-23 오전 1:19:22</td>\n",
       "      <td>중랑구</td>\n",
       "      <td>면목제7동</td>\n",
       "      <td>노원구</td>\n",
       "      <td>상계1동</td>\n",
       "      <td>2022-06-24 20:31:07</td>\n",
       "      <td>NaT</td>\n",
       "      <td>2018-01-23 01:19:22</td>\n",
       "    </tr>\n",
       "    <tr>\n",
       "      <th>2</th>\n",
       "      <td>5804</td>\n",
       "      <td>중형승합</td>\n",
       "      <td>2018-01-23 오전 12:30:00</td>\n",
       "      <td>2018-01-23 오전 12:17:06</td>\n",
       "      <td>2018-01-23 오전 12:17:39</td>\n",
       "      <td>성북구</td>\n",
       "      <td>정릉제3동</td>\n",
       "      <td>강북구</td>\n",
       "      <td>수유제3동</td>\n",
       "      <td>2022-06-24 20:31:07</td>\n",
       "      <td>NaT</td>\n",
       "      <td>2018-01-23 12:17:39</td>\n",
       "    </tr>\n",
       "    <tr>\n",
       "      <th>3</th>\n",
       "      <td>7650</td>\n",
       "      <td>중형승합</td>\n",
       "      <td>2018-01-23 오전 12:47:00</td>\n",
       "      <td>2018-01-23 오전 12:51:19</td>\n",
       "      <td>2018-01-23 오전 1:09:33</td>\n",
       "      <td>구로구</td>\n",
       "      <td>고척제2동</td>\n",
       "      <td>관악구</td>\n",
       "      <td>은천동</td>\n",
       "      <td>2022-06-24 20:31:07</td>\n",
       "      <td>NaT</td>\n",
       "      <td>2018-01-23 01:09:33</td>\n",
       "    </tr>\n",
       "    <tr>\n",
       "      <th>4</th>\n",
       "      <td>1061</td>\n",
       "      <td>중형승합</td>\n",
       "      <td>2018-01-23 오전 1:08:00</td>\n",
       "      <td>2018-01-23 오전 1:44:17</td>\n",
       "      <td>2018-01-23 오전 2:06:53</td>\n",
       "      <td>동대문구</td>\n",
       "      <td>회기동</td>\n",
       "      <td>성북구</td>\n",
       "      <td>장위제2동</td>\n",
       "      <td>2022-06-24 20:31:07</td>\n",
       "      <td>NaT</td>\n",
       "      <td>2018-01-23 02:06:53</td>\n",
       "    </tr>\n",
       "    <tr>\n",
       "      <th>...</th>\n",
       "      <td>...</td>\n",
       "      <td>...</td>\n",
       "      <td>...</td>\n",
       "      <td>...</td>\n",
       "      <td>...</td>\n",
       "      <td>...</td>\n",
       "      <td>...</td>\n",
       "      <td>...</td>\n",
       "      <td>...</td>\n",
       "      <td>...</td>\n",
       "      <td>...</td>\n",
       "      <td>...</td>\n",
       "    </tr>\n",
       "    <tr>\n",
       "      <th>407608</th>\n",
       "      <td>8579</td>\n",
       "      <td>대형승용</td>\n",
       "      <td>2022-06-24 오전 7:00:00</td>\n",
       "      <td>2022-06-24 오전 6:54:20</td>\n",
       "      <td>2022-06-24 오전 7:17:08</td>\n",
       "      <td>성북구</td>\n",
       "      <td>돈암제2동</td>\n",
       "      <td>강남구</td>\n",
       "      <td>대치4동</td>\n",
       "      <td>2022-06-24 20:31:07</td>\n",
       "      <td>NaT</td>\n",
       "      <td>2022-06-24 07:17:08</td>\n",
       "    </tr>\n",
       "    <tr>\n",
       "      <th>407609</th>\n",
       "      <td>8006</td>\n",
       "      <td>중형승합</td>\n",
       "      <td>2022-06-24 오전 7:00:00</td>\n",
       "      <td>2022-06-24 오전 7:07:58</td>\n",
       "      <td>2022-06-24 오전 7:42:04</td>\n",
       "      <td>은평구</td>\n",
       "      <td>구산동</td>\n",
       "      <td>은평구</td>\n",
       "      <td>구산동</td>\n",
       "      <td>2022-06-24 20:31:07</td>\n",
       "      <td>NaT</td>\n",
       "      <td>2022-06-24 07:42:04</td>\n",
       "    </tr>\n",
       "    <tr>\n",
       "      <th>407610</th>\n",
       "      <td>8261</td>\n",
       "      <td>중형승합</td>\n",
       "      <td>2022-06-24 오전 7:00:00</td>\n",
       "      <td>2022-06-24 오전 7:04:58</td>\n",
       "      <td>2022-06-24 오전 7:16:19</td>\n",
       "      <td>노원구</td>\n",
       "      <td>상계8동</td>\n",
       "      <td>영등포구</td>\n",
       "      <td>영등포동</td>\n",
       "      <td>2022-06-24 20:31:07</td>\n",
       "      <td>NaT</td>\n",
       "      <td>2022-06-24 07:16:19</td>\n",
       "    </tr>\n",
       "    <tr>\n",
       "      <th>407611</th>\n",
       "      <td>1558</td>\n",
       "      <td>중형승합</td>\n",
       "      <td>2022-06-24 오전 7:00:00</td>\n",
       "      <td>2022-06-24 오전 7:03:25</td>\n",
       "      <td>2022-06-24 오전 7:27:10</td>\n",
       "      <td>성북구</td>\n",
       "      <td>길음제1동</td>\n",
       "      <td>강북구</td>\n",
       "      <td>번제1동</td>\n",
       "      <td>2022-06-24 20:31:07</td>\n",
       "      <td>NaT</td>\n",
       "      <td>2022-06-24 07:27:10</td>\n",
       "    </tr>\n",
       "    <tr>\n",
       "      <th>407612</th>\n",
       "      <td>5725</td>\n",
       "      <td>중형승합</td>\n",
       "      <td>2022-06-24 오전 7:00:00</td>\n",
       "      <td>2022-06-24 오전 7:10:22</td>\n",
       "      <td>2022-06-24 오전 7:20:46</td>\n",
       "      <td>강동구</td>\n",
       "      <td>천호제2동</td>\n",
       "      <td>강동구</td>\n",
       "      <td>명일제1동</td>\n",
       "      <td>2022-06-24 20:31:07</td>\n",
       "      <td>NaT</td>\n",
       "      <td>2022-06-24 07:20:46</td>\n",
       "    </tr>\n",
       "  </tbody>\n",
       "</table>\n",
       "<p>406366 rows × 12 columns</p>\n",
       "</div>"
      ],
      "text/plain": [
       "          no cartype             receipttime                 settime  \\\n",
       "0       7658    중형승합  2018-01-23 오전 12:04:00  2018-01-23 오전 12:18:42   \n",
       "1       1551    중형승합  2018-01-23 오전 12:17:00  2018-01-23 오전 12:50:37   \n",
       "2       5804    중형승합  2018-01-23 오전 12:30:00  2018-01-23 오전 12:17:06   \n",
       "3       7650    중형승합  2018-01-23 오전 12:47:00  2018-01-23 오전 12:51:19   \n",
       "4       1061    중형승합   2018-01-23 오전 1:08:00   2018-01-23 오전 1:44:17   \n",
       "...      ...     ...                     ...                     ...   \n",
       "407608  8579    대형승용   2022-06-24 오전 7:00:00   2022-06-24 오전 6:54:20   \n",
       "407609  8006    중형승합   2022-06-24 오전 7:00:00   2022-06-24 오전 7:07:58   \n",
       "407610  8261    중형승합   2022-06-24 오전 7:00:00   2022-06-24 오전 7:04:58   \n",
       "407611  1558    중형승합   2022-06-24 오전 7:00:00   2022-06-24 오전 7:03:25   \n",
       "407612  5725    중형승합   2022-06-24 오전 7:00:00   2022-06-24 오전 7:10:22   \n",
       "\n",
       "                      ridetime startpos1 startpos2 endpos1 endpos2  \\\n",
       "0       2018-01-23 오전 12:34:08       성북구     장위제1동    동대문구     회기동   \n",
       "1        2018-01-23 오전 1:19:22       중랑구     면목제7동     노원구    상계1동   \n",
       "2       2018-01-23 오전 12:17:39       성북구     정릉제3동     강북구   수유제3동   \n",
       "3        2018-01-23 오전 1:09:33       구로구     고척제2동     관악구     은천동   \n",
       "4        2018-01-23 오전 2:06:53      동대문구       회기동     성북구   장위제2동   \n",
       "...                        ...       ...       ...     ...     ...   \n",
       "407608   2022-06-24 오전 7:17:08       성북구     돈암제2동     강남구    대치4동   \n",
       "407609   2022-06-24 오전 7:42:04       은평구       구산동     은평구     구산동   \n",
       "407610   2022-06-24 오전 7:16:19       노원구      상계8동    영등포구    영등포동   \n",
       "407611   2022-06-24 오전 7:27:10       성북구     길음제1동     강북구    번제1동   \n",
       "407612   2022-06-24 오전 7:20:46       강동구     천호제2동     강동구   명일제1동   \n",
       "\n",
       "                      승차시간  오후                  오전  \n",
       "0      2022-06-24 20:31:07 NaT 2018-01-23 12:34:08  \n",
       "1      2022-06-24 20:31:07 NaT 2018-01-23 01:19:22  \n",
       "2      2022-06-24 20:31:07 NaT 2018-01-23 12:17:39  \n",
       "3      2022-06-24 20:31:07 NaT 2018-01-23 01:09:33  \n",
       "4      2022-06-24 20:31:07 NaT 2018-01-23 02:06:53  \n",
       "...                    ...  ..                 ...  \n",
       "407608 2022-06-24 20:31:07 NaT 2022-06-24 07:17:08  \n",
       "407609 2022-06-24 20:31:07 NaT 2022-06-24 07:42:04  \n",
       "407610 2022-06-24 20:31:07 NaT 2022-06-24 07:16:19  \n",
       "407611 2022-06-24 20:31:07 NaT 2022-06-24 07:27:10  \n",
       "407612 2022-06-24 20:31:07 NaT 2022-06-24 07:20:46  \n",
       "\n",
       "[406366 rows x 12 columns]"
      ]
     },
     "execution_count": 369,
     "metadata": {},
     "output_type": "execute_result"
    }
   ],
   "source": [
    "df[df['오전'].notna()]"
   ]
  },
  {
   "cell_type": "markdown",
   "id": "e471d3cd",
   "metadata": {},
   "source": [
    "이제 df['오후']와 df['오전']을 합쳐보자"
   ]
  },
  {
   "cell_type": "code",
   "execution_count": 370,
   "id": "5bb41c19",
   "metadata": {},
   "outputs": [
    {
     "data": {
      "text/plain": [
       "NaT"
      ]
     },
     "execution_count": 370,
     "metadata": {},
     "output_type": "execute_result"
    }
   ],
   "source": [
    "df['오후'][0] + df['오전'][0]\n",
    "#누락값(NaT)와 값이 있는걸 더하면 NaT가 된다"
   ]
  },
  {
   "cell_type": "code",
   "execution_count": 371,
   "id": "22b6caaa",
   "metadata": {},
   "outputs": [
    {
     "data": {
      "text/plain": [
       "datetime.timedelta(0)"
      ]
     },
     "execution_count": 371,
     "metadata": {},
     "output_type": "execute_result"
    }
   ],
   "source": [
    "datetime.timedelta(hours=0)"
   ]
  },
  {
   "cell_type": "code",
   "execution_count": 372,
   "id": "f24a1c0e",
   "metadata": {},
   "outputs": [],
   "source": [
    "#df['오후']의 누락된 값에 0시간을 채워준다.\n",
    "df['오후'] = df['오후'].fillna(datetime.timedelta(hours=0))"
   ]
  },
  {
   "cell_type": "code",
   "execution_count": 373,
   "id": "a6d8f11f",
   "metadata": {},
   "outputs": [],
   "source": [
    "df['오전'] = df['오전'].fillna(datetime.timedelta(hours=0))"
   ]
  },
  {
   "cell_type": "code",
   "execution_count": 374,
   "id": "bde23453",
   "metadata": {
    "scrolled": true
   },
   "outputs": [
    {
     "data": {
      "text/plain": [
       "Timestamp('2018-01-23 12:34:08')"
      ]
     },
     "execution_count": 374,
     "metadata": {},
     "output_type": "execute_result"
    }
   ],
   "source": [
    "df['오후'][0] + df['오전'][0]"
   ]
  },
  {
   "cell_type": "code",
   "execution_count": 375,
   "id": "24748757",
   "metadata": {},
   "outputs": [],
   "source": [
    "승차_val = []\n",
    "for i in range(len(df)):\n",
    "    try: \n",
    "        val = df['오후'][i] + df['오전'][i]\n",
    "        승차_val.append(val)\n",
    "    except:\n",
    "        승차_val.append(datetime.timedelta(hours=0))"
   ]
  },
  {
   "cell_type": "code",
   "execution_count": 378,
   "id": "f4584bc3",
   "metadata": {},
   "outputs": [],
   "source": [
    "df['승차시간'] = 승차_val"
   ]
  },
  {
   "cell_type": "code",
   "execution_count": 395,
   "id": "84f9c1e0",
   "metadata": {},
   "outputs": [],
   "source": [
    "con = df['승차시간'] == datetime.timedelta(hours=0)\n",
    "df[con]['승차시간'] = pd.to_datetime(df[con]['오전'])"
   ]
  },
  {
   "cell_type": "code",
   "execution_count": 409,
   "id": "93d84409",
   "metadata": {},
   "outputs": [],
   "source": [
    "sindx = df[con]['승차시간'].index"
   ]
  },
  {
   "cell_type": "code",
   "execution_count": 411,
   "id": "2e5130ee",
   "metadata": {},
   "outputs": [],
   "source": [
    "df.loc[sindx, '승차시간'] = pd.to_datetime(df[con]['오전'])"
   ]
  },
  {
   "cell_type": "code",
   "execution_count": 419,
   "id": "8150400e",
   "metadata": {},
   "outputs": [
    {
     "data": {
      "text/html": [
       "<div>\n",
       "<style scoped>\n",
       "    .dataframe tbody tr th:only-of-type {\n",
       "        vertical-align: middle;\n",
       "    }\n",
       "\n",
       "    .dataframe tbody tr th {\n",
       "        vertical-align: top;\n",
       "    }\n",
       "\n",
       "    .dataframe thead th {\n",
       "        text-align: right;\n",
       "    }\n",
       "</style>\n",
       "<table border=\"1\" class=\"dataframe\">\n",
       "  <thead>\n",
       "    <tr style=\"text-align: right;\">\n",
       "      <th></th>\n",
       "      <th>no</th>\n",
       "      <th>cartype</th>\n",
       "      <th>receipttime</th>\n",
       "      <th>settime</th>\n",
       "      <th>ridetime</th>\n",
       "      <th>startpos1</th>\n",
       "      <th>startpos2</th>\n",
       "      <th>endpos1</th>\n",
       "      <th>endpos2</th>\n",
       "      <th>승차시간</th>\n",
       "      <th>오후</th>\n",
       "      <th>오전</th>\n",
       "    </tr>\n",
       "  </thead>\n",
       "  <tbody>\n",
       "  </tbody>\n",
       "</table>\n",
       "</div>"
      ],
      "text/plain": [
       "Empty DataFrame\n",
       "Columns: [no, cartype, receipttime, settime, ridetime, startpos1, startpos2, endpos1, endpos2, 승차시간, 오후, 오전]\n",
       "Index: []"
      ]
     },
     "execution_count": 419,
     "metadata": {},
     "output_type": "execute_result"
    }
   ],
   "source": [
    "df[df['승차시간'] == datetime.timedelta(hours=0)]"
   ]
  },
  {
   "cell_type": "code",
   "execution_count": 423,
   "id": "e6b56278",
   "metadata": {},
   "outputs": [],
   "source": [
    "df['승차시간'] = pd.to_datetime(df['승차시간'])"
   ]
  },
  {
   "cell_type": "code",
   "execution_count": 426,
   "id": "f32fa735",
   "metadata": {},
   "outputs": [],
   "source": [
    "df = df.drop(['오전','오후'], axis = 1)"
   ]
  },
  {
   "cell_type": "code",
   "execution_count": 427,
   "id": "fdd05ae2",
   "metadata": {},
   "outputs": [
    {
     "name": "stdout",
     "output_type": "stream",
     "text": [
      "<class 'pandas.core.frame.DataFrame'>\n",
      "Int64Index: 407603 entries, 0 to 407612\n",
      "Data columns (total 10 columns):\n",
      " #   Column       Non-Null Count   Dtype         \n",
      "---  ------       --------------   -----         \n",
      " 0   no           407603 non-null  int64         \n",
      " 1   cartype      407603 non-null  object        \n",
      " 2   receipttime  407603 non-null  object        \n",
      " 3   settime      407573 non-null  object        \n",
      " 4   ridetime     407603 non-null  object        \n",
      " 5   startpos1    407603 non-null  object        \n",
      " 6   startpos2    407603 non-null  object        \n",
      " 7   endpos1      407603 non-null  object        \n",
      " 8   endpos2      407603 non-null  object        \n",
      " 9   승차시간         407603 non-null  datetime64[ns]\n",
      "dtypes: datetime64[ns](1), int64(1), object(8)\n",
      "memory usage: 50.3+ MB\n"
     ]
    }
   ],
   "source": [
    "df.info()"
   ]
  },
  {
   "cell_type": "code",
   "execution_count": 444,
   "id": "09af6c43",
   "metadata": {},
   "outputs": [
    {
     "data": {
      "text/html": [
       "<div>\n",
       "<style scoped>\n",
       "    .dataframe tbody tr th:only-of-type {\n",
       "        vertical-align: middle;\n",
       "    }\n",
       "\n",
       "    .dataframe tbody tr th {\n",
       "        vertical-align: top;\n",
       "    }\n",
       "\n",
       "    .dataframe thead th {\n",
       "        text-align: right;\n",
       "    }\n",
       "</style>\n",
       "<table border=\"1\" class=\"dataframe\">\n",
       "  <thead>\n",
       "    <tr style=\"text-align: right;\">\n",
       "      <th></th>\n",
       "      <th>no</th>\n",
       "      <th>cartype</th>\n",
       "      <th>receipttime</th>\n",
       "      <th>settime</th>\n",
       "      <th>ridetime</th>\n",
       "      <th>startpos1</th>\n",
       "      <th>startpos2</th>\n",
       "      <th>endpos1</th>\n",
       "      <th>endpos2</th>\n",
       "      <th>승차시간</th>\n",
       "    </tr>\n",
       "  </thead>\n",
       "  <tbody>\n",
       "  </tbody>\n",
       "</table>\n",
       "</div>"
      ],
      "text/plain": [
       "Empty DataFrame\n",
       "Columns: [no, cartype, receipttime, settime, ridetime, startpos1, startpos2, endpos1, endpos2, 승차시간]\n",
       "Index: []"
      ]
     },
     "execution_count": 444,
     "metadata": {},
     "output_type": "execute_result"
    }
   ],
   "source": [
    "df[~df['ridetime'].str.contains('오전') & ~df['ridetime'].str.contains('오후')]"
   ]
  },
  {
   "cell_type": "code",
   "execution_count": 454,
   "id": "e165da53",
   "metadata": {},
   "outputs": [
    {
     "data": {
      "text/plain": [
       "0         False\n",
       "1         False\n",
       "2         False\n",
       "3         False\n",
       "4         False\n",
       "          ...  \n",
       "407608    False\n",
       "407609    False\n",
       "407610    False\n",
       "407611    False\n",
       "407612    False\n",
       "Name: settime, Length: 407603, dtype: object"
      ]
     },
     "execution_count": 454,
     "metadata": {},
     "output_type": "execute_result"
    }
   ],
   "source": [
    "df['settime'].str.contains('오후')"
   ]
  },
  {
   "cell_type": "code",
   "execution_count": 458,
   "id": "68e58b67",
   "metadata": {},
   "outputs": [
    {
     "data": {
      "text/html": [
       "<div>\n",
       "<style scoped>\n",
       "    .dataframe tbody tr th:only-of-type {\n",
       "        vertical-align: middle;\n",
       "    }\n",
       "\n",
       "    .dataframe tbody tr th {\n",
       "        vertical-align: top;\n",
       "    }\n",
       "\n",
       "    .dataframe thead th {\n",
       "        text-align: right;\n",
       "    }\n",
       "</style>\n",
       "<table border=\"1\" class=\"dataframe\">\n",
       "  <thead>\n",
       "    <tr style=\"text-align: right;\">\n",
       "      <th></th>\n",
       "      <th>no</th>\n",
       "      <th>cartype</th>\n",
       "      <th>receipttime</th>\n",
       "      <th>settime</th>\n",
       "      <th>ridetime</th>\n",
       "      <th>startpos1</th>\n",
       "      <th>startpos2</th>\n",
       "      <th>endpos1</th>\n",
       "      <th>endpos2</th>\n",
       "      <th>승차시간</th>\n",
       "    </tr>\n",
       "  </thead>\n",
       "  <tbody>\n",
       "    <tr>\n",
       "      <th>32664</th>\n",
       "      <td>1123</td>\n",
       "      <td>중형승합</td>\n",
       "      <td>2018-05-08 오전 5:30:00</td>\n",
       "      <td>NaN</td>\n",
       "      <td>2018-05-08 오전 5:30:00</td>\n",
       "      <td>도봉구</td>\n",
       "      <td>창제3동</td>\n",
       "      <td>성북구</td>\n",
       "      <td>안암동</td>\n",
       "      <td>2018-05-08 05:30:00</td>\n",
       "    </tr>\n",
       "    <tr>\n",
       "      <th>32671</th>\n",
       "      <td>1123</td>\n",
       "      <td>중형승합</td>\n",
       "      <td>2018-05-08 오전 5:31:00</td>\n",
       "      <td>NaN</td>\n",
       "      <td>2018-05-08 오전 5:31:00</td>\n",
       "      <td>중랑구</td>\n",
       "      <td>망우본동</td>\n",
       "      <td>중랑구</td>\n",
       "      <td>신내1동</td>\n",
       "      <td>2018-05-08 05:31:00</td>\n",
       "    </tr>\n",
       "    <tr>\n",
       "      <th>33560</th>\n",
       "      <td>7630</td>\n",
       "      <td>중형승합</td>\n",
       "      <td>2018-05-06 오전 8:10:00</td>\n",
       "      <td>NaN</td>\n",
       "      <td>2018-05-06 오전 8:10:00</td>\n",
       "      <td>강남구</td>\n",
       "      <td>수서동</td>\n",
       "      <td>강남구</td>\n",
       "      <td>일원1동</td>\n",
       "      <td>2018-05-06 08:10:00</td>\n",
       "    </tr>\n",
       "    <tr>\n",
       "      <th>44798</th>\n",
       "      <td>7606</td>\n",
       "      <td>중형승합</td>\n",
       "      <td>2018-06-03 오전 8:03:00</td>\n",
       "      <td>NaN</td>\n",
       "      <td>2018-06-03 오전 8:03:00</td>\n",
       "      <td>강서구</td>\n",
       "      <td>가양제2동</td>\n",
       "      <td>강서구</td>\n",
       "      <td>가양제1동</td>\n",
       "      <td>2018-06-03 08:03:00</td>\n",
       "    </tr>\n",
       "    <tr>\n",
       "      <th>51607</th>\n",
       "      <td>7908</td>\n",
       "      <td>중형승합</td>\n",
       "      <td>2018-07-29 오전 7:00:00</td>\n",
       "      <td>NaN</td>\n",
       "      <td>2018-07-29 오전 7:00:00</td>\n",
       "      <td>강서구</td>\n",
       "      <td>가양제2동</td>\n",
       "      <td>양천구</td>\n",
       "      <td>목2동</td>\n",
       "      <td>2018-07-29 07:00:00</td>\n",
       "    </tr>\n",
       "  </tbody>\n",
       "</table>\n",
       "</div>"
      ],
      "text/plain": [
       "         no cartype            receipttime settime               ridetime  \\\n",
       "32664  1123    중형승합  2018-05-08 오전 5:30:00     NaN  2018-05-08 오전 5:30:00   \n",
       "32671  1123    중형승합  2018-05-08 오전 5:31:00     NaN  2018-05-08 오전 5:31:00   \n",
       "33560  7630    중형승합  2018-05-06 오전 8:10:00     NaN  2018-05-06 오전 8:10:00   \n",
       "44798  7606    중형승합  2018-06-03 오전 8:03:00     NaN  2018-06-03 오전 8:03:00   \n",
       "51607  7908    중형승합  2018-07-29 오전 7:00:00     NaN  2018-07-29 오전 7:00:00   \n",
       "\n",
       "      startpos1 startpos2 endpos1 endpos2                승차시간  \n",
       "32664       도봉구      창제3동     성북구     안암동 2018-05-08 05:30:00  \n",
       "32671       중랑구      망우본동     중랑구    신내1동 2018-05-08 05:31:00  \n",
       "33560       강남구       수서동     강남구    일원1동 2018-05-06 08:10:00  \n",
       "44798       강서구     가양제2동     강서구   가양제1동 2018-06-03 08:03:00  \n",
       "51607       강서구     가양제2동     양천구     목2동 2018-07-29 07:00:00  "
      ]
     },
     "execution_count": 458,
     "metadata": {},
     "output_type": "execute_result"
    }
   ],
   "source": [
    "df[df['settime'].isna()].head()\n",
    "#왜 부르자마자 탄 차들이 있지..\n",
    "#일단 따로 csv에 저장하고 dropna하도록 한다"
   ]
  },
  {
   "cell_type": "code",
   "execution_count": 460,
   "id": "bb9a57f7",
   "metadata": {},
   "outputs": [],
   "source": [
    "df_set_na = df[df['settime'].isna()]\n",
    "df_set_na.to_csv('df_set_na.csv', index = False, encoding = 'utf-8')"
   ]
  },
  {
   "cell_type": "code",
   "execution_count": 466,
   "id": "5e6f0059",
   "metadata": {},
   "outputs": [],
   "source": [
    "snax = df[df['settime'].isna()].index"
   ]
  },
  {
   "cell_type": "code",
   "execution_count": 469,
   "id": "6435e76c",
   "metadata": {},
   "outputs": [],
   "source": [
    "df = df.drop(snax)"
   ]
  },
  {
   "cell_type": "code",
   "execution_count": 470,
   "id": "928605c8",
   "metadata": {
    "scrolled": true
   },
   "outputs": [],
   "source": [
    "df['오전'] = pd.to_datetime(df[df['settime'].str.contains('오전')]['settime'].str.replace('오전', ''))\n",
    "df['오후'] = pd.to_datetime(df[df['settime'].str.contains('오후')]['settime'].str.replace('오후', '')) + datetime.timedelta(hours = 12)"
   ]
  },
  {
   "cell_type": "code",
   "execution_count": 472,
   "id": "92109af0",
   "metadata": {},
   "outputs": [],
   "source": [
    "df['오후'] = df['오후'].fillna(datetime.timedelta(hours=0))\n",
    "df['오전'] = df['오전'].fillna(datetime.timedelta(hours=0))"
   ]
  },
  {
   "cell_type": "code",
   "execution_count": 473,
   "id": "f8ae99b0",
   "metadata": {},
   "outputs": [],
   "source": [
    "승차_val = []\n",
    "for i in range(len(df)):\n",
    "    try: \n",
    "        val = df['오후'][i] + df['오전'][i]\n",
    "        승차_val.append(val)\n",
    "    except:\n",
    "        승차_val.append(datetime.timedelta(hours=0))"
   ]
  },
  {
   "cell_type": "code",
   "execution_count": 474,
   "id": "f3be844f",
   "metadata": {},
   "outputs": [],
   "source": [
    "df['배차시간'] = 승차_val"
   ]
  },
  {
   "cell_type": "code",
   "execution_count": 478,
   "id": "34767c5c",
   "metadata": {},
   "outputs": [
    {
     "data": {
      "text/html": [
       "<div>\n",
       "<style scoped>\n",
       "    .dataframe tbody tr th:only-of-type {\n",
       "        vertical-align: middle;\n",
       "    }\n",
       "\n",
       "    .dataframe tbody tr th {\n",
       "        vertical-align: top;\n",
       "    }\n",
       "\n",
       "    .dataframe thead th {\n",
       "        text-align: right;\n",
       "    }\n",
       "</style>\n",
       "<table border=\"1\" class=\"dataframe\">\n",
       "  <thead>\n",
       "    <tr style=\"text-align: right;\">\n",
       "      <th></th>\n",
       "      <th>no</th>\n",
       "      <th>cartype</th>\n",
       "      <th>receipttime</th>\n",
       "      <th>settime</th>\n",
       "      <th>ridetime</th>\n",
       "      <th>startpos1</th>\n",
       "      <th>startpos2</th>\n",
       "      <th>endpos1</th>\n",
       "      <th>endpos2</th>\n",
       "      <th>승차시간</th>\n",
       "      <th>오전</th>\n",
       "      <th>오후</th>\n",
       "      <th>배차시간</th>\n",
       "    </tr>\n",
       "  </thead>\n",
       "  <tbody>\n",
       "    <tr>\n",
       "      <th>32665</th>\n",
       "      <td>4347</td>\n",
       "      <td>중형승용</td>\n",
       "      <td>2018-05-08 오전 5:30:00</td>\n",
       "      <td>2018-05-08 오전 6:48:10</td>\n",
       "      <td>2018-05-08 오전 6:56:55</td>\n",
       "      <td>강서구</td>\n",
       "      <td>화곡제3동</td>\n",
       "      <td>고양시일산서구</td>\n",
       "      <td>탄현동</td>\n",
       "      <td>2018-05-08 06:56:55</td>\n",
       "      <td>2018-05-08 06:48:10</td>\n",
       "      <td>0:00:00</td>\n",
       "      <td>0:00:00</td>\n",
       "    </tr>\n",
       "    <tr>\n",
       "      <th>32673</th>\n",
       "      <td>6194</td>\n",
       "      <td>중형승합</td>\n",
       "      <td>2018-05-08 오전 5:33:00</td>\n",
       "      <td>2018-05-08 오전 7:04:45</td>\n",
       "      <td>2018-05-08 오전 7:24:58</td>\n",
       "      <td>강서구</td>\n",
       "      <td>가양제3동</td>\n",
       "      <td>동작구</td>\n",
       "      <td>흑석동</td>\n",
       "      <td>2018-05-08 07:24:58</td>\n",
       "      <td>2018-05-08 07:04:45</td>\n",
       "      <td>0:00:00</td>\n",
       "      <td>0:00:00</td>\n",
       "    </tr>\n",
       "  </tbody>\n",
       "</table>\n",
       "</div>"
      ],
      "text/plain": [
       "         no cartype            receipttime                settime  \\\n",
       "32665  4347    중형승용  2018-05-08 오전 5:30:00  2018-05-08 오전 6:48:10   \n",
       "32673  6194    중형승합  2018-05-08 오전 5:33:00  2018-05-08 오전 7:04:45   \n",
       "\n",
       "                    ridetime startpos1 startpos2  endpos1 endpos2  \\\n",
       "32665  2018-05-08 오전 6:56:55       강서구     화곡제3동  고양시일산서구     탄현동   \n",
       "32673  2018-05-08 오전 7:24:58       강서구     가양제3동      동작구     흑석동   \n",
       "\n",
       "                     승차시간                   오전       오후     배차시간  \n",
       "32665 2018-05-08 06:56:55  2018-05-08 06:48:10  0:00:00  0:00:00  \n",
       "32673 2018-05-08 07:24:58  2018-05-08 07:04:45  0:00:00  0:00:00  "
      ]
     },
     "execution_count": 478,
     "metadata": {},
     "output_type": "execute_result"
    }
   ],
   "source": [
    "df[df['배차시간'] == datetime.timedelta(hours=0)].head(2)"
   ]
  },
  {
   "cell_type": "code",
   "execution_count": 479,
   "id": "f7fc293d",
   "metadata": {},
   "outputs": [],
   "source": [
    "con = df['배차시간'] == datetime.timedelta(hours=0)"
   ]
  },
  {
   "cell_type": "code",
   "execution_count": 483,
   "id": "6d322d56",
   "metadata": {},
   "outputs": [],
   "source": [
    "binx = df[con]['배차시간'].index"
   ]
  },
  {
   "cell_type": "code",
   "execution_count": 485,
   "id": "1ded14e1",
   "metadata": {},
   "outputs": [],
   "source": [
    "df.loc[binx, '배차시간'] = pd.to_datetime(df[con]['오전'])"
   ]
  },
  {
   "cell_type": "code",
   "execution_count": 492,
   "id": "8e635e41",
   "metadata": {},
   "outputs": [],
   "source": [
    "df['배차시간'] =pd.to_datetime(df['배차시간'])"
   ]
  },
  {
   "cell_type": "code",
   "execution_count": 493,
   "id": "e6c7c399",
   "metadata": {},
   "outputs": [
    {
     "name": "stdout",
     "output_type": "stream",
     "text": [
      "<class 'pandas.core.frame.DataFrame'>\n",
      "Int64Index: 407573 entries, 0 to 407612\n",
      "Data columns (total 13 columns):\n",
      " #   Column       Non-Null Count   Dtype         \n",
      "---  ------       --------------   -----         \n",
      " 0   no           407573 non-null  int64         \n",
      " 1   cartype      407573 non-null  object        \n",
      " 2   receipttime  407573 non-null  object        \n",
      " 3   settime      407573 non-null  object        \n",
      " 4   ridetime     407573 non-null  object        \n",
      " 5   startpos1    407573 non-null  object        \n",
      " 6   startpos2    407573 non-null  object        \n",
      " 7   endpos1      407573 non-null  object        \n",
      " 8   endpos2      407573 non-null  object        \n",
      " 9   승차시간         407573 non-null  datetime64[ns]\n",
      " 10  오전           407573 non-null  object        \n",
      " 11  오후           407573 non-null  object        \n",
      " 12  배차시간         407573 non-null  datetime64[ns]\n",
      "dtypes: datetime64[ns](2), int64(1), object(10)\n",
      "memory usage: 59.7+ MB\n"
     ]
    }
   ],
   "source": [
    "df.info()"
   ]
  },
  {
   "cell_type": "code",
   "execution_count": 495,
   "id": "bab6bb98",
   "metadata": {},
   "outputs": [],
   "source": [
    "df = df.drop(['오전', '오후'], axis=1)"
   ]
  },
  {
   "cell_type": "code",
   "execution_count": 498,
   "id": "9ecf97e2",
   "metadata": {},
   "outputs": [
    {
     "data": {
      "text/html": [
       "<div>\n",
       "<style scoped>\n",
       "    .dataframe tbody tr th:only-of-type {\n",
       "        vertical-align: middle;\n",
       "    }\n",
       "\n",
       "    .dataframe tbody tr th {\n",
       "        vertical-align: top;\n",
       "    }\n",
       "\n",
       "    .dataframe thead th {\n",
       "        text-align: right;\n",
       "    }\n",
       "</style>\n",
       "<table border=\"1\" class=\"dataframe\">\n",
       "  <thead>\n",
       "    <tr style=\"text-align: right;\">\n",
       "      <th></th>\n",
       "      <th>no</th>\n",
       "      <th>cartype</th>\n",
       "      <th>receipttime</th>\n",
       "      <th>settime</th>\n",
       "      <th>ridetime</th>\n",
       "      <th>startpos1</th>\n",
       "      <th>startpos2</th>\n",
       "      <th>endpos1</th>\n",
       "      <th>endpos2</th>\n",
       "      <th>승차시간</th>\n",
       "      <th>배차시간</th>\n",
       "    </tr>\n",
       "  </thead>\n",
       "  <tbody>\n",
       "  </tbody>\n",
       "</table>\n",
       "</div>"
      ],
      "text/plain": [
       "Empty DataFrame\n",
       "Columns: [no, cartype, receipttime, settime, ridetime, startpos1, startpos2, endpos1, endpos2, 승차시간, 배차시간]\n",
       "Index: []"
      ]
     },
     "execution_count": 498,
     "metadata": {},
     "output_type": "execute_result"
    }
   ],
   "source": [
    "df[df['receipttime'].isna()]"
   ]
  },
  {
   "cell_type": "code",
   "execution_count": 503,
   "id": "8021e0f0",
   "metadata": {},
   "outputs": [],
   "source": [
    "df['오전'] = pd.to_datetime(df[df['receipttime'].str.contains('오전')]['receipttime'].str.replace('오전', ''))"
   ]
  },
  {
   "cell_type": "code",
   "execution_count": 504,
   "id": "a2e289b9",
   "metadata": {},
   "outputs": [],
   "source": [
    "df['오후'] = pd.to_datetime(df[df['receipttime'].str.contains('오후')]['receipttime'].str.replace('오후', ''))"
   ]
  },
  {
   "cell_type": "code",
   "execution_count": 506,
   "id": "c8489001",
   "metadata": {},
   "outputs": [],
   "source": [
    "df['오후'] = df['오후'].fillna(datetime.timedelta(hours=0))\n",
    "df['오전'] = df['오전'].fillna(datetime.timedelta(hours=0))"
   ]
  },
  {
   "cell_type": "code",
   "execution_count": 507,
   "id": "dedb049d",
   "metadata": {},
   "outputs": [],
   "source": [
    "요청_val = []\n",
    "for i in range(len(df)):\n",
    "    try: \n",
    "        val = df['오후'][i] + df['오전'][i]\n",
    "        요청_val.append(val)\n",
    "    except:\n",
    "        요청_val.append(datetime.timedelta(hours=0))"
   ]
  },
  {
   "cell_type": "code",
   "execution_count": 508,
   "id": "c6148431",
   "metadata": {},
   "outputs": [],
   "source": [
    "df['예정시간'] = 요청_val"
   ]
  },
  {
   "cell_type": "code",
   "execution_count": 512,
   "id": "cf786b81",
   "metadata": {},
   "outputs": [
    {
     "data": {
      "text/plain": [
       "3486                 2018-01-16\n",
       "3487                 2018-01-16\n",
       "8466                 2018-02-09\n",
       "8467                 2018-02-09\n",
       "8468                 2018-02-09\n",
       "                  ...          \n",
       "400563    2022-05-31 오전 7:00:00\n",
       "402173    2022-06-03 오전 5:50:00\n",
       "402174    2022-06-03 오전 5:50:00\n",
       "404970    2022-06-06 오전 7:10:00\n",
       "406703    2022-06-25 오전 7:00:00\n",
       "Name: receipttime, Length: 199, dtype: object"
      ]
     },
     "execution_count": 512,
     "metadata": {},
     "output_type": "execute_result"
    }
   ],
   "source": [
    "df[df['예정시간'] == datetime.timedelta(hours=0)]['receipttime']"
   ]
  },
  {
   "cell_type": "code",
   "execution_count": 526,
   "id": "8a6104ac",
   "metadata": {},
   "outputs": [],
   "source": [
    "con = df[df['예정시간'] == datetime.timedelta(hours=0)]['receipttime'].str.contains('오전')"
   ]
  },
  {
   "cell_type": "code",
   "execution_count": 538,
   "id": "43a66a05",
   "metadata": {},
   "outputs": [],
   "source": [
    "con1 = df[df['예정시간'] == datetime.timedelta(hours=0)]['receipttime'].str.contains('오후')"
   ]
  },
  {
   "cell_type": "code",
   "execution_count": 541,
   "id": "9874da78",
   "metadata": {
    "scrolled": true
   },
   "outputs": [
    {
     "data": {
      "text/plain": [
       "Series([], Name: receipttime, dtype: bool)"
      ]
     },
     "execution_count": 541,
     "metadata": {},
     "output_type": "execute_result"
    }
   ],
   "source": [
    "con1[con1 == True]"
   ]
  },
  {
   "cell_type": "code",
   "execution_count": 533,
   "id": "c602db25",
   "metadata": {},
   "outputs": [],
   "source": [
    "einx = con[con == True].index"
   ]
  },
  {
   "cell_type": "code",
   "execution_count": 543,
   "id": "cf2c08bb",
   "metadata": {},
   "outputs": [],
   "source": [
    "df.loc[einx, '예정시간'] = df.loc[einx, '오전']"
   ]
  },
  {
   "cell_type": "code",
   "execution_count": 544,
   "id": "eedcb53d",
   "metadata": {},
   "outputs": [
    {
     "data": {
      "text/plain": [
       "32665     2018-05-08 05:30:00\n",
       "32673     2018-05-08 05:33:00\n",
       "33563     2018-05-06 08:11:00\n",
       "37104     2018-05-16 12:20:00\n",
       "42582     2018-06-05 12:25:00\n",
       "                 ...         \n",
       "400563    2022-05-31 07:00:00\n",
       "402173    2022-06-03 05:50:00\n",
       "402174    2022-06-03 05:50:00\n",
       "404970    2022-06-06 07:10:00\n",
       "406703    2022-06-25 07:00:00\n",
       "Name: 예정시간, Length: 179, dtype: object"
      ]
     },
     "execution_count": 544,
     "metadata": {},
     "output_type": "execute_result"
    }
   ],
   "source": [
    "df.loc[einx, '예정시간']"
   ]
  },
  {
   "cell_type": "code",
   "execution_count": 552,
   "id": "6009c658",
   "metadata": {},
   "outputs": [],
   "source": [
    "df_re_date = df[df['예정시간'] == datetime.timedelta(hours=0)]"
   ]
  },
  {
   "cell_type": "code",
   "execution_count": 553,
   "id": "0e697410",
   "metadata": {},
   "outputs": [],
   "source": [
    "df_re_date.to_csv('df_re_date.csv', index = False, encoding = 'utf-8')"
   ]
  },
  {
   "cell_type": "code",
   "execution_count": 556,
   "id": "60d6accc",
   "metadata": {},
   "outputs": [],
   "source": [
    "dinx = df[df['예정시간'] == datetime.timedelta(hours=0)].index"
   ]
  },
  {
   "cell_type": "code",
   "execution_count": 561,
   "id": "51cb8af3",
   "metadata": {},
   "outputs": [],
   "source": [
    "df = df.drop(dinx)"
   ]
  },
  {
   "cell_type": "code",
   "execution_count": 564,
   "id": "f8c27b7e",
   "metadata": {},
   "outputs": [],
   "source": [
    "df = df.drop(['오전', '오후'], axis=1)"
   ]
  },
  {
   "cell_type": "code",
   "execution_count": 567,
   "id": "59ffd2c5",
   "metadata": {
    "scrolled": true
   },
   "outputs": [],
   "source": [
    "df_cleansing2 = df[['no', 'cartype', '예정시간', '배차시간', '승차시간', 'startpos1', 'startpos2', 'endpos1', 'endpos2']]"
   ]
  },
  {
   "cell_type": "code",
   "execution_count": 570,
   "id": "711ecc71",
   "metadata": {},
   "outputs": [
    {
     "name": "stdout",
     "output_type": "stream",
     "text": [
      "<class 'pandas.core.frame.DataFrame'>\n",
      "Int64Index: 407553 entries, 0 to 407612\n",
      "Data columns (total 9 columns):\n",
      " #   Column     Non-Null Count   Dtype         \n",
      "---  ------     --------------   -----         \n",
      " 0   no         407553 non-null  int64         \n",
      " 1   cartype    407553 non-null  object        \n",
      " 2   예정시간       407553 non-null  object        \n",
      " 3   배차시간       407553 non-null  datetime64[ns]\n",
      " 4   승차시간       407553 non-null  datetime64[ns]\n",
      " 5   startpos1  407553 non-null  object        \n",
      " 6   startpos2  407553 non-null  object        \n",
      " 7   endpos1    407553 non-null  object        \n",
      " 8   endpos2    407553 non-null  object        \n",
      "dtypes: datetime64[ns](2), int64(1), object(6)\n",
      "memory usage: 31.1+ MB\n"
     ]
    }
   ],
   "source": [
    "df_cleansing2.info()"
   ]
  },
  {
   "cell_type": "code",
   "execution_count": 571,
   "id": "c36de443",
   "metadata": {},
   "outputs": [],
   "source": [
    "df_cleansing2['예정시간'] = pd.to_datetime(df_cleansing2['예정시간'])"
   ]
  },
  {
   "cell_type": "code",
   "execution_count": 572,
   "id": "8a32f155",
   "metadata": {},
   "outputs": [
    {
     "name": "stdout",
     "output_type": "stream",
     "text": [
      "<class 'pandas.core.frame.DataFrame'>\n",
      "Int64Index: 407553 entries, 0 to 407612\n",
      "Data columns (total 9 columns):\n",
      " #   Column     Non-Null Count   Dtype         \n",
      "---  ------     --------------   -----         \n",
      " 0   no         407553 non-null  int64         \n",
      " 1   cartype    407553 non-null  object        \n",
      " 2   예정시간       407553 non-null  datetime64[ns]\n",
      " 3   배차시간       407553 non-null  datetime64[ns]\n",
      " 4   승차시간       407553 non-null  datetime64[ns]\n",
      " 5   startpos1  407553 non-null  object        \n",
      " 6   startpos2  407553 non-null  object        \n",
      " 7   endpos1    407553 non-null  object        \n",
      " 8   endpos2    407553 non-null  object        \n",
      "dtypes: datetime64[ns](3), int64(1), object(5)\n",
      "memory usage: 31.1+ MB\n"
     ]
    }
   ],
   "source": [
    "df_cleansing2.info()"
   ]
  },
  {
   "cell_type": "code",
   "execution_count": 574,
   "id": "849bf91c",
   "metadata": {},
   "outputs": [],
   "source": [
    "df_cleansing2.to_csv('master_cleansing_space_time.csv', index = False, encoding = 'utf-8')"
   ]
  },
  {
   "cell_type": "markdown",
   "id": "1ac8cf53",
   "metadata": {},
   "source": [
    "# 동별로 위도,경도 추가하기\n",
    "- master_cleansing_space_time_map.csv"
   ]
  },
  {
   "cell_type": "code",
   "execution_count": 577,
   "id": "cdcaa5a2",
   "metadata": {},
   "outputs": [
    {
     "data": {
      "text/html": [
       "<div>\n",
       "<style scoped>\n",
       "    .dataframe tbody tr th:only-of-type {\n",
       "        vertical-align: middle;\n",
       "    }\n",
       "\n",
       "    .dataframe tbody tr th {\n",
       "        vertical-align: top;\n",
       "    }\n",
       "\n",
       "    .dataframe thead th {\n",
       "        text-align: right;\n",
       "    }\n",
       "</style>\n",
       "<table border=\"1\" class=\"dataframe\">\n",
       "  <thead>\n",
       "    <tr style=\"text-align: right;\">\n",
       "      <th></th>\n",
       "      <th>no</th>\n",
       "      <th>cartype</th>\n",
       "      <th>예정시간</th>\n",
       "      <th>배차시간</th>\n",
       "      <th>승차시간</th>\n",
       "      <th>startpos1</th>\n",
       "      <th>startpos2</th>\n",
       "      <th>endpos1</th>\n",
       "      <th>endpos2</th>\n",
       "    </tr>\n",
       "  </thead>\n",
       "  <tbody>\n",
       "    <tr>\n",
       "      <th>0</th>\n",
       "      <td>7658</td>\n",
       "      <td>중형승합</td>\n",
       "      <td>2018-01-23 12:04:00</td>\n",
       "      <td>2018-01-23 12:18:42</td>\n",
       "      <td>2018-01-23 12:34:08</td>\n",
       "      <td>성북구</td>\n",
       "      <td>장위제1동</td>\n",
       "      <td>동대문구</td>\n",
       "      <td>회기동</td>\n",
       "    </tr>\n",
       "    <tr>\n",
       "      <th>1</th>\n",
       "      <td>1551</td>\n",
       "      <td>중형승합</td>\n",
       "      <td>2018-01-23 12:17:00</td>\n",
       "      <td>2018-01-23 12:50:37</td>\n",
       "      <td>2018-01-23 01:19:22</td>\n",
       "      <td>중랑구</td>\n",
       "      <td>면목제7동</td>\n",
       "      <td>노원구</td>\n",
       "      <td>상계1동</td>\n",
       "    </tr>\n",
       "    <tr>\n",
       "      <th>2</th>\n",
       "      <td>5804</td>\n",
       "      <td>중형승합</td>\n",
       "      <td>2018-01-23 12:30:00</td>\n",
       "      <td>2018-01-23 12:17:06</td>\n",
       "      <td>2018-01-23 12:17:39</td>\n",
       "      <td>성북구</td>\n",
       "      <td>정릉제3동</td>\n",
       "      <td>강북구</td>\n",
       "      <td>수유제3동</td>\n",
       "    </tr>\n",
       "    <tr>\n",
       "      <th>3</th>\n",
       "      <td>7650</td>\n",
       "      <td>중형승합</td>\n",
       "      <td>2018-01-23 12:47:00</td>\n",
       "      <td>2018-01-23 12:51:19</td>\n",
       "      <td>2018-01-23 01:09:33</td>\n",
       "      <td>구로구</td>\n",
       "      <td>고척제2동</td>\n",
       "      <td>관악구</td>\n",
       "      <td>은천동</td>\n",
       "    </tr>\n",
       "    <tr>\n",
       "      <th>4</th>\n",
       "      <td>1061</td>\n",
       "      <td>중형승합</td>\n",
       "      <td>2018-01-23 01:08:00</td>\n",
       "      <td>2018-01-23 01:44:17</td>\n",
       "      <td>2018-01-23 02:06:53</td>\n",
       "      <td>동대문구</td>\n",
       "      <td>회기동</td>\n",
       "      <td>성북구</td>\n",
       "      <td>장위제2동</td>\n",
       "    </tr>\n",
       "  </tbody>\n",
       "</table>\n",
       "</div>"
      ],
      "text/plain": [
       "     no cartype                예정시간                배차시간                승차시간  \\\n",
       "0  7658    중형승합 2018-01-23 12:04:00 2018-01-23 12:18:42 2018-01-23 12:34:08   \n",
       "1  1551    중형승합 2018-01-23 12:17:00 2018-01-23 12:50:37 2018-01-23 01:19:22   \n",
       "2  5804    중형승합 2018-01-23 12:30:00 2018-01-23 12:17:06 2018-01-23 12:17:39   \n",
       "3  7650    중형승합 2018-01-23 12:47:00 2018-01-23 12:51:19 2018-01-23 01:09:33   \n",
       "4  1061    중형승합 2018-01-23 01:08:00 2018-01-23 01:44:17 2018-01-23 02:06:53   \n",
       "\n",
       "  startpos1 startpos2 endpos1 endpos2  \n",
       "0       성북구     장위제1동    동대문구     회기동  \n",
       "1       중랑구     면목제7동     노원구    상계1동  \n",
       "2       성북구     정릉제3동     강북구   수유제3동  \n",
       "3       구로구     고척제2동     관악구     은천동  \n",
       "4      동대문구       회기동     성북구   장위제2동  "
      ]
     },
     "execution_count": 577,
     "metadata": {},
     "output_type": "execute_result"
    }
   ],
   "source": [
    "df_cleansing2.head()"
   ]
  },
  {
   "cell_type": "code",
   "execution_count": 578,
   "id": "18255fbd",
   "metadata": {},
   "outputs": [
    {
     "name": "stdout",
     "output_type": "stream",
     "text": [
      "Collecting geopy\n",
      "  Downloading geopy-2.2.0-py3-none-any.whl (118 kB)\n",
      "\u001b[K     |████████████████████████████████| 118 kB 1.6 MB/s eta 0:00:01\n",
      "\u001b[?25hCollecting geographiclib<2,>=1.49\n",
      "  Downloading geographiclib-1.52-py3-none-any.whl (38 kB)\n",
      "Installing collected packages: geographiclib, geopy\n",
      "Successfully installed geographiclib-1.52 geopy-2.2.0\n"
     ]
    }
   ],
   "source": [
    "#위도경도 추가해주는 라이브러리 추가\n",
    "! pip install geopy"
   ]
  },
  {
   "cell_type": "code",
   "execution_count": 579,
   "id": "037ae18c",
   "metadata": {},
   "outputs": [],
   "source": [
    "from geopy.geocoders import Nominatim\n",
    "geo_local = Nominatim(user_agent='South Korea')"
   ]
  },
  {
   "cell_type": "code",
   "execution_count": 580,
   "id": "a3efbc92",
   "metadata": {},
   "outputs": [],
   "source": [
    "def geocoding(address):\n",
    "    geo = geo_local.geocode(address)\n",
    "    x_y = [geo.latitude, geo.longitude]\n",
    "    return x_y"
   ]
  },
  {
   "cell_type": "code",
   "execution_count": 603,
   "id": "4cb25aa5",
   "metadata": {},
   "outputs": [
    {
     "data": {
      "text/plain": [
       "'중랑구 정릉제3동'"
      ]
     },
     "execution_count": 603,
     "metadata": {},
     "output_type": "execute_result"
    }
   ],
   "source": [
    "df_cleansing2['startpos1'][1] + ' ' + df_cleansing2['startpos2'][2]"
   ]
  },
  {
   "cell_type": "code",
   "execution_count": 604,
   "id": "05a430fa",
   "metadata": {},
   "outputs": [
    {
     "ename": "AttributeError",
     "evalue": "'NoneType' object has no attribute 'latitude'",
     "output_type": "error",
     "traceback": [
      "\u001b[0;31m---------------------------------------------------------------------------\u001b[0m",
      "\u001b[0;31mAttributeError\u001b[0m                            Traceback (most recent call last)",
      "\u001b[0;32m/var/folders/3q/y966c1fj3lndmps8kk3plpy40000gn/T/ipykernel_1255/33671512.py\u001b[0m in \u001b[0;36m<module>\u001b[0;34m\u001b[0m\n\u001b[0;32m----> 1\u001b[0;31m \u001b[0mgeocoding\u001b[0m\u001b[0;34m(\u001b[0m\u001b[0mdf_cleansing2\u001b[0m\u001b[0;34m[\u001b[0m\u001b[0;34m'startpos1'\u001b[0m\u001b[0;34m]\u001b[0m\u001b[0;34m[\u001b[0m\u001b[0;36m1\u001b[0m\u001b[0;34m]\u001b[0m \u001b[0;34m+\u001b[0m \u001b[0;34m' '\u001b[0m \u001b[0;34m+\u001b[0m \u001b[0mdf_cleansing2\u001b[0m\u001b[0;34m[\u001b[0m\u001b[0;34m'startpos2'\u001b[0m\u001b[0;34m]\u001b[0m\u001b[0;34m[\u001b[0m\u001b[0;36m2\u001b[0m\u001b[0;34m]\u001b[0m\u001b[0;34m)\u001b[0m\u001b[0;34m\u001b[0m\u001b[0;34m\u001b[0m\u001b[0m\n\u001b[0m",
      "\u001b[0;32m/var/folders/3q/y966c1fj3lndmps8kk3plpy40000gn/T/ipykernel_1255/3904796074.py\u001b[0m in \u001b[0;36mgeocoding\u001b[0;34m(address)\u001b[0m\n\u001b[1;32m      1\u001b[0m \u001b[0;32mdef\u001b[0m \u001b[0mgeocoding\u001b[0m\u001b[0;34m(\u001b[0m\u001b[0maddress\u001b[0m\u001b[0;34m)\u001b[0m\u001b[0;34m:\u001b[0m\u001b[0;34m\u001b[0m\u001b[0;34m\u001b[0m\u001b[0m\n\u001b[1;32m      2\u001b[0m     \u001b[0mgeo\u001b[0m \u001b[0;34m=\u001b[0m \u001b[0mgeo_local\u001b[0m\u001b[0;34m.\u001b[0m\u001b[0mgeocode\u001b[0m\u001b[0;34m(\u001b[0m\u001b[0maddress\u001b[0m\u001b[0;34m)\u001b[0m\u001b[0;34m\u001b[0m\u001b[0;34m\u001b[0m\u001b[0m\n\u001b[0;32m----> 3\u001b[0;31m     \u001b[0mx_y\u001b[0m \u001b[0;34m=\u001b[0m \u001b[0;34m[\u001b[0m\u001b[0mgeo\u001b[0m\u001b[0;34m.\u001b[0m\u001b[0mlatitude\u001b[0m\u001b[0;34m,\u001b[0m \u001b[0mgeo\u001b[0m\u001b[0;34m.\u001b[0m\u001b[0mlongitude\u001b[0m\u001b[0;34m]\u001b[0m\u001b[0;34m\u001b[0m\u001b[0;34m\u001b[0m\u001b[0m\n\u001b[0m\u001b[1;32m      4\u001b[0m     \u001b[0;32mreturn\u001b[0m \u001b[0mx_y\u001b[0m\u001b[0;34m\u001b[0m\u001b[0;34m\u001b[0m\u001b[0m\n",
      "\u001b[0;31mAttributeError\u001b[0m: 'NoneType' object has no attribute 'latitude'"
     ]
    }
   ],
   "source": [
    "geocoding(df_cleansing2['startpos1'][1] + ' ' + df_cleansing2['startpos2'][2])"
   ]
  },
  {
   "cell_type": "code",
   "execution_count": 606,
   "id": "36dd5b91",
   "metadata": {},
   "outputs": [
    {
     "data": {
      "text/plain": [
       "'서울특별시 중랑구 정릉제3동'"
      ]
     },
     "execution_count": 606,
     "metadata": {},
     "output_type": "execute_result"
    }
   ],
   "source": [
    "'서울특별시 ' + df_cleansing2['startpos1'][1] + ' ' + df_cleansing2['startpos2'][2]"
   ]
  },
  {
   "cell_type": "code",
   "execution_count": 607,
   "id": "c9e95e9b",
   "metadata": {},
   "outputs": [
    {
     "ename": "AttributeError",
     "evalue": "'NoneType' object has no attribute 'latitude'",
     "output_type": "error",
     "traceback": [
      "\u001b[0;31m---------------------------------------------------------------------------\u001b[0m",
      "\u001b[0;31mAttributeError\u001b[0m                            Traceback (most recent call last)",
      "\u001b[0;32m/var/folders/3q/y966c1fj3lndmps8kk3plpy40000gn/T/ipykernel_1255/2526583402.py\u001b[0m in \u001b[0;36m<module>\u001b[0;34m\u001b[0m\n\u001b[0;32m----> 1\u001b[0;31m \u001b[0mgeocoding\u001b[0m\u001b[0;34m(\u001b[0m\u001b[0;34m'서울특별시 '\u001b[0m \u001b[0;34m+\u001b[0m \u001b[0mdf_cleansing2\u001b[0m\u001b[0;34m[\u001b[0m\u001b[0;34m'startpos1'\u001b[0m\u001b[0;34m]\u001b[0m\u001b[0;34m[\u001b[0m\u001b[0;36m1\u001b[0m\u001b[0;34m]\u001b[0m \u001b[0;34m+\u001b[0m \u001b[0;34m' '\u001b[0m \u001b[0;34m+\u001b[0m \u001b[0mdf_cleansing2\u001b[0m\u001b[0;34m[\u001b[0m\u001b[0;34m'startpos2'\u001b[0m\u001b[0;34m]\u001b[0m\u001b[0;34m[\u001b[0m\u001b[0;36m2\u001b[0m\u001b[0;34m]\u001b[0m\u001b[0;34m)\u001b[0m\u001b[0;34m\u001b[0m\u001b[0;34m\u001b[0m\u001b[0m\n\u001b[0m",
      "\u001b[0;32m/var/folders/3q/y966c1fj3lndmps8kk3plpy40000gn/T/ipykernel_1255/3904796074.py\u001b[0m in \u001b[0;36mgeocoding\u001b[0;34m(address)\u001b[0m\n\u001b[1;32m      1\u001b[0m \u001b[0;32mdef\u001b[0m \u001b[0mgeocoding\u001b[0m\u001b[0;34m(\u001b[0m\u001b[0maddress\u001b[0m\u001b[0;34m)\u001b[0m\u001b[0;34m:\u001b[0m\u001b[0;34m\u001b[0m\u001b[0;34m\u001b[0m\u001b[0m\n\u001b[1;32m      2\u001b[0m     \u001b[0mgeo\u001b[0m \u001b[0;34m=\u001b[0m \u001b[0mgeo_local\u001b[0m\u001b[0;34m.\u001b[0m\u001b[0mgeocode\u001b[0m\u001b[0;34m(\u001b[0m\u001b[0maddress\u001b[0m\u001b[0;34m)\u001b[0m\u001b[0;34m\u001b[0m\u001b[0;34m\u001b[0m\u001b[0m\n\u001b[0;32m----> 3\u001b[0;31m     \u001b[0mx_y\u001b[0m \u001b[0;34m=\u001b[0m \u001b[0;34m[\u001b[0m\u001b[0mgeo\u001b[0m\u001b[0;34m.\u001b[0m\u001b[0mlatitude\u001b[0m\u001b[0;34m,\u001b[0m \u001b[0mgeo\u001b[0m\u001b[0;34m.\u001b[0m\u001b[0mlongitude\u001b[0m\u001b[0;34m]\u001b[0m\u001b[0;34m\u001b[0m\u001b[0;34m\u001b[0m\u001b[0m\n\u001b[0m\u001b[1;32m      4\u001b[0m     \u001b[0;32mreturn\u001b[0m \u001b[0mx_y\u001b[0m\u001b[0;34m\u001b[0m\u001b[0;34m\u001b[0m\u001b[0m\n",
      "\u001b[0;31mAttributeError\u001b[0m: 'NoneType' object has no attribute 'latitude'"
     ]
    }
   ],
   "source": [
    "geocoding('서울특별시 ' + df_cleansing2['startpos1'][1] + ' ' + df_cleansing2['startpos2'][2])"
   ]
  },
  {
   "cell_type": "code",
   "execution_count": 582,
   "id": "d49a8674",
   "metadata": {
    "scrolled": false
   },
   "outputs": [
    {
     "data": {
      "text/plain": [
       "[37.6063, 127.093]"
      ]
     },
     "execution_count": 582,
     "metadata": {},
     "output_type": "execute_result"
    }
   ],
   "source": [
    "geocoding(df_cleansing2['startpos1'][1])"
   ]
  },
  {
   "cell_type": "code",
   "execution_count": 602,
   "id": "d4ca866d",
   "metadata": {},
   "outputs": [
    {
     "data": {
      "text/plain": [
       "'면목제7동'"
      ]
     },
     "execution_count": 602,
     "metadata": {},
     "output_type": "execute_result"
    }
   ],
   "source": [
    "df_cleansing2['startpos2'][1]"
   ]
  },
  {
   "cell_type": "code",
   "execution_count": 598,
   "id": "b037f92a",
   "metadata": {},
   "outputs": [
    {
     "ename": "AttributeError",
     "evalue": "'NoneType' object has no attribute 'latitude'",
     "output_type": "error",
     "traceback": [
      "\u001b[0;31m---------------------------------------------------------------------------\u001b[0m",
      "\u001b[0;31mAttributeError\u001b[0m                            Traceback (most recent call last)",
      "\u001b[0;32m/var/folders/3q/y966c1fj3lndmps8kk3plpy40000gn/T/ipykernel_1255/1717295463.py\u001b[0m in \u001b[0;36m<module>\u001b[0;34m\u001b[0m\n\u001b[0;32m----> 1\u001b[0;31m \u001b[0mgeocoding\u001b[0m\u001b[0;34m(\u001b[0m\u001b[0mdf_cleansing2\u001b[0m\u001b[0;34m[\u001b[0m\u001b[0;34m'startpos2'\u001b[0m\u001b[0;34m]\u001b[0m\u001b[0;34m[\u001b[0m\u001b[0;36m1\u001b[0m\u001b[0;34m]\u001b[0m\u001b[0;34m)\u001b[0m\u001b[0;34m\u001b[0m\u001b[0;34m\u001b[0m\u001b[0m\n\u001b[0m",
      "\u001b[0;32m/var/folders/3q/y966c1fj3lndmps8kk3plpy40000gn/T/ipykernel_1255/3904796074.py\u001b[0m in \u001b[0;36mgeocoding\u001b[0;34m(address)\u001b[0m\n\u001b[1;32m      1\u001b[0m \u001b[0;32mdef\u001b[0m \u001b[0mgeocoding\u001b[0m\u001b[0;34m(\u001b[0m\u001b[0maddress\u001b[0m\u001b[0;34m)\u001b[0m\u001b[0;34m:\u001b[0m\u001b[0;34m\u001b[0m\u001b[0;34m\u001b[0m\u001b[0m\n\u001b[1;32m      2\u001b[0m     \u001b[0mgeo\u001b[0m \u001b[0;34m=\u001b[0m \u001b[0mgeo_local\u001b[0m\u001b[0;34m.\u001b[0m\u001b[0mgeocode\u001b[0m\u001b[0;34m(\u001b[0m\u001b[0maddress\u001b[0m\u001b[0;34m)\u001b[0m\u001b[0;34m\u001b[0m\u001b[0;34m\u001b[0m\u001b[0m\n\u001b[0;32m----> 3\u001b[0;31m     \u001b[0mx_y\u001b[0m \u001b[0;34m=\u001b[0m \u001b[0;34m[\u001b[0m\u001b[0mgeo\u001b[0m\u001b[0;34m.\u001b[0m\u001b[0mlatitude\u001b[0m\u001b[0;34m,\u001b[0m \u001b[0mgeo\u001b[0m\u001b[0;34m.\u001b[0m\u001b[0mlongitude\u001b[0m\u001b[0;34m]\u001b[0m\u001b[0;34m\u001b[0m\u001b[0;34m\u001b[0m\u001b[0m\n\u001b[0m\u001b[1;32m      4\u001b[0m     \u001b[0;32mreturn\u001b[0m \u001b[0mx_y\u001b[0m\u001b[0;34m\u001b[0m\u001b[0;34m\u001b[0m\u001b[0m\n",
      "\u001b[0;31mAttributeError\u001b[0m: 'NoneType' object has no attribute 'latitude'"
     ]
    }
   ],
   "source": [
    "geocoding(df_cleansing2['startpos2'][1])"
   ]
  },
  {
   "cell_type": "code",
   "execution_count": 601,
   "id": "3b93aab4",
   "metadata": {},
   "outputs": [
    {
     "ename": "AttributeError",
     "evalue": "'NoneType' object has no attribute 'latitude'",
     "output_type": "error",
     "traceback": [
      "\u001b[0;31m---------------------------------------------------------------------------\u001b[0m",
      "\u001b[0;31mAttributeError\u001b[0m                            Traceback (most recent call last)",
      "\u001b[0;32m/var/folders/3q/y966c1fj3lndmps8kk3plpy40000gn/T/ipykernel_1255/1717295463.py\u001b[0m in \u001b[0;36m<module>\u001b[0;34m\u001b[0m\n\u001b[0;32m----> 1\u001b[0;31m \u001b[0mgeocoding\u001b[0m\u001b[0;34m(\u001b[0m\u001b[0mdf_cleansing2\u001b[0m\u001b[0;34m[\u001b[0m\u001b[0;34m'startpos2'\u001b[0m\u001b[0;34m]\u001b[0m\u001b[0;34m[\u001b[0m\u001b[0;36m1\u001b[0m\u001b[0;34m]\u001b[0m\u001b[0;34m)\u001b[0m\u001b[0;34m\u001b[0m\u001b[0;34m\u001b[0m\u001b[0m\n\u001b[0m",
      "\u001b[0;32m/var/folders/3q/y966c1fj3lndmps8kk3plpy40000gn/T/ipykernel_1255/3904796074.py\u001b[0m in \u001b[0;36mgeocoding\u001b[0;34m(address)\u001b[0m\n\u001b[1;32m      1\u001b[0m \u001b[0;32mdef\u001b[0m \u001b[0mgeocoding\u001b[0m\u001b[0;34m(\u001b[0m\u001b[0maddress\u001b[0m\u001b[0;34m)\u001b[0m\u001b[0;34m:\u001b[0m\u001b[0;34m\u001b[0m\u001b[0;34m\u001b[0m\u001b[0m\n\u001b[1;32m      2\u001b[0m     \u001b[0mgeo\u001b[0m \u001b[0;34m=\u001b[0m \u001b[0mgeo_local\u001b[0m\u001b[0;34m.\u001b[0m\u001b[0mgeocode\u001b[0m\u001b[0;34m(\u001b[0m\u001b[0maddress\u001b[0m\u001b[0;34m)\u001b[0m\u001b[0;34m\u001b[0m\u001b[0;34m\u001b[0m\u001b[0m\n\u001b[0;32m----> 3\u001b[0;31m     \u001b[0mx_y\u001b[0m \u001b[0;34m=\u001b[0m \u001b[0;34m[\u001b[0m\u001b[0mgeo\u001b[0m\u001b[0;34m.\u001b[0m\u001b[0mlatitude\u001b[0m\u001b[0;34m,\u001b[0m \u001b[0mgeo\u001b[0m\u001b[0;34m.\u001b[0m\u001b[0mlongitude\u001b[0m\u001b[0;34m]\u001b[0m\u001b[0;34m\u001b[0m\u001b[0;34m\u001b[0m\u001b[0m\n\u001b[0m\u001b[1;32m      4\u001b[0m     \u001b[0;32mreturn\u001b[0m \u001b[0mx_y\u001b[0m\u001b[0;34m\u001b[0m\u001b[0;34m\u001b[0m\u001b[0m\n",
      "\u001b[0;31mAttributeError\u001b[0m: 'NoneType' object has no attribute 'latitude'"
     ]
    }
   ],
   "source": [
    "geocoding(df_cleansing2['startpos2'][1])"
   ]
  },
  {
   "cell_type": "code",
   "execution_count": 592,
   "id": "74d9f495",
   "metadata": {
    "scrolled": true
   },
   "outputs": [
    {
     "data": {
      "text/plain": [
       "0         장위제1동\n",
       "1         면목제7동\n",
       "2         정릉제3동\n",
       "3         고척제2동\n",
       "4           회기동\n",
       "          ...  \n",
       "407608    돈암제2동\n",
       "407609      구산동\n",
       "407610     상계8동\n",
       "407611    길음제1동\n",
       "407612    천호제2동\n",
       "Name: startpos2, Length: 407553, dtype: object"
      ]
     },
     "execution_count": 592,
     "metadata": {},
     "output_type": "execute_result"
    }
   ],
   "source": [
    "df_cleansing2['startpos2']"
   ]
  },
  {
   "cell_type": "code",
   "execution_count": 595,
   "id": "c10470b7",
   "metadata": {
    "scrolled": true
   },
   "outputs": [
    {
     "data": {
      "text/html": [
       "<div>\n",
       "<style scoped>\n",
       "    .dataframe tbody tr th:only-of-type {\n",
       "        vertical-align: middle;\n",
       "    }\n",
       "\n",
       "    .dataframe tbody tr th {\n",
       "        vertical-align: top;\n",
       "    }\n",
       "\n",
       "    .dataframe thead th {\n",
       "        text-align: right;\n",
       "    }\n",
       "</style>\n",
       "<table border=\"1\" class=\"dataframe\">\n",
       "  <thead>\n",
       "    <tr style=\"text-align: right;\">\n",
       "      <th></th>\n",
       "      <th>no</th>\n",
       "      <th>cartype</th>\n",
       "      <th>예정시간</th>\n",
       "      <th>배차시간</th>\n",
       "      <th>승차시간</th>\n",
       "      <th>startpos1</th>\n",
       "      <th>startpos2</th>\n",
       "      <th>endpos1</th>\n",
       "      <th>endpos2</th>\n",
       "    </tr>\n",
       "  </thead>\n",
       "  <tbody>\n",
       "    <tr>\n",
       "      <th>0</th>\n",
       "      <td>7658</td>\n",
       "      <td>중형승합</td>\n",
       "      <td>2018-01-23 12:04:00</td>\n",
       "      <td>2018-01-23 12:18:42</td>\n",
       "      <td>2018-01-23 12:34:08</td>\n",
       "      <td>성북구</td>\n",
       "      <td>장위제1동</td>\n",
       "      <td>동대문구</td>\n",
       "      <td>회기동</td>\n",
       "    </tr>\n",
       "    <tr>\n",
       "      <th>1</th>\n",
       "      <td>1551</td>\n",
       "      <td>중형승합</td>\n",
       "      <td>2018-01-23 12:17:00</td>\n",
       "      <td>2018-01-23 12:50:37</td>\n",
       "      <td>2018-01-23 01:19:22</td>\n",
       "      <td>중랑구</td>\n",
       "      <td>면목제7동</td>\n",
       "      <td>노원구</td>\n",
       "      <td>상계1동</td>\n",
       "    </tr>\n",
       "    <tr>\n",
       "      <th>2</th>\n",
       "      <td>5804</td>\n",
       "      <td>중형승합</td>\n",
       "      <td>2018-01-23 12:30:00</td>\n",
       "      <td>2018-01-23 12:17:06</td>\n",
       "      <td>2018-01-23 12:17:39</td>\n",
       "      <td>성북구</td>\n",
       "      <td>정릉제3동</td>\n",
       "      <td>강북구</td>\n",
       "      <td>수유제3동</td>\n",
       "    </tr>\n",
       "    <tr>\n",
       "      <th>3</th>\n",
       "      <td>7650</td>\n",
       "      <td>중형승합</td>\n",
       "      <td>2018-01-23 12:47:00</td>\n",
       "      <td>2018-01-23 12:51:19</td>\n",
       "      <td>2018-01-23 01:09:33</td>\n",
       "      <td>구로구</td>\n",
       "      <td>고척제2동</td>\n",
       "      <td>관악구</td>\n",
       "      <td>은천동</td>\n",
       "    </tr>\n",
       "    <tr>\n",
       "      <th>4</th>\n",
       "      <td>1061</td>\n",
       "      <td>중형승합</td>\n",
       "      <td>2018-01-23 01:08:00</td>\n",
       "      <td>2018-01-23 01:44:17</td>\n",
       "      <td>2018-01-23 02:06:53</td>\n",
       "      <td>동대문구</td>\n",
       "      <td>회기동</td>\n",
       "      <td>성북구</td>\n",
       "      <td>장위제2동</td>\n",
       "    </tr>\n",
       "    <tr>\n",
       "      <th>...</th>\n",
       "      <td>...</td>\n",
       "      <td>...</td>\n",
       "      <td>...</td>\n",
       "      <td>...</td>\n",
       "      <td>...</td>\n",
       "      <td>...</td>\n",
       "      <td>...</td>\n",
       "      <td>...</td>\n",
       "      <td>...</td>\n",
       "    </tr>\n",
       "    <tr>\n",
       "      <th>407608</th>\n",
       "      <td>8579</td>\n",
       "      <td>대형승용</td>\n",
       "      <td>2022-06-24 07:00:00</td>\n",
       "      <td>2022-06-24 07:12:38</td>\n",
       "      <td>2022-06-24 07:55:24</td>\n",
       "      <td>성북구</td>\n",
       "      <td>돈암제2동</td>\n",
       "      <td>강남구</td>\n",
       "      <td>대치4동</td>\n",
       "    </tr>\n",
       "    <tr>\n",
       "      <th>407609</th>\n",
       "      <td>8006</td>\n",
       "      <td>중형승합</td>\n",
       "      <td>2022-06-24 07:00:00</td>\n",
       "      <td>2022-06-24 07:09:10</td>\n",
       "      <td>2022-06-24 07:25:35</td>\n",
       "      <td>은평구</td>\n",
       "      <td>구산동</td>\n",
       "      <td>은평구</td>\n",
       "      <td>구산동</td>\n",
       "    </tr>\n",
       "    <tr>\n",
       "      <th>407610</th>\n",
       "      <td>8261</td>\n",
       "      <td>중형승합</td>\n",
       "      <td>2022-06-24 07:00:00</td>\n",
       "      <td>2022-06-24 07:04:27</td>\n",
       "      <td>2022-06-24 07:25:35</td>\n",
       "      <td>노원구</td>\n",
       "      <td>상계8동</td>\n",
       "      <td>영등포구</td>\n",
       "      <td>영등포동</td>\n",
       "    </tr>\n",
       "    <tr>\n",
       "      <th>407611</th>\n",
       "      <td>1558</td>\n",
       "      <td>중형승합</td>\n",
       "      <td>2022-06-24 07:00:00</td>\n",
       "      <td>2022-06-24 08:06:22</td>\n",
       "      <td>2022-06-24 06:55:01</td>\n",
       "      <td>성북구</td>\n",
       "      <td>길음제1동</td>\n",
       "      <td>강북구</td>\n",
       "      <td>번제1동</td>\n",
       "    </tr>\n",
       "    <tr>\n",
       "      <th>407612</th>\n",
       "      <td>5725</td>\n",
       "      <td>중형승합</td>\n",
       "      <td>2022-06-24 07:00:00</td>\n",
       "      <td>2022-06-24 07:05:08</td>\n",
       "      <td>2022-06-24 08:31:07</td>\n",
       "      <td>강동구</td>\n",
       "      <td>천호제2동</td>\n",
       "      <td>강동구</td>\n",
       "      <td>명일제1동</td>\n",
       "    </tr>\n",
       "  </tbody>\n",
       "</table>\n",
       "<p>407553 rows × 9 columns</p>\n",
       "</div>"
      ],
      "text/plain": [
       "          no cartype                예정시간                배차시간  \\\n",
       "0       7658    중형승합 2018-01-23 12:04:00 2018-01-23 12:18:42   \n",
       "1       1551    중형승합 2018-01-23 12:17:00 2018-01-23 12:50:37   \n",
       "2       5804    중형승합 2018-01-23 12:30:00 2018-01-23 12:17:06   \n",
       "3       7650    중형승합 2018-01-23 12:47:00 2018-01-23 12:51:19   \n",
       "4       1061    중형승합 2018-01-23 01:08:00 2018-01-23 01:44:17   \n",
       "...      ...     ...                 ...                 ...   \n",
       "407608  8579    대형승용 2022-06-24 07:00:00 2022-06-24 07:12:38   \n",
       "407609  8006    중형승합 2022-06-24 07:00:00 2022-06-24 07:09:10   \n",
       "407610  8261    중형승합 2022-06-24 07:00:00 2022-06-24 07:04:27   \n",
       "407611  1558    중형승합 2022-06-24 07:00:00 2022-06-24 08:06:22   \n",
       "407612  5725    중형승합 2022-06-24 07:00:00 2022-06-24 07:05:08   \n",
       "\n",
       "                      승차시간 startpos1 startpos2 endpos1 endpos2  \n",
       "0      2018-01-23 12:34:08       성북구     장위제1동    동대문구     회기동  \n",
       "1      2018-01-23 01:19:22       중랑구     면목제7동     노원구    상계1동  \n",
       "2      2018-01-23 12:17:39       성북구     정릉제3동     강북구   수유제3동  \n",
       "3      2018-01-23 01:09:33       구로구     고척제2동     관악구     은천동  \n",
       "4      2018-01-23 02:06:53      동대문구       회기동     성북구   장위제2동  \n",
       "...                    ...       ...       ...     ...     ...  \n",
       "407608 2022-06-24 07:55:24       성북구     돈암제2동     강남구    대치4동  \n",
       "407609 2022-06-24 07:25:35       은평구       구산동     은평구     구산동  \n",
       "407610 2022-06-24 07:25:35       노원구      상계8동    영등포구    영등포동  \n",
       "407611 2022-06-24 06:55:01       성북구     길음제1동     강북구    번제1동  \n",
       "407612 2022-06-24 08:31:07       강동구     천호제2동     강동구   명일제1동  \n",
       "\n",
       "[407553 rows x 9 columns]"
      ]
     },
     "execution_count": 595,
     "metadata": {},
     "output_type": "execute_result"
    }
   ],
   "source": [
    "df_cleansing2"
   ]
  },
  {
   "cell_type": "code",
   "execution_count": 597,
   "id": "783fe510",
   "metadata": {},
   "outputs": [
    {
     "data": {
      "text/plain": [
       "[37.6063, 127.093]"
      ]
     },
     "execution_count": 597,
     "metadata": {},
     "output_type": "execute_result"
    }
   ],
   "source": [
    "geocoding(df_cleansing2['startpos1'][1])"
   ]
  },
  {
   "cell_type": "code",
   "execution_count": null,
   "id": "135401fa",
   "metadata": {},
   "outputs": [],
   "source": [
    "start2_latitude = []\n",
    "start2_longitude =[]\n",
    "\n",
    "for i in address:\n",
    "    start2_latitude.append(geocoding(i)[0])\n",
    "    start2_longitude.append(geocoding(i)[1])"
   ]
  },
  {
   "cell_type": "markdown",
   "id": "95f40cf1",
   "metadata": {},
   "source": [
    "참고: https://wonhwa.tistory.com/29"
   ]
  },
  {
   "cell_type": "markdown",
   "id": "c8211068",
   "metadata": {},
   "source": [
    "# EDA"
   ]
  },
  {
   "cell_type": "code",
   "execution_count": 70,
   "id": "a35e4451",
   "metadata": {
    "scrolled": true
   },
   "outputs": [
    {
     "data": {
      "text/plain": [
       "6278    1531\n",
       "1559    1502\n",
       "3265    1414\n",
       "7582    1382\n",
       "7658    1327\n",
       "        ... \n",
       "5942       1\n",
       "4985       1\n",
       "8218       1\n",
       "6063       1\n",
       "6784       1\n",
       "Name: no, Length: 1086, dtype: int64"
      ]
     },
     "execution_count": 70,
     "metadata": {},
     "output_type": "execute_result"
    }
   ],
   "source": [
    "df['no'].value_counts()"
   ]
  },
  {
   "cell_type": "code",
   "execution_count": 83,
   "id": "23e17583",
   "metadata": {},
   "outputs": [
    {
     "data": {
      "text/html": [
       "<div>\n",
       "<style scoped>\n",
       "    .dataframe tbody tr th:only-of-type {\n",
       "        vertical-align: middle;\n",
       "    }\n",
       "\n",
       "    .dataframe tbody tr th {\n",
       "        vertical-align: top;\n",
       "    }\n",
       "\n",
       "    .dataframe thead th {\n",
       "        text-align: right;\n",
       "    }\n",
       "</style>\n",
       "<table border=\"1\" class=\"dataframe\">\n",
       "  <thead>\n",
       "    <tr style=\"text-align: right;\">\n",
       "      <th></th>\n",
       "      <th>no</th>\n",
       "      <th>cartype</th>\n",
       "      <th>receipttime</th>\n",
       "      <th>settime</th>\n",
       "      <th>ridetime</th>\n",
       "      <th>startpos1</th>\n",
       "      <th>startpos2</th>\n",
       "      <th>endpos1</th>\n",
       "      <th>endpos2</th>\n",
       "    </tr>\n",
       "  </thead>\n",
       "  <tbody>\n",
       "    <tr>\n",
       "      <th>275886</th>\n",
       "      <td>8218</td>\n",
       "      <td>중형승합</td>\n",
       "      <td>2021-01-03 오후 1:16:17</td>\n",
       "      <td>2021-01-03 오후 1:25:42</td>\n",
       "      <td>2021-01-03 오후 1:31:27</td>\n",
       "      <td>양천구</td>\n",
       "      <td>목5동</td>\n",
       "      <td>강서구</td>\n",
       "      <td>화곡제8동</td>\n",
       "    </tr>\n",
       "  </tbody>\n",
       "</table>\n",
       "</div>"
      ],
      "text/plain": [
       "          no cartype            receipttime                settime  \\\n",
       "275886  8218    중형승합  2021-01-03 오후 1:16:17  2021-01-03 오후 1:25:42   \n",
       "\n",
       "                     ridetime startpos1 startpos2 endpos1 endpos2  \n",
       "275886  2021-01-03 오후 1:31:27       양천구       목5동     강서구   화곡제8동  "
      ]
     },
     "execution_count": 83,
     "metadata": {},
     "output_type": "execute_result"
    }
   ],
   "source": [
    "df[df['no'] == 8218]"
   ]
  },
  {
   "cell_type": "code",
   "execution_count": 96,
   "id": "19e268c4",
   "metadata": {},
   "outputs": [],
   "source": [
    "df['startend'] = df['startpos1'] + df['endpos1']"
   ]
  },
  {
   "cell_type": "code",
   "execution_count": 106,
   "id": "e76dadd2",
   "metadata": {},
   "outputs": [],
   "source": [
    "df['startend_detail'] = df['startpos2'] + '-' + df['endpos2']"
   ]
  },
  {
   "cell_type": "code",
   "execution_count": 98,
   "id": "e38c8ccb",
   "metadata": {
    "scrolled": true
   },
   "outputs": [
    {
     "data": {
      "text/plain": [
       "양천구양천구     157\n",
       "구로구영등포구    128\n",
       "구로구관악구     119\n",
       "양천구강동구     104\n",
       "동작구광진구      57\n",
       "          ... \n",
       "용산구서대문구      1\n",
       "관악구중구        1\n",
       "관악구은평구       1\n",
       "양천구중랑구       1\n",
       "은평구강동구       1\n",
       "Name: startend, Length: 203, dtype: int64"
      ]
     },
     "execution_count": 98,
     "metadata": {},
     "output_type": "execute_result"
    }
   ],
   "source": [
    "df[df['no'] == 6278]['startend'].value_counts()"
   ]
  },
  {
   "cell_type": "code",
   "execution_count": 107,
   "id": "7ca868af",
   "metadata": {},
   "outputs": [
    {
     "data": {
      "text/plain": [
       "오류제2동-청룡동       119\n",
       "개봉제1동-영등포동      112\n",
       "신정4동-목1동         73\n",
       "신대방제2동-구의제1동     55\n",
       "신정4동-둔촌제2동       50\n",
       "               ... \n",
       "난향동-신촌동           1\n",
       "화곡제1동-이화동         1\n",
       "수궁동-양촌면           1\n",
       "화곡제1동-방화제3동       1\n",
       "가양제2동-목3동         1\n",
       "Name: startend_detail, Length: 441, dtype: int64"
      ]
     },
     "execution_count": 107,
     "metadata": {},
     "output_type": "execute_result"
    }
   ],
   "source": [
    "df[df['no'] == 6278]['startend_detail'].value_counts()"
   ]
  },
  {
   "cell_type": "code",
   "execution_count": 99,
   "id": "b2338d51",
   "metadata": {},
   "outputs": [
    {
     "data": {
      "text/plain": [
       "관악구관악구        150\n",
       "강서구강서구        115\n",
       "서초구서초구         65\n",
       "강서구서대문구        42\n",
       "서대문구서대문구       35\n",
       "             ... \n",
       "종로구고양시일산동구      1\n",
       "은평구중랑구          1\n",
       "강남구부천시소사구       1\n",
       "강북구서대문구         1\n",
       "동대문구중랑구         1\n",
       "Name: startend, Length: 299, dtype: int64"
      ]
     },
     "execution_count": 99,
     "metadata": {},
     "output_type": "execute_result"
    }
   ],
   "source": [
    "df[df['no'] == 1559]['startend'].value_counts()"
   ]
  },
  {
   "cell_type": "code",
   "execution_count": 108,
   "id": "ab2cf098",
   "metadata": {},
   "outputs": [
    {
     "data": {
      "text/plain": [
       "방화제2동-발산제1동     24\n",
       "은천동-중앙동         21\n",
       "방배2동-방배4동       20\n",
       "낙성대동-문정2동       20\n",
       "서초4동-반포3동       19\n",
       "                ..\n",
       "상도제2동-가양제3동      1\n",
       "시흥제3동-대림제3동      1\n",
       "사당제3동-반포4동       1\n",
       "사당제2동-이화동        1\n",
       "답십리제2동-상봉제1동     1\n",
       "Name: startend_detail, Length: 693, dtype: int64"
      ]
     },
     "execution_count": 108,
     "metadata": {},
     "output_type": "execute_result"
    }
   ],
   "source": [
    "df[df['no'] == 1559]['startend_detail'].value_counts()"
   ]
  },
  {
   "cell_type": "code",
   "execution_count": 100,
   "id": "d5813dfb",
   "metadata": {
    "scrolled": true
   },
   "outputs": [
    {
     "data": {
      "text/plain": [
       "관악구관악구       267\n",
       "동작구동작구        42\n",
       "관악구은평구        39\n",
       "금천구관악구        39\n",
       "구로구구로구        33\n",
       "            ... \n",
       "용산구안양시동안구      1\n",
       "강서구강남구         1\n",
       "송파구강서구         1\n",
       "관악구성남시수정구      1\n",
       "금천구부천시원미구      1\n",
       "Name: startend, Length: 237, dtype: int64"
      ]
     },
     "execution_count": 100,
     "metadata": {},
     "output_type": "execute_result"
    }
   ],
   "source": [
    "df[df['no'] == 7658]['startend'].value_counts()"
   ]
  },
  {
   "cell_type": "code",
   "execution_count": 109,
   "id": "2c5f79d9",
   "metadata": {},
   "outputs": [
    {
     "data": {
      "text/plain": [
       "삼성동-서원동        53\n",
       "독산제3동-청룡동      36\n",
       "청룡동-구산동        35\n",
       "성현동-중앙동        26\n",
       "대림제3동-철산3동     25\n",
       "               ..\n",
       "신림동-신당제3동       1\n",
       "불광제1동-성산제2동     1\n",
       "신림동-사직동         1\n",
       "신정3동-신정3동       1\n",
       "난향동-방화제1동       1\n",
       "Name: startend_detail, Length: 554, dtype: int64"
      ]
     },
     "execution_count": 109,
     "metadata": {},
     "output_type": "execute_result"
    }
   ],
   "source": [
    "df[df['no'] == 7658]['startend_detail'].value_counts()"
   ]
  },
  {
   "cell_type": "code",
   "execution_count": 101,
   "id": "10d6f274",
   "metadata": {},
   "outputs": [
    {
     "data": {
      "text/plain": [
       "종로구종로구    1\n",
       "Name: startend, dtype: int64"
      ]
     },
     "execution_count": 101,
     "metadata": {},
     "output_type": "execute_result"
    }
   ],
   "source": [
    "df[df['no'] == 5942]['startend'].value_counts()"
   ]
  },
  {
   "cell_type": "code",
   "execution_count": null,
   "id": "5af7aaa5",
   "metadata": {},
   "outputs": [],
   "source": []
  }
 ],
 "metadata": {
  "kernelspec": {
   "display_name": "Python 3 (ipykernel)",
   "language": "python",
   "name": "python3"
  },
  "language_info": {
   "codemirror_mode": {
    "name": "ipython",
    "version": 3
   },
   "file_extension": ".py",
   "mimetype": "text/x-python",
   "name": "python",
   "nbconvert_exporter": "python",
   "pygments_lexer": "ipython3",
   "version": "3.9.7"
  },
  "toc": {
   "base_numbering": 1,
   "nav_menu": {},
   "number_sections": true,
   "sideBar": true,
   "skip_h1_title": false,
   "title_cell": "Table of Contents",
   "title_sidebar": "Contents",
   "toc_cell": false,
   "toc_position": {},
   "toc_section_display": true,
   "toc_window_display": false
  },
  "varInspector": {
   "cols": {
    "lenName": 16,
    "lenType": 16,
    "lenVar": 40
   },
   "kernels_config": {
    "python": {
     "delete_cmd_postfix": "",
     "delete_cmd_prefix": "del ",
     "library": "var_list.py",
     "varRefreshCmd": "print(var_dic_list())"
    },
    "r": {
     "delete_cmd_postfix": ") ",
     "delete_cmd_prefix": "rm(",
     "library": "var_list.r",
     "varRefreshCmd": "cat(var_dic_list()) "
    }
   },
   "types_to_exclude": [
    "module",
    "function",
    "builtin_function_or_method",
    "instance",
    "_Feature"
   ],
   "window_display": false
  }
 },
 "nbformat": 4,
 "nbformat_minor": 5
}
