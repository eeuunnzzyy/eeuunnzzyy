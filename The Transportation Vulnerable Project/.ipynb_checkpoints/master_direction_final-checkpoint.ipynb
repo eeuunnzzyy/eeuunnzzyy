{
 "cells": [
  {
   "cell_type": "code",
   "execution_count": 1,
   "metadata": {},
   "outputs": [],
   "source": [
    "import json\n",
    "import requests\n",
    "import pandas as pd"
   ]
  },
  {
   "cell_type": "code",
   "execution_count": null,
   "metadata": {},
   "outputs": [],
   "source": [
    "# startpos2와 endpos2를 붙여 고유한 것을 가져와 df_new로 만듭니다.\n",
    " \n",
    "df = pd.read_csv('master_cleansing_done.csv')\n",
    "dummy = df[['startpos2', 'endpos2', 'slat', 'slng', 'elat', 'elng']]\n",
    "dummy.columns = ['start', 'end', 'startlat', 'startlng', 'endlat', 'endlng']"
   ]
  },
  {
   "cell_type": "code",
   "execution_count": null,
   "metadata": {},
   "outputs": [],
   "source": [
    "# startpos2와 endpos2를 붙여 고유한 것을 가져와 df_new로 만듭니다.\n",
    "a = []\n",
    "for i in range(len(dummy)):\n",
    "    a.append(dummy['start'][i] + dummy['end'][i])\n",
    "dummy['direction'] = a\n",
    "df_new = dummy.drop_duplicates()\n",
    "df_new = df_new.reset_index(drop = True)\n",
    "df_new"
   ]
  },
  {
   "cell_type": "code",
   "execution_count": 3,
   "metadata": {},
   "outputs": [
    {
     "data": {
      "text/plain": [
       "(4100, 4100, 4100, 4100, 4100, 4100, 4100, 3818)"
      ]
     },
     "execution_count": 3,
     "metadata": {},
     "output_type": "execute_result"
    }
   ],
   "source": [
    "# direction 5 와 direction 15 API 키를 각각 생성합니다. 각 api는 하루 6000건이 최대입니다.\n",
    "\n",
    "# 총 4명이므로, 8개의 api를 생성할 수 있습니다. df_new의 개수는 32518개이므로, df_new를 4100개씩 나눠 진행합니다.\n",
    "# 각 데이터프레임을 각각 api 돌린 후, 다 뽑아내오면 하나로 합쳐줍니다.\n",
    "\n",
    "# 하나로 합쳐진 데이터프레임 df_new는 direction의 고유값이기 때문에, 이후 df에 join merge 시키면 됩니다.\n",
    "\n",
    "df_new1 = df_new[:4100].reset_index(drop=True) # 규동(direction 5 사용)\n",
    "df_new2 = df_new[4100:8200].reset_index(drop=True) # 규동(direction 15 사용)\n",
    "df_new3 = df_new[8200:12300].reset_index(drop=True) # 은지(direction 5 사용)\n",
    "df_new4 = df_new[12300:16400].reset_index(drop=True) # 은지(direction 15 사용)\n",
    "df_new5 = df_new[16400:20500].reset_index(drop=True) # 신석(direction 5 사용)\n",
    "df_new6 = df_new[20500:24600].reset_index(drop=True) # 신석(direction 15 사용)\n",
    "df_new7 = df_new[24600:28700].reset_index(drop=True) # 민재(direction 5 사용)\n",
    "df_new8 = df_new[28700:].reset_index(drop=True) # 민재(direction 15 사용)\n",
    "\n",
    "len(df_new1), len(df_new2), len(df_new3), len(df_new4), len(df_new5), len(df_new6), len(df_new7), len(df_new8)"
   ]
  },
  {
   "cell_type": "markdown",
   "metadata": {},
   "source": [
    "# 여기서부터 조심히 사용해주세요. api를 사용합니다."
   ]
  },
  {
   "cell_type": "markdown",
   "metadata": {},
   "source": [
    "# Direction 5 API와 Direction 15 API 수정하세요."
   ]
  },
  {
   "cell_type": "code",
   "execution_count": 4,
   "metadata": {},
   "outputs": [],
   "source": [
    "# direction 5 API에 대한 ID, Key 입력\n",
    "dir_5_ID = \"여러분 아이디번호\"\n",
    "dir_5_Key = \"여러ㄴ키번호\"\n",
    "\n",
    "# direction 15 API에 대한 ID, Key 입력\n",
    "dir_15_ID = \"아이디\"\n",
    "dir_15_Key = \"키\""
   ]
  },
  {
   "cell_type": "code",
   "execution_count": 5,
   "metadata": {},
   "outputs": [],
   "source": [
    "## 여기는 수정하지 마세요!\n",
    "\n",
    "# 헤더 설정\n",
    "headers_5 = {'X-NCP-APIGW-API-KEY-ID' : dir_5_ID, 'X-NCP-APIGW-API-KEY' : dir_5_Key}\n",
    "headers_15 = {'X-NCP-APIGW-API-KEY-ID' : dir_15_ID, 'X-NCP-APIGW-API-KEY' : dir_15_Key}"
   ]
  },
  {
   "cell_type": "markdown",
   "metadata": {},
   "source": [
    "# direction_5 ==> header_5"
   ]
  },
  {
   "cell_type": "code",
   "execution_count": 6,
   "metadata": {
    "scrolled": true
   },
   "outputs": [
    {
     "ename": "KeyError",
     "evalue": "'route'",
     "output_type": "error",
     "traceback": [
      "\u001b[0;31m---------------------------------------------------------------------------\u001b[0m",
      "\u001b[0;31mKeyError\u001b[0m                                  Traceback (most recent call last)",
      "\u001b[1;32m/Users/gimgyudong/Desktop/api_crawling/master_direction.ipynb Cell 8'\u001b[0m in \u001b[0;36m<cell line: 11>\u001b[0;34m()\u001b[0m\n\u001b[1;32m     <a href='vscode-notebook-cell:/Users/gimgyudong/Desktop/api_crawling/master_direction.ipynb#ch0000012?line=11'>12</a>\u001b[0m url \u001b[39m=\u001b[39m \u001b[39mf\u001b[39m\u001b[39m\"\u001b[39m\u001b[39mhttps://naveropenapi.apigw.ntruss.com/map-direction/v1/driving?start=\u001b[39m\u001b[39m{\u001b[39;00mdf_new1[\u001b[39m'\u001b[39m\u001b[39mstartlat\u001b[39m\u001b[39m'\u001b[39m][i]\u001b[39m}\u001b[39;00m\u001b[39m,\u001b[39m\u001b[39m{\u001b[39;00mdf_new1[\u001b[39m'\u001b[39m\u001b[39mstartlng\u001b[39m\u001b[39m'\u001b[39m][i]\u001b[39m}\u001b[39;00m\u001b[39m&goal=\u001b[39m\u001b[39m{\u001b[39;00mdf_new1[\u001b[39m'\u001b[39m\u001b[39mendlat\u001b[39m\u001b[39m'\u001b[39m][i]\u001b[39m}\u001b[39;00m\u001b[39m,\u001b[39m\u001b[39m{\u001b[39;00mdf_new1[\u001b[39m'\u001b[39m\u001b[39mendlng\u001b[39m\u001b[39m'\u001b[39m][i]\u001b[39m}\u001b[39;00m\u001b[39m\"\u001b[39m\n\u001b[1;32m     <a href='vscode-notebook-cell:/Users/gimgyudong/Desktop/api_crawling/master_direction.ipynb#ch0000012?line=12'>13</a>\u001b[0m document \u001b[39m=\u001b[39m requests\u001b[39m.\u001b[39mget(url, headers\u001b[39m=\u001b[39mheaders_5)\u001b[39m.\u001b[39mjson()\n\u001b[0;32m---> <a href='vscode-notebook-cell:/Users/gimgyudong/Desktop/api_crawling/master_direction.ipynb#ch0000012?line=13'>14</a>\u001b[0m distance\u001b[39m.\u001b[39mappend(document[\u001b[39m'\u001b[39;49m\u001b[39mroute\u001b[39;49m\u001b[39m'\u001b[39;49m][\u001b[39m'\u001b[39m\u001b[39mtraoptimal\u001b[39m\u001b[39m'\u001b[39m][\u001b[39m0\u001b[39m][\u001b[39m'\u001b[39m\u001b[39msummary\u001b[39m\u001b[39m'\u001b[39m][\u001b[39m'\u001b[39m\u001b[39mdistance\u001b[39m\u001b[39m'\u001b[39m])\n\u001b[1;32m     <a href='vscode-notebook-cell:/Users/gimgyudong/Desktop/api_crawling/master_direction.ipynb#ch0000012?line=14'>15</a>\u001b[0m duration\u001b[39m.\u001b[39mappend(document[\u001b[39m'\u001b[39m\u001b[39mroute\u001b[39m\u001b[39m'\u001b[39m][\u001b[39m'\u001b[39m\u001b[39mtraoptimal\u001b[39m\u001b[39m'\u001b[39m][\u001b[39m0\u001b[39m][\u001b[39m'\u001b[39m\u001b[39msummary\u001b[39m\u001b[39m'\u001b[39m][\u001b[39m'\u001b[39m\u001b[39mduration\u001b[39m\u001b[39m'\u001b[39m] \u001b[39m/\u001b[39m \u001b[39m1000\u001b[39m)\n\u001b[1;32m     <a href='vscode-notebook-cell:/Users/gimgyudong/Desktop/api_crawling/master_direction.ipynb#ch0000012?line=15'>16</a>\u001b[0m taxiFare\u001b[39m.\u001b[39mappend(document[\u001b[39m'\u001b[39m\u001b[39mroute\u001b[39m\u001b[39m'\u001b[39m][\u001b[39m'\u001b[39m\u001b[39mtraoptimal\u001b[39m\u001b[39m'\u001b[39m][\u001b[39m0\u001b[39m][\u001b[39m'\u001b[39m\u001b[39msummary\u001b[39m\u001b[39m'\u001b[39m][\u001b[39m'\u001b[39m\u001b[39mtaxiFare\u001b[39m\u001b[39m'\u001b[39m])\n",
      "\u001b[0;31mKeyError\u001b[0m: 'route'"
     ]
    }
   ],
   "source": [
    "# 기타 설정\n",
    "distance = []\n",
    "duration = []\n",
    "taxiFare = []\n",
    "\n",
    "\"\"\"\n",
    "여기부터는 df_new 자기 숫자에 맞춰 진행하세요.\n",
    "\"\"\"\n",
    "# 주의! 여기서부터 api를 사용합니다. headers_5 먼저 돌립니다.\n",
    "# for > range > len 안의 값과 url 내의 변수를 꼭 변경해주세요.\n",
    "for i in range(len(df_new1)):\n",
    "    slat = df_new1['startlat'][i]\n",
    "    slng = df_new1['startlng'][i]\n",
    "    elat = df_new1['endlat'][i]\n",
    "    elng = df_new1['endlng'][i]\n",
    "    url = f\"https://naveropenapi.apigw.ntruss.com/map-direction/v1/driving?start={slat},{slng}&goal={elat},{elng}\"\n",
    "    try:\n",
    "        document = requests.get(url, headers=headers_5).json()\n",
    "        distance.append(document['route']['traoptimal'][0]['summary']['distance'])\n",
    "        duration.append(document['route']['traoptimal'][0]['summary']['duration'] / 1000)\n",
    "        taxiFare.append(document['route']['traoptimal'][0]['summary']['taxiFare'])\n",
    "    except:\n",
    "        distance.append(0)\n",
    "        duration.append(0)\n",
    "        taxiFare.append(0)\n",
    "\n",
    "# df_new에 각 변수를 추가하여 넣습니다.\n",
    "df_new1['distance'] = distance\n",
    "df_new1['duration'] = duration\n",
    "df_new1['taxiFare'] = taxiFare\n",
    "\n",
    "# csv로 저장합니다.\n",
    "df_new1.to_csv('df_new1.csv', encoding='utf-8')"
   ]
  },
  {
   "cell_type": "markdown",
   "metadata": {},
   "source": [
    "# direction_15 ==> header_15"
   ]
  },
  {
   "cell_type": "code",
   "execution_count": null,
   "metadata": {},
   "outputs": [],
   "source": [
    "# 기타 설정\n",
    "distance = []\n",
    "duration = []\n",
    "taxiFare = []\n",
    "\n",
    "\"\"\"\n",
    "여기부터는 df_new 자기 숫자에 맞춰 진행하세요.\n",
    "\"\"\"\n",
    "# 주의! api를 사용합니다. headers_15 돌립니다.\n",
    "# for > range > len 안의 값과 url 내의 변수를 꼭 변경해주세요. \n",
    "for i in range(len(df_new2)):\n",
    "    slat = df_new2['startlat'][i]\n",
    "    slng = df_new2['startlng'][i]\n",
    "    elat = df_new2['endlat'][i]\n",
    "    elng = df_new2['endlng'][i]\n",
    "    url = f\"https://naveropenapi.apigw.ntruss.com/map-direction-15/v1/driving?start={slat},{slng}&goal={elat},{elng}\"\n",
    "    try:\n",
    "        document = requests.get(url, headers=headers_15).json()\n",
    "        distance.append(document['route']['traoptimal'][0]['summary']['distance'])\n",
    "        duration.append(document['route']['traoptimal'][0]['summary']['duration'] / 1000)\n",
    "        taxiFare.append(document['route']['traoptimal'][0]['summary']['taxiFare'])\n",
    "    except:\n",
    "        distance.append(0)\n",
    "        duration.append(0)\n",
    "        taxiFare.append(0)\n",
    "\n",
    "# df_new에 각 변수를 추가하여 넣습니다.\n",
    "# df_new 숫자만 변경해서 쓰세요\n",
    "df_new2['distance'] = distance\n",
    "df_new2['duration'] = duration\n",
    "df_new2['taxiFare'] = taxiFare\n",
    "\n",
    "# csv로 저장합니다.\n",
    "df_new2.to_csv('df_new2.csv', encoding='utf-8')"
   ]
  },
  {
   "cell_type": "code",
   "execution_count": null,
   "metadata": {},
   "outputs": [],
   "source": []
  }
 ],
 "metadata": {
  "kernelspec": {
   "display_name": "Python 3 (ipykernel)",
   "language": "python",
   "name": "python3"
  },
  "language_info": {
   "codemirror_mode": {
    "name": "ipython",
    "version": 3
   },
   "file_extension": ".py",
   "mimetype": "text/x-python",
   "name": "python",
   "nbconvert_exporter": "python",
   "pygments_lexer": "ipython3",
   "version": "3.9.7"
  },
  "toc": {
   "base_numbering": 1,
   "nav_menu": {},
   "number_sections": true,
   "sideBar": true,
   "skip_h1_title": false,
   "title_cell": "Table of Contents",
   "title_sidebar": "Contents",
   "toc_cell": false,
   "toc_position": {},
   "toc_section_display": true,
   "toc_window_display": false
  },
  "varInspector": {
   "cols": {
    "lenName": 16,
    "lenType": 16,
    "lenVar": 40
   },
   "kernels_config": {
    "python": {
     "delete_cmd_postfix": "",
     "delete_cmd_prefix": "del ",
     "library": "var_list.py",
     "varRefreshCmd": "print(var_dic_list())"
    },
    "r": {
     "delete_cmd_postfix": ") ",
     "delete_cmd_prefix": "rm(",
     "library": "var_list.r",
     "varRefreshCmd": "cat(var_dic_list()) "
    }
   },
   "types_to_exclude": [
    "module",
    "function",
    "builtin_function_or_method",
    "instance",
    "_Feature"
   ],
   "window_display": false
  },
  "vscode": {
   "interpreter": {
    "hash": "dc96a39113674a9b0b0b416cb4dd27fb60d0548d689c1c940cb3926c5184ae29"
   }
  }
 },
 "nbformat": 4,
 "nbformat_minor": 2
}
