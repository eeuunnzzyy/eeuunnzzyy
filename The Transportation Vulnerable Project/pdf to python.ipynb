{
 "cells": [
  {
   "cell_type": "markdown",
   "id": "b502bfb9",
   "metadata": {},
   "source": [
    "참고자료 : https://gomc.co.kr/pdf-%ED%8C%8C%EC%9D%BC-python%EC%9C%BC%EB%A1%9C-%EC%9D%BD%EA%B8%B0/"
   ]
  },
  {
   "cell_type": "markdown",
   "id": "92199a9b",
   "metadata": {},
   "source": [
    "# pdf에서 테이블을 추출하기 위해 사용하는 라이브러리 tabula-py 설치"
   ]
  },
  {
   "cell_type": "code",
   "execution_count": null,
   "id": "a7dfed18",
   "metadata": {
    "scrolled": false
   },
   "outputs": [],
   "source": [
    "! pip3 install tabula-py"
   ]
  },
  {
   "cell_type": "code",
   "execution_count": 1,
   "id": "4e61f446",
   "metadata": {},
   "outputs": [],
   "source": [
    "import pandas as pd\n",
    "import tabula"
   ]
  },
  {
   "cell_type": "code",
   "execution_count": 4,
   "id": "35941741",
   "metadata": {},
   "outputs": [],
   "source": [
    "file = './data/장애인콜택시운영현황_2018/종합현황철(2018.1).pdf'"
   ]
  },
  {
   "cell_type": "code",
   "execution_count": 5,
   "id": "55269cd9",
   "metadata": {},
   "outputs": [],
   "source": [
    "df = tabula.read_pdf(file, pages = 'all')"
   ]
  },
  {
   "cell_type": "code",
   "execution_count": 20,
   "id": "99a8cdf9",
   "metadata": {},
   "outputs": [
    {
     "data": {
      "text/html": [
       "<div>\n",
       "<style scoped>\n",
       "    .dataframe tbody tr th:only-of-type {\n",
       "        vertical-align: middle;\n",
       "    }\n",
       "\n",
       "    .dataframe tbody tr th {\n",
       "        vertical-align: top;\n",
       "    }\n",
       "\n",
       "    .dataframe thead th {\n",
       "        text-align: right;\n",
       "    }\n",
       "</style>\n",
       "<table border=\"1\" class=\"dataframe\">\n",
       "  <thead>\n",
       "    <tr style=\"text-align: right;\">\n",
       "      <th></th>\n",
       "      <th>Unnamed: 0</th>\n",
       "      <th>Unnamed: 1</th>\n",
       "      <th>지체장애</th>\n",
       "      <th>Unnamed: 2</th>\n",
       "      <th>Unnamed: 3</th>\n",
       "      <th>기타장애</th>\n",
       "      <th>Unnamed: 4</th>\n",
       "    </tr>\n",
       "  </thead>\n",
       "  <tbody>\n",
       "    <tr>\n",
       "      <th>0</th>\n",
       "      <td>계</td>\n",
       "      <td>NaN</td>\n",
       "      <td>NaN</td>\n",
       "      <td>NaN</td>\n",
       "      <td>NaN</td>\n",
       "      <td>NaN</td>\n",
       "      <td>NaN</td>\n",
       "    </tr>\n",
       "    <tr>\n",
       "      <th>1</th>\n",
       "      <td>NaN</td>\n",
       "      <td>소계</td>\n",
       "      <td>지체</td>\n",
       "      <td>뇌병변</td>\n",
       "      <td>소계</td>\n",
       "      <td>시각 신장</td>\n",
       "      <td>기타</td>\n",
       "    </tr>\n",
       "    <tr>\n",
       "      <th>2</th>\n",
       "      <td>1,267,175</td>\n",
       "      <td>902,372</td>\n",
       "      <td>400,880</td>\n",
       "      <td>501,492</td>\n",
       "      <td>364,803</td>\n",
       "      <td>2,822 36,731</td>\n",
       "      <td>325,250</td>\n",
       "    </tr>\n",
       "    <tr>\n",
       "      <th>3</th>\n",
       "      <td>100%</td>\n",
       "      <td>71.2%</td>\n",
       "      <td>31.6%</td>\n",
       "      <td>39.6%</td>\n",
       "      <td>28.8%</td>\n",
       "      <td>0.2% 2.9%</td>\n",
       "      <td>25.7%</td>\n",
       "    </tr>\n",
       "  </tbody>\n",
       "</table>\n",
       "</div>"
      ],
      "text/plain": [
       "  Unnamed: 0 Unnamed: 1     지체장애 Unnamed: 2 Unnamed: 3          기타장애  \\\n",
       "0          계        NaN      NaN        NaN        NaN           NaN   \n",
       "1        NaN         소계       지체        뇌병변         소계         시각 신장   \n",
       "2  1,267,175    902,372  400,880    501,492    364,803  2,822 36,731   \n",
       "3       100%      71.2%    31.6%      39.6%      28.8%     0.2% 2.9%   \n",
       "\n",
       "  Unnamed: 4  \n",
       "0        NaN  \n",
       "1         기타  \n",
       "2    325,250  \n",
       "3      25.7%  "
      ]
     },
     "execution_count": 20,
     "metadata": {},
     "output_type": "execute_result"
    }
   ],
   "source": [
    "df[6]"
   ]
  },
  {
   "cell_type": "code",
   "execution_count": null,
   "id": "8ead3a20",
   "metadata": {},
   "outputs": [],
   "source": [
    "file = './pdf파일이름.pdf'\n",
    "#df = tabula.read_pdf(file, pages='all')\n",
    "#tabula.convert_into(file, \"output.csv\", output_format=\"csv\", pages='all')"
   ]
  },
  {
   "cell_type": "code",
   "execution_count": 3,
   "id": "710e2510",
   "metadata": {},
   "outputs": [
    {
     "name": "stderr",
     "output_type": "stream",
     "text": [
      "Error from tabula-java:\n",
      "The operation couldn’t be completed. Unable to locate a Java Runtime.\n",
      "Please visit http://www.java.com for information on installing Java.\n",
      "\n",
      "\n",
      "\n"
     ]
    },
    {
     "ename": "CalledProcessError",
     "evalue": "Command '['java', '-Djava.awt.headless=true', '-jar', '/Users/jeon-eunji/opt/anaconda3/lib/python3.9/site-packages/tabula/tabula-1.0.5-jar-with-dependencies.jar', '--pages', 'all', '--lattice', '--guess', '--format', 'CSV', '--batch', '/Users/jeon-eunji/Desktop/장애인콜택시운영현황_2018']' returned non-zero exit status 1.",
     "output_type": "error",
     "traceback": [
      "\u001b[0;31m---------------------------------------------------------------------------\u001b[0m",
      "\u001b[0;31mCalledProcessError\u001b[0m                        Traceback (most recent call last)",
      "\u001b[0;32m/var/folders/3q/y966c1fj3lndmps8kk3plpy40000gn/T/ipykernel_74143/2329964556.py\u001b[0m in \u001b[0;36m<module>\u001b[0;34m\u001b[0m\n\u001b[0;32m----> 1\u001b[0;31m \u001b[0mtabula\u001b[0m\u001b[0;34m.\u001b[0m\u001b[0mconvert_into_by_batch\u001b[0m\u001b[0;34m(\u001b[0m\u001b[0;34m\"/Users/jeon-eunji/Desktop/장애인콜택시운영현황_2018\"\u001b[0m\u001b[0;34m,\u001b[0m \u001b[0mlattice\u001b[0m\u001b[0;34m=\u001b[0m\u001b[0;32mTrue\u001b[0m\u001b[0;34m,\u001b[0m \u001b[0moutput_format\u001b[0m\u001b[0;34m=\u001b[0m\u001b[0;34m'csv'\u001b[0m\u001b[0;34m,\u001b[0m \u001b[0mpages\u001b[0m\u001b[0;34m=\u001b[0m\u001b[0;34m'all'\u001b[0m\u001b[0;34m)\u001b[0m\u001b[0;34m\u001b[0m\u001b[0;34m\u001b[0m\u001b[0m\n\u001b[0m",
      "\u001b[0;32m~/opt/anaconda3/lib/python3.9/site-packages/tabula/io.py\u001b[0m in \u001b[0;36mconvert_into_by_batch\u001b[0;34m(input_dir, output_format, java_options, **kwargs)\u001b[0m\n\u001b[1;32m    604\u001b[0m     \u001b[0mkwargs\u001b[0m\u001b[0;34m[\u001b[0m\u001b[0;34m\"batch\"\u001b[0m\u001b[0;34m]\u001b[0m \u001b[0;34m=\u001b[0m \u001b[0minput_dir\u001b[0m\u001b[0;34m\u001b[0m\u001b[0;34m\u001b[0m\u001b[0m\n\u001b[1;32m    605\u001b[0m \u001b[0;34m\u001b[0m\u001b[0m\n\u001b[0;32m--> 606\u001b[0;31m     \u001b[0m_run\u001b[0m\u001b[0;34m(\u001b[0m\u001b[0mjava_options\u001b[0m\u001b[0;34m,\u001b[0m \u001b[0mkwargs\u001b[0m\u001b[0;34m)\u001b[0m\u001b[0;34m\u001b[0m\u001b[0;34m\u001b[0m\u001b[0m\n\u001b[0m\u001b[1;32m    607\u001b[0m \u001b[0;34m\u001b[0m\u001b[0m\n\u001b[1;32m    608\u001b[0m \u001b[0;34m\u001b[0m\u001b[0m\n",
      "\u001b[0;32m~/opt/anaconda3/lib/python3.9/site-packages/tabula/io.py\u001b[0m in \u001b[0;36m_run\u001b[0;34m(java_options, options, path, encoding)\u001b[0m\n\u001b[1;32m     78\u001b[0m \u001b[0;34m\u001b[0m\u001b[0m\n\u001b[1;32m     79\u001b[0m     \u001b[0;32mtry\u001b[0m\u001b[0;34m:\u001b[0m\u001b[0;34m\u001b[0m\u001b[0;34m\u001b[0m\u001b[0m\n\u001b[0;32m---> 80\u001b[0;31m         result = subprocess.run(\n\u001b[0m\u001b[1;32m     81\u001b[0m             \u001b[0margs\u001b[0m\u001b[0;34m,\u001b[0m\u001b[0;34m\u001b[0m\u001b[0;34m\u001b[0m\u001b[0m\n\u001b[1;32m     82\u001b[0m             \u001b[0mstdout\u001b[0m\u001b[0;34m=\u001b[0m\u001b[0msubprocess\u001b[0m\u001b[0;34m.\u001b[0m\u001b[0mPIPE\u001b[0m\u001b[0;34m,\u001b[0m\u001b[0;34m\u001b[0m\u001b[0;34m\u001b[0m\u001b[0m\n",
      "\u001b[0;32m~/opt/anaconda3/lib/python3.9/subprocess.py\u001b[0m in \u001b[0;36mrun\u001b[0;34m(input, capture_output, timeout, check, *popenargs, **kwargs)\u001b[0m\n\u001b[1;32m    526\u001b[0m         \u001b[0mretcode\u001b[0m \u001b[0;34m=\u001b[0m \u001b[0mprocess\u001b[0m\u001b[0;34m.\u001b[0m\u001b[0mpoll\u001b[0m\u001b[0;34m(\u001b[0m\u001b[0;34m)\u001b[0m\u001b[0;34m\u001b[0m\u001b[0;34m\u001b[0m\u001b[0m\n\u001b[1;32m    527\u001b[0m         \u001b[0;32mif\u001b[0m \u001b[0mcheck\u001b[0m \u001b[0;32mand\u001b[0m \u001b[0mretcode\u001b[0m\u001b[0;34m:\u001b[0m\u001b[0;34m\u001b[0m\u001b[0;34m\u001b[0m\u001b[0m\n\u001b[0;32m--> 528\u001b[0;31m             raise CalledProcessError(retcode, process.args,\n\u001b[0m\u001b[1;32m    529\u001b[0m                                      output=stdout, stderr=stderr)\n\u001b[1;32m    530\u001b[0m     \u001b[0;32mreturn\u001b[0m \u001b[0mCompletedProcess\u001b[0m\u001b[0;34m(\u001b[0m\u001b[0mprocess\u001b[0m\u001b[0;34m.\u001b[0m\u001b[0margs\u001b[0m\u001b[0;34m,\u001b[0m \u001b[0mretcode\u001b[0m\u001b[0;34m,\u001b[0m \u001b[0mstdout\u001b[0m\u001b[0;34m,\u001b[0m \u001b[0mstderr\u001b[0m\u001b[0;34m)\u001b[0m\u001b[0;34m\u001b[0m\u001b[0;34m\u001b[0m\u001b[0m\n",
      "\u001b[0;31mCalledProcessError\u001b[0m: Command '['java', '-Djava.awt.headless=true', '-jar', '/Users/jeon-eunji/opt/anaconda3/lib/python3.9/site-packages/tabula/tabula-1.0.5-jar-with-dependencies.jar', '--pages', 'all', '--lattice', '--guess', '--format', 'CSV', '--batch', '/Users/jeon-eunji/Desktop/장애인콜택시운영현황_2018']' returned non-zero exit status 1."
     ]
    }
   ],
   "source": [
    "tabula.convert_into_by_batch(\"/Users/jeon-eunji/Desktop/장애인콜택시운영현황_2018\", lattice=True, output_format='csv', pages='all')"
   ]
  },
  {
   "cell_type": "code",
   "execution_count": null,
   "id": "b94d3954",
   "metadata": {},
   "outputs": [],
   "source": []
  }
 ],
 "metadata": {
  "kernelspec": {
   "display_name": "Python 3 (ipykernel)",
   "language": "python",
   "name": "python3"
  },
  "language_info": {
   "codemirror_mode": {
    "name": "ipython",
    "version": 3
   },
   "file_extension": ".py",
   "mimetype": "text/x-python",
   "name": "python",
   "nbconvert_exporter": "python",
   "pygments_lexer": "ipython3",
   "version": "3.9.7"
  },
  "toc": {
   "base_numbering": 1,
   "nav_menu": {},
   "number_sections": true,
   "sideBar": true,
   "skip_h1_title": false,
   "title_cell": "Table of Contents",
   "title_sidebar": "Contents",
   "toc_cell": false,
   "toc_position": {},
   "toc_section_display": true,
   "toc_window_display": false
  },
  "varInspector": {
   "cols": {
    "lenName": 16,
    "lenType": 16,
    "lenVar": 40
   },
   "kernels_config": {
    "python": {
     "delete_cmd_postfix": "",
     "delete_cmd_prefix": "del ",
     "library": "var_list.py",
     "varRefreshCmd": "print(var_dic_list())"
    },
    "r": {
     "delete_cmd_postfix": ") ",
     "delete_cmd_prefix": "rm(",
     "library": "var_list.r",
     "varRefreshCmd": "cat(var_dic_list()) "
    }
   },
   "types_to_exclude": [
    "module",
    "function",
    "builtin_function_or_method",
    "instance",
    "_Feature"
   ],
   "window_display": false
  }
 },
 "nbformat": 4,
 "nbformat_minor": 5
}
