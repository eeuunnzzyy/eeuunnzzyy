{
 "cells": [
  {
   "cell_type": "code",
   "execution_count": 2,
   "id": "77e767e2",
   "metadata": {},
   "outputs": [],
   "source": [
    "import glob\n",
    "import pandas as pd\n",
    "import seaborn as sns\n",
    "import numpy as np"
   ]
  },
  {
   "cell_type": "code",
   "execution_count": 5,
   "id": "a4f3a0e1",
   "metadata": {},
   "outputs": [],
   "source": [
    "df = pd.read_csv('master_final_220708.csv')"
   ]
  },
  {
   "cell_type": "code",
   "execution_count": 11,
   "id": "11bc09f8",
   "metadata": {},
   "outputs": [
    {
     "data": {
      "text/html": [
       "<div>\n",
       "<style scoped>\n",
       "    .dataframe tbody tr th:only-of-type {\n",
       "        vertical-align: middle;\n",
       "    }\n",
       "\n",
       "    .dataframe tbody tr th {\n",
       "        vertical-align: top;\n",
       "    }\n",
       "\n",
       "    .dataframe thead th {\n",
       "        text-align: right;\n",
       "    }\n",
       "</style>\n",
       "<table border=\"1\" class=\"dataframe\">\n",
       "  <thead>\n",
       "    <tr style=\"text-align: right;\">\n",
       "      <th></th>\n",
       "      <th>cartype</th>\n",
       "      <th>예정시간</th>\n",
       "      <th>배차시간</th>\n",
       "      <th>승차시간</th>\n",
       "      <th>startpos1</th>\n",
       "      <th>startpos2</th>\n",
       "      <th>endpos1</th>\n",
       "      <th>endpos2</th>\n",
       "      <th>direction</th>\n",
       "      <th>start_lat</th>\n",
       "      <th>...</th>\n",
       "      <th>end_lng</th>\n",
       "      <th>distance</th>\n",
       "      <th>duration</th>\n",
       "      <th>taxiFare</th>\n",
       "      <th>y_b_time</th>\n",
       "      <th>b_s_time</th>\n",
       "      <th>y_s_time</th>\n",
       "      <th>y_b_seconds</th>\n",
       "      <th>b_s_seconds</th>\n",
       "      <th>y_s_seconds</th>\n",
       "    </tr>\n",
       "  </thead>\n",
       "  <tbody>\n",
       "    <tr>\n",
       "      <th>0</th>\n",
       "      <td>중형승합</td>\n",
       "      <td>2018-01-23 00:04:00</td>\n",
       "      <td>2018-01-23 00:18:42</td>\n",
       "      <td>2018-01-23 00:34:08</td>\n",
       "      <td>성북구</td>\n",
       "      <td>장위제1동</td>\n",
       "      <td>동대문구</td>\n",
       "      <td>회기동</td>\n",
       "      <td>장위제1동회기동</td>\n",
       "      <td>127.043713</td>\n",
       "      <td>...</td>\n",
       "      <td>37.590808</td>\n",
       "      <td>4289</td>\n",
       "      <td>648.464</td>\n",
       "      <td>5600</td>\n",
       "      <td>0 days 00:14:42</td>\n",
       "      <td>0 days 00:15:26</td>\n",
       "      <td>0 days 00:30:08</td>\n",
       "      <td>882</td>\n",
       "      <td>926</td>\n",
       "      <td>1808</td>\n",
       "    </tr>\n",
       "  </tbody>\n",
       "</table>\n",
       "<p>1 rows × 22 columns</p>\n",
       "</div>"
      ],
      "text/plain": [
       "  cartype                예정시간                 배차시간                 승차시간  \\\n",
       "0    중형승합 2018-01-23 00:04:00  2018-01-23 00:18:42  2018-01-23 00:34:08   \n",
       "\n",
       "  startpos1 startpos2 endpos1 endpos2 direction   start_lat  ...    end_lng  \\\n",
       "0       성북구     장위제1동    동대문구     회기동  장위제1동회기동  127.043713  ...  37.590808   \n",
       "\n",
       "   distance  duration  taxiFare         y_b_time         b_s_time  \\\n",
       "0      4289   648.464      5600  0 days 00:14:42  0 days 00:15:26   \n",
       "\n",
       "          y_s_time y_b_seconds b_s_seconds  y_s_seconds  \n",
       "0  0 days 00:30:08         882         926         1808  \n",
       "\n",
       "[1 rows x 22 columns]"
      ]
     },
     "execution_count": 11,
     "metadata": {},
     "output_type": "execute_result"
    }
   ],
   "source": [
    "df.head(1)"
   ]
  },
  {
   "cell_type": "code",
   "execution_count": 12,
   "id": "760cd023",
   "metadata": {},
   "outputs": [],
   "source": [
    "df['예정시간']= pd.to_datetime(df['예정시간'])\n",
    "df['배차시간']= pd.to_datetime(df['배차시간'])\n",
    "df['승차시간']= pd.to_datetime(df['승차시간'])"
   ]
  },
  {
   "cell_type": "code",
   "execution_count": 18,
   "id": "46b25734",
   "metadata": {},
   "outputs": [],
   "source": [
    "df['예정시간_년'] = df['예정시간'].dt.year\n",
    "df['예정시간_월'] = df['예정시간'].dt.month"
   ]
  },
  {
   "cell_type": "code",
   "execution_count": 44,
   "id": "f4f09302",
   "metadata": {
    "scrolled": true
   },
   "outputs": [],
   "source": [
    "df['예정시간_년월'] = df['예정시간'].dt.strftime('%Y%m')"
   ]
  },
  {
   "cell_type": "code",
   "execution_count": 45,
   "id": "50c13c98",
   "metadata": {},
   "outputs": [
    {
     "data": {
      "text/html": [
       "<div>\n",
       "<style scoped>\n",
       "    .dataframe tbody tr th:only-of-type {\n",
       "        vertical-align: middle;\n",
       "    }\n",
       "\n",
       "    .dataframe tbody tr th {\n",
       "        vertical-align: top;\n",
       "    }\n",
       "\n",
       "    .dataframe thead th {\n",
       "        text-align: right;\n",
       "    }\n",
       "</style>\n",
       "<table border=\"1\" class=\"dataframe\">\n",
       "  <thead>\n",
       "    <tr style=\"text-align: right;\">\n",
       "      <th></th>\n",
       "      <th>cartype</th>\n",
       "      <th>예정시간</th>\n",
       "      <th>배차시간</th>\n",
       "      <th>승차시간</th>\n",
       "      <th>startpos1</th>\n",
       "      <th>startpos2</th>\n",
       "      <th>endpos1</th>\n",
       "      <th>endpos2</th>\n",
       "      <th>direction</th>\n",
       "      <th>start_lat</th>\n",
       "      <th>...</th>\n",
       "      <th>taxiFare</th>\n",
       "      <th>y_b_time</th>\n",
       "      <th>b_s_time</th>\n",
       "      <th>y_s_time</th>\n",
       "      <th>y_b_seconds</th>\n",
       "      <th>b_s_seconds</th>\n",
       "      <th>y_s_seconds</th>\n",
       "      <th>예정시간_년</th>\n",
       "      <th>예정시간_월</th>\n",
       "      <th>예정시간_년월</th>\n",
       "    </tr>\n",
       "  </thead>\n",
       "  <tbody>\n",
       "    <tr>\n",
       "      <th>0</th>\n",
       "      <td>중형승합</td>\n",
       "      <td>2018-01-23 00:04:00</td>\n",
       "      <td>2018-01-23 00:18:42</td>\n",
       "      <td>2018-01-23 00:34:08</td>\n",
       "      <td>성북구</td>\n",
       "      <td>장위제1동</td>\n",
       "      <td>동대문구</td>\n",
       "      <td>회기동</td>\n",
       "      <td>장위제1동회기동</td>\n",
       "      <td>127.043713</td>\n",
       "      <td>...</td>\n",
       "      <td>5600</td>\n",
       "      <td>0 days 00:14:42</td>\n",
       "      <td>0 days 00:15:26</td>\n",
       "      <td>0 days 00:30:08</td>\n",
       "      <td>882</td>\n",
       "      <td>926</td>\n",
       "      <td>1808</td>\n",
       "      <td>2018</td>\n",
       "      <td>1</td>\n",
       "      <td>201801</td>\n",
       "    </tr>\n",
       "    <tr>\n",
       "      <th>1</th>\n",
       "      <td>중형승합</td>\n",
       "      <td>2018-01-23 00:17:00</td>\n",
       "      <td>2018-01-23 00:50:37</td>\n",
       "      <td>2018-01-23 01:19:22</td>\n",
       "      <td>중랑구</td>\n",
       "      <td>면목제7동</td>\n",
       "      <td>노원구</td>\n",
       "      <td>상계1동</td>\n",
       "      <td>면목제7동상계1동</td>\n",
       "      <td>127.086985</td>\n",
       "      <td>...</td>\n",
       "      <td>13700</td>\n",
       "      <td>0 days 00:33:37</td>\n",
       "      <td>0 days 00:28:45</td>\n",
       "      <td>0 days 01:02:22</td>\n",
       "      <td>2017</td>\n",
       "      <td>1725</td>\n",
       "      <td>3742</td>\n",
       "      <td>2018</td>\n",
       "      <td>1</td>\n",
       "      <td>201801</td>\n",
       "    </tr>\n",
       "    <tr>\n",
       "      <th>2</th>\n",
       "      <td>중형승합</td>\n",
       "      <td>2018-01-23 00:17:06</td>\n",
       "      <td>2018-01-23 00:17:39</td>\n",
       "      <td>2018-01-23 00:30:00</td>\n",
       "      <td>성북구</td>\n",
       "      <td>정릉제3동</td>\n",
       "      <td>강북구</td>\n",
       "      <td>수유제3동</td>\n",
       "      <td>정릉제3동수유제3동</td>\n",
       "      <td>127.004186</td>\n",
       "      <td>...</td>\n",
       "      <td>6200</td>\n",
       "      <td>0 days 00:00:33</td>\n",
       "      <td>0 days 00:12:21</td>\n",
       "      <td>0 days 00:12:54</td>\n",
       "      <td>33</td>\n",
       "      <td>741</td>\n",
       "      <td>774</td>\n",
       "      <td>2018</td>\n",
       "      <td>1</td>\n",
       "      <td>201801</td>\n",
       "    </tr>\n",
       "    <tr>\n",
       "      <th>3</th>\n",
       "      <td>중형승합</td>\n",
       "      <td>2018-01-23 00:47:00</td>\n",
       "      <td>2018-01-23 00:51:19</td>\n",
       "      <td>2018-01-23 01:09:33</td>\n",
       "      <td>구로구</td>\n",
       "      <td>고척제2동</td>\n",
       "      <td>관악구</td>\n",
       "      <td>은천동</td>\n",
       "      <td>고척제2동은천동</td>\n",
       "      <td>126.858712</td>\n",
       "      <td>...</td>\n",
       "      <td>11000</td>\n",
       "      <td>0 days 00:04:19</td>\n",
       "      <td>0 days 00:18:14</td>\n",
       "      <td>0 days 00:22:33</td>\n",
       "      <td>259</td>\n",
       "      <td>1094</td>\n",
       "      <td>1353</td>\n",
       "      <td>2018</td>\n",
       "      <td>1</td>\n",
       "      <td>201801</td>\n",
       "    </tr>\n",
       "    <tr>\n",
       "      <th>4</th>\n",
       "      <td>중형승합</td>\n",
       "      <td>2018-01-23 01:08:00</td>\n",
       "      <td>2018-01-23 01:44:17</td>\n",
       "      <td>2018-01-23 02:06:53</td>\n",
       "      <td>동대문구</td>\n",
       "      <td>회기동</td>\n",
       "      <td>성북구</td>\n",
       "      <td>장위제2동</td>\n",
       "      <td>회기동장위제2동</td>\n",
       "      <td>127.055313</td>\n",
       "      <td>...</td>\n",
       "      <td>5200</td>\n",
       "      <td>0 days 00:36:17</td>\n",
       "      <td>0 days 00:22:36</td>\n",
       "      <td>0 days 00:58:53</td>\n",
       "      <td>2177</td>\n",
       "      <td>1356</td>\n",
       "      <td>3533</td>\n",
       "      <td>2018</td>\n",
       "      <td>1</td>\n",
       "      <td>201801</td>\n",
       "    </tr>\n",
       "  </tbody>\n",
       "</table>\n",
       "<p>5 rows × 25 columns</p>\n",
       "</div>"
      ],
      "text/plain": [
       "  cartype                예정시간                배차시간                승차시간  \\\n",
       "0    중형승합 2018-01-23 00:04:00 2018-01-23 00:18:42 2018-01-23 00:34:08   \n",
       "1    중형승합 2018-01-23 00:17:00 2018-01-23 00:50:37 2018-01-23 01:19:22   \n",
       "2    중형승합 2018-01-23 00:17:06 2018-01-23 00:17:39 2018-01-23 00:30:00   \n",
       "3    중형승합 2018-01-23 00:47:00 2018-01-23 00:51:19 2018-01-23 01:09:33   \n",
       "4    중형승합 2018-01-23 01:08:00 2018-01-23 01:44:17 2018-01-23 02:06:53   \n",
       "\n",
       "  startpos1 startpos2 endpos1 endpos2   direction   start_lat  ...  taxiFare  \\\n",
       "0       성북구     장위제1동    동대문구     회기동    장위제1동회기동  127.043713  ...      5600   \n",
       "1       중랑구     면목제7동     노원구    상계1동   면목제7동상계1동  127.086985  ...     13700   \n",
       "2       성북구     정릉제3동     강북구   수유제3동  정릉제3동수유제3동  127.004186  ...      6200   \n",
       "3       구로구     고척제2동     관악구     은천동    고척제2동은천동  126.858712  ...     11000   \n",
       "4      동대문구       회기동     성북구   장위제2동    회기동장위제2동  127.055313  ...      5200   \n",
       "\n",
       "          y_b_time         b_s_time         y_s_time  y_b_seconds  \\\n",
       "0  0 days 00:14:42  0 days 00:15:26  0 days 00:30:08          882   \n",
       "1  0 days 00:33:37  0 days 00:28:45  0 days 01:02:22         2017   \n",
       "2  0 days 00:00:33  0 days 00:12:21  0 days 00:12:54           33   \n",
       "3  0 days 00:04:19  0 days 00:18:14  0 days 00:22:33          259   \n",
       "4  0 days 00:36:17  0 days 00:22:36  0 days 00:58:53         2177   \n",
       "\n",
       "   b_s_seconds y_s_seconds 예정시간_년 예정시간_월  예정시간_년월  \n",
       "0          926        1808   2018      1   201801  \n",
       "1         1725        3742   2018      1   201801  \n",
       "2          741         774   2018      1   201801  \n",
       "3         1094        1353   2018      1   201801  \n",
       "4         1356        3533   2018      1   201801  \n",
       "\n",
       "[5 rows x 25 columns]"
      ]
     },
     "execution_count": 45,
     "metadata": {},
     "output_type": "execute_result"
    }
   ],
   "source": [
    "df.head()"
   ]
  },
  {
   "cell_type": "code",
   "execution_count": 48,
   "id": "635936fd",
   "metadata": {},
   "outputs": [],
   "source": [
    "df.groupby(['startpos1', '예정시간_년월'])['startpos1'].count().to_csv('지역별원별수요량추이.csv', index= True, encoding= 'utf-8')"
   ]
  },
  {
   "cell_type": "code",
   "execution_count": 51,
   "id": "261c874f",
   "metadata": {},
   "outputs": [],
   "source": [
    "dff = pd.read_csv('master_final_220708_택시요금추가.csv')"
   ]
  },
  {
   "cell_type": "code",
   "execution_count": 56,
   "id": "3826eb03",
   "metadata": {},
   "outputs": [],
   "source": [
    "df['taxiFare_I'] = dff['taxiFare_I'].values"
   ]
  },
  {
   "cell_type": "code",
   "execution_count": 64,
   "id": "554ce0c0",
   "metadata": {},
   "outputs": [],
   "source": [
    "df.groupby(['startpos1', '예정시간_년월'])['taxiFare_I'].sum().to_csv('지역별원별수익량추이.csv', index= True, encoding= 'utf-8')"
   ]
  },
  {
   "cell_type": "code",
   "execution_count": 60,
   "id": "a39463a7",
   "metadata": {},
   "outputs": [
    {
     "data": {
      "text/plain": [
       "startpos1  예정시간_년월\n",
       "강남구        201801     15552.763819\n",
       "           201802     16274.153846\n",
       "           201803     15948.245614\n",
       "           201804     15562.025316\n",
       "           201805     17197.289157\n",
       "                          ...     \n",
       "하남시        202103     12100.000000\n",
       "           202105      9850.000000\n",
       "           202109     23300.000000\n",
       "           202203     36900.000000\n",
       "           202205     86200.000000\n",
       "Name: taxiFare_I, Length: 1641, dtype: float64"
      ]
     },
     "execution_count": 60,
     "metadata": {},
     "output_type": "execute_result"
    }
   ],
   "source": [
    "df.groupby(['startpos1', '예정시간_년월'])['taxiFare_I'].mean()"
   ]
  },
  {
   "cell_type": "code",
   "execution_count": 66,
   "id": "04b8022e",
   "metadata": {},
   "outputs": [],
   "source": [
    "df.groupby('예정시간_년월')['taxiFare_I'].sum().to_csv('총수익추이.csv', index= True, encoding= 'utf-8')"
   ]
  },
  {
   "cell_type": "code",
   "execution_count": null,
   "id": "6ffe6734",
   "metadata": {},
   "outputs": [],
   "source": []
  }
 ],
 "metadata": {
  "kernelspec": {
   "display_name": "Python 3 (ipykernel)",
   "language": "python",
   "name": "python3"
  },
  "language_info": {
   "codemirror_mode": {
    "name": "ipython",
    "version": 3
   },
   "file_extension": ".py",
   "mimetype": "text/x-python",
   "name": "python",
   "nbconvert_exporter": "python",
   "pygments_lexer": "ipython3",
   "version": "3.9.7"
  },
  "toc": {
   "base_numbering": 1,
   "nav_menu": {},
   "number_sections": true,
   "sideBar": true,
   "skip_h1_title": false,
   "title_cell": "Table of Contents",
   "title_sidebar": "Contents",
   "toc_cell": false,
   "toc_position": {},
   "toc_section_display": true,
   "toc_window_display": false
  },
  "varInspector": {
   "cols": {
    "lenName": 16,
    "lenType": 16,
    "lenVar": 40
   },
   "kernels_config": {
    "python": {
     "delete_cmd_postfix": "",
     "delete_cmd_prefix": "del ",
     "library": "var_list.py",
     "varRefreshCmd": "print(var_dic_list())"
    },
    "r": {
     "delete_cmd_postfix": ") ",
     "delete_cmd_prefix": "rm(",
     "library": "var_list.r",
     "varRefreshCmd": "cat(var_dic_list()) "
    }
   },
   "types_to_exclude": [
    "module",
    "function",
    "builtin_function_or_method",
    "instance",
    "_Feature"
   ],
   "window_display": false
  }
 },
 "nbformat": 4,
 "nbformat_minor": 5
}
