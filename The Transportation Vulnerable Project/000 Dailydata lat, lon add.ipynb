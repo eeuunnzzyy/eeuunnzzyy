{
 "cells": [
  {
   "cell_type": "markdown",
   "id": "87b2f7f5",
   "metadata": {},
   "source": [
    "# 라이브러리 및 데이터프레임 세팅"
   ]
  },
  {
   "cell_type": "code",
   "execution_count": 67,
   "id": "0e13c510",
   "metadata": {},
   "outputs": [],
   "source": [
    "import pandas as pd\n",
    "import glob\n",
    "import json\n",
    "import requests\n",
    "\n",
    "import warnings\n",
    "warnings.filterwarnings('ignore')\n",
    "from tqdm import tqdm"
   ]
  },
  {
   "cell_type": "code",
   "execution_count": 68,
   "id": "3bee8dd7",
   "metadata": {
    "scrolled": true
   },
   "outputs": [
    {
     "data": {
      "text/plain": [
       "'master1_cleansing_map_before.csv'"
      ]
     },
     "execution_count": 68,
     "metadata": {},
     "output_type": "execute_result"
    }
   ],
   "source": [
    "paths = glob.glob('master1_cleansing_map_before.csv')\n",
    "paths[0]"
   ]
  },
  {
   "cell_type": "markdown",
   "id": "3320d88f",
   "metadata": {},
   "source": [
    "# api 불러오기 및 실행"
   ]
  },
  {
   "cell_type": "code",
   "execution_count": 92,
   "id": "d3bcb632",
   "metadata": {},
   "outputs": [],
   "source": [
    "ID = \"입력\"\n",
    "Key = \"입력\""
   ]
  },
  {
   "cell_type": "code",
   "execution_count": 79,
   "id": "35286e15",
   "metadata": {},
   "outputs": [],
   "source": [
    "query = df[\"startpos2\"].values.tolist()"
   ]
  },
  {
   "cell_type": "code",
   "execution_count": null,
   "id": "6caace28",
   "metadata": {},
   "outputs": [],
   "source": [
    "query = df[\"startpos2\"].values.tolist()"
   ]
  },
  {
   "cell_type": "code",
   "execution_count": 85,
   "id": "f7cda0f0",
   "metadata": {},
   "outputs": [],
   "source": [
    "url = \"https://naveropenapi.apigw.ntruss.com/map-geocode/v2/geocode\""
   ]
  },
  {
   "cell_type": "code",
   "execution_count": 86,
   "id": "926474e3",
   "metadata": {},
   "outputs": [
    {
     "name": "stderr",
     "output_type": "stream",
     "text": [
      "\r",
      "  0%|                                                | 0/407553 [00:00<?, ?it/s]"
     ]
    }
   ],
   "source": [
    "# 헤더 설정 (수정 X)\n",
    "headers = {'X-NCP-APIGW-API-KEY-ID' : ID, 'X-NCP-APIGW-API-KEY' : Key}\n",
    "\n",
    "# 기타 설정 (수정 X)\n",
    "lat = []\n",
    "lng = []\n",
    "pbar = tqdm(total=len(query))"
   ]
  },
  {
   "cell_type": "code",
   "execution_count": 87,
   "id": "9427dbb1",
   "metadata": {},
   "outputs": [
    {
     "name": "stderr",
     "output_type": "stream",
     "text": [
      "  0%|                                    | 10/407553 [00:05<57:26:16,  1.97it/s]\n"
     ]
    }
   ],
   "source": [
    "for i in range(10):\n",
    "    params = {'query' : query[i]}\n",
    "    json_data = requests.get(url, headers=headers, params=params).json()\n",
    "    try:\n",
    "        lat.append(json_data['addresses'][0]['x'])\n",
    "        lng.append(json_data['addresses'][0]['y'])\n",
    "    except Exception as e:\n",
    "        lat.append(0)\n",
    "        lng.append(0)\n",
    "    pbar.update(1)\n",
    "pbar.close()"
   ]
  },
  {
   "cell_type": "markdown",
   "id": "b31171ef",
   "metadata": {},
   "source": [
    "# 태블로용 지도 만들기"
   ]
  },
  {
   "cell_type": "code",
   "execution_count": 94,
   "id": "482e5e6f",
   "metadata": {},
   "outputs": [],
   "source": [
    "df['sido'] = '서울특별시'"
   ]
  },
  {
   "cell_type": "code",
   "execution_count": 113,
   "id": "bfb8028f",
   "metadata": {
    "scrolled": true
   },
   "outputs": [
    {
     "data": {
      "text/plain": [
       "Int64Index([ 29324,  39843,  42559,  71441,  80406,  96983, 101072, 101997,\n",
       "            148875, 154550, 171521, 179746, 189321, 198615, 198657, 207592,\n",
       "            216802, 216845, 222568, 235210, 242709, 244482, 245226, 280826,\n",
       "            299007, 300496, 301745, 318622, 323181, 324885, 331863, 333613,\n",
       "            335357, 338842, 353534, 353781, 357514, 361252, 387714, 394366,\n",
       "            398037, 398362, 398603, 399596, 402831, 404828, 405818],\n",
       "           dtype='int64')"
      ]
     },
     "execution_count": 113,
     "metadata": {},
     "output_type": "execute_result"
    }
   ],
   "source": [
    "df[df['startpos1'] == '남양주시']['sido'].index"
   ]
  },
  {
   "cell_type": "code",
   "execution_count": 115,
   "id": "61086c1d",
   "metadata": {},
   "outputs": [],
   "source": [
    "df = df.drop(df[df['startpos1'] == '남양주시']['sido'].index)"
   ]
  },
  {
   "cell_type": "code",
   "execution_count": 116,
   "id": "1988126e",
   "metadata": {},
   "outputs": [],
   "source": [
    "df = df.drop(df[df['startpos1'] == '의정부시']['sido'].index)"
   ]
  },
  {
   "cell_type": "code",
   "execution_count": 120,
   "id": "abfc7b50",
   "metadata": {},
   "outputs": [],
   "source": [
    "df = df.drop(df[df['startpos1'] == '성남시수정구']['sido'].index)\n",
    "df = df.drop(df[df['startpos1'] == '부천시소사구']['sido'].index)\n",
    "df = df.drop(df[df['startpos1'] == '고양시덕양구']['sido'].index)\n",
    "df = df.drop(df[df['startpos1'] == '부천시원미구']['sido'].index)\n",
    "df = df.drop(df[df['startpos1'] == '성남시분당구']['sido'].index)\n",
    "df = df.drop(df[df['startpos1'] == '성남시중원구']['sido'].index)\n",
    "df = df.drop(df[df['startpos1'] == '안양시만안구']['sido'].index)\n",
    "df = df.drop(df[df['startpos1'] == '부천시오정구']['sido'].index)\n",
    "df = df.drop(df[df['startpos1'] == '안양시동안구']['sido'].index)\n",
    "df = df.drop(df[df['startpos1'] == '용인시수지구']['sido'].index)\n",
    "df = df.drop(df[df['startpos1'] == '고양시일산동구']['sido'].index)\n",
    "df = df.drop(df[df['startpos1'] == '고양시일산서구']['sido'].index)"
   ]
  },
  {
   "cell_type": "code",
   "execution_count": 122,
   "id": "9d5a1ff0",
   "metadata": {},
   "outputs": [],
   "source": [
    "#위의 작업을 반복하면 서울만 남는다\n",
    "df.to_csv('onlyseoulmap.csv', index = False, encoding = 'utf-8')"
   ]
  },
  {
   "cell_type": "code",
   "execution_count": null,
   "id": "31147374",
   "metadata": {},
   "outputs": [],
   "source": []
  }
 ],
 "metadata": {
  "kernelspec": {
   "display_name": "Python 3 (ipykernel)",
   "language": "python",
   "name": "python3"
  },
  "language_info": {
   "codemirror_mode": {
    "name": "ipython",
    "version": 3
   },
   "file_extension": ".py",
   "mimetype": "text/x-python",
   "name": "python",
   "nbconvert_exporter": "python",
   "pygments_lexer": "ipython3",
   "version": "3.9.7"
  },
  "toc": {
   "base_numbering": 1,
   "nav_menu": {},
   "number_sections": true,
   "sideBar": true,
   "skip_h1_title": false,
   "title_cell": "Table of Contents",
   "title_sidebar": "Contents",
   "toc_cell": false,
   "toc_position": {},
   "toc_section_display": true,
   "toc_window_display": false
  },
  "varInspector": {
   "cols": {
    "lenName": 16,
    "lenType": 16,
    "lenVar": 40
   },
   "kernels_config": {
    "python": {
     "delete_cmd_postfix": "",
     "delete_cmd_prefix": "del ",
     "library": "var_list.py",
     "varRefreshCmd": "print(var_dic_list())"
    },
    "r": {
     "delete_cmd_postfix": ") ",
     "delete_cmd_prefix": "rm(",
     "library": "var_list.r",
     "varRefreshCmd": "cat(var_dic_list()) "
    }
   },
   "types_to_exclude": [
    "module",
    "function",
    "builtin_function_or_method",
    "instance",
    "_Feature"
   ],
   "window_display": false
  }
 },
 "nbformat": 4,
 "nbformat_minor": 5
}
