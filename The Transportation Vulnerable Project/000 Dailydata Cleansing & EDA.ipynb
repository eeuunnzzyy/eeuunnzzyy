{
 "cells": [
  {
   "cell_type": "markdown",
   "id": "87b2f7f5",
   "metadata": {},
   "source": [
    "# 라이브러리 및 데이터프레임 세팅"
   ]
  },
  {
   "cell_type": "code",
   "execution_count": 1,
   "id": "0e13c510",
   "metadata": {},
   "outputs": [],
   "source": [
    "import pandas as pd\n",
    "import glob\n",
    "import warnings\n",
    "warnings.filterwarnings('ignore')"
   ]
  },
  {
   "cell_type": "code",
   "execution_count": 2,
   "id": "3bee8dd7",
   "metadata": {},
   "outputs": [
    {
     "data": {
      "text/plain": [
       "'master.csv'"
      ]
     },
     "execution_count": 2,
     "metadata": {},
     "output_type": "execute_result"
    }
   ],
   "source": [
    "paths = glob.glob('master.csv')\n",
    "paths[0]"
   ]
  },
  {
   "cell_type": "code",
   "execution_count": 4,
   "id": "d75fb50d",
   "metadata": {},
   "outputs": [
    {
     "data": {
      "text/html": [
       "<div>\n",
       "<style scoped>\n",
       "    .dataframe tbody tr th:only-of-type {\n",
       "        vertical-align: middle;\n",
       "    }\n",
       "\n",
       "    .dataframe tbody tr th {\n",
       "        vertical-align: top;\n",
       "    }\n",
       "\n",
       "    .dataframe thead th {\n",
       "        text-align: right;\n",
       "    }\n",
       "</style>\n",
       "<table border=\"1\" class=\"dataframe\">\n",
       "  <thead>\n",
       "    <tr style=\"text-align: right;\">\n",
       "      <th></th>\n",
       "      <th>Unnamed: 0</th>\n",
       "      <th>no</th>\n",
       "      <th>cartype</th>\n",
       "      <th>receipttime</th>\n",
       "      <th>settime</th>\n",
       "      <th>ridetime</th>\n",
       "      <th>startpos1</th>\n",
       "      <th>startpos2</th>\n",
       "      <th>endpos1</th>\n",
       "      <th>endpos2</th>\n",
       "    </tr>\n",
       "  </thead>\n",
       "  <tbody>\n",
       "    <tr>\n",
       "      <th>0</th>\n",
       "      <td>0</td>\n",
       "      <td>7658</td>\n",
       "      <td>중형승합</td>\n",
       "      <td>2018-01-23 오전 12:04:00</td>\n",
       "      <td>2018-01-23 오전 12:18:42</td>\n",
       "      <td>2018-01-23 오전 12:34:08</td>\n",
       "      <td>성북구</td>\n",
       "      <td>장위제1동</td>\n",
       "      <td>동대문구</td>\n",
       "      <td>회기동</td>\n",
       "    </tr>\n",
       "    <tr>\n",
       "      <th>1</th>\n",
       "      <td>1</td>\n",
       "      <td>1551</td>\n",
       "      <td>중형 승합</td>\n",
       "      <td>2018-01-23 오전 12:17:00</td>\n",
       "      <td>2018-01-23 오전 12:50:37</td>\n",
       "      <td>2018-01-23 오전 1:19:22</td>\n",
       "      <td>중랑구</td>\n",
       "      <td>면목제7동</td>\n",
       "      <td>노원구</td>\n",
       "      <td>상계1동</td>\n",
       "    </tr>\n",
       "    <tr>\n",
       "      <th>2</th>\n",
       "      <td>2</td>\n",
       "      <td>5804</td>\n",
       "      <td>중형승합</td>\n",
       "      <td>2018-01-23 오전 12:30:00</td>\n",
       "      <td>2018-01-23 오전 12:17:06</td>\n",
       "      <td>2018-01-23 오전 12:17:39</td>\n",
       "      <td>성북구</td>\n",
       "      <td>정릉제3동</td>\n",
       "      <td>강북구</td>\n",
       "      <td>수유제3동</td>\n",
       "    </tr>\n",
       "    <tr>\n",
       "      <th>3</th>\n",
       "      <td>3</td>\n",
       "      <td>7650</td>\n",
       "      <td>중형승합</td>\n",
       "      <td>2018-01-23 오전 12:47:00</td>\n",
       "      <td>2018-01-23 오전 12:51:19</td>\n",
       "      <td>2018-01-23 오전 1:09:33</td>\n",
       "      <td>구로구</td>\n",
       "      <td>고척제2동</td>\n",
       "      <td>관악구</td>\n",
       "      <td>은천동</td>\n",
       "    </tr>\n",
       "    <tr>\n",
       "      <th>4</th>\n",
       "      <td>4</td>\n",
       "      <td>1061</td>\n",
       "      <td>중형승합</td>\n",
       "      <td>2018-01-23 오전 1:08:00</td>\n",
       "      <td>2018-01-23 오전 1:44:17</td>\n",
       "      <td>2018-01-23 오전 2:06:53</td>\n",
       "      <td>동대문구</td>\n",
       "      <td>회기동</td>\n",
       "      <td>성북구</td>\n",
       "      <td>장위제2동</td>\n",
       "    </tr>\n",
       "  </tbody>\n",
       "</table>\n",
       "</div>"
      ],
      "text/plain": [
       "   Unnamed: 0    no cartype             receipttime                 settime  \\\n",
       "0           0  7658    중형승합  2018-01-23 오전 12:04:00  2018-01-23 오전 12:18:42   \n",
       "1           1  1551   중형 승합  2018-01-23 오전 12:17:00  2018-01-23 오전 12:50:37   \n",
       "2           2  5804    중형승합  2018-01-23 오전 12:30:00  2018-01-23 오전 12:17:06   \n",
       "3           3  7650    중형승합  2018-01-23 오전 12:47:00  2018-01-23 오전 12:51:19   \n",
       "4           4  1061    중형승합   2018-01-23 오전 1:08:00   2018-01-23 오전 1:44:17   \n",
       "\n",
       "                 ridetime startpos1 startpos2 endpos1 endpos2  \n",
       "0  2018-01-23 오전 12:34:08       성북구     장위제1동    동대문구     회기동  \n",
       "1   2018-01-23 오전 1:19:22       중랑구     면목제7동     노원구    상계1동  \n",
       "2  2018-01-23 오전 12:17:39       성북구     정릉제3동     강북구   수유제3동  \n",
       "3   2018-01-23 오전 1:09:33       구로구     고척제2동     관악구     은천동  \n",
       "4   2018-01-23 오전 2:06:53      동대문구       회기동     성북구   장위제2동  "
      ]
     },
     "execution_count": 4,
     "metadata": {},
     "output_type": "execute_result"
    }
   ],
   "source": [
    "df = pd.read_csv(paths[0])\n",
    "df.head()"
   ]
  },
  {
   "cell_type": "code",
   "execution_count": 5,
   "id": "fd003616",
   "metadata": {},
   "outputs": [
    {
     "data": {
      "text/plain": [
       "(407613, 10)"
      ]
     },
     "execution_count": 5,
     "metadata": {},
     "output_type": "execute_result"
    }
   ],
   "source": [
    "df.shape"
   ]
  },
  {
   "cell_type": "markdown",
   "id": "c0d2cafb",
   "metadata": {},
   "source": [
    "# Cleansing\n",
    "## cartype 처리\n",
    "- master_cleansing_space.csv"
   ]
  },
  {
   "cell_type": "code",
   "execution_count": 6,
   "id": "072f4d23",
   "metadata": {},
   "outputs": [],
   "source": [
    "df = df.drop('Unnamed: 0', axis = 1)"
   ]
  },
  {
   "cell_type": "code",
   "execution_count": 7,
   "id": "e3c55457",
   "metadata": {
    "scrolled": true
   },
   "outputs": [
    {
     "data": {
      "text/html": [
       "<div>\n",
       "<style scoped>\n",
       "    .dataframe tbody tr th:only-of-type {\n",
       "        vertical-align: middle;\n",
       "    }\n",
       "\n",
       "    .dataframe tbody tr th {\n",
       "        vertical-align: top;\n",
       "    }\n",
       "\n",
       "    .dataframe thead th {\n",
       "        text-align: right;\n",
       "    }\n",
       "</style>\n",
       "<table border=\"1\" class=\"dataframe\">\n",
       "  <thead>\n",
       "    <tr style=\"text-align: right;\">\n",
       "      <th></th>\n",
       "      <th>no</th>\n",
       "      <th>cartype</th>\n",
       "      <th>receipttime</th>\n",
       "      <th>settime</th>\n",
       "      <th>ridetime</th>\n",
       "      <th>startpos1</th>\n",
       "      <th>startpos2</th>\n",
       "      <th>endpos1</th>\n",
       "      <th>endpos2</th>\n",
       "    </tr>\n",
       "  </thead>\n",
       "  <tbody>\n",
       "    <tr>\n",
       "      <th>0</th>\n",
       "      <td>7658</td>\n",
       "      <td>중형승합</td>\n",
       "      <td>2018-01-23 오전 12:04:00</td>\n",
       "      <td>2018-01-23 오전 12:18:42</td>\n",
       "      <td>2018-01-23 오전 12:34:08</td>\n",
       "      <td>성북구</td>\n",
       "      <td>장위제1동</td>\n",
       "      <td>동대문구</td>\n",
       "      <td>회기동</td>\n",
       "    </tr>\n",
       "    <tr>\n",
       "      <th>1</th>\n",
       "      <td>1551</td>\n",
       "      <td>중형 승합</td>\n",
       "      <td>2018-01-23 오전 12:17:00</td>\n",
       "      <td>2018-01-23 오전 12:50:37</td>\n",
       "      <td>2018-01-23 오전 1:19:22</td>\n",
       "      <td>중랑구</td>\n",
       "      <td>면목제7동</td>\n",
       "      <td>노원구</td>\n",
       "      <td>상계1동</td>\n",
       "    </tr>\n",
       "  </tbody>\n",
       "</table>\n",
       "</div>"
      ],
      "text/plain": [
       "     no cartype             receipttime                 settime  \\\n",
       "0  7658    중형승합  2018-01-23 오전 12:04:00  2018-01-23 오전 12:18:42   \n",
       "1  1551   중형 승합  2018-01-23 오전 12:17:00  2018-01-23 오전 12:50:37   \n",
       "\n",
       "                 ridetime startpos1 startpos2 endpos1 endpos2  \n",
       "0  2018-01-23 오전 12:34:08       성북구     장위제1동    동대문구     회기동  \n",
       "1   2018-01-23 오전 1:19:22       중랑구     면목제7동     노원구    상계1동  "
      ]
     },
     "execution_count": 7,
     "metadata": {},
     "output_type": "execute_result"
    }
   ],
   "source": [
    "df.head(2)"
   ]
  },
  {
   "cell_type": "code",
   "execution_count": 8,
   "id": "2c7c25b9",
   "metadata": {},
   "outputs": [
    {
     "data": {
      "text/plain": [
       "'중형승합'"
      ]
     },
     "execution_count": 8,
     "metadata": {},
     "output_type": "execute_result"
    }
   ],
   "source": [
    "df['cartype'][1].replace(\" \",\"\")"
   ]
  },
  {
   "cell_type": "code",
   "execution_count": 9,
   "id": "db5fb673",
   "metadata": {},
   "outputs": [
    {
     "data": {
      "text/plain": [
       "407613"
      ]
     },
     "execution_count": 9,
     "metadata": {},
     "output_type": "execute_result"
    }
   ],
   "source": [
    "len(df)"
   ]
  },
  {
   "cell_type": "code",
   "execution_count": 10,
   "id": "fc9857ef-b122-4802-a46a-84c0fd81fe25",
   "metadata": {},
   "outputs": [
    {
     "data": {
      "text/plain": [
       "array(['중형승합', '중형 승합', '중형승용', '승합', '중형 승용', '대형승용', '대형 승용', nan,\n",
       "       '증형승용'], dtype=object)"
      ]
     },
     "execution_count": 10,
     "metadata": {},
     "output_type": "execute_result"
    }
   ],
   "source": [
    "df['cartype'].unique()"
   ]
  },
  {
   "cell_type": "code",
   "execution_count": 11,
   "id": "145d6cef",
   "metadata": {},
   "outputs": [],
   "source": [
    "for i in range(len(df)):\n",
    "    df['cartype'][i] = str(df['cartype'][i]).replace(' ', '').replace('증형승용', '중형승용')"
   ]
  },
  {
   "cell_type": "code",
   "execution_count": 31,
   "id": "1a7b12e1-eef2-4afe-bdf2-6f5ebd732873",
   "metadata": {},
   "outputs": [
    {
     "data": {
      "text/plain": [
       "array(['중형승합', '중형승용', '승합', '대형승용', 'nan'], dtype=object)"
      ]
     },
     "execution_count": 31,
     "metadata": {},
     "output_type": "execute_result"
    }
   ],
   "source": [
    "df['cartype'].unique()"
   ]
  },
  {
   "cell_type": "code",
   "execution_count": 12,
   "id": "ae0bf86f",
   "metadata": {},
   "outputs": [],
   "source": [
    "df_nan = df[df['cartype'] == 'nan']\n",
    "df_nan.to_csv('master_nan.csv', index = False, encoding = 'utf-8')"
   ]
  },
  {
   "cell_type": "code",
   "execution_count": 13,
   "id": "e677a9b9",
   "metadata": {},
   "outputs": [
    {
     "data": {
      "text/plain": [
       "no              0\n",
       "cartype         0\n",
       "receipttime     0\n",
       "settime        30\n",
       "ridetime       10\n",
       "startpos1       0\n",
       "startpos2       0\n",
       "endpos1         0\n",
       "endpos2         0\n",
       "dtype: int64"
      ]
     },
     "execution_count": 13,
     "metadata": {},
     "output_type": "execute_result"
    }
   ],
   "source": [
    "df.isnull().sum()"
   ]
  },
  {
   "cell_type": "code",
   "execution_count": 14,
   "id": "f40a8e98",
   "metadata": {},
   "outputs": [
    {
     "data": {
      "text/plain": [
       "10"
      ]
     },
     "execution_count": 14,
     "metadata": {},
     "output_type": "execute_result"
    }
   ],
   "source": [
    "len(df[df['cartype'] == 'nan'])"
   ]
  },
  {
   "cell_type": "code",
   "execution_count": 15,
   "id": "6b89c55d",
   "metadata": {},
   "outputs": [],
   "source": [
    "idx = df[df['cartype'] == 'nan'].index\n",
    "df = df.drop(idx)"
   ]
  },
  {
   "cell_type": "code",
   "execution_count": 16,
   "id": "f967e93f",
   "metadata": {},
   "outputs": [
    {
     "data": {
      "text/html": [
       "<div>\n",
       "<style scoped>\n",
       "    .dataframe tbody tr th:only-of-type {\n",
       "        vertical-align: middle;\n",
       "    }\n",
       "\n",
       "    .dataframe tbody tr th {\n",
       "        vertical-align: top;\n",
       "    }\n",
       "\n",
       "    .dataframe thead th {\n",
       "        text-align: right;\n",
       "    }\n",
       "</style>\n",
       "<table border=\"1\" class=\"dataframe\">\n",
       "  <thead>\n",
       "    <tr style=\"text-align: right;\">\n",
       "      <th></th>\n",
       "      <th>no</th>\n",
       "      <th>cartype</th>\n",
       "      <th>receipttime</th>\n",
       "      <th>settime</th>\n",
       "      <th>ridetime</th>\n",
       "      <th>startpos1</th>\n",
       "      <th>startpos2</th>\n",
       "      <th>endpos1</th>\n",
       "      <th>endpos2</th>\n",
       "    </tr>\n",
       "  </thead>\n",
       "  <tbody>\n",
       "    <tr>\n",
       "      <th>0</th>\n",
       "      <td>7658</td>\n",
       "      <td>중형승합</td>\n",
       "      <td>2018-01-23 오전 12:04:00</td>\n",
       "      <td>2018-01-23 오전 12:18:42</td>\n",
       "      <td>2018-01-23 오전 12:34:08</td>\n",
       "      <td>성북구</td>\n",
       "      <td>장위제1동</td>\n",
       "      <td>동대문구</td>\n",
       "      <td>회기동</td>\n",
       "    </tr>\n",
       "    <tr>\n",
       "      <th>1</th>\n",
       "      <td>1551</td>\n",
       "      <td>중형승합</td>\n",
       "      <td>2018-01-23 오전 12:17:00</td>\n",
       "      <td>2018-01-23 오전 12:50:37</td>\n",
       "      <td>2018-01-23 오전 1:19:22</td>\n",
       "      <td>중랑구</td>\n",
       "      <td>면목제7동</td>\n",
       "      <td>노원구</td>\n",
       "      <td>상계1동</td>\n",
       "    </tr>\n",
       "    <tr>\n",
       "      <th>2</th>\n",
       "      <td>5804</td>\n",
       "      <td>중형승합</td>\n",
       "      <td>2018-01-23 오전 12:30:00</td>\n",
       "      <td>2018-01-23 오전 12:17:06</td>\n",
       "      <td>2018-01-23 오전 12:17:39</td>\n",
       "      <td>성북구</td>\n",
       "      <td>정릉제3동</td>\n",
       "      <td>강북구</td>\n",
       "      <td>수유제3동</td>\n",
       "    </tr>\n",
       "    <tr>\n",
       "      <th>3</th>\n",
       "      <td>7650</td>\n",
       "      <td>중형승합</td>\n",
       "      <td>2018-01-23 오전 12:47:00</td>\n",
       "      <td>2018-01-23 오전 12:51:19</td>\n",
       "      <td>2018-01-23 오전 1:09:33</td>\n",
       "      <td>구로구</td>\n",
       "      <td>고척제2동</td>\n",
       "      <td>관악구</td>\n",
       "      <td>은천동</td>\n",
       "    </tr>\n",
       "    <tr>\n",
       "      <th>4</th>\n",
       "      <td>1061</td>\n",
       "      <td>중형승합</td>\n",
       "      <td>2018-01-23 오전 1:08:00</td>\n",
       "      <td>2018-01-23 오전 1:44:17</td>\n",
       "      <td>2018-01-23 오전 2:06:53</td>\n",
       "      <td>동대문구</td>\n",
       "      <td>회기동</td>\n",
       "      <td>성북구</td>\n",
       "      <td>장위제2동</td>\n",
       "    </tr>\n",
       "    <tr>\n",
       "      <th>...</th>\n",
       "      <td>...</td>\n",
       "      <td>...</td>\n",
       "      <td>...</td>\n",
       "      <td>...</td>\n",
       "      <td>...</td>\n",
       "      <td>...</td>\n",
       "      <td>...</td>\n",
       "      <td>...</td>\n",
       "      <td>...</td>\n",
       "    </tr>\n",
       "    <tr>\n",
       "      <th>407608</th>\n",
       "      <td>8579</td>\n",
       "      <td>대형승용</td>\n",
       "      <td>2022-06-24 오전 7:00:00</td>\n",
       "      <td>2022-06-24 오전 6:54:20</td>\n",
       "      <td>2022-06-24 오전 7:17:08</td>\n",
       "      <td>성북구</td>\n",
       "      <td>돈암제2동</td>\n",
       "      <td>강남구</td>\n",
       "      <td>대치4동</td>\n",
       "    </tr>\n",
       "    <tr>\n",
       "      <th>407609</th>\n",
       "      <td>8006</td>\n",
       "      <td>중형승합</td>\n",
       "      <td>2022-06-24 오전 7:00:00</td>\n",
       "      <td>2022-06-24 오전 7:07:58</td>\n",
       "      <td>2022-06-24 오전 7:42:04</td>\n",
       "      <td>은평구</td>\n",
       "      <td>구산동</td>\n",
       "      <td>은평구</td>\n",
       "      <td>구산동</td>\n",
       "    </tr>\n",
       "    <tr>\n",
       "      <th>407610</th>\n",
       "      <td>8261</td>\n",
       "      <td>중형승합</td>\n",
       "      <td>2022-06-24 오전 7:00:00</td>\n",
       "      <td>2022-06-24 오전 7:04:58</td>\n",
       "      <td>2022-06-24 오전 7:16:19</td>\n",
       "      <td>노원구</td>\n",
       "      <td>상계8동</td>\n",
       "      <td>영등포구</td>\n",
       "      <td>영등포동</td>\n",
       "    </tr>\n",
       "    <tr>\n",
       "      <th>407611</th>\n",
       "      <td>1558</td>\n",
       "      <td>중형승합</td>\n",
       "      <td>2022-06-24 오전 7:00:00</td>\n",
       "      <td>2022-06-24 오전 7:03:25</td>\n",
       "      <td>2022-06-24 오전 7:27:10</td>\n",
       "      <td>성북구</td>\n",
       "      <td>길음제1동</td>\n",
       "      <td>강북구</td>\n",
       "      <td>번제1동</td>\n",
       "    </tr>\n",
       "    <tr>\n",
       "      <th>407612</th>\n",
       "      <td>5725</td>\n",
       "      <td>중형승합</td>\n",
       "      <td>2022-06-24 오전 7:00:00</td>\n",
       "      <td>2022-06-24 오전 7:10:22</td>\n",
       "      <td>2022-06-24 오전 7:20:46</td>\n",
       "      <td>강동구</td>\n",
       "      <td>천호제2동</td>\n",
       "      <td>강동구</td>\n",
       "      <td>명일제1동</td>\n",
       "    </tr>\n",
       "  </tbody>\n",
       "</table>\n",
       "<p>407603 rows × 9 columns</p>\n",
       "</div>"
      ],
      "text/plain": [
       "          no cartype             receipttime                 settime  \\\n",
       "0       7658    중형승합  2018-01-23 오전 12:04:00  2018-01-23 오전 12:18:42   \n",
       "1       1551    중형승합  2018-01-23 오전 12:17:00  2018-01-23 오전 12:50:37   \n",
       "2       5804    중형승합  2018-01-23 오전 12:30:00  2018-01-23 오전 12:17:06   \n",
       "3       7650    중형승합  2018-01-23 오전 12:47:00  2018-01-23 오전 12:51:19   \n",
       "4       1061    중형승합   2018-01-23 오전 1:08:00   2018-01-23 오전 1:44:17   \n",
       "...      ...     ...                     ...                     ...   \n",
       "407608  8579    대형승용   2022-06-24 오전 7:00:00   2022-06-24 오전 6:54:20   \n",
       "407609  8006    중형승합   2022-06-24 오전 7:00:00   2022-06-24 오전 7:07:58   \n",
       "407610  8261    중형승합   2022-06-24 오전 7:00:00   2022-06-24 오전 7:04:58   \n",
       "407611  1558    중형승합   2022-06-24 오전 7:00:00   2022-06-24 오전 7:03:25   \n",
       "407612  5725    중형승합   2022-06-24 오전 7:00:00   2022-06-24 오전 7:10:22   \n",
       "\n",
       "                      ridetime startpos1 startpos2 endpos1 endpos2  \n",
       "0       2018-01-23 오전 12:34:08       성북구     장위제1동    동대문구     회기동  \n",
       "1        2018-01-23 오전 1:19:22       중랑구     면목제7동     노원구    상계1동  \n",
       "2       2018-01-23 오전 12:17:39       성북구     정릉제3동     강북구   수유제3동  \n",
       "3        2018-01-23 오전 1:09:33       구로구     고척제2동     관악구     은천동  \n",
       "4        2018-01-23 오전 2:06:53      동대문구       회기동     성북구   장위제2동  \n",
       "...                        ...       ...       ...     ...     ...  \n",
       "407608   2022-06-24 오전 7:17:08       성북구     돈암제2동     강남구    대치4동  \n",
       "407609   2022-06-24 오전 7:42:04       은평구       구산동     은평구     구산동  \n",
       "407610   2022-06-24 오전 7:16:19       노원구      상계8동    영등포구    영등포동  \n",
       "407611   2022-06-24 오전 7:27:10       성북구     길음제1동     강북구    번제1동  \n",
       "407612   2022-06-24 오전 7:20:46       강동구     천호제2동     강동구   명일제1동  \n",
       "\n",
       "[407603 rows x 9 columns]"
      ]
     },
     "execution_count": 16,
     "metadata": {},
     "output_type": "execute_result"
    }
   ],
   "source": [
    "df"
   ]
  },
  {
   "cell_type": "code",
   "execution_count": 17,
   "id": "43b66460",
   "metadata": {},
   "outputs": [],
   "source": [
    "df.to_csv('master_cleansing_space.csv', index = False, encoding = 'utf-8')"
   ]
  },
  {
   "cell_type": "markdown",
   "id": "6e814b3e",
   "metadata": {},
   "source": [
    "## 시간처리 (datetime으로 변경)\n",
    "- 오후는 12시간 덧셈\n",
    "- master_cleansing_space_time.csv"
   ]
  },
  {
   "cell_type": "markdown",
   "id": "9166d77a",
   "metadata": {},
   "source": [
    "### ridetime"
   ]
  },
  {
   "cell_type": "code",
   "execution_count": 18,
   "id": "0d5836bc",
   "metadata": {},
   "outputs": [],
   "source": [
    "import datetime\n",
    "import numpy as np"
   ]
  },
  {
   "cell_type": "code",
   "execution_count": 19,
   "id": "91d860d0",
   "metadata": {},
   "outputs": [
    {
     "data": {
      "text/html": [
       "<div>\n",
       "<style scoped>\n",
       "    .dataframe tbody tr th:only-of-type {\n",
       "        vertical-align: middle;\n",
       "    }\n",
       "\n",
       "    .dataframe tbody tr th {\n",
       "        vertical-align: top;\n",
       "    }\n",
       "\n",
       "    .dataframe thead th {\n",
       "        text-align: right;\n",
       "    }\n",
       "</style>\n",
       "<table border=\"1\" class=\"dataframe\">\n",
       "  <thead>\n",
       "    <tr style=\"text-align: right;\">\n",
       "      <th></th>\n",
       "      <th>no</th>\n",
       "      <th>cartype</th>\n",
       "      <th>receipttime</th>\n",
       "      <th>settime</th>\n",
       "      <th>ridetime</th>\n",
       "      <th>startpos1</th>\n",
       "      <th>startpos2</th>\n",
       "      <th>endpos1</th>\n",
       "      <th>endpos2</th>\n",
       "    </tr>\n",
       "  </thead>\n",
       "  <tbody>\n",
       "    <tr>\n",
       "      <th>0</th>\n",
       "      <td>7658</td>\n",
       "      <td>중형승합</td>\n",
       "      <td>2018-01-23 오전 12:04:00</td>\n",
       "      <td>2018-01-23 오전 12:18:42</td>\n",
       "      <td>2018-01-23 오전 12:34:08</td>\n",
       "      <td>성북구</td>\n",
       "      <td>장위제1동</td>\n",
       "      <td>동대문구</td>\n",
       "      <td>회기동</td>\n",
       "    </tr>\n",
       "    <tr>\n",
       "      <th>1</th>\n",
       "      <td>1551</td>\n",
       "      <td>중형승합</td>\n",
       "      <td>2018-01-23 오전 12:17:00</td>\n",
       "      <td>2018-01-23 오전 12:50:37</td>\n",
       "      <td>2018-01-23 오전 1:19:22</td>\n",
       "      <td>중랑구</td>\n",
       "      <td>면목제7동</td>\n",
       "      <td>노원구</td>\n",
       "      <td>상계1동</td>\n",
       "    </tr>\n",
       "  </tbody>\n",
       "</table>\n",
       "</div>"
      ],
      "text/plain": [
       "     no cartype             receipttime                 settime  \\\n",
       "0  7658    중형승합  2018-01-23 오전 12:04:00  2018-01-23 오전 12:18:42   \n",
       "1  1551    중형승합  2018-01-23 오전 12:17:00  2018-01-23 오전 12:50:37   \n",
       "\n",
       "                 ridetime startpos1 startpos2 endpos1 endpos2  \n",
       "0  2018-01-23 오전 12:34:08       성북구     장위제1동    동대문구     회기동  \n",
       "1   2018-01-23 오전 1:19:22       중랑구     면목제7동     노원구    상계1동  "
      ]
     },
     "execution_count": 19,
     "metadata": {},
     "output_type": "execute_result"
    }
   ],
   "source": [
    "df[df['ridetime'].str.contains('오전')].head(2)"
   ]
  },
  {
   "cell_type": "code",
   "execution_count": 20,
   "id": "72f1f6a9",
   "metadata": {},
   "outputs": [
    {
     "data": {
      "text/plain": [
       "(406366, 9)"
      ]
     },
     "execution_count": 20,
     "metadata": {},
     "output_type": "execute_result"
    }
   ],
   "source": [
    "df[df['ridetime'].str.contains('오전')].shape"
   ]
  },
  {
   "cell_type": "code",
   "execution_count": 21,
   "id": "a184e453",
   "metadata": {},
   "outputs": [
    {
     "data": {
      "text/html": [
       "<div>\n",
       "<style scoped>\n",
       "    .dataframe tbody tr th:only-of-type {\n",
       "        vertical-align: middle;\n",
       "    }\n",
       "\n",
       "    .dataframe tbody tr th {\n",
       "        vertical-align: top;\n",
       "    }\n",
       "\n",
       "    .dataframe thead th {\n",
       "        text-align: right;\n",
       "    }\n",
       "</style>\n",
       "<table border=\"1\" class=\"dataframe\">\n",
       "  <thead>\n",
       "    <tr style=\"text-align: right;\">\n",
       "      <th></th>\n",
       "      <th>no</th>\n",
       "      <th>cartype</th>\n",
       "      <th>receipttime</th>\n",
       "      <th>settime</th>\n",
       "      <th>ridetime</th>\n",
       "      <th>startpos1</th>\n",
       "      <th>startpos2</th>\n",
       "      <th>endpos1</th>\n",
       "      <th>endpos2</th>\n",
       "    </tr>\n",
       "  </thead>\n",
       "  <tbody>\n",
       "    <tr>\n",
       "      <th>64242</th>\n",
       "      <td>1567</td>\n",
       "      <td>중형승합</td>\n",
       "      <td>2018-09-12 오전 12:10:00</td>\n",
       "      <td>2018-09-11 오후 11:58:30</td>\n",
       "      <td>2018-09-11 오후 11:59:32</td>\n",
       "      <td>강동구</td>\n",
       "      <td>천호제3동</td>\n",
       "      <td>강북구</td>\n",
       "      <td>수유제3동</td>\n",
       "    </tr>\n",
       "    <tr>\n",
       "      <th>66484</th>\n",
       "      <td>1194</td>\n",
       "      <td>중형승합</td>\n",
       "      <td>2018-09-19 오전 12:25:00</td>\n",
       "      <td>2018-09-18 오후 11:56:12</td>\n",
       "      <td>2018-09-18 오후 11:58:00</td>\n",
       "      <td>하남시</td>\n",
       "      <td>신장2동</td>\n",
       "      <td>강동구</td>\n",
       "      <td>천호제3동</td>\n",
       "    </tr>\n",
       "  </tbody>\n",
       "</table>\n",
       "</div>"
      ],
      "text/plain": [
       "         no cartype             receipttime                 settime  \\\n",
       "64242  1567    중형승합  2018-09-12 오전 12:10:00  2018-09-11 오후 11:58:30   \n",
       "66484  1194    중형승합  2018-09-19 오전 12:25:00  2018-09-18 오후 11:56:12   \n",
       "\n",
       "                     ridetime startpos1 startpos2 endpos1 endpos2  \n",
       "64242  2018-09-11 오후 11:59:32       강동구     천호제3동     강북구   수유제3동  \n",
       "66484  2018-09-18 오후 11:58:00       하남시      신장2동     강동구   천호제3동  "
      ]
     },
     "execution_count": 21,
     "metadata": {},
     "output_type": "execute_result"
    }
   ],
   "source": [
    "df[df['ridetime'].str.contains('오후')].head(2)"
   ]
  },
  {
   "cell_type": "code",
   "execution_count": 22,
   "id": "ef84cf9c",
   "metadata": {},
   "outputs": [
    {
     "data": {
      "text/plain": [
       "(1237, 9)"
      ]
     },
     "execution_count": 22,
     "metadata": {},
     "output_type": "execute_result"
    }
   ],
   "source": [
    "df[df['ridetime'].str.contains('오후')].shape"
   ]
  },
  {
   "cell_type": "code",
   "execution_count": 23,
   "id": "19b4d686",
   "metadata": {},
   "outputs": [],
   "source": [
    "df['오전'] = pd.to_datetime(df[df['ridetime'].str.contains('오전')]['ridetime'].str.replace('오전', ''))"
   ]
  },
  {
   "cell_type": "code",
   "execution_count": 31,
   "id": "66dba403",
   "metadata": {},
   "outputs": [],
   "source": [
    "import datetime as dt"
   ]
  },
  {
   "cell_type": "code",
   "execution_count": 63,
   "id": "b939f53a",
   "metadata": {},
   "outputs": [],
   "source": [
    "val_after = df[df['오전'].dt.hour == 12]['오전'] - datetime.timedelta(hours = 12)"
   ]
  },
  {
   "cell_type": "code",
   "execution_count": 78,
   "id": "6ae03809",
   "metadata": {},
   "outputs": [
    {
     "data": {
      "text/plain": [
       "array(['2018-01-23T00:34:08.000000000', '2018-01-23T00:17:39.000000000',\n",
       "       '2018-01-09T00:53:36.000000000', ...,\n",
       "       '2022-06-25T00:54:51.000000000', '2022-06-19T00:53:53.000000000',\n",
       "       '2022-06-18T00:58:28.000000000'], dtype='datetime64[ns]')"
      ]
     },
     "execution_count": 78,
     "metadata": {},
     "output_type": "execute_result"
    }
   ],
   "source": [
    "val_after.values"
   ]
  },
  {
   "cell_type": "code",
   "execution_count": 65,
   "id": "7cbde3e1",
   "metadata": {},
   "outputs": [],
   "source": [
    "val_before = df[df['오전'].dt.hour == 12]['오전']"
   ]
  },
  {
   "cell_type": "code",
   "execution_count": 73,
   "id": "eb66446d",
   "metadata": {},
   "outputs": [
    {
     "data": {
      "text/plain": [
       "Int64Index([     0,      2,    998,   1245,   1248,   1251,   1253,   1494,\n",
       "              1495,   1496,\n",
       "            ...\n",
       "            406119, 406120, 406368, 406369, 406370, 406372, 406375, 406620,\n",
       "            406866, 407117],\n",
       "           dtype='int64', length=2922)"
      ]
     },
     "execution_count": 73,
     "metadata": {},
     "output_type": "execute_result"
    }
   ],
   "source": [
    "val_before.index"
   ]
  },
  {
   "cell_type": "code",
   "execution_count": 79,
   "id": "75004fae",
   "metadata": {},
   "outputs": [],
   "source": [
    "df.loc[val_before.index, '오전'] = val_after.values"
   ]
  },
  {
   "cell_type": "code",
   "execution_count": 84,
   "id": "806e58dc",
   "metadata": {},
   "outputs": [
    {
     "data": {
      "text/html": [
       "<div>\n",
       "<style scoped>\n",
       "    .dataframe tbody tr th:only-of-type {\n",
       "        vertical-align: middle;\n",
       "    }\n",
       "\n",
       "    .dataframe tbody tr th {\n",
       "        vertical-align: top;\n",
       "    }\n",
       "\n",
       "    .dataframe thead th {\n",
       "        text-align: right;\n",
       "    }\n",
       "</style>\n",
       "<table border=\"1\" class=\"dataframe\">\n",
       "  <thead>\n",
       "    <tr style=\"text-align: right;\">\n",
       "      <th></th>\n",
       "      <th>no</th>\n",
       "      <th>cartype</th>\n",
       "      <th>receipttime</th>\n",
       "      <th>settime</th>\n",
       "      <th>ridetime</th>\n",
       "      <th>startpos1</th>\n",
       "      <th>startpos2</th>\n",
       "      <th>endpos1</th>\n",
       "      <th>endpos2</th>\n",
       "      <th>오전</th>\n",
       "    </tr>\n",
       "  </thead>\n",
       "  <tbody>\n",
       "    <tr>\n",
       "      <th>0</th>\n",
       "      <td>7658</td>\n",
       "      <td>중형승합</td>\n",
       "      <td>2018-01-23 오전 12:04:00</td>\n",
       "      <td>2018-01-23 오전 12:18:42</td>\n",
       "      <td>2018-01-23 오전 12:34:08</td>\n",
       "      <td>성북구</td>\n",
       "      <td>장위제1동</td>\n",
       "      <td>동대문구</td>\n",
       "      <td>회기동</td>\n",
       "      <td>2018-01-23 00:34:08</td>\n",
       "    </tr>\n",
       "    <tr>\n",
       "      <th>1</th>\n",
       "      <td>1551</td>\n",
       "      <td>중형승합</td>\n",
       "      <td>2018-01-23 오전 12:17:00</td>\n",
       "      <td>2018-01-23 오전 12:50:37</td>\n",
       "      <td>2018-01-23 오전 1:19:22</td>\n",
       "      <td>중랑구</td>\n",
       "      <td>면목제7동</td>\n",
       "      <td>노원구</td>\n",
       "      <td>상계1동</td>\n",
       "      <td>2018-01-23 01:19:22</td>\n",
       "    </tr>\n",
       "    <tr>\n",
       "      <th>2</th>\n",
       "      <td>5804</td>\n",
       "      <td>중형승합</td>\n",
       "      <td>2018-01-23 오전 12:30:00</td>\n",
       "      <td>2018-01-23 오전 12:17:06</td>\n",
       "      <td>2018-01-23 오전 12:17:39</td>\n",
       "      <td>성북구</td>\n",
       "      <td>정릉제3동</td>\n",
       "      <td>강북구</td>\n",
       "      <td>수유제3동</td>\n",
       "      <td>2018-01-23 00:17:39</td>\n",
       "    </tr>\n",
       "    <tr>\n",
       "      <th>3</th>\n",
       "      <td>7650</td>\n",
       "      <td>중형승합</td>\n",
       "      <td>2018-01-23 오전 12:47:00</td>\n",
       "      <td>2018-01-23 오전 12:51:19</td>\n",
       "      <td>2018-01-23 오전 1:09:33</td>\n",
       "      <td>구로구</td>\n",
       "      <td>고척제2동</td>\n",
       "      <td>관악구</td>\n",
       "      <td>은천동</td>\n",
       "      <td>2018-01-23 01:09:33</td>\n",
       "    </tr>\n",
       "    <tr>\n",
       "      <th>4</th>\n",
       "      <td>1061</td>\n",
       "      <td>중형승합</td>\n",
       "      <td>2018-01-23 오전 1:08:00</td>\n",
       "      <td>2018-01-23 오전 1:44:17</td>\n",
       "      <td>2018-01-23 오전 2:06:53</td>\n",
       "      <td>동대문구</td>\n",
       "      <td>회기동</td>\n",
       "      <td>성북구</td>\n",
       "      <td>장위제2동</td>\n",
       "      <td>2018-01-23 02:06:53</td>\n",
       "    </tr>\n",
       "  </tbody>\n",
       "</table>\n",
       "</div>"
      ],
      "text/plain": [
       "     no cartype             receipttime                 settime  \\\n",
       "0  7658    중형승합  2018-01-23 오전 12:04:00  2018-01-23 오전 12:18:42   \n",
       "1  1551    중형승합  2018-01-23 오전 12:17:00  2018-01-23 오전 12:50:37   \n",
       "2  5804    중형승합  2018-01-23 오전 12:30:00  2018-01-23 오전 12:17:06   \n",
       "3  7650    중형승합  2018-01-23 오전 12:47:00  2018-01-23 오전 12:51:19   \n",
       "4  1061    중형승합   2018-01-23 오전 1:08:00   2018-01-23 오전 1:44:17   \n",
       "\n",
       "                 ridetime startpos1 startpos2 endpos1 endpos2  \\\n",
       "0  2018-01-23 오전 12:34:08       성북구     장위제1동    동대문구     회기동   \n",
       "1   2018-01-23 오전 1:19:22       중랑구     면목제7동     노원구    상계1동   \n",
       "2  2018-01-23 오전 12:17:39       성북구     정릉제3동     강북구   수유제3동   \n",
       "3   2018-01-23 오전 1:09:33       구로구     고척제2동     관악구     은천동   \n",
       "4   2018-01-23 오전 2:06:53      동대문구       회기동     성북구   장위제2동   \n",
       "\n",
       "                   오전  \n",
       "0 2018-01-23 00:34:08  \n",
       "1 2018-01-23 01:19:22  \n",
       "2 2018-01-23 00:17:39  \n",
       "3 2018-01-23 01:09:33  \n",
       "4 2018-01-23 02:06:53  "
      ]
     },
     "execution_count": 84,
     "metadata": {},
     "output_type": "execute_result"
    }
   ],
   "source": [
    "df.head()"
   ]
  },
  {
   "cell_type": "code",
   "execution_count": 85,
   "id": "49eed29b",
   "metadata": {},
   "outputs": [],
   "source": [
    "df['오후'] = pd.to_datetime(df[df['ridetime'].str.contains('오후')]['ridetime'].str.replace('오후', '')) + datetime.timedelta(hours = 12)"
   ]
  },
  {
   "cell_type": "code",
   "execution_count": 94,
   "id": "7e96cfb9",
   "metadata": {
    "scrolled": true
   },
   "outputs": [
    {
     "data": {
      "text/html": [
       "<div>\n",
       "<style scoped>\n",
       "    .dataframe tbody tr th:only-of-type {\n",
       "        vertical-align: middle;\n",
       "    }\n",
       "\n",
       "    .dataframe tbody tr th {\n",
       "        vertical-align: top;\n",
       "    }\n",
       "\n",
       "    .dataframe thead th {\n",
       "        text-align: right;\n",
       "    }\n",
       "</style>\n",
       "<table border=\"1\" class=\"dataframe\">\n",
       "  <thead>\n",
       "    <tr style=\"text-align: right;\">\n",
       "      <th></th>\n",
       "      <th>no</th>\n",
       "      <th>cartype</th>\n",
       "      <th>receipttime</th>\n",
       "      <th>settime</th>\n",
       "      <th>ridetime</th>\n",
       "      <th>startpos1</th>\n",
       "      <th>startpos2</th>\n",
       "      <th>endpos1</th>\n",
       "      <th>endpos2</th>\n",
       "      <th>오전</th>\n",
       "      <th>오후</th>\n",
       "    </tr>\n",
       "  </thead>\n",
       "  <tbody>\n",
       "    <tr>\n",
       "      <th>198366</th>\n",
       "      <td>6144</td>\n",
       "      <td>중형승합</td>\n",
       "      <td>2020-03-01 오전 11:22:00</td>\n",
       "      <td>2020-03-01 오전 11:32:35</td>\n",
       "      <td>2020-03-01 오후 12:12:15</td>\n",
       "      <td>강서구</td>\n",
       "      <td>가양제2동</td>\n",
       "      <td>중랑구</td>\n",
       "      <td>면목제4동</td>\n",
       "      <td>NaT</td>\n",
       "      <td>2020-03-02 00:12:15</td>\n",
       "    </tr>\n",
       "    <tr>\n",
       "      <th>198371</th>\n",
       "      <td>7930</td>\n",
       "      <td>중형승합</td>\n",
       "      <td>2020-03-01 오전 11:31:00</td>\n",
       "      <td>2020-03-01 오전 11:39:58</td>\n",
       "      <td>2020-03-01 오후 12:16:02</td>\n",
       "      <td>중구</td>\n",
       "      <td>회현동</td>\n",
       "      <td>은평구</td>\n",
       "      <td>응암제3동</td>\n",
       "      <td>NaT</td>\n",
       "      <td>2020-03-02 00:16:02</td>\n",
       "    </tr>\n",
       "    <tr>\n",
       "      <th>198374</th>\n",
       "      <td>1124</td>\n",
       "      <td>중형승합</td>\n",
       "      <td>2020-03-01 오전 11:37:00</td>\n",
       "      <td>2020-03-01 오전 11:46:42</td>\n",
       "      <td>2020-03-01 오후 12:04:06</td>\n",
       "      <td>강서구</td>\n",
       "      <td>방화제3동</td>\n",
       "      <td>강서구</td>\n",
       "      <td>가양제3동</td>\n",
       "      <td>NaT</td>\n",
       "      <td>2020-03-02 00:04:06</td>\n",
       "    </tr>\n",
       "    <tr>\n",
       "      <th>198378</th>\n",
       "      <td>9955</td>\n",
       "      <td>중형승합</td>\n",
       "      <td>2020-03-01 오전 11:43:00</td>\n",
       "      <td>2020-03-01 오전 11:46:29</td>\n",
       "      <td>2020-03-01 오후 12:00:38</td>\n",
       "      <td>양천구</td>\n",
       "      <td>신정3동</td>\n",
       "      <td>양천구</td>\n",
       "      <td>목1동</td>\n",
       "      <td>NaT</td>\n",
       "      <td>2020-03-02 00:00:38</td>\n",
       "    </tr>\n",
       "    <tr>\n",
       "      <th>198379</th>\n",
       "      <td>7648</td>\n",
       "      <td>중형승합</td>\n",
       "      <td>2020-03-01 오전 11:47:00</td>\n",
       "      <td>2020-03-01 오전 11:55:37</td>\n",
       "      <td>2020-03-01 오후 12:12:07</td>\n",
       "      <td>동대문구</td>\n",
       "      <td>신설동</td>\n",
       "      <td>성동구</td>\n",
       "      <td>마장동</td>\n",
       "      <td>NaT</td>\n",
       "      <td>2020-03-02 00:12:07</td>\n",
       "    </tr>\n",
       "    <tr>\n",
       "      <th>...</th>\n",
       "      <td>...</td>\n",
       "      <td>...</td>\n",
       "      <td>...</td>\n",
       "      <td>...</td>\n",
       "      <td>...</td>\n",
       "      <td>...</td>\n",
       "      <td>...</td>\n",
       "      <td>...</td>\n",
       "      <td>...</td>\n",
       "      <td>...</td>\n",
       "      <td>...</td>\n",
       "    </tr>\n",
       "    <tr>\n",
       "      <th>275854</th>\n",
       "      <td>8036</td>\n",
       "      <td>중형승합</td>\n",
       "      <td>2021-01-03 오후 12:40:00</td>\n",
       "      <td>2021-01-03 오후 12:41:45</td>\n",
       "      <td>2021-01-03 오후 12:58:43</td>\n",
       "      <td>중랑구</td>\n",
       "      <td>망우제3동</td>\n",
       "      <td>중랑구</td>\n",
       "      <td>신내2동</td>\n",
       "      <td>NaT</td>\n",
       "      <td>2021-01-04 00:58:43</td>\n",
       "    </tr>\n",
       "    <tr>\n",
       "      <th>275856</th>\n",
       "      <td>8260</td>\n",
       "      <td>중형승합</td>\n",
       "      <td>2021-01-03 오후 12:41:00</td>\n",
       "      <td>2021-01-03 오후 12:43:22</td>\n",
       "      <td>2021-01-03 오후 12:47:13</td>\n",
       "      <td>강남구</td>\n",
       "      <td>삼성1동</td>\n",
       "      <td>서대문구</td>\n",
       "      <td>북가좌제2동</td>\n",
       "      <td>NaT</td>\n",
       "      <td>2021-01-04 00:47:13</td>\n",
       "    </tr>\n",
       "    <tr>\n",
       "      <th>275858</th>\n",
       "      <td>8157</td>\n",
       "      <td>중형승합</td>\n",
       "      <td>2021-01-03 오후 12:42:00</td>\n",
       "      <td>2021-01-03 오후 12:51:36</td>\n",
       "      <td>2021-01-03 오후 12:57:51</td>\n",
       "      <td>송파구</td>\n",
       "      <td>잠실3동</td>\n",
       "      <td>송파구</td>\n",
       "      <td>잠실본동</td>\n",
       "      <td>NaT</td>\n",
       "      <td>2021-01-04 00:57:51</td>\n",
       "    </tr>\n",
       "    <tr>\n",
       "      <th>327847</th>\n",
       "      <td>809</td>\n",
       "      <td>중형승합</td>\n",
       "      <td>2021-08-08 오전 9:58:00</td>\n",
       "      <td>2021-08-08 오후 12:07:26</td>\n",
       "      <td>2021-08-08 오후 12:49:50</td>\n",
       "      <td>동작구</td>\n",
       "      <td>사당제1동</td>\n",
       "      <td>동작구</td>\n",
       "      <td>상도제2동</td>\n",
       "      <td>NaT</td>\n",
       "      <td>2021-08-09 00:49:50</td>\n",
       "    </tr>\n",
       "    <tr>\n",
       "      <th>346539</th>\n",
       "      <td>1571</td>\n",
       "      <td>중형승합</td>\n",
       "      <td>2021-10-03 오전 9:32:00</td>\n",
       "      <td>2021-10-03 오후 12:04:21</td>\n",
       "      <td>2021-10-03 오후 12:51:10</td>\n",
       "      <td>성북구</td>\n",
       "      <td>길음제1동</td>\n",
       "      <td>성북구</td>\n",
       "      <td>월곡제2동</td>\n",
       "      <td>NaT</td>\n",
       "      <td>2021-10-04 00:51:10</td>\n",
       "    </tr>\n",
       "  </tbody>\n",
       "</table>\n",
       "<p>896 rows × 11 columns</p>\n",
       "</div>"
      ],
      "text/plain": [
       "          no cartype             receipttime                 settime  \\\n",
       "198366  6144    중형승합  2020-03-01 오전 11:22:00  2020-03-01 오전 11:32:35   \n",
       "198371  7930    중형승합  2020-03-01 오전 11:31:00  2020-03-01 오전 11:39:58   \n",
       "198374  1124    중형승합  2020-03-01 오전 11:37:00  2020-03-01 오전 11:46:42   \n",
       "198378  9955    중형승합  2020-03-01 오전 11:43:00  2020-03-01 오전 11:46:29   \n",
       "198379  7648    중형승합  2020-03-01 오전 11:47:00  2020-03-01 오전 11:55:37   \n",
       "...      ...     ...                     ...                     ...   \n",
       "275854  8036    중형승합  2021-01-03 오후 12:40:00  2021-01-03 오후 12:41:45   \n",
       "275856  8260    중형승합  2021-01-03 오후 12:41:00  2021-01-03 오후 12:43:22   \n",
       "275858  8157    중형승합  2021-01-03 오후 12:42:00  2021-01-03 오후 12:51:36   \n",
       "327847   809    중형승합   2021-08-08 오전 9:58:00  2021-08-08 오후 12:07:26   \n",
       "346539  1571    중형승합   2021-10-03 오전 9:32:00  2021-10-03 오후 12:04:21   \n",
       "\n",
       "                      ridetime startpos1 startpos2 endpos1 endpos2  오전  \\\n",
       "198366  2020-03-01 오후 12:12:15       강서구     가양제2동     중랑구   면목제4동 NaT   \n",
       "198371  2020-03-01 오후 12:16:02        중구       회현동     은평구   응암제3동 NaT   \n",
       "198374  2020-03-01 오후 12:04:06       강서구     방화제3동     강서구   가양제3동 NaT   \n",
       "198378  2020-03-01 오후 12:00:38       양천구      신정3동     양천구     목1동 NaT   \n",
       "198379  2020-03-01 오후 12:12:07      동대문구       신설동     성동구     마장동 NaT   \n",
       "...                        ...       ...       ...     ...     ...  ..   \n",
       "275854  2021-01-03 오후 12:58:43       중랑구     망우제3동     중랑구    신내2동 NaT   \n",
       "275856  2021-01-03 오후 12:47:13       강남구      삼성1동    서대문구  북가좌제2동 NaT   \n",
       "275858  2021-01-03 오후 12:57:51       송파구      잠실3동     송파구    잠실본동 NaT   \n",
       "327847  2021-08-08 오후 12:49:50       동작구     사당제1동     동작구   상도제2동 NaT   \n",
       "346539  2021-10-03 오후 12:51:10       성북구     길음제1동     성북구   월곡제2동 NaT   \n",
       "\n",
       "                        오후  \n",
       "198366 2020-03-02 00:12:15  \n",
       "198371 2020-03-02 00:16:02  \n",
       "198374 2020-03-02 00:04:06  \n",
       "198378 2020-03-02 00:00:38  \n",
       "198379 2020-03-02 00:12:07  \n",
       "...                    ...  \n",
       "275854 2021-01-04 00:58:43  \n",
       "275856 2021-01-04 00:47:13  \n",
       "275858 2021-01-04 00:57:51  \n",
       "327847 2021-08-09 00:49:50  \n",
       "346539 2021-10-04 00:51:10  \n",
       "\n",
       "[896 rows x 11 columns]"
      ]
     },
     "execution_count": 94,
     "metadata": {},
     "output_type": "execute_result"
    }
   ],
   "source": [
    "df[df['오후'].dt.hour == 0]"
   ]
  },
  {
   "cell_type": "code",
   "execution_count": 113,
   "id": "139c5f4d",
   "metadata": {},
   "outputs": [],
   "source": [
    "val_오후_after = df[df['오후'].dt.hour == 0]['오후'] - datetime.timedelta(hours = 12)"
   ]
  },
  {
   "cell_type": "code",
   "execution_count": 116,
   "id": "e87bab49",
   "metadata": {},
   "outputs": [
    {
     "data": {
      "text/plain": [
       "array(['2020-03-01T12:12:15.000000000', '2020-03-01T12:16:02.000000000',\n",
       "       '2020-03-01T12:04:06.000000000', '2020-03-01T12:00:38.000000000',\n",
       "       '2020-03-01T12:12:07.000000000', '2020-03-01T12:04:44.000000000',\n",
       "       '2020-03-01T12:09:29.000000000', '2020-03-01T12:19:21.000000000',\n",
       "       '2020-03-01T12:29:30.000000000', '2020-03-01T12:11:00.000000000',\n",
       "       '2020-03-01T12:12:42.000000000', '2020-03-01T12:07:35.000000000',\n",
       "       '2020-03-01T12:13:32.000000000', '2020-03-01T12:24:46.000000000',\n",
       "       '2020-03-01T12:31:14.000000000', '2020-03-01T12:17:17.000000000',\n",
       "       '2020-03-01T12:35:33.000000000', '2020-03-01T12:36:57.000000000',\n",
       "       '2020-03-01T12:31:24.000000000', '2020-03-01T12:33:17.000000000',\n",
       "       '2020-03-01T12:28:22.000000000', '2020-03-01T12:31:21.000000000',\n",
       "       '2020-03-01T12:46:47.000000000', '2020-03-01T12:39:02.000000000',\n",
       "       '2020-03-01T12:34:25.000000000', '2020-03-01T12:44:31.000000000',\n",
       "       '2020-03-01T12:45:17.000000000', '2020-03-01T12:30:41.000000000',\n",
       "       '2020-03-01T12:39:09.000000000', '2020-03-01T12:50:20.000000000',\n",
       "       '2020-03-01T12:34:43.000000000', '2020-03-01T12:40:57.000000000',\n",
       "       '2020-03-01T12:44:09.000000000', '2020-03-01T12:45:39.000000000',\n",
       "       '2020-03-01T12:37:04.000000000', '2020-03-01T12:52:43.000000000',\n",
       "       '2020-03-01T12:56:24.000000000', '2020-03-01T12:51:20.000000000',\n",
       "       '2020-03-01T12:32:22.000000000', '2020-03-01T12:36:10.000000000',\n",
       "       '2020-03-01T12:47:29.000000000', '2020-03-01T12:45:51.000000000',\n",
       "       '2020-03-01T12:56:39.000000000', '2020-03-01T12:55:03.000000000',\n",
       "       '2020-03-15T12:26:34.000000000', '2020-03-15T12:01:27.000000000',\n",
       "       '2020-03-15T12:08:52.000000000', '2020-03-15T12:00:58.000000000',\n",
       "       '2020-03-15T12:14:58.000000000', '2020-03-15T12:06:57.000000000',\n",
       "       '2020-03-15T12:04:59.000000000', '2020-03-15T12:03:26.000000000',\n",
       "       '2020-03-15T12:09:02.000000000', '2020-03-15T12:06:23.000000000',\n",
       "       '2020-03-15T12:13:27.000000000', '2020-03-15T12:13:45.000000000',\n",
       "       '2020-03-15T12:15:05.000000000', '2020-03-15T12:20:53.000000000',\n",
       "       '2020-03-15T12:10:05.000000000', '2020-03-15T12:24:25.000000000',\n",
       "       '2020-03-15T12:18:47.000000000', '2020-03-15T12:30:59.000000000',\n",
       "       '2020-03-15T12:18:04.000000000', '2020-03-15T12:09:59.000000000',\n",
       "       '2020-03-15T12:15:07.000000000', '2020-03-15T12:34:45.000000000',\n",
       "       '2020-03-15T12:32:38.000000000', '2020-03-15T12:22:28.000000000',\n",
       "       '2020-03-15T12:28:17.000000000', '2020-03-15T12:20:14.000000000',\n",
       "       '2020-03-15T12:40:13.000000000', '2020-03-15T12:34:22.000000000',\n",
       "       '2020-03-15T12:46:06.000000000', '2020-03-15T12:39:10.000000000',\n",
       "       '2020-03-15T12:28:23.000000000', '2020-03-15T12:32:12.000000000',\n",
       "       '2020-03-15T12:37:16.000000000', '2020-03-15T12:36:46.000000000',\n",
       "       '2020-03-15T12:32:41.000000000', '2020-03-15T12:32:39.000000000',\n",
       "       '2020-03-15T12:35:15.000000000', '2020-03-15T12:36:13.000000000',\n",
       "       '2020-03-15T12:41:21.000000000', '2020-03-15T12:36:07.000000000',\n",
       "       '2020-03-15T12:54:15.000000000', '2020-03-15T12:43:33.000000000',\n",
       "       '2020-03-15T12:58:47.000000000', '2020-03-15T12:47:01.000000000',\n",
       "       '2020-03-15T12:46:41.000000000', '2020-03-15T12:44:03.000000000',\n",
       "       '2020-03-15T12:48:00.000000000', '2020-03-15T12:58:13.000000000',\n",
       "       '2020-03-15T12:50:04.000000000', '2020-03-15T12:57:32.000000000',\n",
       "       '2020-03-15T12:59:28.000000000', '2020-03-15T12:59:55.000000000',\n",
       "       '2020-03-15T12:09:21.000000000', '2020-03-15T12:53:15.000000000',\n",
       "       '2020-03-15T12:59:07.000000000', '2020-03-15T12:50:52.000000000',\n",
       "       '2020-03-29T12:04:08.000000000', '2020-03-29T12:12:18.000000000',\n",
       "       '2020-03-29T12:05:30.000000000', '2020-03-29T12:10:46.000000000',\n",
       "       '2020-03-29T12:03:17.000000000', '2020-03-29T12:03:54.000000000',\n",
       "       '2020-03-29T12:17:38.000000000', '2020-03-29T12:12:30.000000000',\n",
       "       '2020-03-29T12:05:29.000000000', '2020-03-29T12:08:28.000000000',\n",
       "       '2020-03-29T12:08:39.000000000', '2020-03-29T12:08:18.000000000',\n",
       "       '2020-03-29T12:03:32.000000000', '2020-03-29T12:15:28.000000000',\n",
       "       '2020-03-29T12:08:47.000000000', '2020-03-29T12:11:32.000000000',\n",
       "       '2020-03-29T12:13:46.000000000', '2020-03-29T12:51:09.000000000',\n",
       "       '2020-03-29T12:17:35.000000000', '2020-03-29T12:30:21.000000000',\n",
       "       '2020-03-29T12:24:50.000000000', '2020-03-29T12:38:02.000000000',\n",
       "       '2020-03-29T12:36:13.000000000', '2020-03-29T12:45:37.000000000',\n",
       "       '2020-03-29T12:38:06.000000000', '2020-03-29T12:29:37.000000000',\n",
       "       '2020-03-29T12:23:21.000000000', '2020-03-29T12:34:58.000000000',\n",
       "       '2020-03-29T12:26:07.000000000', '2020-03-29T12:25:42.000000000',\n",
       "       '2020-03-29T12:41:38.000000000', '2020-03-29T12:28:28.000000000',\n",
       "       '2020-03-29T12:41:43.000000000', '2020-03-29T12:40:26.000000000',\n",
       "       '2020-03-29T12:41:33.000000000', '2020-03-29T12:40:15.000000000',\n",
       "       '2020-03-29T12:24:25.000000000', '2020-03-29T12:34:42.000000000',\n",
       "       '2020-03-29T12:35:50.000000000', '2020-03-29T12:43:44.000000000',\n",
       "       '2020-03-29T12:38:05.000000000', '2020-03-29T12:43:08.000000000',\n",
       "       '2020-03-29T12:34:41.000000000', '2020-03-29T12:32:21.000000000',\n",
       "       '2020-03-29T12:49:05.000000000', '2020-03-29T12:51:32.000000000',\n",
       "       '2020-03-29T12:34:59.000000000', '2020-03-29T12:44:12.000000000',\n",
       "       '2020-03-29T12:46:20.000000000', '2020-03-29T12:45:26.000000000',\n",
       "       '2020-03-29T12:54:10.000000000', '2020-03-29T12:48:45.000000000',\n",
       "       '2020-03-29T12:43:02.000000000', '2020-03-29T12:57:01.000000000',\n",
       "       '2020-03-29T12:50:52.000000000', '2020-03-29T12:45:59.000000000',\n",
       "       '2020-03-29T12:58:34.000000000', '2020-03-29T12:58:21.000000000',\n",
       "       '2020-03-29T12:59:19.000000000', '2020-03-29T12:52:24.000000000',\n",
       "       '2020-03-22T12:02:00.000000000', '2020-03-22T12:05:08.000000000',\n",
       "       '2020-03-22T12:11:38.000000000', '2020-03-22T12:04:04.000000000',\n",
       "       '2020-03-22T12:16:06.000000000', '2020-03-22T12:16:52.000000000',\n",
       "       '2020-03-22T12:07:39.000000000', '2020-03-22T12:32:15.000000000',\n",
       "       '2020-03-22T12:20:46.000000000', '2020-03-22T12:23:39.000000000',\n",
       "       '2020-03-22T12:12:04.000000000', '2020-03-22T12:21:47.000000000',\n",
       "       '2020-03-22T12:27:43.000000000', '2020-03-22T12:18:47.000000000',\n",
       "       '2020-03-22T12:26:53.000000000', '2020-03-22T12:29:40.000000000',\n",
       "       '2020-03-22T12:32:18.000000000', '2020-03-22T12:30:23.000000000',\n",
       "       '2020-03-22T12:38:18.000000000', '2020-03-22T12:22:27.000000000',\n",
       "       '2020-03-22T12:39:35.000000000', '2020-03-22T12:35:19.000000000',\n",
       "       '2020-03-22T12:26:28.000000000', '2020-03-22T12:32:51.000000000',\n",
       "       '2020-03-22T12:52:44.000000000', '2020-03-22T12:37:09.000000000',\n",
       "       '2020-03-22T12:33:35.000000000', '2020-03-22T12:35:48.000000000',\n",
       "       '2020-03-22T12:43:04.000000000', '2020-03-22T12:39:51.000000000',\n",
       "       '2020-03-22T12:30:43.000000000', '2020-03-22T12:29:51.000000000',\n",
       "       '2020-03-22T12:34:31.000000000', '2020-03-22T12:41:35.000000000',\n",
       "       '2020-03-22T12:45:43.000000000', '2020-03-22T12:31:47.000000000',\n",
       "       '2020-03-22T12:41:05.000000000', '2020-03-22T12:50:02.000000000',\n",
       "       '2020-03-22T12:51:13.000000000', '2020-03-22T12:43:56.000000000',\n",
       "       '2020-03-22T12:56:21.000000000', '2020-03-22T12:52:53.000000000',\n",
       "       '2020-03-22T12:55:56.000000000', '2020-03-22T12:45:07.000000000',\n",
       "       '2020-03-22T12:51:37.000000000', '2020-03-08T12:11:42.000000000',\n",
       "       '2020-03-08T12:07:49.000000000', '2020-03-08T12:02:39.000000000',\n",
       "       '2020-03-08T12:10:40.000000000', '2020-03-08T12:11:57.000000000',\n",
       "       '2020-03-08T12:10:44.000000000', '2020-03-08T12:06:34.000000000',\n",
       "       '2020-03-08T12:08:40.000000000', '2020-03-08T12:02:42.000000000',\n",
       "       '2020-03-08T12:11:32.000000000', '2020-03-08T12:14:53.000000000',\n",
       "       '2020-03-08T12:13:11.000000000', '2020-03-08T12:07:38.000000000',\n",
       "       '2020-03-08T12:27:52.000000000', '2020-03-08T12:22:11.000000000',\n",
       "       '2020-03-08T12:27:10.000000000', '2020-03-08T12:34:26.000000000',\n",
       "       '2020-03-08T12:30:40.000000000', '2020-03-08T12:25:26.000000000',\n",
       "       '2020-03-08T12:27:44.000000000', '2020-03-08T12:19:43.000000000',\n",
       "       '2020-03-08T12:31:47.000000000', '2020-03-08T12:28:09.000000000',\n",
       "       '2020-03-08T12:37:22.000000000', '2020-03-08T12:20:34.000000000',\n",
       "       '2020-03-08T12:50:17.000000000', '2020-03-08T12:25:12.000000000',\n",
       "       '2020-03-08T12:33:20.000000000', '2020-03-08T12:23:15.000000000',\n",
       "       '2020-03-08T12:50:51.000000000', '2020-03-08T12:36:22.000000000',\n",
       "       '2020-03-08T12:35:12.000000000', '2020-03-08T12:41:08.000000000',\n",
       "       '2020-03-08T12:41:15.000000000', '2020-03-08T12:37:15.000000000',\n",
       "       '2020-03-08T12:43:50.000000000', '2020-03-08T12:36:31.000000000',\n",
       "       '2020-03-08T12:40:47.000000000', '2020-03-08T12:58:20.000000000',\n",
       "       '2020-03-08T12:47:06.000000000', '2020-03-08T12:34:04.000000000',\n",
       "       '2020-03-08T12:56:44.000000000', '2020-03-08T12:51:14.000000000',\n",
       "       '2020-03-08T12:55:02.000000000', '2020-03-08T12:39:16.000000000',\n",
       "       '2020-03-08T12:43:26.000000000', '2020-03-08T12:45:21.000000000',\n",
       "       '2020-03-08T12:45:30.000000000', '2020-03-08T12:39:21.000000000',\n",
       "       '2020-03-08T12:59:38.000000000', '2020-03-08T12:57:43.000000000',\n",
       "       '2020-03-08T12:54:26.000000000', '2020-03-08T12:50:29.000000000',\n",
       "       '2020-03-08T12:59:40.000000000', '2020-03-08T12:50:44.000000000',\n",
       "       '2020-03-08T12:10:57.000000000', '2020-03-08T12:56:51.000000000',\n",
       "       '2020-03-08T12:54:16.000000000', '2020-04-12T12:00:50.000000000',\n",
       "       '2020-04-12T12:02:51.000000000', '2020-04-12T12:10:50.000000000',\n",
       "       '2020-04-12T12:08:41.000000000', '2020-04-12T12:14:04.000000000',\n",
       "       '2020-04-12T12:14:35.000000000', '2020-04-12T12:13:45.000000000',\n",
       "       '2020-04-12T12:09:25.000000000', '2020-04-12T12:04:46.000000000',\n",
       "       '2020-04-12T12:08:59.000000000', '2020-04-12T12:02:04.000000000',\n",
       "       '2020-04-12T12:05:44.000000000', '2020-04-12T12:13:35.000000000',\n",
       "       '2020-04-12T12:23:09.000000000', '2020-04-12T12:23:46.000000000',\n",
       "       '2020-04-12T12:06:48.000000000', '2020-04-12T12:04:42.000000000',\n",
       "       '2020-04-12T12:28:58.000000000', '2020-04-12T12:27:48.000000000',\n",
       "       '2020-04-12T12:14:56.000000000', '2020-04-12T12:26:35.000000000',\n",
       "       '2020-04-12T12:39:29.000000000', '2020-04-12T12:17:36.000000000',\n",
       "       '2020-04-12T12:18:41.000000000', '2020-04-12T12:24:29.000000000',\n",
       "       '2020-04-12T12:19:07.000000000', '2020-04-12T12:28:25.000000000',\n",
       "       '2020-04-12T12:22:11.000000000', '2020-04-12T12:21:30.000000000',\n",
       "       '2020-04-12T12:24:33.000000000', '2020-04-05T12:08:35.000000000',\n",
       "       '2020-04-05T12:02:21.000000000', '2020-04-05T12:16:55.000000000',\n",
       "       '2020-04-05T12:20:41.000000000', '2020-04-05T12:12:53.000000000',\n",
       "       '2020-04-05T12:04:32.000000000', '2020-04-05T12:26:09.000000000',\n",
       "       '2020-04-05T12:22:13.000000000', '2020-04-05T12:19:11.000000000',\n",
       "       '2020-04-05T12:15:14.000000000', '2020-04-05T12:15:14.000000000',\n",
       "       '2020-04-05T12:20:23.000000000', '2020-04-05T12:18:43.000000000',\n",
       "       '2020-04-05T12:16:41.000000000', '2020-04-05T12:18:08.000000000',\n",
       "       '2020-04-05T12:18:40.000000000', '2020-04-05T12:10:43.000000000',\n",
       "       '2020-04-05T12:33:25.000000000', '2020-04-05T12:31:26.000000000',\n",
       "       '2020-04-05T12:50:53.000000000', '2020-04-05T12:25:37.000000000',\n",
       "       '2020-04-05T12:27:41.000000000', '2020-04-05T12:23:34.000000000',\n",
       "       '2020-04-05T12:26:19.000000000', '2020-04-05T12:52:36.000000000',\n",
       "       '2020-04-05T12:40:10.000000000', '2020-04-05T12:31:14.000000000',\n",
       "       '2020-04-05T12:59:24.000000000', '2020-04-05T12:34:55.000000000',\n",
       "       '2020-04-05T12:45:28.000000000', '2020-04-05T12:36:22.000000000',\n",
       "       '2020-04-05T12:49:25.000000000', '2020-04-05T12:49:45.000000000',\n",
       "       '2020-04-05T12:40:14.000000000', '2020-04-05T12:38:29.000000000',\n",
       "       '2020-04-05T12:46:06.000000000', '2020-04-05T12:46:55.000000000',\n",
       "       '2020-04-05T12:57:04.000000000', '2020-04-05T12:51:04.000000000',\n",
       "       '2020-04-05T12:51:17.000000000', '2020-04-05T12:44:49.000000000',\n",
       "       '2020-04-05T12:58:43.000000000', '2020-04-05T12:59:46.000000000',\n",
       "       '2020-04-05T12:56:29.000000000', '2020-04-05T12:50:13.000000000',\n",
       "       '2020-04-19T12:09:08.000000000', '2020-04-19T12:08:15.000000000',\n",
       "       '2020-04-19T12:08:23.000000000', '2020-04-19T12:04:27.000000000',\n",
       "       '2020-04-19T12:00:53.000000000', '2020-04-19T12:08:00.000000000',\n",
       "       '2020-04-19T12:08:00.000000000', '2020-04-19T12:01:44.000000000',\n",
       "       '2020-04-19T12:01:06.000000000', '2020-04-19T12:14:52.000000000',\n",
       "       '2020-04-19T12:05:28.000000000', '2020-04-19T12:02:12.000000000',\n",
       "       '2020-04-19T12:04:44.000000000', '2020-04-19T12:19:10.000000000',\n",
       "       '2020-04-19T12:20:46.000000000', '2020-04-19T12:02:54.000000000',\n",
       "       '2020-04-19T12:11:31.000000000', '2020-04-19T12:14:21.000000000',\n",
       "       '2020-04-19T12:12:39.000000000', '2020-04-19T12:21:10.000000000',\n",
       "       '2020-04-19T12:18:29.000000000', '2020-04-19T12:15:56.000000000',\n",
       "       '2020-04-19T12:12:25.000000000', '2020-04-19T12:15:44.000000000',\n",
       "       '2020-04-19T12:40:45.000000000', '2020-04-19T12:15:26.000000000',\n",
       "       '2020-04-19T12:29:04.000000000', '2020-04-19T12:27:42.000000000',\n",
       "       '2020-04-19T12:24:35.000000000', '2020-04-19T12:31:04.000000000',\n",
       "       '2020-04-19T12:18:13.000000000', '2020-04-19T12:22:59.000000000',\n",
       "       '2020-04-19T12:19:34.000000000', '2020-05-03T12:07:16.000000000',\n",
       "       '2020-08-23T12:01:56.000000000', '2020-08-23T12:00:55.000000000',\n",
       "       '2020-08-23T12:06:42.000000000', '2020-08-23T12:24:15.000000000',\n",
       "       '2020-08-23T12:18:54.000000000', '2020-08-23T12:02:23.000000000',\n",
       "       '2020-08-23T12:14:03.000000000', '2020-08-23T12:09:53.000000000',\n",
       "       '2020-08-23T12:17:52.000000000', '2020-08-23T12:07:37.000000000',\n",
       "       '2020-08-23T12:17:22.000000000', '2020-08-23T12:05:50.000000000',\n",
       "       '2020-08-23T12:03:12.000000000', '2020-08-23T12:06:17.000000000',\n",
       "       '2020-08-23T12:14:27.000000000', '2020-08-23T12:22:23.000000000',\n",
       "       '2020-08-23T12:06:09.000000000', '2020-08-23T12:16:11.000000000',\n",
       "       '2020-08-23T12:20:36.000000000', '2020-08-23T12:09:21.000000000',\n",
       "       '2020-08-23T12:17:37.000000000', '2020-08-23T12:20:54.000000000',\n",
       "       '2020-08-23T12:21:51.000000000', '2020-08-23T12:40:44.000000000',\n",
       "       '2020-08-23T12:28:16.000000000', '2020-08-23T12:23:33.000000000',\n",
       "       '2020-08-23T12:15:30.000000000', '2020-08-23T12:15:35.000000000',\n",
       "       '2020-08-23T12:20:00.000000000', '2020-08-23T12:17:36.000000000',\n",
       "       '2020-08-23T12:21:39.000000000', '2020-08-23T12:18:50.000000000',\n",
       "       '2020-08-23T12:29:54.000000000', '2020-08-23T12:47:26.000000000',\n",
       "       '2020-08-23T12:47:26.000000000', '2020-08-23T12:31:26.000000000',\n",
       "       '2020-08-23T12:37:12.000000000', '2020-08-23T12:45:58.000000000',\n",
       "       '2020-08-23T12:37:24.000000000', '2020-08-23T12:33:44.000000000',\n",
       "       '2020-08-23T12:43:13.000000000', '2020-08-23T12:31:14.000000000',\n",
       "       '2020-08-23T12:18:10.000000000', '2020-08-23T12:33:39.000000000',\n",
       "       '2020-08-23T12:28:07.000000000', '2020-08-23T12:30:56.000000000',\n",
       "       '2020-08-23T12:48:34.000000000', '2020-08-30T12:01:00.000000000',\n",
       "       '2020-08-30T12:04:47.000000000', '2020-08-30T12:04:47.000000000',\n",
       "       '2020-08-30T12:02:16.000000000', '2020-08-30T12:03:02.000000000',\n",
       "       '2020-08-30T12:05:17.000000000', '2020-08-30T12:15:00.000000000',\n",
       "       '2020-08-30T12:07:20.000000000', '2020-08-30T12:13:41.000000000',\n",
       "       '2020-08-30T12:11:49.000000000', '2020-08-30T12:18:59.000000000',\n",
       "       '2020-08-30T12:23:25.000000000', '2020-08-30T12:21:02.000000000',\n",
       "       '2020-08-30T12:21:02.000000000', '2020-08-30T12:23:09.000000000',\n",
       "       '2020-08-30T12:23:58.000000000', '2020-08-30T12:15:42.000000000',\n",
       "       '2020-08-30T12:19:11.000000000', '2020-08-30T12:24:12.000000000',\n",
       "       '2020-08-30T12:18:01.000000000', '2020-08-30T12:48:14.000000000',\n",
       "       '2020-08-30T12:21:39.000000000', '2020-08-30T12:48:36.000000000',\n",
       "       '2020-08-30T12:36:50.000000000', '2020-08-30T12:34:03.000000000',\n",
       "       '2020-08-30T12:31:36.000000000', '2020-08-30T12:25:58.000000000',\n",
       "       '2020-08-30T12:47:16.000000000', '2020-08-30T12:35:18.000000000',\n",
       "       '2020-08-30T12:42:40.000000000', '2020-08-30T12:41:05.000000000',\n",
       "       '2020-08-30T12:41:07.000000000', '2020-08-30T12:29:23.000000000',\n",
       "       '2020-08-30T12:40:04.000000000', '2020-08-30T12:40:28.000000000',\n",
       "       '2020-08-30T12:47:41.000000000', '2020-08-30T12:22:07.000000000',\n",
       "       '2020-08-30T12:22:07.000000000', '2020-08-30T12:36:11.000000000',\n",
       "       '2020-08-30T12:31:13.000000000', '2020-08-30T12:45:06.000000000',\n",
       "       '2020-08-30T12:33:45.000000000', '2020-08-30T12:50:13.000000000',\n",
       "       '2020-08-30T12:35:24.000000000', '2020-08-30T12:46:29.000000000',\n",
       "       '2020-08-30T12:51:18.000000000', '2020-08-30T12:49:18.000000000',\n",
       "       '2020-08-30T12:51:19.000000000', '2020-08-30T12:53:20.000000000',\n",
       "       '2020-08-30T12:57:34.000000000', '2020-08-30T12:52:25.000000000',\n",
       "       '2020-08-30T12:55:18.000000000', '2020-09-20T12:02:04.000000000',\n",
       "       '2020-09-20T12:09:54.000000000', '2020-09-20T12:13:29.000000000',\n",
       "       '2020-09-20T12:18:11.000000000', '2020-09-20T12:08:57.000000000',\n",
       "       '2020-09-20T12:10:29.000000000', '2020-09-20T12:20:05.000000000',\n",
       "       '2020-09-20T12:15:50.000000000', '2020-09-20T12:11:31.000000000',\n",
       "       '2020-09-20T12:07:11.000000000', '2020-09-20T12:02:55.000000000',\n",
       "       '2020-09-20T12:05:15.000000000', '2020-09-20T12:35:59.000000000',\n",
       "       '2020-09-20T12:17:38.000000000', '2020-09-20T12:17:27.000000000',\n",
       "       '2020-09-20T12:21:55.000000000', '2020-09-20T12:11:46.000000000',\n",
       "       '2020-09-20T12:17:12.000000000', '2020-09-20T12:14:48.000000000',\n",
       "       '2020-09-20T12:09:06.000000000', '2020-09-13T12:01:06.000000000',\n",
       "       '2020-09-13T12:06:30.000000000', '2020-09-13T12:01:36.000000000',\n",
       "       '2020-09-13T12:08:47.000000000', '2020-09-13T12:04:55.000000000',\n",
       "       '2020-09-13T12:00:26.000000000', '2020-09-13T12:03:22.000000000',\n",
       "       '2020-09-13T12:06:00.000000000', '2020-09-13T12:12:03.000000000',\n",
       "       '2020-09-13T12:00:09.000000000', '2020-09-13T12:00:15.000000000',\n",
       "       '2020-09-13T12:00:30.000000000', '2020-09-13T12:12:54.000000000',\n",
       "       '2020-09-13T12:19:58.000000000', '2020-09-13T12:21:18.000000000',\n",
       "       '2020-09-13T12:23:51.000000000', '2020-09-13T12:11:56.000000000',\n",
       "       '2020-09-13T12:08:01.000000000', '2020-09-13T12:29:18.000000000',\n",
       "       '2020-09-13T12:14:40.000000000', '2020-09-13T12:14:40.000000000',\n",
       "       '2020-09-13T12:26:12.000000000', '2020-09-13T12:32:00.000000000',\n",
       "       '2020-09-13T12:17:52.000000000', '2020-09-13T12:25:53.000000000',\n",
       "       '2020-09-13T12:29:26.000000000', '2020-09-13T12:18:32.000000000',\n",
       "       '2020-09-13T12:24:42.000000000', '2020-09-13T12:28:52.000000000',\n",
       "       '2020-09-13T12:29:17.000000000', '2020-09-13T12:28:46.000000000',\n",
       "       '2020-09-13T12:26:18.000000000', '2020-09-13T12:34:17.000000000',\n",
       "       '2020-09-13T12:37:16.000000000', '2020-09-13T12:20:58.000000000',\n",
       "       '2020-09-13T12:10:28.000000000', '2020-09-13T12:26:43.000000000',\n",
       "       '2020-09-13T12:38:15.000000000', '2020-09-13T12:34:42.000000000',\n",
       "       '2020-09-13T12:35:36.000000000', '2020-09-13T12:29:33.000000000',\n",
       "       '2020-09-13T12:30:28.000000000', '2020-09-06T12:11:01.000000000',\n",
       "       '2020-09-06T12:00:45.000000000', '2020-09-06T12:05:51.000000000',\n",
       "       '2020-09-06T12:01:28.000000000', '2020-09-06T12:06:04.000000000',\n",
       "       '2020-09-06T12:00:07.000000000', '2020-09-06T12:04:46.000000000',\n",
       "       '2020-09-06T12:00:19.000000000', '2020-09-06T12:07:38.000000000',\n",
       "       '2020-09-06T12:05:32.000000000', '2020-09-06T12:01:09.000000000',\n",
       "       '2020-09-06T12:04:20.000000000', '2020-09-06T12:06:36.000000000',\n",
       "       '2020-09-06T12:00:12.000000000', '2020-09-06T12:21:45.000000000',\n",
       "       '2020-09-06T12:09:55.000000000', '2020-09-06T12:05:25.000000000',\n",
       "       '2020-09-06T12:16:12.000000000', '2020-09-06T12:16:12.000000000',\n",
       "       '2020-09-06T12:15:13.000000000', '2020-09-06T12:42:18.000000000',\n",
       "       '2020-09-06T12:24:55.000000000', '2020-09-06T12:32:46.000000000',\n",
       "       '2020-09-06T12:11:13.000000000', '2020-09-06T12:32:58.000000000',\n",
       "       '2020-09-06T12:25:45.000000000', '2020-09-06T12:26:52.000000000',\n",
       "       '2020-09-06T12:24:35.000000000', '2020-09-06T12:34:37.000000000',\n",
       "       '2020-09-06T12:50:31.000000000', '2020-09-06T12:44:19.000000000',\n",
       "       '2020-09-06T12:27:27.000000000', '2020-09-06T12:30:20.000000000',\n",
       "       '2020-09-06T12:36:15.000000000', '2020-09-06T12:40:20.000000000',\n",
       "       '2020-09-06T12:27:23.000000000', '2020-09-06T12:42:05.000000000',\n",
       "       '2020-09-06T12:43:23.000000000', '2020-09-06T12:52:58.000000000',\n",
       "       '2020-09-06T12:52:09.000000000', '2020-09-06T12:49:00.000000000',\n",
       "       '2020-09-06T12:48:24.000000000', '2020-09-06T12:33:19.000000000',\n",
       "       '2020-09-06T12:44:47.000000000', '2020-09-06T12:51:05.000000000',\n",
       "       '2020-09-06T12:42:59.000000000', '2020-09-06T12:48:04.000000000',\n",
       "       '2020-09-06T12:54:56.000000000', '2020-09-06T12:51:18.000000000',\n",
       "       '2020-09-06T12:54:27.000000000', '2020-09-06T12:52:35.000000000',\n",
       "       '2020-09-06T12:54:05.000000000', '2020-09-06T12:49:19.000000000',\n",
       "       '2020-09-06T12:51:49.000000000', '2020-09-06T12:54:56.000000000',\n",
       "       '2020-09-06T12:57:57.000000000', '2020-10-04T12:06:08.000000000',\n",
       "       '2020-12-20T12:00:23.000000000', '2020-12-20T12:01:09.000000000',\n",
       "       '2020-12-20T12:04:12.000000000', '2020-12-20T12:03:02.000000000',\n",
       "       '2020-12-20T12:08:30.000000000', '2020-12-20T12:08:01.000000000',\n",
       "       '2020-12-20T12:11:23.000000000', '2020-12-20T12:12:03.000000000',\n",
       "       '2020-12-20T12:12:01.000000000', '2020-12-20T12:07:33.000000000',\n",
       "       '2020-12-20T12:04:52.000000000', '2020-12-20T12:15:40.000000000',\n",
       "       '2020-12-20T12:01:00.000000000', '2020-12-20T12:16:51.000000000',\n",
       "       '2020-12-20T12:25:42.000000000', '2020-12-20T12:04:02.000000000',\n",
       "       '2020-12-20T12:05:01.000000000', '2020-12-20T12:06:03.000000000',\n",
       "       '2020-12-20T12:10:17.000000000', '2020-12-20T12:29:16.000000000',\n",
       "       '2020-12-20T12:11:04.000000000', '2020-12-20T12:11:04.000000000',\n",
       "       '2020-12-20T12:22:13.000000000', '2020-12-20T12:18:05.000000000',\n",
       "       '2020-12-20T12:24:51.000000000', '2020-12-20T12:21:32.000000000',\n",
       "       '2020-12-20T12:23:16.000000000', '2020-12-20T12:25:50.000000000',\n",
       "       '2020-12-20T12:27:18.000000000', '2020-12-20T12:40:49.000000000',\n",
       "       '2020-12-20T12:38:03.000000000', '2020-12-20T12:49:07.000000000',\n",
       "       '2020-12-20T12:49:07.000000000', '2020-12-20T12:28:21.000000000',\n",
       "       '2020-12-20T12:24:17.000000000', '2020-12-27T12:12:02.000000000',\n",
       "       '2020-12-27T12:06:35.000000000', '2020-12-27T12:05:45.000000000',\n",
       "       '2020-12-27T12:01:16.000000000', '2020-12-27T12:04:36.000000000',\n",
       "       '2020-12-27T12:08:14.000000000', '2020-12-27T12:09:49.000000000',\n",
       "       '2020-12-27T12:31:16.000000000', '2020-12-27T12:12:36.000000000',\n",
       "       '2020-12-27T12:23:35.000000000', '2020-12-27T12:12:06.000000000',\n",
       "       '2020-12-27T12:26:11.000000000', '2020-12-27T12:39:01.000000000',\n",
       "       '2020-12-27T12:20:25.000000000', '2020-12-27T12:24:50.000000000',\n",
       "       '2020-12-27T12:25:50.000000000', '2020-12-27T12:21:29.000000000',\n",
       "       '2020-12-27T12:25:48.000000000', '2020-12-27T12:30:06.000000000',\n",
       "       '2020-12-27T12:27:31.000000000', '2020-12-27T12:21:22.000000000',\n",
       "       '2020-12-27T12:25:58.000000000', '2020-12-27T12:30:46.000000000',\n",
       "       '2020-12-27T12:22:24.000000000', '2020-12-27T12:33:52.000000000',\n",
       "       '2020-12-27T12:33:57.000000000', '2020-12-27T12:42:23.000000000',\n",
       "       '2020-12-27T12:45:49.000000000', '2020-12-27T12:31:10.000000000',\n",
       "       '2020-12-27T12:33:33.000000000', '2020-12-27T12:41:28.000000000',\n",
       "       '2020-12-27T12:23:20.000000000', '2020-12-27T12:46:29.000000000',\n",
       "       '2020-12-27T12:32:49.000000000', '2020-12-27T12:30:50.000000000',\n",
       "       '2020-12-27T12:42:25.000000000', '2020-12-27T12:33:38.000000000',\n",
       "       '2020-12-27T12:24:52.000000000', '2020-12-27T12:43:48.000000000',\n",
       "       '2020-12-27T12:42:28.000000000', '2020-12-27T12:42:05.000000000',\n",
       "       '2020-12-27T12:52:00.000000000', '2020-12-27T12:49:40.000000000',\n",
       "       '2020-12-27T12:31:55.000000000', '2020-12-27T12:54:52.000000000',\n",
       "       '2020-12-27T12:49:04.000000000', '2020-12-27T12:51:54.000000000',\n",
       "       '2020-12-27T12:55:17.000000000', '2020-12-27T12:51:37.000000000',\n",
       "       '2020-12-27T12:54:44.000000000', '2020-12-27T12:59:36.000000000',\n",
       "       '2020-12-27T12:52:19.000000000', '2020-12-27T12:57:31.000000000',\n",
       "       '2020-12-13T12:00:29.000000000', '2020-12-13T12:03:53.000000000',\n",
       "       '2020-12-13T12:02:33.000000000', '2020-12-13T12:15:14.000000000',\n",
       "       '2020-12-13T12:15:13.000000000', '2020-12-13T12:17:39.000000000',\n",
       "       '2020-12-13T12:17:39.000000000', '2020-12-13T12:06:43.000000000',\n",
       "       '2020-12-13T12:34:19.000000000', '2020-12-13T12:18:10.000000000',\n",
       "       '2020-12-13T12:20:20.000000000', '2020-12-13T12:12:11.000000000',\n",
       "       '2020-12-13T12:10:02.000000000', '2020-12-13T12:20:41.000000000',\n",
       "       '2020-12-13T12:05:06.000000000', '2020-12-13T12:14:48.000000000',\n",
       "       '2020-12-13T12:15:38.000000000', '2020-12-13T12:11:00.000000000',\n",
       "       '2020-12-13T12:39:58.000000000', '2020-12-13T12:22:16.000000000',\n",
       "       '2020-12-13T12:20:36.000000000', '2020-12-13T12:27:52.000000000',\n",
       "       '2020-12-13T12:39:11.000000000', '2020-12-13T12:35:23.000000000',\n",
       "       '2020-12-13T12:31:12.000000000', '2020-12-13T12:29:48.000000000',\n",
       "       '2020-12-13T12:26:17.000000000', '2020-12-13T12:28:55.000000000',\n",
       "       '2020-12-13T12:37:27.000000000', '2020-12-13T12:42:35.000000000',\n",
       "       '2020-12-13T12:31:17.000000000', '2020-12-13T12:36:45.000000000',\n",
       "       '2020-12-13T12:49:32.000000000', '2020-12-13T12:46:28.000000000',\n",
       "       '2020-12-13T12:33:43.000000000', '2020-12-13T12:47:24.000000000',\n",
       "       '2020-12-13T12:53:13.000000000', '2020-12-13T12:51:37.000000000',\n",
       "       '2020-12-13T12:44:05.000000000', '2020-12-13T12:55:44.000000000',\n",
       "       '2020-12-13T12:37:34.000000000', '2020-12-13T12:35:27.000000000',\n",
       "       '2020-12-13T12:39:28.000000000', '2020-12-13T12:38:27.000000000',\n",
       "       '2020-12-13T12:45:21.000000000', '2020-12-13T12:52:00.000000000',\n",
       "       '2020-12-13T12:47:01.000000000', '2020-12-13T12:36:46.000000000',\n",
       "       '2020-12-13T12:59:50.000000000', '2020-12-13T12:43:09.000000000',\n",
       "       '2021-01-10T12:07:30.000000000', '2021-01-10T12:09:30.000000000',\n",
       "       '2021-01-10T12:06:41.000000000', '2021-01-10T12:09:58.000000000',\n",
       "       '2021-01-10T12:08:10.000000000', '2021-01-10T12:23:35.000000000',\n",
       "       '2021-01-10T12:09:39.000000000', '2021-01-10T12:05:24.000000000',\n",
       "       '2021-01-10T12:13:26.000000000', '2021-01-10T12:20:52.000000000',\n",
       "       '2021-01-10T12:13:40.000000000', '2021-01-10T12:18:45.000000000',\n",
       "       '2021-01-10T12:25:47.000000000', '2021-01-10T12:17:35.000000000',\n",
       "       '2021-01-10T12:17:59.000000000', '2021-01-10T12:13:41.000000000',\n",
       "       '2021-01-10T12:33:32.000000000', '2021-01-10T12:21:56.000000000',\n",
       "       '2021-01-10T12:27:20.000000000', '2021-01-10T12:28:22.000000000',\n",
       "       '2021-01-10T12:36:40.000000000', '2021-01-10T12:27:04.000000000',\n",
       "       '2021-01-10T12:37:24.000000000', '2021-01-10T12:33:54.000000000',\n",
       "       '2021-01-10T12:38:33.000000000', '2021-01-10T12:42:13.000000000',\n",
       "       '2021-01-10T12:55:42.000000000', '2021-01-10T12:31:00.000000000',\n",
       "       '2021-01-10T12:41:42.000000000', '2021-01-10T12:38:16.000000000',\n",
       "       '2021-01-10T12:53:58.000000000', '2021-01-10T12:47:41.000000000',\n",
       "       '2021-01-10T12:44:00.000000000', '2021-01-10T12:46:41.000000000',\n",
       "       '2021-01-10T12:43:49.000000000', '2021-01-10T12:51:19.000000000',\n",
       "       '2021-01-10T12:40:42.000000000', '2021-01-10T12:49:01.000000000',\n",
       "       '2021-01-10T12:52:58.000000000', '2021-01-10T12:47:42.000000000',\n",
       "       '2021-01-10T12:35:02.000000000', '2021-01-10T12:57:59.000000000',\n",
       "       '2021-01-10T12:54:23.000000000', '2021-01-10T12:50:33.000000000',\n",
       "       '2021-01-10T12:42:25.000000000', '2021-01-10T12:42:53.000000000',\n",
       "       '2021-01-10T12:54:57.000000000', '2021-01-10T12:55:34.000000000',\n",
       "       '2021-01-10T12:48:32.000000000', '2021-01-10T12:44:14.000000000',\n",
       "       '2021-01-10T12:59:57.000000000', '2021-01-10T12:55:57.000000000',\n",
       "       '2021-01-10T12:46:20.000000000', '2021-01-10T12:55:48.000000000',\n",
       "       '2021-01-10T12:57:51.000000000', '2021-01-10T12:50:15.000000000',\n",
       "       '2021-01-10T12:59:36.000000000', '2021-01-17T12:01:48.000000000',\n",
       "       '2021-01-17T12:17:57.000000000', '2021-01-17T12:04:45.000000000',\n",
       "       '2021-01-17T12:05:57.000000000', '2021-01-17T12:10:15.000000000',\n",
       "       '2021-01-17T12:05:06.000000000', '2021-01-17T12:00:55.000000000',\n",
       "       '2021-01-17T12:25:15.000000000', '2021-01-17T12:06:51.000000000',\n",
       "       '2021-01-17T12:10:25.000000000', '2021-01-17T12:15:32.000000000',\n",
       "       '2021-01-17T12:29:44.000000000', '2021-01-17T12:13:30.000000000',\n",
       "       '2021-01-17T12:13:30.000000000', '2021-01-17T12:13:11.000000000',\n",
       "       '2021-01-17T12:17:42.000000000', '2021-01-17T12:17:34.000000000',\n",
       "       '2021-01-17T12:14:55.000000000', '2021-01-17T12:29:05.000000000',\n",
       "       '2021-01-17T12:26:34.000000000', '2021-01-17T12:40:40.000000000',\n",
       "       '2021-01-17T12:14:28.000000000', '2021-01-17T12:31:15.000000000',\n",
       "       '2021-01-17T12:58:29.000000000', '2021-01-17T12:22:33.000000000',\n",
       "       '2021-01-17T12:25:23.000000000', '2021-01-17T12:16:16.000000000',\n",
       "       '2021-01-17T12:19:19.000000000', '2021-01-17T12:26:10.000000000',\n",
       "       '2021-01-17T12:37:45.000000000', '2021-01-17T12:36:42.000000000',\n",
       "       '2021-01-17T12:35:24.000000000', '2021-01-17T12:37:40.000000000',\n",
       "       '2021-01-17T12:31:57.000000000', '2021-01-17T12:29:57.000000000',\n",
       "       '2021-01-17T12:40:56.000000000', '2021-01-17T12:30:14.000000000',\n",
       "       '2021-01-17T12:25:00.000000000', '2021-01-17T12:37:40.000000000',\n",
       "       '2021-01-17T12:42:22.000000000', '2021-01-17T12:37:55.000000000',\n",
       "       '2021-01-17T12:46:32.000000000', '2021-01-17T12:30:38.000000000',\n",
       "       '2021-01-17T12:44:24.000000000', '2021-01-17T12:32:37.000000000',\n",
       "       '2021-01-17T12:29:28.000000000', '2021-01-17T12:40:34.000000000',\n",
       "       '2021-01-17T12:40:34.000000000', '2021-01-17T12:36:17.000000000',\n",
       "       '2021-01-17T12:35:09.000000000', '2021-01-03T12:11:06.000000000',\n",
       "       '2021-01-03T12:13:00.000000000', '2021-01-03T12:03:32.000000000',\n",
       "       '2021-01-03T12:00:44.000000000', '2021-01-03T12:00:48.000000000',\n",
       "       '2021-01-03T12:11:31.000000000', '2021-01-03T12:01:36.000000000',\n",
       "       '2021-01-03T12:10:18.000000000', '2021-01-03T12:01:46.000000000',\n",
       "       '2021-01-03T12:23:06.000000000', '2021-01-03T12:16:50.000000000',\n",
       "       '2021-01-03T12:26:49.000000000', '2021-01-03T12:22:29.000000000',\n",
       "       '2021-01-03T12:27:07.000000000', '2021-01-03T12:26:27.000000000',\n",
       "       '2021-01-03T12:29:50.000000000', '2021-01-03T12:29:43.000000000',\n",
       "       '2021-01-03T12:24:08.000000000', '2021-01-03T12:32:57.000000000',\n",
       "       '2021-01-03T12:25:34.000000000', '2021-01-03T12:26:56.000000000',\n",
       "       '2021-01-03T12:28:44.000000000', '2021-01-03T12:40:13.000000000',\n",
       "       '2021-01-03T12:40:13.000000000', '2021-01-03T12:28:57.000000000',\n",
       "       '2021-01-03T12:42:32.000000000', '2021-01-03T12:38:24.000000000',\n",
       "       '2021-01-03T12:29:37.000000000', '2021-01-03T12:33:59.000000000',\n",
       "       '2021-01-03T12:28:03.000000000', '2021-01-03T12:34:38.000000000',\n",
       "       '2021-01-03T12:41:46.000000000', '2021-01-03T12:37:39.000000000',\n",
       "       '2021-01-03T12:51:27.000000000', '2021-01-03T12:40:23.000000000',\n",
       "       '2021-01-03T12:40:23.000000000', '2021-01-03T12:45:34.000000000',\n",
       "       '2021-01-03T12:47:45.000000000', '2021-01-03T12:41:10.000000000',\n",
       "       '2021-01-03T12:52:10.000000000', '2021-01-03T12:50:49.000000000',\n",
       "       '2021-01-03T12:46:16.000000000', '2021-01-03T12:53:34.000000000',\n",
       "       '2021-01-03T12:46:03.000000000', '2021-01-03T12:41:24.000000000',\n",
       "       '2021-01-03T12:38:35.000000000', '2021-01-03T12:50:53.000000000',\n",
       "       '2021-01-03T12:46:19.000000000', '2021-01-03T12:53:04.000000000',\n",
       "       '2021-01-03T12:55:32.000000000', '2021-01-03T12:44:23.000000000',\n",
       "       '2021-01-03T12:47:18.000000000', '2021-01-03T12:59:16.000000000',\n",
       "       '2021-01-03T12:58:32.000000000', '2021-01-03T12:56:17.000000000',\n",
       "       '2021-01-03T12:46:19.000000000', '2021-01-03T12:58:43.000000000',\n",
       "       '2021-01-03T12:47:13.000000000', '2021-01-03T12:57:51.000000000',\n",
       "       '2021-08-08T12:49:50.000000000', '2021-10-03T12:51:10.000000000'],\n",
       "      dtype='datetime64[ns]')"
      ]
     },
     "execution_count": 116,
     "metadata": {},
     "output_type": "execute_result"
    }
   ],
   "source": [
    "val_오후_after.values"
   ]
  },
  {
   "cell_type": "code",
   "execution_count": 105,
   "id": "b66e1583",
   "metadata": {},
   "outputs": [],
   "source": [
    "val_오후_before = df[df['오후'].dt.hour == 0]['오후'].index"
   ]
  },
  {
   "cell_type": "code",
   "execution_count": 117,
   "id": "5cbd717c",
   "metadata": {},
   "outputs": [],
   "source": [
    "df.loc[val_오후_before, '오후'] = val_오후_after.values"
   ]
  },
  {
   "cell_type": "code",
   "execution_count": 126,
   "id": "fa071c57",
   "metadata": {},
   "outputs": [
    {
     "data": {
      "text/html": [
       "<div>\n",
       "<style scoped>\n",
       "    .dataframe tbody tr th:only-of-type {\n",
       "        vertical-align: middle;\n",
       "    }\n",
       "\n",
       "    .dataframe tbody tr th {\n",
       "        vertical-align: top;\n",
       "    }\n",
       "\n",
       "    .dataframe thead th {\n",
       "        text-align: right;\n",
       "    }\n",
       "</style>\n",
       "<table border=\"1\" class=\"dataframe\">\n",
       "  <thead>\n",
       "    <tr style=\"text-align: right;\">\n",
       "      <th></th>\n",
       "      <th>no</th>\n",
       "      <th>cartype</th>\n",
       "      <th>receipttime</th>\n",
       "      <th>settime</th>\n",
       "      <th>ridetime</th>\n",
       "      <th>startpos1</th>\n",
       "      <th>startpos2</th>\n",
       "      <th>endpos1</th>\n",
       "      <th>endpos2</th>\n",
       "      <th>오전</th>\n",
       "      <th>오후</th>\n",
       "    </tr>\n",
       "  </thead>\n",
       "  <tbody>\n",
       "    <tr>\n",
       "      <th>198366</th>\n",
       "      <td>6144</td>\n",
       "      <td>중형승합</td>\n",
       "      <td>2020-03-01 오전 11:22:00</td>\n",
       "      <td>2020-03-01 오전 11:32:35</td>\n",
       "      <td>2020-03-01 오후 12:12:15</td>\n",
       "      <td>강서구</td>\n",
       "      <td>가양제2동</td>\n",
       "      <td>중랑구</td>\n",
       "      <td>면목제4동</td>\n",
       "      <td>NaT</td>\n",
       "      <td>2020-03-01 12:12:15</td>\n",
       "    </tr>\n",
       "    <tr>\n",
       "      <th>198371</th>\n",
       "      <td>7930</td>\n",
       "      <td>중형승합</td>\n",
       "      <td>2020-03-01 오전 11:31:00</td>\n",
       "      <td>2020-03-01 오전 11:39:58</td>\n",
       "      <td>2020-03-01 오후 12:16:02</td>\n",
       "      <td>중구</td>\n",
       "      <td>회현동</td>\n",
       "      <td>은평구</td>\n",
       "      <td>응암제3동</td>\n",
       "      <td>NaT</td>\n",
       "      <td>2020-03-01 12:16:02</td>\n",
       "    </tr>\n",
       "    <tr>\n",
       "      <th>198374</th>\n",
       "      <td>1124</td>\n",
       "      <td>중형승합</td>\n",
       "      <td>2020-03-01 오전 11:37:00</td>\n",
       "      <td>2020-03-01 오전 11:46:42</td>\n",
       "      <td>2020-03-01 오후 12:04:06</td>\n",
       "      <td>강서구</td>\n",
       "      <td>방화제3동</td>\n",
       "      <td>강서구</td>\n",
       "      <td>가양제3동</td>\n",
       "      <td>NaT</td>\n",
       "      <td>2020-03-01 12:04:06</td>\n",
       "    </tr>\n",
       "    <tr>\n",
       "      <th>198378</th>\n",
       "      <td>9955</td>\n",
       "      <td>중형승합</td>\n",
       "      <td>2020-03-01 오전 11:43:00</td>\n",
       "      <td>2020-03-01 오전 11:46:29</td>\n",
       "      <td>2020-03-01 오후 12:00:38</td>\n",
       "      <td>양천구</td>\n",
       "      <td>신정3동</td>\n",
       "      <td>양천구</td>\n",
       "      <td>목1동</td>\n",
       "      <td>NaT</td>\n",
       "      <td>2020-03-01 12:00:38</td>\n",
       "    </tr>\n",
       "    <tr>\n",
       "      <th>198379</th>\n",
       "      <td>7648</td>\n",
       "      <td>중형승합</td>\n",
       "      <td>2020-03-01 오전 11:47:00</td>\n",
       "      <td>2020-03-01 오전 11:55:37</td>\n",
       "      <td>2020-03-01 오후 12:12:07</td>\n",
       "      <td>동대문구</td>\n",
       "      <td>신설동</td>\n",
       "      <td>성동구</td>\n",
       "      <td>마장동</td>\n",
       "      <td>NaT</td>\n",
       "      <td>2020-03-01 12:12:07</td>\n",
       "    </tr>\n",
       "    <tr>\n",
       "      <th>...</th>\n",
       "      <td>...</td>\n",
       "      <td>...</td>\n",
       "      <td>...</td>\n",
       "      <td>...</td>\n",
       "      <td>...</td>\n",
       "      <td>...</td>\n",
       "      <td>...</td>\n",
       "      <td>...</td>\n",
       "      <td>...</td>\n",
       "      <td>...</td>\n",
       "      <td>...</td>\n",
       "    </tr>\n",
       "    <tr>\n",
       "      <th>275854</th>\n",
       "      <td>8036</td>\n",
       "      <td>중형승합</td>\n",
       "      <td>2021-01-03 오후 12:40:00</td>\n",
       "      <td>2021-01-03 오후 12:41:45</td>\n",
       "      <td>2021-01-03 오후 12:58:43</td>\n",
       "      <td>중랑구</td>\n",
       "      <td>망우제3동</td>\n",
       "      <td>중랑구</td>\n",
       "      <td>신내2동</td>\n",
       "      <td>NaT</td>\n",
       "      <td>2021-01-03 12:58:43</td>\n",
       "    </tr>\n",
       "    <tr>\n",
       "      <th>275856</th>\n",
       "      <td>8260</td>\n",
       "      <td>중형승합</td>\n",
       "      <td>2021-01-03 오후 12:41:00</td>\n",
       "      <td>2021-01-03 오후 12:43:22</td>\n",
       "      <td>2021-01-03 오후 12:47:13</td>\n",
       "      <td>강남구</td>\n",
       "      <td>삼성1동</td>\n",
       "      <td>서대문구</td>\n",
       "      <td>북가좌제2동</td>\n",
       "      <td>NaT</td>\n",
       "      <td>2021-01-03 12:47:13</td>\n",
       "    </tr>\n",
       "    <tr>\n",
       "      <th>275858</th>\n",
       "      <td>8157</td>\n",
       "      <td>중형승합</td>\n",
       "      <td>2021-01-03 오후 12:42:00</td>\n",
       "      <td>2021-01-03 오후 12:51:36</td>\n",
       "      <td>2021-01-03 오후 12:57:51</td>\n",
       "      <td>송파구</td>\n",
       "      <td>잠실3동</td>\n",
       "      <td>송파구</td>\n",
       "      <td>잠실본동</td>\n",
       "      <td>NaT</td>\n",
       "      <td>2021-01-03 12:57:51</td>\n",
       "    </tr>\n",
       "    <tr>\n",
       "      <th>327847</th>\n",
       "      <td>809</td>\n",
       "      <td>중형승합</td>\n",
       "      <td>2021-08-08 오전 9:58:00</td>\n",
       "      <td>2021-08-08 오후 12:07:26</td>\n",
       "      <td>2021-08-08 오후 12:49:50</td>\n",
       "      <td>동작구</td>\n",
       "      <td>사당제1동</td>\n",
       "      <td>동작구</td>\n",
       "      <td>상도제2동</td>\n",
       "      <td>NaT</td>\n",
       "      <td>2021-08-08 12:49:50</td>\n",
       "    </tr>\n",
       "    <tr>\n",
       "      <th>346539</th>\n",
       "      <td>1571</td>\n",
       "      <td>중형승합</td>\n",
       "      <td>2021-10-03 오전 9:32:00</td>\n",
       "      <td>2021-10-03 오후 12:04:21</td>\n",
       "      <td>2021-10-03 오후 12:51:10</td>\n",
       "      <td>성북구</td>\n",
       "      <td>길음제1동</td>\n",
       "      <td>성북구</td>\n",
       "      <td>월곡제2동</td>\n",
       "      <td>NaT</td>\n",
       "      <td>2021-10-03 12:51:10</td>\n",
       "    </tr>\n",
       "  </tbody>\n",
       "</table>\n",
       "<p>896 rows × 11 columns</p>\n",
       "</div>"
      ],
      "text/plain": [
       "          no cartype             receipttime                 settime  \\\n",
       "198366  6144    중형승합  2020-03-01 오전 11:22:00  2020-03-01 오전 11:32:35   \n",
       "198371  7930    중형승합  2020-03-01 오전 11:31:00  2020-03-01 오전 11:39:58   \n",
       "198374  1124    중형승합  2020-03-01 오전 11:37:00  2020-03-01 오전 11:46:42   \n",
       "198378  9955    중형승합  2020-03-01 오전 11:43:00  2020-03-01 오전 11:46:29   \n",
       "198379  7648    중형승합  2020-03-01 오전 11:47:00  2020-03-01 오전 11:55:37   \n",
       "...      ...     ...                     ...                     ...   \n",
       "275854  8036    중형승합  2021-01-03 오후 12:40:00  2021-01-03 오후 12:41:45   \n",
       "275856  8260    중형승합  2021-01-03 오후 12:41:00  2021-01-03 오후 12:43:22   \n",
       "275858  8157    중형승합  2021-01-03 오후 12:42:00  2021-01-03 오후 12:51:36   \n",
       "327847   809    중형승합   2021-08-08 오전 9:58:00  2021-08-08 오후 12:07:26   \n",
       "346539  1571    중형승합   2021-10-03 오전 9:32:00  2021-10-03 오후 12:04:21   \n",
       "\n",
       "                      ridetime startpos1 startpos2 endpos1 endpos2  오전  \\\n",
       "198366  2020-03-01 오후 12:12:15       강서구     가양제2동     중랑구   면목제4동 NaT   \n",
       "198371  2020-03-01 오후 12:16:02        중구       회현동     은평구   응암제3동 NaT   \n",
       "198374  2020-03-01 오후 12:04:06       강서구     방화제3동     강서구   가양제3동 NaT   \n",
       "198378  2020-03-01 오후 12:00:38       양천구      신정3동     양천구     목1동 NaT   \n",
       "198379  2020-03-01 오후 12:12:07      동대문구       신설동     성동구     마장동 NaT   \n",
       "...                        ...       ...       ...     ...     ...  ..   \n",
       "275854  2021-01-03 오후 12:58:43       중랑구     망우제3동     중랑구    신내2동 NaT   \n",
       "275856  2021-01-03 오후 12:47:13       강남구      삼성1동    서대문구  북가좌제2동 NaT   \n",
       "275858  2021-01-03 오후 12:57:51       송파구      잠실3동     송파구    잠실본동 NaT   \n",
       "327847  2021-08-08 오후 12:49:50       동작구     사당제1동     동작구   상도제2동 NaT   \n",
       "346539  2021-10-03 오후 12:51:10       성북구     길음제1동     성북구   월곡제2동 NaT   \n",
       "\n",
       "                        오후  \n",
       "198366 2020-03-01 12:12:15  \n",
       "198371 2020-03-01 12:16:02  \n",
       "198374 2020-03-01 12:04:06  \n",
       "198378 2020-03-01 12:00:38  \n",
       "198379 2020-03-01 12:12:07  \n",
       "...                    ...  \n",
       "275854 2021-01-03 12:58:43  \n",
       "275856 2021-01-03 12:47:13  \n",
       "275858 2021-01-03 12:57:51  \n",
       "327847 2021-08-08 12:49:50  \n",
       "346539 2021-10-03 12:51:10  \n",
       "\n",
       "[896 rows x 11 columns]"
      ]
     },
     "execution_count": 126,
     "metadata": {},
     "output_type": "execute_result"
    }
   ],
   "source": [
    "df[df['오후'].dt.hour == 12]"
   ]
  },
  {
   "cell_type": "markdown",
   "id": "e471d3cd",
   "metadata": {},
   "source": [
    "## 이제 df['오후']와 df['오전']을 합쳐보자"
   ]
  },
  {
   "cell_type": "code",
   "execution_count": 127,
   "id": "5bb41c19",
   "metadata": {},
   "outputs": [
    {
     "data": {
      "text/plain": [
       "NaT"
      ]
     },
     "execution_count": 127,
     "metadata": {},
     "output_type": "execute_result"
    }
   ],
   "source": [
    "df['오후'][0] + df['오전'][0]\n",
    "#누락값(NaT)와 값이 있는걸 더하면 NaT가 된다"
   ]
  },
  {
   "cell_type": "code",
   "execution_count": 128,
   "id": "22b6caaa",
   "metadata": {},
   "outputs": [
    {
     "data": {
      "text/plain": [
       "datetime.timedelta(0)"
      ]
     },
     "execution_count": 128,
     "metadata": {},
     "output_type": "execute_result"
    }
   ],
   "source": [
    "datetime.timedelta(hours=0)"
   ]
  },
  {
   "cell_type": "code",
   "execution_count": 129,
   "id": "f24a1c0e",
   "metadata": {},
   "outputs": [],
   "source": [
    "#df['오후']의 누락된 값에 0시간을 채워준다.\n",
    "df['오후'] = df['오후'].fillna(datetime.timedelta(hours=0))"
   ]
  },
  {
   "cell_type": "code",
   "execution_count": 130,
   "id": "a6d8f11f",
   "metadata": {},
   "outputs": [],
   "source": [
    "df['오전'] = df['오전'].fillna(datetime.timedelta(hours=0))"
   ]
  },
  {
   "cell_type": "code",
   "execution_count": 131,
   "id": "bde23453",
   "metadata": {
    "scrolled": true
   },
   "outputs": [
    {
     "data": {
      "text/plain": [
       "Timestamp('2018-01-23 00:34:08')"
      ]
     },
     "execution_count": 131,
     "metadata": {},
     "output_type": "execute_result"
    }
   ],
   "source": [
    "df['오후'][0] + df['오전'][0]"
   ]
  },
  {
   "cell_type": "code",
   "execution_count": 132,
   "id": "24748757",
   "metadata": {},
   "outputs": [],
   "source": [
    "승차_val = []\n",
    "for i in range(len(df)):\n",
    "    try: \n",
    "        val = df['오후'][i] + df['오전'][i]\n",
    "        승차_val.append(val)\n",
    "    except:\n",
    "        승차_val.append(datetime.timedelta(hours=0))"
   ]
  },
  {
   "cell_type": "code",
   "execution_count": 133,
   "id": "f4584bc3",
   "metadata": {},
   "outputs": [],
   "source": [
    "df['승차시간'] = 승차_val"
   ]
  },
  {
   "cell_type": "code",
   "execution_count": 136,
   "id": "84f9c1e0",
   "metadata": {},
   "outputs": [],
   "source": [
    "con = df['승차시간'] == datetime.timedelta(hours=0)\n",
    "df[con]['승차시간'] = pd.to_datetime(df[con]['오전'])"
   ]
  },
  {
   "cell_type": "code",
   "execution_count": 138,
   "id": "93d84409",
   "metadata": {},
   "outputs": [],
   "source": [
    "sindx = df[con]['승차시간'].index"
   ]
  },
  {
   "cell_type": "code",
   "execution_count": 139,
   "id": "2e5130ee",
   "metadata": {},
   "outputs": [],
   "source": [
    "df.loc[sindx, '승차시간'] = pd.to_datetime(df[con]['오전'])"
   ]
  },
  {
   "cell_type": "code",
   "execution_count": 140,
   "id": "8150400e",
   "metadata": {},
   "outputs": [
    {
     "data": {
      "text/html": [
       "<div>\n",
       "<style scoped>\n",
       "    .dataframe tbody tr th:only-of-type {\n",
       "        vertical-align: middle;\n",
       "    }\n",
       "\n",
       "    .dataframe tbody tr th {\n",
       "        vertical-align: top;\n",
       "    }\n",
       "\n",
       "    .dataframe thead th {\n",
       "        text-align: right;\n",
       "    }\n",
       "</style>\n",
       "<table border=\"1\" class=\"dataframe\">\n",
       "  <thead>\n",
       "    <tr style=\"text-align: right;\">\n",
       "      <th></th>\n",
       "      <th>no</th>\n",
       "      <th>cartype</th>\n",
       "      <th>receipttime</th>\n",
       "      <th>settime</th>\n",
       "      <th>ridetime</th>\n",
       "      <th>startpos1</th>\n",
       "      <th>startpos2</th>\n",
       "      <th>endpos1</th>\n",
       "      <th>endpos2</th>\n",
       "      <th>오전</th>\n",
       "      <th>오후</th>\n",
       "      <th>승차시간</th>\n",
       "    </tr>\n",
       "  </thead>\n",
       "  <tbody>\n",
       "  </tbody>\n",
       "</table>\n",
       "</div>"
      ],
      "text/plain": [
       "Empty DataFrame\n",
       "Columns: [no, cartype, receipttime, settime, ridetime, startpos1, startpos2, endpos1, endpos2, 오전, 오후, 승차시간]\n",
       "Index: []"
      ]
     },
     "execution_count": 140,
     "metadata": {},
     "output_type": "execute_result"
    }
   ],
   "source": [
    "df[df['승차시간'] == datetime.timedelta(hours=0)]"
   ]
  },
  {
   "cell_type": "code",
   "execution_count": 141,
   "id": "e6b56278",
   "metadata": {},
   "outputs": [],
   "source": [
    "df['승차시간'] = pd.to_datetime(df['승차시간'])"
   ]
  },
  {
   "cell_type": "code",
   "execution_count": 142,
   "id": "f32fa735",
   "metadata": {},
   "outputs": [],
   "source": [
    "df = df.drop(['오전','오후'], axis = 1)"
   ]
  },
  {
   "cell_type": "code",
   "execution_count": 143,
   "id": "fdd05ae2",
   "metadata": {},
   "outputs": [
    {
     "name": "stdout",
     "output_type": "stream",
     "text": [
      "<class 'pandas.core.frame.DataFrame'>\n",
      "Int64Index: 407603 entries, 0 to 407612\n",
      "Data columns (total 10 columns):\n",
      " #   Column       Non-Null Count   Dtype         \n",
      "---  ------       --------------   -----         \n",
      " 0   no           407603 non-null  int64         \n",
      " 1   cartype      407603 non-null  object        \n",
      " 2   receipttime  407603 non-null  object        \n",
      " 3   settime      407573 non-null  object        \n",
      " 4   ridetime     407603 non-null  object        \n",
      " 5   startpos1    407603 non-null  object        \n",
      " 6   startpos2    407603 non-null  object        \n",
      " 7   endpos1      407603 non-null  object        \n",
      " 8   endpos2      407603 non-null  object        \n",
      " 9   승차시간         407603 non-null  datetime64[ns]\n",
      "dtypes: datetime64[ns](1), int64(1), object(8)\n",
      "memory usage: 50.3+ MB\n"
     ]
    }
   ],
   "source": [
    "df.info()"
   ]
  },
  {
   "cell_type": "code",
   "execution_count": 149,
   "id": "5a25dade",
   "metadata": {
    "scrolled": true
   },
   "outputs": [
    {
     "data": {
      "text/html": [
       "<div>\n",
       "<style scoped>\n",
       "    .dataframe tbody tr th:only-of-type {\n",
       "        vertical-align: middle;\n",
       "    }\n",
       "\n",
       "    .dataframe tbody tr th {\n",
       "        vertical-align: top;\n",
       "    }\n",
       "\n",
       "    .dataframe thead th {\n",
       "        text-align: right;\n",
       "    }\n",
       "</style>\n",
       "<table border=\"1\" class=\"dataframe\">\n",
       "  <thead>\n",
       "    <tr style=\"text-align: right;\">\n",
       "      <th></th>\n",
       "      <th>no</th>\n",
       "      <th>cartype</th>\n",
       "      <th>receipttime</th>\n",
       "      <th>settime</th>\n",
       "      <th>ridetime</th>\n",
       "      <th>startpos1</th>\n",
       "      <th>startpos2</th>\n",
       "      <th>endpos1</th>\n",
       "      <th>endpos2</th>\n",
       "      <th>승차시간</th>\n",
       "    </tr>\n",
       "  </thead>\n",
       "  <tbody>\n",
       "    <tr>\n",
       "      <th>198366</th>\n",
       "      <td>6144</td>\n",
       "      <td>중형승합</td>\n",
       "      <td>2020-03-01 오전 11:22:00</td>\n",
       "      <td>2020-03-01 오전 11:32:35</td>\n",
       "      <td>2020-03-01 오후 12:12:15</td>\n",
       "      <td>강서구</td>\n",
       "      <td>가양제2동</td>\n",
       "      <td>중랑구</td>\n",
       "      <td>면목제4동</td>\n",
       "      <td>2020-03-01 12:12:15</td>\n",
       "    </tr>\n",
       "    <tr>\n",
       "      <th>198371</th>\n",
       "      <td>7930</td>\n",
       "      <td>중형승합</td>\n",
       "      <td>2020-03-01 오전 11:31:00</td>\n",
       "      <td>2020-03-01 오전 11:39:58</td>\n",
       "      <td>2020-03-01 오후 12:16:02</td>\n",
       "      <td>중구</td>\n",
       "      <td>회현동</td>\n",
       "      <td>은평구</td>\n",
       "      <td>응암제3동</td>\n",
       "      <td>2020-03-01 12:16:02</td>\n",
       "    </tr>\n",
       "    <tr>\n",
       "      <th>198374</th>\n",
       "      <td>1124</td>\n",
       "      <td>중형승합</td>\n",
       "      <td>2020-03-01 오전 11:37:00</td>\n",
       "      <td>2020-03-01 오전 11:46:42</td>\n",
       "      <td>2020-03-01 오후 12:04:06</td>\n",
       "      <td>강서구</td>\n",
       "      <td>방화제3동</td>\n",
       "      <td>강서구</td>\n",
       "      <td>가양제3동</td>\n",
       "      <td>2020-03-01 12:04:06</td>\n",
       "    </tr>\n",
       "    <tr>\n",
       "      <th>198378</th>\n",
       "      <td>9955</td>\n",
       "      <td>중형승합</td>\n",
       "      <td>2020-03-01 오전 11:43:00</td>\n",
       "      <td>2020-03-01 오전 11:46:29</td>\n",
       "      <td>2020-03-01 오후 12:00:38</td>\n",
       "      <td>양천구</td>\n",
       "      <td>신정3동</td>\n",
       "      <td>양천구</td>\n",
       "      <td>목1동</td>\n",
       "      <td>2020-03-01 12:00:38</td>\n",
       "    </tr>\n",
       "    <tr>\n",
       "      <th>198379</th>\n",
       "      <td>7648</td>\n",
       "      <td>중형승합</td>\n",
       "      <td>2020-03-01 오전 11:47:00</td>\n",
       "      <td>2020-03-01 오전 11:55:37</td>\n",
       "      <td>2020-03-01 오후 12:12:07</td>\n",
       "      <td>동대문구</td>\n",
       "      <td>신설동</td>\n",
       "      <td>성동구</td>\n",
       "      <td>마장동</td>\n",
       "      <td>2020-03-01 12:12:07</td>\n",
       "    </tr>\n",
       "    <tr>\n",
       "      <th>...</th>\n",
       "      <td>...</td>\n",
       "      <td>...</td>\n",
       "      <td>...</td>\n",
       "      <td>...</td>\n",
       "      <td>...</td>\n",
       "      <td>...</td>\n",
       "      <td>...</td>\n",
       "      <td>...</td>\n",
       "      <td>...</td>\n",
       "      <td>...</td>\n",
       "    </tr>\n",
       "    <tr>\n",
       "      <th>275854</th>\n",
       "      <td>8036</td>\n",
       "      <td>중형승합</td>\n",
       "      <td>2021-01-03 오후 12:40:00</td>\n",
       "      <td>2021-01-03 오후 12:41:45</td>\n",
       "      <td>2021-01-03 오후 12:58:43</td>\n",
       "      <td>중랑구</td>\n",
       "      <td>망우제3동</td>\n",
       "      <td>중랑구</td>\n",
       "      <td>신내2동</td>\n",
       "      <td>2021-01-03 12:58:43</td>\n",
       "    </tr>\n",
       "    <tr>\n",
       "      <th>275856</th>\n",
       "      <td>8260</td>\n",
       "      <td>중형승합</td>\n",
       "      <td>2021-01-03 오후 12:41:00</td>\n",
       "      <td>2021-01-03 오후 12:43:22</td>\n",
       "      <td>2021-01-03 오후 12:47:13</td>\n",
       "      <td>강남구</td>\n",
       "      <td>삼성1동</td>\n",
       "      <td>서대문구</td>\n",
       "      <td>북가좌제2동</td>\n",
       "      <td>2021-01-03 12:47:13</td>\n",
       "    </tr>\n",
       "    <tr>\n",
       "      <th>275858</th>\n",
       "      <td>8157</td>\n",
       "      <td>중형승합</td>\n",
       "      <td>2021-01-03 오후 12:42:00</td>\n",
       "      <td>2021-01-03 오후 12:51:36</td>\n",
       "      <td>2021-01-03 오후 12:57:51</td>\n",
       "      <td>송파구</td>\n",
       "      <td>잠실3동</td>\n",
       "      <td>송파구</td>\n",
       "      <td>잠실본동</td>\n",
       "      <td>2021-01-03 12:57:51</td>\n",
       "    </tr>\n",
       "    <tr>\n",
       "      <th>327847</th>\n",
       "      <td>809</td>\n",
       "      <td>중형승합</td>\n",
       "      <td>2021-08-08 오전 9:58:00</td>\n",
       "      <td>2021-08-08 오후 12:07:26</td>\n",
       "      <td>2021-08-08 오후 12:49:50</td>\n",
       "      <td>동작구</td>\n",
       "      <td>사당제1동</td>\n",
       "      <td>동작구</td>\n",
       "      <td>상도제2동</td>\n",
       "      <td>2021-08-08 12:49:50</td>\n",
       "    </tr>\n",
       "    <tr>\n",
       "      <th>346539</th>\n",
       "      <td>1571</td>\n",
       "      <td>중형승합</td>\n",
       "      <td>2021-10-03 오전 9:32:00</td>\n",
       "      <td>2021-10-03 오후 12:04:21</td>\n",
       "      <td>2021-10-03 오후 12:51:10</td>\n",
       "      <td>성북구</td>\n",
       "      <td>길음제1동</td>\n",
       "      <td>성북구</td>\n",
       "      <td>월곡제2동</td>\n",
       "      <td>2021-10-03 12:51:10</td>\n",
       "    </tr>\n",
       "  </tbody>\n",
       "</table>\n",
       "<p>896 rows × 10 columns</p>\n",
       "</div>"
      ],
      "text/plain": [
       "          no cartype             receipttime                 settime  \\\n",
       "198366  6144    중형승합  2020-03-01 오전 11:22:00  2020-03-01 오전 11:32:35   \n",
       "198371  7930    중형승합  2020-03-01 오전 11:31:00  2020-03-01 오전 11:39:58   \n",
       "198374  1124    중형승합  2020-03-01 오전 11:37:00  2020-03-01 오전 11:46:42   \n",
       "198378  9955    중형승합  2020-03-01 오전 11:43:00  2020-03-01 오전 11:46:29   \n",
       "198379  7648    중형승합  2020-03-01 오전 11:47:00  2020-03-01 오전 11:55:37   \n",
       "...      ...     ...                     ...                     ...   \n",
       "275854  8036    중형승합  2021-01-03 오후 12:40:00  2021-01-03 오후 12:41:45   \n",
       "275856  8260    중형승합  2021-01-03 오후 12:41:00  2021-01-03 오후 12:43:22   \n",
       "275858  8157    중형승합  2021-01-03 오후 12:42:00  2021-01-03 오후 12:51:36   \n",
       "327847   809    중형승합   2021-08-08 오전 9:58:00  2021-08-08 오후 12:07:26   \n",
       "346539  1571    중형승합   2021-10-03 오전 9:32:00  2021-10-03 오후 12:04:21   \n",
       "\n",
       "                      ridetime startpos1 startpos2 endpos1 endpos2  \\\n",
       "198366  2020-03-01 오후 12:12:15       강서구     가양제2동     중랑구   면목제4동   \n",
       "198371  2020-03-01 오후 12:16:02        중구       회현동     은평구   응암제3동   \n",
       "198374  2020-03-01 오후 12:04:06       강서구     방화제3동     강서구   가양제3동   \n",
       "198378  2020-03-01 오후 12:00:38       양천구      신정3동     양천구     목1동   \n",
       "198379  2020-03-01 오후 12:12:07      동대문구       신설동     성동구     마장동   \n",
       "...                        ...       ...       ...     ...     ...   \n",
       "275854  2021-01-03 오후 12:58:43       중랑구     망우제3동     중랑구    신내2동   \n",
       "275856  2021-01-03 오후 12:47:13       강남구      삼성1동    서대문구  북가좌제2동   \n",
       "275858  2021-01-03 오후 12:57:51       송파구      잠실3동     송파구    잠실본동   \n",
       "327847  2021-08-08 오후 12:49:50       동작구     사당제1동     동작구   상도제2동   \n",
       "346539  2021-10-03 오후 12:51:10       성북구     길음제1동     성북구   월곡제2동   \n",
       "\n",
       "                      승차시간  \n",
       "198366 2020-03-01 12:12:15  \n",
       "198371 2020-03-01 12:16:02  \n",
       "198374 2020-03-01 12:04:06  \n",
       "198378 2020-03-01 12:00:38  \n",
       "198379 2020-03-01 12:12:07  \n",
       "...                    ...  \n",
       "275854 2021-01-03 12:58:43  \n",
       "275856 2021-01-03 12:47:13  \n",
       "275858 2021-01-03 12:57:51  \n",
       "327847 2021-08-08 12:49:50  \n",
       "346539 2021-10-03 12:51:10  \n",
       "\n",
       "[896 rows x 10 columns]"
      ]
     },
     "execution_count": 149,
     "metadata": {},
     "output_type": "execute_result"
    }
   ],
   "source": [
    "df.loc[val_오후_before]"
   ]
  },
  {
   "cell_type": "code",
   "execution_count": 150,
   "id": "09af6c43",
   "metadata": {},
   "outputs": [
    {
     "data": {
      "text/html": [
       "<div>\n",
       "<style scoped>\n",
       "    .dataframe tbody tr th:only-of-type {\n",
       "        vertical-align: middle;\n",
       "    }\n",
       "\n",
       "    .dataframe tbody tr th {\n",
       "        vertical-align: top;\n",
       "    }\n",
       "\n",
       "    .dataframe thead th {\n",
       "        text-align: right;\n",
       "    }\n",
       "</style>\n",
       "<table border=\"1\" class=\"dataframe\">\n",
       "  <thead>\n",
       "    <tr style=\"text-align: right;\">\n",
       "      <th></th>\n",
       "      <th>no</th>\n",
       "      <th>cartype</th>\n",
       "      <th>receipttime</th>\n",
       "      <th>settime</th>\n",
       "      <th>ridetime</th>\n",
       "      <th>startpos1</th>\n",
       "      <th>startpos2</th>\n",
       "      <th>endpos1</th>\n",
       "      <th>endpos2</th>\n",
       "      <th>승차시간</th>\n",
       "    </tr>\n",
       "  </thead>\n",
       "  <tbody>\n",
       "  </tbody>\n",
       "</table>\n",
       "</div>"
      ],
      "text/plain": [
       "Empty DataFrame\n",
       "Columns: [no, cartype, receipttime, settime, ridetime, startpos1, startpos2, endpos1, endpos2, 승차시간]\n",
       "Index: []"
      ]
     },
     "execution_count": 150,
     "metadata": {},
     "output_type": "execute_result"
    }
   ],
   "source": [
    "df[~df['ridetime'].str.contains('오전') & ~df['ridetime'].str.contains('오후')]"
   ]
  },
  {
   "cell_type": "markdown",
   "id": "d8265774",
   "metadata": {},
   "source": [
    "### settime"
   ]
  },
  {
   "cell_type": "code",
   "execution_count": 62,
   "id": "68e58b67",
   "metadata": {},
   "outputs": [
    {
     "data": {
      "text/html": [
       "<div>\n",
       "<style scoped>\n",
       "    .dataframe tbody tr th:only-of-type {\n",
       "        vertical-align: middle;\n",
       "    }\n",
       "\n",
       "    .dataframe tbody tr th {\n",
       "        vertical-align: top;\n",
       "    }\n",
       "\n",
       "    .dataframe thead th {\n",
       "        text-align: right;\n",
       "    }\n",
       "</style>\n",
       "<table border=\"1\" class=\"dataframe\">\n",
       "  <thead>\n",
       "    <tr style=\"text-align: right;\">\n",
       "      <th></th>\n",
       "      <th>no</th>\n",
       "      <th>cartype</th>\n",
       "      <th>receipttime</th>\n",
       "      <th>settime</th>\n",
       "      <th>ridetime</th>\n",
       "      <th>startpos1</th>\n",
       "      <th>startpos2</th>\n",
       "      <th>endpos1</th>\n",
       "      <th>endpos2</th>\n",
       "      <th>승차시간</th>\n",
       "    </tr>\n",
       "  </thead>\n",
       "  <tbody>\n",
       "    <tr>\n",
       "      <th>32664</th>\n",
       "      <td>1123</td>\n",
       "      <td>중형승합</td>\n",
       "      <td>2018-05-08 오전 5:30:00</td>\n",
       "      <td>NaN</td>\n",
       "      <td>2018-05-08 오전 5:30:00</td>\n",
       "      <td>도봉구</td>\n",
       "      <td>창제3동</td>\n",
       "      <td>성북구</td>\n",
       "      <td>안암동</td>\n",
       "      <td>2018-05-08 05:30:00</td>\n",
       "    </tr>\n",
       "    <tr>\n",
       "      <th>32671</th>\n",
       "      <td>1123</td>\n",
       "      <td>중형승합</td>\n",
       "      <td>2018-05-08 오전 5:31:00</td>\n",
       "      <td>NaN</td>\n",
       "      <td>2018-05-08 오전 5:31:00</td>\n",
       "      <td>중랑구</td>\n",
       "      <td>망우본동</td>\n",
       "      <td>중랑구</td>\n",
       "      <td>신내1동</td>\n",
       "      <td>2018-05-08 05:31:00</td>\n",
       "    </tr>\n",
       "    <tr>\n",
       "      <th>33560</th>\n",
       "      <td>7630</td>\n",
       "      <td>중형승합</td>\n",
       "      <td>2018-05-06 오전 8:10:00</td>\n",
       "      <td>NaN</td>\n",
       "      <td>2018-05-06 오전 8:10:00</td>\n",
       "      <td>강남구</td>\n",
       "      <td>수서동</td>\n",
       "      <td>강남구</td>\n",
       "      <td>일원1동</td>\n",
       "      <td>2018-05-06 08:10:00</td>\n",
       "    </tr>\n",
       "    <tr>\n",
       "      <th>44798</th>\n",
       "      <td>7606</td>\n",
       "      <td>중형승합</td>\n",
       "      <td>2018-06-03 오전 8:03:00</td>\n",
       "      <td>NaN</td>\n",
       "      <td>2018-06-03 오전 8:03:00</td>\n",
       "      <td>강서구</td>\n",
       "      <td>가양제2동</td>\n",
       "      <td>강서구</td>\n",
       "      <td>가양제1동</td>\n",
       "      <td>2018-06-03 08:03:00</td>\n",
       "    </tr>\n",
       "    <tr>\n",
       "      <th>51607</th>\n",
       "      <td>7908</td>\n",
       "      <td>중형승합</td>\n",
       "      <td>2018-07-29 오전 7:00:00</td>\n",
       "      <td>NaN</td>\n",
       "      <td>2018-07-29 오전 7:00:00</td>\n",
       "      <td>강서구</td>\n",
       "      <td>가양제2동</td>\n",
       "      <td>양천구</td>\n",
       "      <td>목2동</td>\n",
       "      <td>2018-07-29 07:00:00</td>\n",
       "    </tr>\n",
       "  </tbody>\n",
       "</table>\n",
       "</div>"
      ],
      "text/plain": [
       "         no cartype            receipttime settime               ridetime  \\\n",
       "32664  1123    중형승합  2018-05-08 오전 5:30:00     NaN  2018-05-08 오전 5:30:00   \n",
       "32671  1123    중형승합  2018-05-08 오전 5:31:00     NaN  2018-05-08 오전 5:31:00   \n",
       "33560  7630    중형승합  2018-05-06 오전 8:10:00     NaN  2018-05-06 오전 8:10:00   \n",
       "44798  7606    중형승합  2018-06-03 오전 8:03:00     NaN  2018-06-03 오전 8:03:00   \n",
       "51607  7908    중형승합  2018-07-29 오전 7:00:00     NaN  2018-07-29 오전 7:00:00   \n",
       "\n",
       "      startpos1 startpos2 endpos1 endpos2                승차시간  \n",
       "32664       도봉구      창제3동     성북구     안암동 2018-05-08 05:30:00  \n",
       "32671       중랑구      망우본동     중랑구    신내1동 2018-05-08 05:31:00  \n",
       "33560       강남구       수서동     강남구    일원1동 2018-05-06 08:10:00  \n",
       "44798       강서구     가양제2동     강서구   가양제1동 2018-06-03 08:03:00  \n",
       "51607       강서구     가양제2동     양천구     목2동 2018-07-29 07:00:00  "
      ]
     },
     "execution_count": 62,
     "metadata": {},
     "output_type": "execute_result"
    }
   ],
   "source": [
    "df[df['settime'].isna()].head()\n",
    "#왜 부르자마자 탄 차들이 있지..\n",
    "#일단 따로 csv에 저장하고 dropna하도록 한다"
   ]
  },
  {
   "cell_type": "code",
   "execution_count": 460,
   "id": "bb9a57f7",
   "metadata": {},
   "outputs": [],
   "source": [
    "df_set_na = df[df['settime'].isna()]\n",
    "df_set_na.to_csv('df_set_na.csv', index = False, encoding = 'utf-8')"
   ]
  },
  {
   "cell_type": "code",
   "execution_count": 152,
   "id": "5e6f0059",
   "metadata": {},
   "outputs": [],
   "source": [
    "snax = df[df['settime'].isna()].index"
   ]
  },
  {
   "cell_type": "code",
   "execution_count": 153,
   "id": "6435e76c",
   "metadata": {},
   "outputs": [],
   "source": [
    "df = df.drop(snax)"
   ]
  },
  {
   "cell_type": "code",
   "execution_count": 163,
   "id": "928605c8",
   "metadata": {
    "scrolled": true
   },
   "outputs": [],
   "source": [
    "df['오전'] = pd.to_datetime(df[df['settime'].str.contains('오전')]['settime'].str.replace('오전', ''))\n",
    "df['오후'] = pd.to_datetime(df[df['settime'].str.contains('오후')]['settime'].str.replace('오후', '')) + datetime.timedelta(hours = 12)"
   ]
  },
  {
   "cell_type": "code",
   "execution_count": 165,
   "id": "3405a9f6",
   "metadata": {},
   "outputs": [],
   "source": [
    "val_after = df[df['오전'].dt.hour == 12]['오전'] - datetime.timedelta(hours = 12)\n",
    "val_before = df[df['오전'].dt.hour == 12]['오전']\n",
    "df.loc[val_before.index, '오전'] = val_after.values"
   ]
  },
  {
   "cell_type": "code",
   "execution_count": 166,
   "id": "3b8120f5",
   "metadata": {},
   "outputs": [],
   "source": [
    "val_오후_after = df[df['오후'].dt.hour == 0]['오후'] - datetime.timedelta(hours = 12)\n",
    "val_오후_before = df[df['오후'].dt.hour == 0]['오후'].index\n",
    "df.loc[val_오후_before, '오후'] = val_오후_after.values"
   ]
  },
  {
   "cell_type": "code",
   "execution_count": 167,
   "id": "92109af0",
   "metadata": {},
   "outputs": [],
   "source": [
    "df['오후'] = df['오후'].fillna(datetime.timedelta(hours=0))\n",
    "df['오전'] = df['오전'].fillna(datetime.timedelta(hours=0))"
   ]
  },
  {
   "cell_type": "code",
   "execution_count": 168,
   "id": "f8ae99b0",
   "metadata": {},
   "outputs": [],
   "source": [
    "승차_val = []\n",
    "for i in range(len(df)):\n",
    "    try: \n",
    "        val = df['오후'][i] + df['오전'][i]\n",
    "        승차_val.append(val)\n",
    "    except:\n",
    "        승차_val.append(datetime.timedelta(hours=0))"
   ]
  },
  {
   "cell_type": "code",
   "execution_count": 169,
   "id": "f3be844f",
   "metadata": {},
   "outputs": [],
   "source": [
    "df['배차시간'] = 승차_val"
   ]
  },
  {
   "cell_type": "code",
   "execution_count": 170,
   "id": "34767c5c",
   "metadata": {},
   "outputs": [
    {
     "data": {
      "text/html": [
       "<div>\n",
       "<style scoped>\n",
       "    .dataframe tbody tr th:only-of-type {\n",
       "        vertical-align: middle;\n",
       "    }\n",
       "\n",
       "    .dataframe tbody tr th {\n",
       "        vertical-align: top;\n",
       "    }\n",
       "\n",
       "    .dataframe thead th {\n",
       "        text-align: right;\n",
       "    }\n",
       "</style>\n",
       "<table border=\"1\" class=\"dataframe\">\n",
       "  <thead>\n",
       "    <tr style=\"text-align: right;\">\n",
       "      <th></th>\n",
       "      <th>no</th>\n",
       "      <th>cartype</th>\n",
       "      <th>receipttime</th>\n",
       "      <th>settime</th>\n",
       "      <th>ridetime</th>\n",
       "      <th>startpos1</th>\n",
       "      <th>startpos2</th>\n",
       "      <th>endpos1</th>\n",
       "      <th>endpos2</th>\n",
       "      <th>승차시간</th>\n",
       "      <th>오전</th>\n",
       "      <th>오후</th>\n",
       "      <th>배차시간</th>\n",
       "    </tr>\n",
       "  </thead>\n",
       "  <tbody>\n",
       "    <tr>\n",
       "      <th>32665</th>\n",
       "      <td>4347</td>\n",
       "      <td>중형승용</td>\n",
       "      <td>2018-05-08 오전 5:30:00</td>\n",
       "      <td>2018-05-08 오전 6:48:10</td>\n",
       "      <td>2018-05-08 오전 6:56:55</td>\n",
       "      <td>강서구</td>\n",
       "      <td>화곡제3동</td>\n",
       "      <td>고양시일산서구</td>\n",
       "      <td>탄현동</td>\n",
       "      <td>2018-05-08 06:56:55</td>\n",
       "      <td>2018-05-08 06:48:10</td>\n",
       "      <td>0:00:00</td>\n",
       "      <td>0:00:00</td>\n",
       "    </tr>\n",
       "    <tr>\n",
       "      <th>32673</th>\n",
       "      <td>6194</td>\n",
       "      <td>중형승합</td>\n",
       "      <td>2018-05-08 오전 5:33:00</td>\n",
       "      <td>2018-05-08 오전 7:04:45</td>\n",
       "      <td>2018-05-08 오전 7:24:58</td>\n",
       "      <td>강서구</td>\n",
       "      <td>가양제3동</td>\n",
       "      <td>동작구</td>\n",
       "      <td>흑석동</td>\n",
       "      <td>2018-05-08 07:24:58</td>\n",
       "      <td>2018-05-08 07:04:45</td>\n",
       "      <td>0:00:00</td>\n",
       "      <td>0:00:00</td>\n",
       "    </tr>\n",
       "  </tbody>\n",
       "</table>\n",
       "</div>"
      ],
      "text/plain": [
       "         no cartype            receipttime                settime  \\\n",
       "32665  4347    중형승용  2018-05-08 오전 5:30:00  2018-05-08 오전 6:48:10   \n",
       "32673  6194    중형승합  2018-05-08 오전 5:33:00  2018-05-08 오전 7:04:45   \n",
       "\n",
       "                    ridetime startpos1 startpos2  endpos1 endpos2  \\\n",
       "32665  2018-05-08 오전 6:56:55       강서구     화곡제3동  고양시일산서구     탄현동   \n",
       "32673  2018-05-08 오전 7:24:58       강서구     가양제3동      동작구     흑석동   \n",
       "\n",
       "                     승차시간                   오전       오후     배차시간  \n",
       "32665 2018-05-08 06:56:55  2018-05-08 06:48:10  0:00:00  0:00:00  \n",
       "32673 2018-05-08 07:24:58  2018-05-08 07:04:45  0:00:00  0:00:00  "
      ]
     },
     "execution_count": 170,
     "metadata": {},
     "output_type": "execute_result"
    }
   ],
   "source": [
    "df[df['배차시간'] == datetime.timedelta(hours=0)].head(2)"
   ]
  },
  {
   "cell_type": "code",
   "execution_count": 172,
   "id": "f7fc293d",
   "metadata": {},
   "outputs": [],
   "source": [
    "con = df['배차시간'] == datetime.timedelta(hours=0)"
   ]
  },
  {
   "cell_type": "code",
   "execution_count": 173,
   "id": "6d322d56",
   "metadata": {},
   "outputs": [],
   "source": [
    "binx = df[con]['배차시간'].index"
   ]
  },
  {
   "cell_type": "code",
   "execution_count": 174,
   "id": "1ded14e1",
   "metadata": {},
   "outputs": [],
   "source": [
    "df.loc[binx, '배차시간'] = pd.to_datetime(df[con]['오전'])"
   ]
  },
  {
   "cell_type": "code",
   "execution_count": 175,
   "id": "8e635e41",
   "metadata": {},
   "outputs": [],
   "source": [
    "df['배차시간'] =pd.to_datetime(df['배차시간'])"
   ]
  },
  {
   "cell_type": "code",
   "execution_count": 179,
   "id": "bab6bb98",
   "metadata": {},
   "outputs": [],
   "source": [
    "df = df.drop(['오전', '오후'], axis=1)"
   ]
  },
  {
   "cell_type": "markdown",
   "id": "241e09b9",
   "metadata": {},
   "source": [
    "### receipttime"
   ]
  },
  {
   "cell_type": "code",
   "execution_count": 181,
   "id": "9ecf97e2",
   "metadata": {},
   "outputs": [
    {
     "data": {
      "text/html": [
       "<div>\n",
       "<style scoped>\n",
       "    .dataframe tbody tr th:only-of-type {\n",
       "        vertical-align: middle;\n",
       "    }\n",
       "\n",
       "    .dataframe tbody tr th {\n",
       "        vertical-align: top;\n",
       "    }\n",
       "\n",
       "    .dataframe thead th {\n",
       "        text-align: right;\n",
       "    }\n",
       "</style>\n",
       "<table border=\"1\" class=\"dataframe\">\n",
       "  <thead>\n",
       "    <tr style=\"text-align: right;\">\n",
       "      <th></th>\n",
       "      <th>no</th>\n",
       "      <th>cartype</th>\n",
       "      <th>receipttime</th>\n",
       "      <th>settime</th>\n",
       "      <th>ridetime</th>\n",
       "      <th>startpos1</th>\n",
       "      <th>startpos2</th>\n",
       "      <th>endpos1</th>\n",
       "      <th>endpos2</th>\n",
       "      <th>승차시간</th>\n",
       "      <th>배차시간</th>\n",
       "    </tr>\n",
       "  </thead>\n",
       "  <tbody>\n",
       "  </tbody>\n",
       "</table>\n",
       "</div>"
      ],
      "text/plain": [
       "Empty DataFrame\n",
       "Columns: [no, cartype, receipttime, settime, ridetime, startpos1, startpos2, endpos1, endpos2, 승차시간, 배차시간]\n",
       "Index: []"
      ]
     },
     "execution_count": 181,
     "metadata": {},
     "output_type": "execute_result"
    }
   ],
   "source": [
    "df[df['receipttime'].isna()]"
   ]
  },
  {
   "cell_type": "code",
   "execution_count": 199,
   "id": "8021e0f0",
   "metadata": {},
   "outputs": [],
   "source": [
    "df['오전'] = pd.to_datetime(df[df['receipttime'].str.contains('오전')]['receipttime'].str.replace('오전', ''))"
   ]
  },
  {
   "cell_type": "code",
   "execution_count": 200,
   "id": "a2e289b9",
   "metadata": {},
   "outputs": [],
   "source": [
    "df['오후'] = pd.to_datetime(df[df['receipttime'].str.contains('오후')]['receipttime'].str.replace('오후', '')) + datetime.timedelta(hours = 12)"
   ]
  },
  {
   "cell_type": "code",
   "execution_count": 202,
   "id": "ab3b0ee9",
   "metadata": {},
   "outputs": [],
   "source": [
    "val_after = df[df['오전'].dt.hour == 12]['오전'] - datetime.timedelta(hours = 12)\n",
    "val_before = df[df['오전'].dt.hour == 12]['오전']\n",
    "df.loc[val_before.index, '오전'] = val_after.values"
   ]
  },
  {
   "cell_type": "code",
   "execution_count": 203,
   "id": "2d1d2a63",
   "metadata": {},
   "outputs": [],
   "source": [
    "val_오후_after = df[df['오후'].dt.hour == 0]['오후'] - datetime.timedelta(hours = 12)\n",
    "val_오후_before = df[df['오후'].dt.hour == 0]['오후'].index\n",
    "df.loc[val_오후_before, '오후'] = val_오후_after.values"
   ]
  },
  {
   "cell_type": "code",
   "execution_count": 204,
   "id": "c8489001",
   "metadata": {},
   "outputs": [],
   "source": [
    "df['오후'] = df['오후'].fillna(datetime.timedelta(hours=0))\n",
    "df['오전'] = df['오전'].fillna(datetime.timedelta(hours=0))"
   ]
  },
  {
   "cell_type": "code",
   "execution_count": 206,
   "id": "dedb049d",
   "metadata": {},
   "outputs": [],
   "source": [
    "요청_val = []\n",
    "for i in range(len(df)):\n",
    "    try: \n",
    "        val = df['오후'][i] + df['오전'][i]\n",
    "        요청_val.append(val)\n",
    "    except:\n",
    "        요청_val.append(datetime.timedelta(hours=0))"
   ]
  },
  {
   "cell_type": "code",
   "execution_count": 207,
   "id": "c6148431",
   "metadata": {},
   "outputs": [],
   "source": [
    "df['예정시간'] = 요청_val"
   ]
  },
  {
   "cell_type": "code",
   "execution_count": 208,
   "id": "2b58d310",
   "metadata": {},
   "outputs": [
    {
     "name": "stdout",
     "output_type": "stream",
     "text": [
      "<class 'pandas.core.frame.DataFrame'>\n",
      "Int64Index: 407573 entries, 0 to 407612\n",
      "Data columns (total 14 columns):\n",
      " #   Column       Non-Null Count   Dtype         \n",
      "---  ------       --------------   -----         \n",
      " 0   no           407573 non-null  int64         \n",
      " 1   cartype      407573 non-null  object        \n",
      " 2   receipttime  407573 non-null  object        \n",
      " 3   settime      407573 non-null  object        \n",
      " 4   ridetime     407573 non-null  object        \n",
      " 5   startpos1    407573 non-null  object        \n",
      " 6   startpos2    407573 non-null  object        \n",
      " 7   endpos1      407573 non-null  object        \n",
      " 8   endpos2      407573 non-null  object        \n",
      " 9   승차시간         407573 non-null  datetime64[ns]\n",
      " 10  배차시간         407573 non-null  datetime64[ns]\n",
      " 11  오전           407573 non-null  object        \n",
      " 12  오후           407573 non-null  object        \n",
      " 13  예정시간         407573 non-null  object        \n",
      "dtypes: datetime64[ns](2), int64(1), object(11)\n",
      "memory usage: 62.8+ MB\n"
     ]
    }
   ],
   "source": [
    "df.info()"
   ]
  },
  {
   "cell_type": "code",
   "execution_count": 209,
   "id": "cf786b81",
   "metadata": {},
   "outputs": [
    {
     "data": {
      "text/plain": [
       "3486                 2018-01-16\n",
       "3487                 2018-01-16\n",
       "8466                 2018-02-09\n",
       "8467                 2018-02-09\n",
       "8468                 2018-02-09\n",
       "                  ...          \n",
       "400563    2022-05-31 오전 7:00:00\n",
       "402173    2022-06-03 오전 5:50:00\n",
       "402174    2022-06-03 오전 5:50:00\n",
       "404970    2022-06-06 오전 7:10:00\n",
       "406703    2022-06-25 오전 7:00:00\n",
       "Name: receipttime, Length: 199, dtype: object"
      ]
     },
     "execution_count": 209,
     "metadata": {},
     "output_type": "execute_result"
    }
   ],
   "source": [
    "df[df['예정시간'] == datetime.timedelta(hours=0)]['receipttime']"
   ]
  },
  {
   "cell_type": "code",
   "execution_count": 210,
   "id": "8a6104ac",
   "metadata": {},
   "outputs": [],
   "source": [
    "con = df[df['예정시간'] == datetime.timedelta(hours=0)]['receipttime'].str.contains('오전')"
   ]
  },
  {
   "cell_type": "code",
   "execution_count": 211,
   "id": "43a66a05",
   "metadata": {},
   "outputs": [],
   "source": [
    "con1 = df[df['예정시간'] == datetime.timedelta(hours=0)]['receipttime'].str.contains('오후')"
   ]
  },
  {
   "cell_type": "code",
   "execution_count": 212,
   "id": "9874da78",
   "metadata": {
    "scrolled": true
   },
   "outputs": [
    {
     "data": {
      "text/plain": [
       "Series([], Name: receipttime, dtype: bool)"
      ]
     },
     "execution_count": 212,
     "metadata": {},
     "output_type": "execute_result"
    }
   ],
   "source": [
    "con1[con1 == True]"
   ]
  },
  {
   "cell_type": "code",
   "execution_count": 213,
   "id": "c602db25",
   "metadata": {},
   "outputs": [],
   "source": [
    "einx = con[con == True].index"
   ]
  },
  {
   "cell_type": "code",
   "execution_count": 214,
   "id": "cf2c08bb",
   "metadata": {},
   "outputs": [],
   "source": [
    "df.loc[einx, '예정시간'] = df.loc[einx, '오전']"
   ]
  },
  {
   "cell_type": "code",
   "execution_count": 215,
   "id": "eedcb53d",
   "metadata": {},
   "outputs": [
    {
     "data": {
      "text/plain": [
       "32665     2018-05-08 05:30:00\n",
       "32673     2018-05-08 05:33:00\n",
       "33563     2018-05-06 08:11:00\n",
       "37104     2018-05-16 00:20:00\n",
       "42582     2018-06-05 00:25:00\n",
       "                 ...         \n",
       "400563    2022-05-31 07:00:00\n",
       "402173    2022-06-03 05:50:00\n",
       "402174    2022-06-03 05:50:00\n",
       "404970    2022-06-06 07:10:00\n",
       "406703    2022-06-25 07:00:00\n",
       "Name: 예정시간, Length: 179, dtype: object"
      ]
     },
     "execution_count": 215,
     "metadata": {},
     "output_type": "execute_result"
    }
   ],
   "source": [
    "df.loc[einx, '예정시간']"
   ]
  },
  {
   "cell_type": "code",
   "execution_count": 216,
   "id": "6009c658",
   "metadata": {},
   "outputs": [],
   "source": [
    "df_re_date = df[df['예정시간'] == datetime.timedelta(hours=0)]"
   ]
  },
  {
   "cell_type": "code",
   "execution_count": 217,
   "id": "0e697410",
   "metadata": {},
   "outputs": [],
   "source": [
    "df_re_date.to_csv('df_re_date.csv', index = False, encoding = 'utf-8')"
   ]
  },
  {
   "cell_type": "code",
   "execution_count": 218,
   "id": "60d6accc",
   "metadata": {},
   "outputs": [],
   "source": [
    "dinx = df[df['예정시간'] == datetime.timedelta(hours=0)].index"
   ]
  },
  {
   "cell_type": "code",
   "execution_count": 219,
   "id": "51cb8af3",
   "metadata": {},
   "outputs": [],
   "source": [
    "df = df.drop(dinx)"
   ]
  },
  {
   "cell_type": "code",
   "execution_count": 220,
   "id": "f8c27b7e",
   "metadata": {},
   "outputs": [],
   "source": [
    "df = df.drop(['오전', '오후'], axis=1)"
   ]
  },
  {
   "cell_type": "code",
   "execution_count": 223,
   "id": "f08ba00a",
   "metadata": {},
   "outputs": [],
   "source": [
    "df = df[['no', 'cartype', '예정시간', '배차시간', '승차시간', 'startpos1', 'startpos2', 'endpos1', 'endpos2']]"
   ]
  },
  {
   "cell_type": "code",
   "execution_count": 224,
   "id": "59ffd2c5",
   "metadata": {
    "scrolled": true
   },
   "outputs": [],
   "source": [
    "df['예정시간'] = pd.to_datetime(df['예정시간'])"
   ]
  },
  {
   "cell_type": "code",
   "execution_count": 225,
   "id": "8a32f155",
   "metadata": {},
   "outputs": [
    {
     "name": "stdout",
     "output_type": "stream",
     "text": [
      "<class 'pandas.core.frame.DataFrame'>\n",
      "Int64Index: 407553 entries, 0 to 407612\n",
      "Data columns (total 9 columns):\n",
      " #   Column     Non-Null Count   Dtype         \n",
      "---  ------     --------------   -----         \n",
      " 0   no         407553 non-null  int64         \n",
      " 1   cartype    407553 non-null  object        \n",
      " 2   예정시간       407553 non-null  datetime64[ns]\n",
      " 3   배차시간       407553 non-null  datetime64[ns]\n",
      " 4   승차시간       407553 non-null  datetime64[ns]\n",
      " 5   startpos1  407553 non-null  object        \n",
      " 6   startpos2  407553 non-null  object        \n",
      " 7   endpos1    407553 non-null  object        \n",
      " 8   endpos2    407553 non-null  object        \n",
      "dtypes: datetime64[ns](3), int64(1), object(5)\n",
      "memory usage: 31.1+ MB\n"
     ]
    }
   ],
   "source": [
    "df.info()"
   ]
  },
  {
   "cell_type": "markdown",
   "id": "42ced772",
   "metadata": {},
   "source": [
    "## 인덱스 재정렬"
   ]
  },
  {
   "cell_type": "code",
   "execution_count": 226,
   "id": "a7ba17fc",
   "metadata": {},
   "outputs": [],
   "source": [
    "df = df.sort_index(ascending= True)"
   ]
  },
  {
   "cell_type": "code",
   "execution_count": 227,
   "id": "942b49ca",
   "metadata": {},
   "outputs": [],
   "source": [
    "df = df.reset_index(drop=True)"
   ]
  },
  {
   "cell_type": "code",
   "execution_count": 229,
   "id": "849bf91c",
   "metadata": {},
   "outputs": [],
   "source": [
    "df.to_csv('master_cleansing_before_diff.csv', index = False, encoding = 'utf-8')"
   ]
  },
  {
   "cell_type": "markdown",
   "id": "1ac8cf53",
   "metadata": {},
   "source": [
    "# 출발지, 목적지 워딩 정리하기"
   ]
  },
  {
   "cell_type": "code",
   "execution_count": 234,
   "id": "cdcaa5a2",
   "metadata": {},
   "outputs": [
    {
     "data": {
      "text/html": [
       "<div>\n",
       "<style scoped>\n",
       "    .dataframe tbody tr th:only-of-type {\n",
       "        vertical-align: middle;\n",
       "    }\n",
       "\n",
       "    .dataframe tbody tr th {\n",
       "        vertical-align: top;\n",
       "    }\n",
       "\n",
       "    .dataframe thead th {\n",
       "        text-align: right;\n",
       "    }\n",
       "</style>\n",
       "<table border=\"1\" class=\"dataframe\">\n",
       "  <thead>\n",
       "    <tr style=\"text-align: right;\">\n",
       "      <th></th>\n",
       "      <th>no</th>\n",
       "      <th>cartype</th>\n",
       "      <th>예정시간</th>\n",
       "      <th>배차시간</th>\n",
       "      <th>승차시간</th>\n",
       "      <th>startpos1</th>\n",
       "      <th>startpos2</th>\n",
       "      <th>endpos1</th>\n",
       "      <th>endpos2</th>\n",
       "    </tr>\n",
       "  </thead>\n",
       "  <tbody>\n",
       "    <tr>\n",
       "      <th>0</th>\n",
       "      <td>7658</td>\n",
       "      <td>중형승합</td>\n",
       "      <td>2018-01-23 00:04:00</td>\n",
       "      <td>2018-01-23 00:18:42</td>\n",
       "      <td>2018-01-23 00:34:08</td>\n",
       "      <td>성북구</td>\n",
       "      <td>장위제1동</td>\n",
       "      <td>동대문구</td>\n",
       "      <td>회기동</td>\n",
       "    </tr>\n",
       "    <tr>\n",
       "      <th>1</th>\n",
       "      <td>1551</td>\n",
       "      <td>중형승합</td>\n",
       "      <td>2018-01-23 00:17:00</td>\n",
       "      <td>2018-01-23 00:50:37</td>\n",
       "      <td>2018-01-23 01:19:22</td>\n",
       "      <td>중랑구</td>\n",
       "      <td>면목제7동</td>\n",
       "      <td>노원구</td>\n",
       "      <td>상계1동</td>\n",
       "    </tr>\n",
       "    <tr>\n",
       "      <th>2</th>\n",
       "      <td>5804</td>\n",
       "      <td>중형승합</td>\n",
       "      <td>2018-01-23 00:30:00</td>\n",
       "      <td>2018-01-23 00:17:06</td>\n",
       "      <td>2018-01-23 00:17:39</td>\n",
       "      <td>성북구</td>\n",
       "      <td>정릉제3동</td>\n",
       "      <td>강북구</td>\n",
       "      <td>수유제3동</td>\n",
       "    </tr>\n",
       "    <tr>\n",
       "      <th>3</th>\n",
       "      <td>7650</td>\n",
       "      <td>중형승합</td>\n",
       "      <td>2018-01-23 00:47:00</td>\n",
       "      <td>2018-01-23 00:51:19</td>\n",
       "      <td>2018-01-23 01:09:33</td>\n",
       "      <td>구로구</td>\n",
       "      <td>고척제2동</td>\n",
       "      <td>관악구</td>\n",
       "      <td>은천동</td>\n",
       "    </tr>\n",
       "    <tr>\n",
       "      <th>4</th>\n",
       "      <td>1061</td>\n",
       "      <td>중형승합</td>\n",
       "      <td>2018-01-23 01:08:00</td>\n",
       "      <td>2018-01-23 01:44:17</td>\n",
       "      <td>2018-01-23 02:06:53</td>\n",
       "      <td>동대문구</td>\n",
       "      <td>회기동</td>\n",
       "      <td>성북구</td>\n",
       "      <td>장위제2동</td>\n",
       "    </tr>\n",
       "  </tbody>\n",
       "</table>\n",
       "</div>"
      ],
      "text/plain": [
       "     no cartype                예정시간                배차시간                승차시간  \\\n",
       "0  7658    중형승합 2018-01-23 00:04:00 2018-01-23 00:18:42 2018-01-23 00:34:08   \n",
       "1  1551    중형승합 2018-01-23 00:17:00 2018-01-23 00:50:37 2018-01-23 01:19:22   \n",
       "2  5804    중형승합 2018-01-23 00:30:00 2018-01-23 00:17:06 2018-01-23 00:17:39   \n",
       "3  7650    중형승합 2018-01-23 00:47:00 2018-01-23 00:51:19 2018-01-23 01:09:33   \n",
       "4  1061    중형승합 2018-01-23 01:08:00 2018-01-23 01:44:17 2018-01-23 02:06:53   \n",
       "\n",
       "  startpos1 startpos2 endpos1 endpos2  \n",
       "0       성북구     장위제1동    동대문구     회기동  \n",
       "1       중랑구     면목제7동     노원구    상계1동  \n",
       "2       성북구     정릉제3동     강북구   수유제3동  \n",
       "3       구로구     고척제2동     관악구     은천동  \n",
       "4      동대문구       회기동     성북구   장위제2동  "
      ]
     },
     "execution_count": 234,
     "metadata": {},
     "output_type": "execute_result"
    }
   ],
   "source": [
    "df.head()"
   ]
  },
  {
   "cell_type": "code",
   "execution_count": 235,
   "id": "275922c5",
   "metadata": {},
   "outputs": [
    {
     "data": {
      "text/plain": [
       "'마포구'"
      ]
     },
     "execution_count": 235,
     "metadata": {},
     "output_type": "execute_result"
    }
   ],
   "source": [
    "df['startpos1'][5]"
   ]
  },
  {
   "cell_type": "code",
   "execution_count": 236,
   "id": "82321253",
   "metadata": {
    "scrolled": true
   },
   "outputs": [
    {
     "data": {
      "text/plain": [
       "'부천시소사구'"
      ]
     },
     "execution_count": 236,
     "metadata": {},
     "output_type": "execute_result"
    }
   ],
   "source": [
    "df['endpos1'][5]"
   ]
  },
  {
   "cell_type": "code",
   "execution_count": 237,
   "id": "40a87e92",
   "metadata": {},
   "outputs": [
    {
     "data": {
      "text/plain": [
       "'심곡본1동'"
      ]
     },
     "execution_count": 237,
     "metadata": {},
     "output_type": "execute_result"
    }
   ],
   "source": [
    "df['endpos2'][5]"
   ]
  },
  {
   "cell_type": "code",
   "execution_count": 240,
   "id": "b6892822",
   "metadata": {},
   "outputs": [],
   "source": [
    "lengths = []\n",
    "lengthe = []\n",
    "for i in range(len(df)):\n",
    "    vals= len(df['startpos1'][i])\n",
    "    vale= len(df['endpos1'][i])\n",
    "    lengths.append(vals)\n",
    "    lengthe.append(vale)"
   ]
  },
  {
   "cell_type": "code",
   "execution_count": 241,
   "id": "1c744429",
   "metadata": {},
   "outputs": [],
   "source": [
    "df['startpos1_length'] = lengths\n",
    "df['endpos1_length'] = lengthe"
   ]
  },
  {
   "cell_type": "code",
   "execution_count": 242,
   "id": "440e6bec",
   "metadata": {
    "scrolled": true
   },
   "outputs": [
    {
     "data": {
      "text/html": [
       "<div>\n",
       "<style scoped>\n",
       "    .dataframe tbody tr th:only-of-type {\n",
       "        vertical-align: middle;\n",
       "    }\n",
       "\n",
       "    .dataframe tbody tr th {\n",
       "        vertical-align: top;\n",
       "    }\n",
       "\n",
       "    .dataframe thead th {\n",
       "        text-align: right;\n",
       "    }\n",
       "</style>\n",
       "<table border=\"1\" class=\"dataframe\">\n",
       "  <thead>\n",
       "    <tr style=\"text-align: right;\">\n",
       "      <th></th>\n",
       "      <th>no</th>\n",
       "      <th>cartype</th>\n",
       "      <th>예정시간</th>\n",
       "      <th>배차시간</th>\n",
       "      <th>승차시간</th>\n",
       "      <th>startpos1</th>\n",
       "      <th>startpos2</th>\n",
       "      <th>endpos1</th>\n",
       "      <th>endpos2</th>\n",
       "      <th>startpos1_length</th>\n",
       "      <th>endpos1_length</th>\n",
       "    </tr>\n",
       "  </thead>\n",
       "  <tbody>\n",
       "    <tr>\n",
       "      <th>0</th>\n",
       "      <td>7658</td>\n",
       "      <td>중형승합</td>\n",
       "      <td>2018-01-23 00:04:00</td>\n",
       "      <td>2018-01-23 00:18:42</td>\n",
       "      <td>2018-01-23 00:34:08</td>\n",
       "      <td>성북구</td>\n",
       "      <td>장위제1동</td>\n",
       "      <td>동대문구</td>\n",
       "      <td>회기동</td>\n",
       "      <td>3</td>\n",
       "      <td>4</td>\n",
       "    </tr>\n",
       "    <tr>\n",
       "      <th>1</th>\n",
       "      <td>1551</td>\n",
       "      <td>중형승합</td>\n",
       "      <td>2018-01-23 00:17:00</td>\n",
       "      <td>2018-01-23 00:50:37</td>\n",
       "      <td>2018-01-23 01:19:22</td>\n",
       "      <td>중랑구</td>\n",
       "      <td>면목제7동</td>\n",
       "      <td>노원구</td>\n",
       "      <td>상계1동</td>\n",
       "      <td>3</td>\n",
       "      <td>3</td>\n",
       "    </tr>\n",
       "    <tr>\n",
       "      <th>2</th>\n",
       "      <td>5804</td>\n",
       "      <td>중형승합</td>\n",
       "      <td>2018-01-23 00:30:00</td>\n",
       "      <td>2018-01-23 00:17:06</td>\n",
       "      <td>2018-01-23 00:17:39</td>\n",
       "      <td>성북구</td>\n",
       "      <td>정릉제3동</td>\n",
       "      <td>강북구</td>\n",
       "      <td>수유제3동</td>\n",
       "      <td>3</td>\n",
       "      <td>3</td>\n",
       "    </tr>\n",
       "    <tr>\n",
       "      <th>3</th>\n",
       "      <td>7650</td>\n",
       "      <td>중형승합</td>\n",
       "      <td>2018-01-23 00:47:00</td>\n",
       "      <td>2018-01-23 00:51:19</td>\n",
       "      <td>2018-01-23 01:09:33</td>\n",
       "      <td>구로구</td>\n",
       "      <td>고척제2동</td>\n",
       "      <td>관악구</td>\n",
       "      <td>은천동</td>\n",
       "      <td>3</td>\n",
       "      <td>3</td>\n",
       "    </tr>\n",
       "    <tr>\n",
       "      <th>4</th>\n",
       "      <td>1061</td>\n",
       "      <td>중형승합</td>\n",
       "      <td>2018-01-23 01:08:00</td>\n",
       "      <td>2018-01-23 01:44:17</td>\n",
       "      <td>2018-01-23 02:06:53</td>\n",
       "      <td>동대문구</td>\n",
       "      <td>회기동</td>\n",
       "      <td>성북구</td>\n",
       "      <td>장위제2동</td>\n",
       "      <td>4</td>\n",
       "      <td>3</td>\n",
       "    </tr>\n",
       "  </tbody>\n",
       "</table>\n",
       "</div>"
      ],
      "text/plain": [
       "     no cartype                예정시간                배차시간                승차시간  \\\n",
       "0  7658    중형승합 2018-01-23 00:04:00 2018-01-23 00:18:42 2018-01-23 00:34:08   \n",
       "1  1551    중형승합 2018-01-23 00:17:00 2018-01-23 00:50:37 2018-01-23 01:19:22   \n",
       "2  5804    중형승합 2018-01-23 00:30:00 2018-01-23 00:17:06 2018-01-23 00:17:39   \n",
       "3  7650    중형승합 2018-01-23 00:47:00 2018-01-23 00:51:19 2018-01-23 01:09:33   \n",
       "4  1061    중형승합 2018-01-23 01:08:00 2018-01-23 01:44:17 2018-01-23 02:06:53   \n",
       "\n",
       "  startpos1 startpos2 endpos1 endpos2  startpos1_length  endpos1_length  \n",
       "0       성북구     장위제1동    동대문구     회기동                 3               4  \n",
       "1       중랑구     면목제7동     노원구    상계1동                 3               3  \n",
       "2       성북구     정릉제3동     강북구   수유제3동                 3               3  \n",
       "3       구로구     고척제2동     관악구     은천동                 3               3  \n",
       "4      동대문구       회기동     성북구   장위제2동                 4               3  "
      ]
     },
     "execution_count": 242,
     "metadata": {},
     "output_type": "execute_result"
    }
   ],
   "source": [
    "df.head()"
   ]
  },
  {
   "cell_type": "code",
   "execution_count": 243,
   "id": "8db115a7",
   "metadata": {},
   "outputs": [
    {
     "data": {
      "text/plain": [
       "2      6661\n",
       "3    357229\n",
       "4     43470\n",
       "6       168\n",
       "7        25\n",
       "Name: startpos1_length, dtype: int64"
      ]
     },
     "execution_count": 243,
     "metadata": {},
     "output_type": "execute_result"
    }
   ],
   "source": [
    "df['startpos1_length'].value_counts().sort_index()"
   ]
  },
  {
   "cell_type": "code",
   "execution_count": 244,
   "id": "05680c86",
   "metadata": {},
   "outputs": [
    {
     "data": {
      "text/plain": [
       "중구    6661\n",
       "Name: startpos1, dtype: int64"
      ]
     },
     "execution_count": 244,
     "metadata": {},
     "output_type": "execute_result"
    }
   ],
   "source": [
    "df[df['startpos1_length'] == 2]['startpos1'].value_counts()"
   ]
  },
  {
   "cell_type": "code",
   "execution_count": 245,
   "id": "ab9eeb53",
   "metadata": {},
   "outputs": [
    {
     "data": {
      "text/plain": [
       "서대문구    18467\n",
       "동대문구    12578\n",
       "영등포구    12344\n",
       "남양주시       47\n",
       "의정부시       34\n",
       "Name: startpos1, dtype: int64"
      ]
     },
     "execution_count": 245,
     "metadata": {},
     "output_type": "execute_result"
    }
   ],
   "source": [
    "df[df['startpos1_length'] == 4]['startpos1'].value_counts()"
   ]
  },
  {
   "cell_type": "code",
   "execution_count": 246,
   "id": "c70a8a2c",
   "metadata": {},
   "outputs": [
    {
     "data": {
      "text/plain": [
       "성남시수정구    36\n",
       "부천시소사구    35\n",
       "고양시덕양구    23\n",
       "부천시원미구    18\n",
       "성남시분당구    15\n",
       "성남시중원구    13\n",
       "안양시만안구    13\n",
       "부천시오정구     8\n",
       "안양시동안구     6\n",
       "용인시수지구     1\n",
       "Name: startpos1, dtype: int64"
      ]
     },
     "execution_count": 246,
     "metadata": {},
     "output_type": "execute_result"
    }
   ],
   "source": [
    "df[df['startpos1_length'] == 6]['startpos1'].value_counts()"
   ]
  },
  {
   "cell_type": "code",
   "execution_count": 247,
   "id": "aaf8226d",
   "metadata": {},
   "outputs": [
    {
     "data": {
      "text/plain": [
       "고양시일산동구    17\n",
       "고양시일산서구     8\n",
       "Name: startpos1, dtype: int64"
      ]
     },
     "execution_count": 247,
     "metadata": {},
     "output_type": "execute_result"
    }
   ],
   "source": [
    "df[df['startpos1_length'] == 7]['startpos1'].value_counts()"
   ]
  },
  {
   "cell_type": "code",
   "execution_count": 248,
   "id": "fec10fef",
   "metadata": {},
   "outputs": [
    {
     "data": {
      "text/plain": [
       "'일산동구'"
      ]
     },
     "execution_count": 248,
     "metadata": {},
     "output_type": "execute_result"
    }
   ],
   "source": [
    "t = '고양시일산동구'\n",
    "t[3:]"
   ]
  },
  {
   "cell_type": "code",
   "execution_count": 249,
   "id": "cc766b23",
   "metadata": {},
   "outputs": [],
   "source": [
    "for i in range(len(df)):\n",
    "    if df['startpos1_length'][i] == 6 :\n",
    "        df['startpos1'][i] = df['startpos1'][i][3:]\n",
    "    elif df['startpos1_length'][i] == 7 :\n",
    "        df['startpos1'][i] = df['startpos1'][i][3:]\n",
    "    else:\n",
    "        pass"
   ]
  },
  {
   "cell_type": "code",
   "execution_count": 251,
   "id": "8ec097e9",
   "metadata": {},
   "outputs": [],
   "source": [
    "df = df.drop('startpos1_length', axis=1)"
   ]
  },
  {
   "cell_type": "code",
   "execution_count": 252,
   "id": "54b16072",
   "metadata": {},
   "outputs": [
    {
     "data": {
      "text/plain": [
       "2     12180\n",
       "3    314008\n",
       "4     68048\n",
       "6     11631\n",
       "7      1686\n",
       "Name: endpos1_length, dtype: int64"
      ]
     },
     "execution_count": 252,
     "metadata": {},
     "output_type": "execute_result"
    }
   ],
   "source": [
    "df['endpos1_length'].value_counts().sort_index()"
   ]
  },
  {
   "cell_type": "code",
   "execution_count": 253,
   "id": "330387e7",
   "metadata": {},
   "outputs": [
    {
     "data": {
      "text/plain": [
       "고양시일산동구    973\n",
       "고양시일산서구    713\n",
       "Name: endpos1, dtype: int64"
      ]
     },
     "execution_count": 253,
     "metadata": {},
     "output_type": "execute_result"
    }
   ],
   "source": [
    "df[df['endpos1_length'] == 7]['endpos1'].value_counts()"
   ]
  },
  {
   "cell_type": "code",
   "execution_count": 254,
   "id": "b88ae9a1",
   "metadata": {},
   "outputs": [],
   "source": [
    "for i in range(len(df)):\n",
    "    if df['endpos1_length'][i] == 6 :\n",
    "        df['endpos1'][i] = df['endpos1'][i][3:]\n",
    "    elif df['endpos1_length'][i] == 7 :\n",
    "        df['endpos1'][i] = df['endpos1'][i][3:]\n",
    "    else:\n",
    "        pass"
   ]
  },
  {
   "cell_type": "code",
   "execution_count": 255,
   "id": "b6b98b27",
   "metadata": {},
   "outputs": [],
   "source": [
    "df = df.drop('endpos1_length', axis = 1)"
   ]
  },
  {
   "cell_type": "code",
   "execution_count": 256,
   "id": "a49c6956",
   "metadata": {},
   "outputs": [],
   "source": [
    "df.to_csv('master_cleansing.csv', index = False, encoding = 'utf-8')"
   ]
  }
 ],
 "metadata": {
  "kernelspec": {
   "display_name": "Python 3 (ipykernel)",
   "language": "python",
   "name": "python3"
  },
  "language_info": {
   "codemirror_mode": {
    "name": "ipython",
    "version": 3
   },
   "file_extension": ".py",
   "mimetype": "text/x-python",
   "name": "python",
   "nbconvert_exporter": "python",
   "pygments_lexer": "ipython3",
   "version": "3.9.7"
  },
  "toc": {
   "base_numbering": 1,
   "nav_menu": {},
   "number_sections": true,
   "sideBar": true,
   "skip_h1_title": false,
   "title_cell": "Table of Contents",
   "title_sidebar": "Contents",
   "toc_cell": false,
   "toc_position": {},
   "toc_section_display": true,
   "toc_window_display": false
  },
  "varInspector": {
   "cols": {
    "lenName": 16,
    "lenType": 16,
    "lenVar": 40
   },
   "kernels_config": {
    "python": {
     "delete_cmd_postfix": "",
     "delete_cmd_prefix": "del ",
     "library": "var_list.py",
     "varRefreshCmd": "print(var_dic_list())"
    },
    "r": {
     "delete_cmd_postfix": ") ",
     "delete_cmd_prefix": "rm(",
     "library": "var_list.r",
     "varRefreshCmd": "cat(var_dic_list()) "
    }
   },
   "types_to_exclude": [
    "module",
    "function",
    "builtin_function_or_method",
    "instance",
    "_Feature"
   ],
   "window_display": false
  }
 },
 "nbformat": 4,
 "nbformat_minor": 5
}
